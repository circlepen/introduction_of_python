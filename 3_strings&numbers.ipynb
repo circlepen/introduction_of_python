{
 "cells": [
  {
   "cell_type": "markdown",
   "metadata": {},
   "source": [
    "# 字串\n",
    "\n",
    "字串是一串的字元，例如'apple'這個字串是由'a','p','p','l','e'這幾個字元組成。字串比起字元是更好閱讀與理解的。\n",
    "\n",
    "我們可以用以下兩種方式表示字串"
   ]
  },
  {
   "cell_type": "code",
   "execution_count": 1,
   "metadata": {
    "collapsed": true
   },
   "outputs": [],
   "source": [
    "my_string = \"This is a double-quoted string.\"\n",
    "my_string = 'This is a single-quoted string.'"
   ]
  },
  {
   "cell_type": "markdown",
   "metadata": {},
   "source": [
    "也可以如下表示"
   ]
  },
  {
   "cell_type": "code",
   "execution_count": 2,
   "metadata": {
    "collapsed": true
   },
   "outputs": [],
   "source": [
    "quote = \"Linus Torvalds once said, 'Any program is only as good as it is useful.'\""
   ]
  },
  {
   "cell_type": "markdown",
   "metadata": {},
   "source": [
    "## 改變字串的大小寫\n",
    "\n",
    "你可以用以下的方式來改變你的字串，你會發現 'eric' 的第一個字母變成了大寫"
   ]
  },
  {
   "cell_type": "code",
   "execution_count": 4,
   "metadata": {},
   "outputs": [
    {
     "name": "stdout",
     "output_type": "stream",
     "text": [
      "eric\n",
      "Eric\n"
     ]
    }
   ],
   "source": [
    "first_name = 'eric'\n",
    "\n",
    "print(first_name)\n",
    "print(first_name.title())"
   ]
  },
  {
   "cell_type": "markdown",
   "metadata": {},
   "source": [
    "一個常見的好習慣是以小寫字串儲存資料，然後再改變他表現出來的大小寫，這樣可以避免錯別字的問題，讓我們不會把 \"Eric\"， \"eric\" 和 \"ERIC\"認成不同人\n",
    "\n",
    "以下是一些常見例子:"
   ]
  },
  {
   "cell_type": "code",
   "execution_count": 5,
   "metadata": {},
   "outputs": [
    {
     "name": "stdout",
     "output_type": "stream",
     "text": [
      "eric\n",
      "Eric\n",
      "ERIC\n",
      "eric\n"
     ]
    }
   ],
   "source": [
    "###highlight=[6,8,9]\n",
    "first_name = 'eric'\n",
    "\n",
    "print(first_name)\n",
    "print(first_name.title())\n",
    "print(first_name.upper())\n",
    "\n",
    "first_name = 'Eric'\n",
    "print(first_name.lower())"
   ]
  },
  {
   "cell_type": "markdown",
   "metadata": {},
   "source": [
    "## 字串的組合\n",
    "\n",
    "我們常常會需要用到字串的組合\n",
    "\n",
    "在python中字串的組合可以很簡單，我們一樣以例子來讓你理解"
   ]
  },
  {
   "cell_type": "code",
   "execution_count": 6,
   "metadata": {},
   "outputs": [
    {
     "name": "stdout",
     "output_type": "stream",
     "text": [
      "Ada Lovelace\n"
     ]
    }
   ],
   "source": [
    "first_name = 'ada'\n",
    "last_name = 'lovelace'\n",
    "\n",
    "full_name = first_name + ' ' + last_name\n",
    "\n",
    "print(full_name.title())\n"
   ]
  },
  {
   "cell_type": "markdown",
   "metadata": {},
   "source": [
    "加號讓兩個字串合成了一個，這叫做\"級聯\"，你可以用很多個加號把各個字串組成一段文字，事實上，許多網站都是以巨大的字串組成的字串級聯來寫成"
   ]
  },
  {
   "cell_type": "code",
   "execution_count": 7,
   "metadata": {},
   "outputs": [
    {
     "name": "stdout",
     "output_type": "stream",
     "text": [
      "Ada Lovelace was considered the world's first computer programmer.\n"
     ]
    }
   ],
   "source": [
    "###highlight=[6,7,8]\n",
    "first_name = 'ada'\n",
    "last_name = 'lovelace'\n",
    "full_name = first_name + ' ' + last_name\n",
    "\n",
    "message = full_name.title() + ' ' + \"was considered the world's first computer programmer.\"\n",
    "\n",
    "print(message)"
   ]
  },
  {
   "cell_type": "markdown",
   "metadata": {},
   "source": [
    "## 空白字元\n",
    "\n",
    "\"空白字元\"是一個電腦能夠識別但使用者看不見的字元，例如空白鍵、tab鍵以及空行 \n",
    "\n",
    "空白字元很容易使用，你使用它的時間大概和你使用電腦的時間一樣長， tab鍵 和空行 以特殊的字元組合來表示\n",
    "\n",
    "由\"\\t\"組合起來表示 **tab** ， tab可以用在字串中任何你想用的位子"
   ]
  },
  {
   "cell_type": "code",
   "execution_count": 8,
   "metadata": {},
   "outputs": [
    {
     "name": "stdout",
     "output_type": "stream",
     "text": [
      "Hello everyone!\n"
     ]
    }
   ],
   "source": [
    "print(\"Hello everyone!\")"
   ]
  },
  {
   "cell_type": "code",
   "execution_count": 9,
   "metadata": {},
   "outputs": [
    {
     "name": "stdout",
     "output_type": "stream",
     "text": [
      "\tHello everyone!\n"
     ]
    }
   ],
   "source": [
    "print(\"\\tHello everyone!\")"
   ]
  },
  {
   "cell_type": "code",
   "execution_count": 10,
   "metadata": {},
   "outputs": [
    {
     "name": "stdout",
     "output_type": "stream",
     "text": [
      "Hello \teveryone!\n"
     ]
    }
   ],
   "source": [
    "print(\"Hello \\teveryone!\")"
   ]
  },
  {
   "cell_type": "markdown",
   "metadata": {},
   "source": [
    "\" \\n \" 兩個字元可以組成換行字元，電腦會自動跳一行再顯示後面的字串，同樣的，你可以在一個字串中任何地方使用換行"
   ]
  },
  {
   "cell_type": "code",
   "execution_count": 11,
   "metadata": {},
   "outputs": [
    {
     "name": "stdout",
     "output_type": "stream",
     "text": [
      "Hello everyone!\n"
     ]
    }
   ],
   "source": [
    "print(\"Hello everyone!\")"
   ]
  },
  {
   "cell_type": "code",
   "execution_count": 12,
   "metadata": {},
   "outputs": [
    {
     "name": "stdout",
     "output_type": "stream",
     "text": [
      "\n",
      "Hello everyone!\n"
     ]
    }
   ],
   "source": [
    "print(\"\\nHello everyone!\")"
   ]
  },
  {
   "cell_type": "code",
   "execution_count": 13,
   "metadata": {},
   "outputs": [
    {
     "name": "stdout",
     "output_type": "stream",
     "text": [
      "Hello \n",
      "everyone!\n"
     ]
    }
   ],
   "source": [
    "print(\"Hello \\neveryone!\")"
   ]
  },
  {
   "cell_type": "code",
   "execution_count": 14,
   "metadata": {},
   "outputs": [
    {
     "name": "stdout",
     "output_type": "stream",
     "text": [
      "\n",
      "\n",
      "\n",
      "Hello everyone!\n"
     ]
    }
   ],
   "source": [
    "print(\"\\n\\n\\nHello everyone!\")"
   ]
  },
  {
   "cell_type": "markdown",
   "metadata": {},
   "source": [
    "**你還可以試試以下方式，以空白或是符號填充到字串中**"
   ]
  },
  {
   "cell_type": "code",
   "execution_count": 16,
   "metadata": {},
   "outputs": [
    {
     "name": "stdout",
     "output_type": "stream",
     "text": [
      "eric \n",
      " eric\n",
      "eric\n"
     ]
    }
   ],
   "source": [
    "name = ' eric '\n",
    "\n",
    "print(name.lstrip())\n",
    "print(name.rstrip())\n",
    "print(name.strip())"
   ]
  },
  {
   "cell_type": "code",
   "execution_count": 17,
   "metadata": {},
   "outputs": [
    {
     "name": "stdout",
     "output_type": "stream",
     "text": [
      "-eric -\n",
      "- eric-\n",
      "-eric-\n"
     ]
    }
   ],
   "source": [
    "name = ' eric '\n",
    "\n",
    "print('-' + name.lstrip() + '-')\n",
    "print('-' + name.rstrip() + '-')\n",
    "print('-' + name.strip() + '-')"
   ]
  },
  {
   "cell_type": "markdown",
   "metadata": {},
   "source": [
    "### 字串的選取\n",
    "\n",
    "字串可以用[陣列](Lists.ipynb)的方式作選取其中的特定項，以下是範例 :"
   ]
  },
  {
   "cell_type": "code",
   "execution_count": 30,
   "metadata": {},
   "outputs": [
    {
     "name": "stdout",
     "output_type": "stream",
     "text": [
      "s[2] i\n",
      "s[5:10] HUANG\n",
      "s[5:] HUANG is very cool.\n",
      "s[:10] Eric HUANG\n",
      "line1\n",
      "line2\n",
      "line3\n",
      "''''\n",
      "\n"
     ]
    }
   ],
   "source": [
    "# print numbers[2]\n",
    "\n",
    "s = 'Eric HUANG is very cool.'\n",
    "\n",
    "print ('s[2]', s[2])\n",
    "print ('s[5:10]', s[5:10])\n",
    "print ('s[5:]', s[5:])\n",
    "print ('s[:10]', s[:10])\n",
    "\n",
    "lines = \"\"\"line1\n",
    "line2\n",
    "line3\n",
    "''''\n",
    "\"\"\"\n",
    "\n",
    "print (lines)"
   ]
  },
  {
   "cell_type": "code",
   "execution_count": 19,
   "metadata": {},
   "outputs": [
    {
     "name": "stdout",
     "output_type": "stream",
     "text": [
      "s[2] i\n",
      "s[5:10] HUANG\n",
      "s[5:] HUANG is very cool.\n",
      "s[:10] Eric HUANG\n",
      "line1\n",
      "line2\n",
      "line3\n",
      "''''\n",
      "\n"
     ]
    }
   ],
   "source": [
    "# print numbers[2]\n",
    "\n",
    "s = 'Eric HUANG is very cool.'\n",
    "\n",
    "print ('s[2]', s[2])\n",
    "print ('s[5:10]', s[5:10])\n",
    "print ('s[5:]', s[5:])\n",
    "print ('s[:10]', s[:10])\n",
    "\n",
    "lines = \"\"\"line1\n",
    "line2\n",
    "line3\n",
    "''''\n",
    "\"\"\"\n",
    "\n",
    "print (lines)"
   ]
  },
  {
   "cell_type": "markdown",
   "metadata": {},
   "source": [
    "以下是另一個例子，我們用變數 data 儲存一群字串  \n",
    "然後使用字串的split()方法切割字串，我們便可以選取特定的一串字\n"
   ]
  },
  {
   "cell_type": "code",
   "execution_count": 21,
   "metadata": {
    "scrolled": true
   },
   "outputs": [
    {
     "name": "stdout",
     "output_type": "stream",
     "text": [
      "lines ['pres,humd,temp,24R', '1004.50,0.48,-16.10,0', '']\n",
      "items ['1004.50', '0.48', '-16.10', '0']\n",
      "temp -16.10\n"
     ]
    }
   ],
   "source": [
    "data = \"\"\"pres,humd,temp,24R\n",
    "1004.50,0.48,-16.10,0\n",
    "\"\"\"\n",
    "lines = data.split('\\n')\n",
    "print ('lines', lines)\n",
    "\n",
    "line = lines[1]\n",
    "items = line.split(',')\n",
    "print ('items', items)\n",
    "\n",
    "temp = items[2]\n",
    "print ('temp', temp)"
   ]
  },
  {
   "cell_type": "markdown",
   "metadata": {},
   "source": [
    "然後我們可以將其轉成數字，並拿來作判斷"
   ]
  },
  {
   "cell_type": "code",
   "execution_count": 22,
   "metadata": {},
   "outputs": [
    {
     "name": "stdout",
     "output_type": "stream",
     "text": [
      "cold\n"
     ]
    }
   ],
   "source": [
    "temp = float(temp)\n",
    "\n",
    "if temp > 30:\n",
    "    print ('hot')\n",
    "    \n",
    "elif temp > 20:\n",
    "    print ('warm')\n",
    "    \n",
    "elif temp > 10:\n",
    "    print ('cool')\n",
    "    \n",
    "else:\n",
    "    print ('cold')"
   ]
  },
  {
   "cell_type": "markdown",
   "metadata": {},
   "source": [
    "### TODO\n",
    "\n",
    "試著改變上面的例子，讓輸出變成 'warm'"
   ]
  },
  {
   "cell_type": "code",
   "execution_count": 29,
   "metadata": {},
   "outputs": [
    {
     "name": "stdout",
     "output_type": "stream",
     "text": [
      "cold\n"
     ]
    }
   ],
   "source": [
    "# 修改這個程式，讓輸出成為 'warm'\n",
    "\n",
    "temp = float(temp)\n",
    "\n",
    "if temp > 30:\n",
    "    print ('hot')\n",
    "    \n",
    "elif temp > 20:\n",
    "    print ('warm')\n",
    "    \n",
    "elif temp > 10:\n",
    "    print ('cool')\n",
    "    \n",
    "else:\n",
    "    print ('cold')"
   ]
  },
  {
   "cell_type": "markdown",
   "metadata": {},
   "source": [
    "# 數字\n",
    "---\n",
    "\n",
    "數字分為 **整數(integer)** , **浮點數(float)**\n",
    "\n",
    "整數可以如下的操作"
   ]
  },
  {
   "cell_type": "code",
   "execution_count": 23,
   "metadata": {},
   "outputs": [
    {
     "name": "stdout",
     "output_type": "stream",
     "text": [
      "5\n",
      "1\n",
      "6\n",
      "1.5\n",
      "9\n"
     ]
    }
   ],
   "source": [
    "print(3 + 2)\n",
    "print(3 - 2)\n",
    "print(3 * 2)\n",
    "print(3 / 2)\n",
    "print(3 ** 2)"
   ]
  },
  {
   "cell_type": "markdown",
   "metadata": {},
   "source": [
    "**注意第五個例子是 3 的 2 次方的意思**  \n",
    "**浮點數**同樣可以做加減乘除\n",
    "\n",
    "需要注意的是浮點數會有位數限制，因此會有四捨五入的問題"
   ]
  },
  {
   "cell_type": "code",
   "execution_count": 25,
   "metadata": {},
   "outputs": [
    {
     "name": "stdout",
     "output_type": "stream",
     "text": [
      "5.3\n",
      "0.5\n",
      "6.8\n",
      "1.65\n",
      "11.559999999999999\n"
     ]
    }
   ],
   "source": [
    "print(3.3 + 2)\n",
    "print(3 - 2.5)\n",
    "print(3.4 * 2)\n",
    "print(3.3 / 2)\n",
    "print(3.4 ** 2)"
   ]
  },
  {
   "cell_type": "markdown",
   "metadata": {},
   "source": [
    "也會出現如下的誤差"
   ]
  },
  {
   "cell_type": "code",
   "execution_count": 27,
   "metadata": {},
   "outputs": [
    {
     "name": "stdout",
     "output_type": "stream",
     "text": [
      "0.30000000000000004\n"
     ]
    }
   ],
   "source": [
    "print(3 * 0.1)"
   ]
  },
  {
   "cell_type": "markdown",
   "metadata": {
    "collapsed": true
   },
   "source": [
    "### TODO\n",
    "\n",
    "請試著用以下三種組合操作加減乘除四則運算，看看有甚麼不同\n",
    "\n",
    "1.整數與整數  \n",
    "2.整數與浮點數  \n",
    "3.浮點數與浮點數"
   ]
  },
  {
   "cell_type": "code",
   "execution_count": 1,
   "metadata": {},
   "outputs": [
    {
     "name": "stdout",
     "output_type": "stream",
     "text": [
      "7 -1 12 0.75\n"
     ]
    }
   ],
   "source": [
    "#在這裡練習\n",
    "\n",
    "print(3+4,3-4,3*4,3/4)\n",
    "\n"
   ]
  }
 ],
 "metadata": {
  "kernelspec": {
   "display_name": "Python 3",
   "language": "python",
   "name": "python3"
  },
  "language_info": {
   "codemirror_mode": {
    "name": "ipython",
    "version": 3
   },
   "file_extension": ".py",
   "mimetype": "text/x-python",
   "name": "python",
   "nbconvert_exporter": "python",
   "pygments_lexer": "ipython3",
   "version": "3.6.2"
  }
 },
 "nbformat": 4,
 "nbformat_minor": 2
}
