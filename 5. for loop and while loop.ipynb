{
 "cells": [
  {
   "cell_type": "markdown",
   "metadata": {},
   "source": [
    "# for loop  (迴圈)\n",
    "---\n",
    "\n",
    "迴圈是一個讓程式重複執行的結構，可以讓我們用更少的程式來做重複的動作\n",
    "\n",
    "以下是一個小例子，示範標準for 迴圈的寫法\n"
   ]
  },
  {
   "cell_type": "code",
   "execution_count": 1,
   "metadata": {},
   "outputs": [
    {
     "name": "stdout",
     "output_type": "stream",
     "text": [
      "0\n",
      "1\n",
      "2\n",
      "3\n",
      "4\n",
      "5\n",
      "6\n",
      "7\n",
      "8\n",
      "9\n"
     ]
    }
   ],
   "source": [
    "for i in range(10):\n",
    "    print(i)"
   ]
  },
  {
   "cell_type": "markdown",
   "metadata": {},
   "source": [
    "可以發現這是一個從零開始計數，並且印出來的程式  \n",
    "需要注意的是 **range(10)**  \n",
    "我們可以直接在 python 中把它印出來看看\n",
    "(jupyter 中無法印出range本身的陣列，所以我們在本機端測試)  \n",
    "如果在本機端的python中打\n",
    "```python\n",
    "print(range(0,4))\n",
    "```\n",
    "那麼會出現 \n",
    "```python\n",
    "[0,1,2,3]\n",
    "```\n",
    "**也就是從 0 到 3 的四個數字組成的清單(list)**，所以如果想要執行50次，就會是:  \n",
    "```python\n",
    "for i in range(50):\n",
    "    #要執行的程式\n",
    "```\n",
    "但須注意range(50)是從 0 開始到 49  \n",
    "而不是1 到 50  \n",
    "### TODO  \n",
    "\n",
    "這個練習要結合前面的if else 跟現在學到的for 迴圈  \n",
    "我們要重複執行100次  \n",
    "從0開始到99  \n",
    "每次數一個數時就判斷是奇數還是偶數  \n",
    "是奇數的話就 print 出 \"奇數\"  \n",
    "是偶數的話就print 出 \"偶數\""
   ]
  },
  {
   "cell_type": "code",
   "execution_count": 5,
   "metadata": {
    "collapsed": true
   },
   "outputs": [],
   "source": [
    "for i in range(100):\n",
    "    ...\n",
    "#請在此練習，取代...的部分"
   ]
  },
  {
   "cell_type": "code",
   "execution_count": 4,
   "metadata": {},
   "outputs": [
    {
     "name": "stdout",
     "output_type": "stream",
     "text": [
      "range(0, 4)\n"
     ]
    }
   ],
   "source": [
    "print(range(4))"
   ]
  },
  {
   "cell_type": "markdown",
   "metadata": {
    "collapsed": true
   },
   "source": [
    "接下來我們利用for迴圈跟if else 條件來做一個小遊戲  \n",
    "用 for 迴圈以及 random 連續出題，用 if 來判斷回答正確與否  \n",
    "試著觀察並仿作 **注意語法以及縮排**"
   ]
  },
  {
   "cell_type": "code",
   "execution_count": 1,
   "metadata": {},
   "outputs": [
    {
     "name": "stdout",
     "output_type": "stream",
     "text": [
      "2+12= ?14\n",
      "right\n",
      "7+9= ?16\n",
      "right\n",
      "9+10= ?8\n",
      "wrong\n",
      "8+9= ?3\n",
      "wrong\n",
      "1+4= ?45\n",
      "wrong\n"
     ]
    }
   ],
   "source": [
    "#小遊戲，加減法問答\n",
    "import random \n",
    "\n",
    "for i in range(5):                 # for迴圈重複執行五次\n",
    "    a = random.randint(1,10)       # 指定一個 1~10的隨機數字存在 a \n",
    "    b = random.randint(1,15)       # 指定一個 1~15的隨機數字存在 b\n",
    "    question = str(a)+ '+' + str(b) +  '= ?'  # 問題的字串組合\n",
    "    \n",
    "    ans=input(question)        #提問並把回答儲存在 ans\n",
    "    \n",
    "    if int(ans) == (a + b): \n",
    "        print('right')         #如果回答與答案相符，就印出 right\n",
    "        \n",
    "    else:\n",
    "        print('wrong')         #如果回答與答案不符，就印出 wrong\n",
    "        "
   ]
  },
  {
   "cell_type": "code",
   "execution_count": 2,
   "metadata": {
    "collapsed": true
   },
   "outputs": [],
   "source": [
    "#試著仿作一個程式，並把問答次數改成 10 次\n",
    "\n",
    "\n",
    "\n"
   ]
  },
  {
   "cell_type": "markdown",
   "metadata": {
    "collapsed": true
   },
   "source": [
    "# while loop\n",
    "\n",
    "與for loop 相似的，while loop也是一個重複執行的方式，但是只需要規定執行條件。  \n",
    "以下是一個while loop的範例 :  \n"
   ]
  },
  {
   "cell_type": "code",
   "execution_count": 2,
   "metadata": {},
   "outputs": [
    {
     "name": "stdout",
     "output_type": "stream",
     "text": [
      "0\n",
      "1\n",
      "2\n",
      "3\n",
      "4\n",
      "5\n",
      "6\n",
      "7\n",
      "8\n",
      "9\n"
     ]
    }
   ],
   "source": [
    "i = 0\n",
    "while (i < 10) :\n",
    "    print (i) \n",
    "    i += 1"
   ]
  },
  {
   "cell_type": "markdown",
   "metadata": {},
   "source": [
    "我們定義 i < 10 為迴圈的執行條件， 當這個條件不成立時，迴圈就會自動停止，\n",
    "在每次迴圈執行時，我們將 i 加上 1 ，這樣一來執行到第十次的時候，  \n",
    "執行條件(i < 10)就不會成立，迴圈就停止了。 \n",
    "\n",
    "for loop 與 while loop不同的地方在於:  \n",
    "我們通常在知道要重複幾次時用for loop，而在不知道要重複幾次時，使用while loop\n",
    "\n",
    "\n",
    "要注意的是，如果指定了一個永遠成立的執行條件(也就是沒有能停止迴圈的條件)，那麼就會讓迴圈變成無窮迴圈(infinite loop)  \n",
    "在大多數狀況下，無窮迴圈是會造成大問題的，所以請小心設定 while 迴圈的執行條件\n",
    "\n",
    "以下是一個無窮迴圈的例子:"
   ]
  },
  {
   "cell_type": "markdown",
   "metadata": {},
   "source": [
    "```python\n",
    "#不要執行它，這是一個無窮迴圈\n",
    "i = 0\n",
    "\n",
    "while (1 == 1):\n",
    "    print (i)\n",
    "    i += 1\n",
    "    \n",
    "```\n",
    "\n",
    "因為執行條件是 1 等於 1，這個條件永遠成立，所以迴圈會不斷重複執行，每次把 i加上 1，然後印出來"
   ]
  },
  {
   "cell_type": "markdown",
   "metadata": {},
   "source": [
    "### TODO\n",
    "\n",
    "請你將下面這個程式的for loop 改成while loop，達到一樣的功能\n",
    "\n",
    "```python\n",
    "import random \n",
    "\n",
    "for i in range(5):                 # for迴圈重複執行五次\n",
    "    a = random.randint(1,10)       # 指定一個 1~10的隨機數字存在 a \n",
    "    b = random.randint(1,15)       # 指定一個 1~15的隨機數字存在 b\n",
    "    question = str(a)+ '+' + str(b) +  '= ?'  # 問題的字串組合\n",
    "    \n",
    "    ans=input(question)        #提問並把回答儲存在 ans\n",
    "    \n",
    "    if int(ans) == (a + b): \n",
    "        print('right')         #如果回答與答案相符，就印出 right\n",
    "        \n",
    "    else:\n",
    "        print('wrong')         #如果回答與答案不符，就印出 wrong\n",
    "```"
   ]
  },
  {
   "cell_type": "code",
   "execution_count": 4,
   "metadata": {
    "collapsed": true
   },
   "outputs": [],
   "source": [
    "# 在這裡練習\n",
    "\n",
    "\n"
   ]
  },
  {
   "cell_type": "code",
   "execution_count": null,
   "metadata": {
    "collapsed": true
   },
   "outputs": [],
   "source": []
  }
 ],
 "metadata": {
  "kernelspec": {
   "display_name": "Python 3",
   "language": "python",
   "name": "python3"
  },
  "language_info": {
   "codemirror_mode": {
    "name": "ipython",
    "version": 3
   },
   "file_extension": ".py",
   "mimetype": "text/x-python",
   "name": "python",
   "nbconvert_exporter": "python",
   "pygments_lexer": "ipython3",
   "version": "3.6.2"
  }
 },
 "nbformat": 4,
 "nbformat_minor": 2
}
