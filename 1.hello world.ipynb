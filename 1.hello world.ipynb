{
 "cells": [
  {
   "cell_type": "markdown",
   "metadata": {},
   "source": [
    "# hello world (基礎輸出入)    developing checkpoint 2017/9/15\n",
    "---\n",
    "python 的基礎輸出語法相當簡單，只需要一個print。\n",
    "在 python 的一開始，讓 python 輸出 一段文字，使用 **_print_**\n",
    "在 python2 中，可以使用 **_print 要印的東西_**\n",
    "在 python3 中，可以使用 **_print(要印的東西)_ **\n",
    "\n",
    "以下是一個 hello world 的範例\n",
    "使用python 3 \n",
    "\n",
    "注意如果我們要表示字串，必須用' ' 或是　\" \" 括起來\n",
    "如果是數字或變數，就不需要"
   ]
  },
  {
   "cell_type": "code",
   "execution_count": 1,
   "metadata": {},
   "outputs": [
    {
     "name": "stdout",
     "output_type": "stream",
     "text": [
      "hello world\n",
      "17\n"
     ]
    }
   ],
   "source": [
    "print (\"hello world\")\n",
    "\n",
    "print ( 17 )"
   ]
  },
  {
   "cell_type": "markdown",
   "metadata": {},
   "source": [
    "### TODO :\n",
    "\n",
    "\n",
    "**請用print() 印出你的名字，注意字串必須用 ' ' 括起來**\n",
    "\n",
    "**另外，# 符號後面的內容會被視為註解，不會被電腦執行，在程式中加上註解會有助於其他人理解你的程式**\n"
   ]
  },
  {
   "cell_type": "code",
   "execution_count": 2,
   "metadata": {
    "collapsed": true
   },
   "outputs": [],
   "source": [
    "#在這裡練習\n",
    "\n",
    "print()\n"
   ]
  },
  {
   "cell_type": "markdown",
   "metadata": {},
   "source": [
    "### TODO :\n",
    "\n",
    "請用print() 輸出以下的字串:\n",
    "\n",
    "`life is short, you need python`\n"
   ]
  },
  {
   "cell_type": "code",
   "execution_count": 3,
   "metadata": {
    "collapsed": true
   },
   "outputs": [],
   "source": [
    "#在這裡練習\n",
    "\n",
    "print()\n"
   ]
  },
  {
   "cell_type": "markdown",
   "metadata": {},
   "source": [
    "在print 字串時有幾個小技巧\n",
    "你可以用 * 來重複輸出一樣的字串"
   ]
  },
  {
   "cell_type": "code",
   "execution_count": 3,
   "metadata": {},
   "outputs": [
    {
     "name": "stdout",
     "output_type": "stream",
     "text": [
      "====================\n"
     ]
    }
   ],
   "source": [
    "print(\"=\"*20)   #輸出20個 \" = \""
   ]
  },
  {
   "cell_type": "markdown",
   "metadata": {},
   "source": [
    "你也可以用 '+' 來把兩個字串合在一起，被連結的兩個字串印出時會用空白區隔"
   ]
  },
  {
   "cell_type": "code",
   "execution_count": 5,
   "metadata": {},
   "outputs": [
    {
     "name": "stdout",
     "output_type": "stream",
     "text": [
      "hello Eric\n"
     ]
    }
   ],
   "source": [
    "print('hello ' + 'Eric')"
   ]
  },
  {
   "cell_type": "markdown",
   "metadata": {},
   "source": [
    "# 輸入\n",
    "\n",
    "python 中的 基礎輸入，可以利用input() 做到，在括號中填入一串字串作為問題，讓使用者輸入，使用者輸入的值會被以字串型態儲存，通常我們以變數來儲存使用者的輸入，變數會在下一章節詳細介紹。以下是一個例子:"
   ]
  },
  {
   "cell_type": "code",
   "execution_count": 10,
   "metadata": {},
   "outputs": [
    {
     "name": "stdout",
     "output_type": "stream",
     "text": [
      "輸入一串字:1234\n",
      "1234\n",
      "<class 'str'>\n"
     ]
    }
   ],
   "source": [
    "a=input(\"輸入一串字:\")  #讀取輸入存到變數 a\n",
    "\n",
    "print(a)   #印出 a 的值\n",
    "print(type(a))  #印出 a 的型態"
   ]
  },
  {
   "cell_type": "markdown",
   "metadata": {},
   "source": [
    "### TODO\n",
    "\n",
    "請你寫一個程式，讀取使用者輸入的名字，然後對他說hello，舉個例子，你執行時應該會看到:\n",
    "\n",
    "``` python\n",
    "請輸入你的名字: larry #larry是使用者的輸入\n",
    "\n",
    "hello, larry\n",
    "```\n"
   ]
  },
  {
   "cell_type": "code",
   "execution_count": null,
   "metadata": {
    "collapsed": true
   },
   "outputs": [],
   "source": [
    "#讀取輸入\n",
    "a = input('請輸入你的名字')\n",
    "\n",
    "#接下來請你完成\n",
    "\n",
    "print()"
   ]
  },
  {
   "cell_type": "markdown",
   "metadata": {
    "collapsed": true
   },
   "source": [
    "### TODO\n",
    "\n",
    "寫一個程式，讀取一個整數並印出他的前一個數字\n",
    "\n",
    "例如:\n",
    "輸入 20\n",
    "\n",
    "輸出 19"
   ]
  },
  {
   "cell_type": "code",
   "execution_count": null,
   "metadata": {
    "collapsed": true
   },
   "outputs": [],
   "source": [
    "# 讀取一個整數 :\n",
    "a = int(input())\n",
    "\n",
    "#印出值:\n",
    "print(a)\n",
    "\n"
   ]
  },
  {
   "cell_type": "markdown",
   "metadata": {},
   "source": [
    "### TODO\n",
    "寫一個程式，讓使用者輸入一串字，並計算輸入的長度，可以用len()函式取得字串的長度\n",
    "\n",
    "例如:\n",
    "```python\n",
    "print(len(\"hello Larry\"))\n",
    "```\n",
    "這會算出\"hello Larry\"這段字的長度，並print出來，要注意的是，空白也會被算做一個字，所以上面的範例會輸出 11"
   ]
  },
  {
   "cell_type": "code",
   "execution_count": null,
   "metadata": {
    "collapsed": true
   },
   "outputs": [],
   "source": [
    "#在這裡練習\n",
    "\n",
    "a = input(\"type something\")\n",
    "\n",
    "print(len())\n"
   ]
  }
 ],
 "metadata": {
  "kernelspec": {
   "display_name": "Python 3",
   "language": "python",
   "name": "python3"
  },
  "language_info": {
   "codemirror_mode": {
    "name": "ipython",
    "version": 3
   },
   "file_extension": ".py",
   "mimetype": "text/x-python",
   "name": "python",
   "nbconvert_exporter": "python",
   "pygments_lexer": "ipython3",
   "version": "3.6.2"
  }
 },
 "nbformat": 4,
 "nbformat_minor": 2
}
