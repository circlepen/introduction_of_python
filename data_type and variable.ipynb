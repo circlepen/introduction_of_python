{
 "cells": [
  {
   "cell_type": "markdown",
   "metadata": {},
   "source": [
    "# datatype 資料型態\n",
    "\n",
    "資料型態會影響電腦程式運作的方式，就像人類在處理不同資料時，有不同的規則，對文字有文字的規則，對數字有數字的規則。在 python 中有幾個內建的資料型態 : 整數、浮點數、布林值、字串、容器等等。需要注意的是，所有型態都是以\"物件\"的形式存在的，在之後的章節我們會詳細介紹物件。\n",
    "\n",
    "在python中，你可以透過type()函式來得知資料的型態，以下是一些簡單的示範:  "
   ]
  },
  {
   "cell_type": "code",
   "execution_count": 3,
   "metadata": {},
   "outputs": [
    {
     "name": "stdout",
     "output_type": "stream",
     "text": [
      "<class 'str'>\n",
      "<class 'int'>\n",
      "<class 'float'>\n",
      "<class 'bool'>\n",
      "<class 'bool'>\n",
      "<class 'list'>\n"
     ]
    }
   ],
   "source": [
    "print(type(\"hello\"))  #字串 str\n",
    "print(type(12345))    #整數 int\n",
    "print(type(3.1415962))#浮點數 float\n",
    "print(type(True))     #布林值 bool\n",
    "print(type(False))     #布林值 bool\n",
    "print(type([1,2,3]))  #清單 list"
   ]
  },
  {
   "cell_type": "markdown",
   "metadata": {},
   "source": [
    "可以由上面的例子發現，整數加上小數點就會被判別為浮點數，True 跟False 會被判別為布林值，用 \" \"或 ' ' 颳起來的字會被判別為字串，那如果打了一串字卻不用\"\"括起來呢?  \n",
    "我們可以試試看"
   ]
  },
  {
   "cell_type": "code",
   "execution_count": 4,
   "metadata": {},
   "outputs": [
    {
     "ename": "NameError",
     "evalue": "name 'hello' is not defined",
     "output_type": "error",
     "traceback": [
      "\u001b[1;31m---------------------------------------------------------------------------\u001b[0m",
      "\u001b[1;31mNameError\u001b[0m                                 Traceback (most recent call last)",
      "\u001b[1;32m<ipython-input-4-43a14fcd4265>\u001b[0m in \u001b[0;36m<module>\u001b[1;34m()\u001b[0m\n\u001b[1;32m----> 1\u001b[1;33m \u001b[0mprint\u001b[0m\u001b[1;33m(\u001b[0m\u001b[0mhello\u001b[0m\u001b[1;33m)\u001b[0m\u001b[1;33m\u001b[0m\u001b[0m\n\u001b[0m",
      "\u001b[1;31mNameError\u001b[0m: name 'hello' is not defined"
     ]
    }
   ],
   "source": [
    "print(hello)\n"
   ]
  },
  {
   "cell_type": "markdown",
   "metadata": {},
   "source": [
    "當一個字沒有被\"\"括起來時，python會將它視為\"變數\"，而因為上面沒有定義hello是甚麼，因此出現錯誤\n",
    "\n",
    "# variable 變數\n",
    "\n",
    "變數是一個容器，能夠儲存一個特定的值，這個值可以是整數、浮點數、字串，也可以是物件(畢竟python中的所有型態都是物件)，或是清單、容器等等。\n",
    "以下是一個變數的小例子:\n"
   ]
  },
  {
   "cell_type": "code",
   "execution_count": 6,
   "metadata": {},
   "outputs": [
    {
     "name": "stdout",
     "output_type": "stream",
     "text": [
      "1\n",
      "Levi\n"
     ]
    }
   ],
   "source": [
    "score = 1 # 創建變數 score ，並指定其值為 1 ，1 的型態為整數，英文為 int\n",
    "\n",
    "print (score) \n",
    "\n",
    "pi = 3.1415962  # 創建變數 pi ，並指定其值為 3.1415962 ， 型態為浮點數，英文為 float\n",
    "\n",
    "name= 'Levi'  # 創建變數 name ，並指定其值為 'Levi' ， 型態為字串，英文為 string\n",
    "\n",
    "print (name) \n"
   ]
  },
  {
   "cell_type": "markdown",
   "metadata": {},
   "source": [
    "**在上面的範例中你可以發現有三種資料型態，分別為:**\n",
    "\n",
    "**字串 string**\n",
    "\n",
    "**浮點數 float**\n",
    "\n",
    "**整數 int**\n",
    "\n",
    "**想要了解更多可以參考[這裡](http://www.codedata.com.tw/python/python-tutorial-the-2nd-class-1-numeric-types-and-string/)**"
   ]
  },
  {
   "cell_type": "markdown",
   "metadata": {},
   "source": [
    "### TODO\n",
    "\n",
    "\n",
    ">**請練習定義一個變數 color，指定其為顏色，**\n",
    ">\n",
    ">**例如 'red'，然後 print 出來**\n",
    ">\n",
    ">**再定義一個變數 lottery，指定其為某個數字**\n",
    ">\n",
    ">**然後print 出來 **"
   ]
  },
  {
   "cell_type": "code",
   "execution_count": 8,
   "metadata": {
    "collapsed": true
   },
   "outputs": [],
   "source": [
    "#在這裡練習\n",
    "\n",
    "\n"
   ]
  },
  {
   "cell_type": "markdown",
   "metadata": {},
   "source": [
    "### 變數命名規則\n",
    "\n",
    "+ 變數只能包含字母、數字、底線，變數名稱能以字母或底線開頭，但不能以數字開頭\n",
    "\n",
    "+ 變數名稱中不能有空白，所以我們以底線取代空白，如果我們要取一個變數叫做 student name， 我們會寫作 student_name\n",
    "+ 變數名稱中不能包含 [python 保留字](https://docs.python.org/3/reference/lexical_analysis.html#keywords)\n",
    "+ 變數名稱盡量簡潔而清楚，例如mc_wheels 就會比單純的 \"wheels\" 或是 number_of_wheels_on_a_motorcycle 要來的好\n",
    "\n",
    "+ 在用英文大寫 I 跟 O 時要特別小心，因為很容易跟 1 和 0 搞混 \n",
    "\n",
    "### NameError\n",
    "\n",
    "在使用變數時有些常見的錯誤，看看底下的例子，你是否能理解為何出錯呢\n",
    "試著修正它吧"
   ]
  },
  {
   "cell_type": "code",
   "execution_count": 9,
   "metadata": {},
   "outputs": [
    {
     "ename": "NameError",
     "evalue": "name 'mesage' is not defined",
     "output_type": "error",
     "traceback": [
      "\u001b[1;31m---------------------------------------------------------------------------\u001b[0m",
      "\u001b[1;31mNameError\u001b[0m                                 Traceback (most recent call last)",
      "\u001b[1;32m<ipython-input-9-7966723379c3>\u001b[0m in \u001b[0;36m<module>\u001b[1;34m()\u001b[0m\n\u001b[0;32m      1\u001b[0m \u001b[0mmessage\u001b[0m \u001b[1;33m=\u001b[0m \u001b[1;34m\"Thank you for sharing Python with the world, Guido!\"\u001b[0m\u001b[1;33m\u001b[0m\u001b[0m\n\u001b[1;32m----> 2\u001b[1;33m \u001b[0mprint\u001b[0m\u001b[1;33m(\u001b[0m\u001b[0mmesage\u001b[0m\u001b[1;33m)\u001b[0m\u001b[1;33m\u001b[0m\u001b[0m\n\u001b[0m",
      "\u001b[1;31mNameError\u001b[0m: name 'mesage' is not defined"
     ]
    }
   ],
   "source": [
    "message = \"Thank you for sharing Python with the world, Guido!\"\n",
    "print(mesage)"
   ]
  },
  {
   "cell_type": "markdown",
   "metadata": {},
   "source": [
    "可以發現在定義變數名稱的時候我們取名叫做 **message**\n",
    "，然而在印出這個變數的值時，我們卻打成了 **mesage**\n",
    "\n",
    "**以下是正確的版本**"
   ]
  },
  {
   "cell_type": "code",
   "execution_count": 10,
   "metadata": {},
   "outputs": [
    {
     "name": "stdout",
     "output_type": "stream",
     "text": [
      "Thank you for sharing Python with the world, Guido!\n"
     ]
    }
   ],
   "source": [
    "###highlight=[3]\n",
    "message = \"Thank you for sharing Python with the world, Guido!\"\n",
    "print(message)"
   ]
  },
  {
   "cell_type": "code",
   "execution_count": null,
   "metadata": {
    "collapsed": true
   },
   "outputs": [],
   "source": []
  }
 ],
 "metadata": {
  "kernelspec": {
   "display_name": "Python 3",
   "language": "python",
   "name": "python3"
  },
  "language_info": {
   "codemirror_mode": {
    "name": "ipython",
    "version": 3
   },
   "file_extension": ".py",
   "mimetype": "text/x-python",
   "name": "python",
   "nbconvert_exporter": "python",
   "pygments_lexer": "ipython3",
   "version": "3.6.2"
  }
 },
 "nbformat": 4,
 "nbformat_minor": 2
}
