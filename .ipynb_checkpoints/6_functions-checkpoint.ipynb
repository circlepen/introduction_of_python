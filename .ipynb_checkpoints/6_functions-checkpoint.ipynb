{
 "cells": [
  {
   "cell_type": "markdown",
   "metadata": {},
   "source": [
    "# function (函式)\n",
    "---\n",
    "函式是一連串指令的集合，我們將一串指令結合在一起並給予名稱 你或許已經用過許多 python 內建的函式例如: string.title(), int(), input() 或是 list.sort()之類, python3中的 print() 也是我們最常用到的函式\n",
    "\n",
    "有了函式我們能讓python做更多事  \n",
    "以下是一個常見的函式寫法:"
   ]
  },
  {
   "cell_type": "code",
   "execution_count": null,
   "metadata": {
    "collapsed": true
   },
   "outputs": [],
   "source": [
    "# Let's define a function.\n",
    "def function_name(argument_1, argument_2):\n",
    "\t# 寫任何我們想要函式執行的程式在這,\n",
    "\t#  使用參數一 , 參數二\n",
    "\n",
    "# Use function_name to call the function.\n",
    "function_name(value_1, value_2)"
   ]
  },
  {
   "cell_type": "markdown",
   "metadata": {},
   "source": [
    "這段程式無法執行，但可以展示函式通常怎麼被使用  \n",
    "+ **定義函式 **\n",
    "  + 使用關鍵字 def  告訴python 你將要 定義(define) 一個函式  \n",
    "  + 給你的函式一個名字，一個變數的名字可以讓你看出這個變數有甚麼用處，同樣的，函式的名字也應該讓你看出它的功用  \n",
    "  + 給予每個函式處理時必須的值名字\n",
    "     + 這些值的名字本身是變數，但只限於函式內使用  \n",
    "     + 他們的名字最好與你程式裡其他的變數名稱不一樣\n",
    "     + 這些函式所必需的值稱為函式的 \" 參數 \"(arguments)\n",
    "     \n",
    "     \n",
    "+ ** 呼叫(使用)函式**  \n",
    "  + 呼叫函式的方式就是寫出它的名字並在後面加上小括號()\n",
    "  + 在小括號裡面，給予函式參數的值\n",
    "    + 這些參數值可以是變數，也可以是實際的值，如整數 5 或字串 'eric'  \n",
    "    \n",
    "以下是一個例子:    "
   ]
  },
  {
   "cell_type": "code",
   "execution_count": 3,
   "metadata": {},
   "outputs": [
    {
     "name": "stdout",
     "output_type": "stream",
     "text": [
      "\n",
      "你做得很好, Adriana!\n",
      "感謝你為這次計畫付出的努力.\n",
      "\n",
      "你做得很好, Billy!\n",
      "感謝你為這次計畫付出的努力.\n",
      "\n",
      "你做得很好, Caroline!\n",
      "感謝你為這次計畫付出的努力.\n"
     ]
    }
   ],
   "source": [
    "def thank_you(name):\n",
    "    # 這個函式印出兩行的個人化感謝訊息\n",
    "    print(\"\\n你做得很好, %s!\" % name)\n",
    "    print(\"感謝你為這次計畫付出的努力.\")\n",
    "    \n",
    "thank_you('Adriana')\n",
    "thank_you('Billy')\n",
    "thank_you('Caroline')"
   ]
  },
  {
   "cell_type": "markdown",
   "metadata": {},
   "source": [
    "---\n",
    "函式集合了一段代碼，當你需要使用時，就呼叫它\n",
    "在上面的例子，每一段print的代碼都被執行了三次，只有感謝的人名不一樣，因此當你有一段需要常常被使用到的程式碼，把它寫進函式就是你的好選擇。\n",
    "\n",
    "def 這個關鍵字告訴Python我們要定義一個函數，在這個例子中，我們給予它一個名字，也就是_thank_you()_  \n",
    "\n",
    "在括號中，我們給予函式運算所必需的值，也就是參數。在這個例子中我們需要一個名字，也就是我們感謝的對象。我們利用name 這個變數儲存我們的參數值 \n",
    "\n",
    "呼叫函式時，我們寫出它的名字，加上括號，並在括號中填入參數，在這個例子中，我們呼叫了三次函式，每次給予不同的名字。\n",
    "\n",
    "再給一個例子  \n",
    "這個例子定義一個加法函式，並用 **return** 這個關鍵字 來回傳函式的運算結果"
   ]
  },
  {
   "cell_type": "code",
   "execution_count": 4,
   "metadata": {},
   "outputs": [
    {
     "name": "stdout",
     "output_type": "stream",
     "text": [
      "11\n"
     ]
    }
   ],
   "source": [
    "def add(num1, num2):\n",
    "    return num1 + num2\n",
    "print(add(4,7))"
   ]
  },
  {
   "cell_type": "markdown",
   "metadata": {},
   "source": [
    "我們在 print() 中呼叫 add()  \n",
    "並給予兩個參數 4 跟 7  \n",
    "因此 add() 返回 4 + 7 的結果  \n",
    "於是印出 11\n",
    "### 常見錯誤\n",
    "\n",
    "函式必須在你使用前給予定義，因為程式是從上面依序往下執行，所以函式的定義必須放在呼叫的上面  \n",
    "以下是一個錯誤的例子:"
   ]
  },
  {
   "cell_type": "code",
   "execution_count": 8,
   "metadata": {},
   "outputs": [
    {
     "ename": "NameError",
     "evalue": "name 'thank_You' is not defined",
     "output_type": "error",
     "traceback": [
      "\u001b[1;31m---------------------------------------------------------------------------\u001b[0m",
      "\u001b[1;31mNameError\u001b[0m                                 Traceback (most recent call last)",
      "\u001b[1;32m<ipython-input-8-7701cfb34f47>\u001b[0m in \u001b[0;36m<module>\u001b[1;34m()\u001b[0m\n\u001b[1;32m----> 1\u001b[1;33m \u001b[0mthank_You\u001b[0m\u001b[1;33m(\u001b[0m\u001b[1;34m'Adriana'\u001b[0m\u001b[1;33m)\u001b[0m\u001b[1;33m\u001b[0m\u001b[0m\n\u001b[0m\u001b[0;32m      2\u001b[0m \u001b[0mthank_You\u001b[0m\u001b[1;33m(\u001b[0m\u001b[1;34m'Billy'\u001b[0m\u001b[1;33m)\u001b[0m\u001b[1;33m\u001b[0m\u001b[0m\n\u001b[0;32m      3\u001b[0m \u001b[0mthank_You\u001b[0m\u001b[1;33m(\u001b[0m\u001b[1;34m'Caroline'\u001b[0m\u001b[1;33m)\u001b[0m\u001b[1;33m\u001b[0m\u001b[0m\n\u001b[0;32m      4\u001b[0m \u001b[1;33m\u001b[0m\u001b[0m\n\u001b[0;32m      5\u001b[0m \u001b[1;32mdef\u001b[0m \u001b[0mthank_You\u001b[0m\u001b[1;33m(\u001b[0m\u001b[0mname\u001b[0m\u001b[1;33m)\u001b[0m\u001b[1;33m:\u001b[0m\u001b[1;33m\u001b[0m\u001b[0m\n",
      "\u001b[1;31mNameError\u001b[0m: name 'thank_You' is not defined"
     ]
    }
   ],
   "source": [
    "thank_You('Adriana')\n",
    "thank_You('Billy')\n",
    "thank_You('Caroline')\n",
    "\n",
    "def thank_You(name):\n",
    "    # 這個函式印出兩行的個人化感謝訊息\n",
    "    print(\"\\nYou are doing good work, %s!\" % name)\n",
    "    print(\"Thank you very much for your efforts on this project.\")"
   ]
  },
  {
   "cell_type": "markdown",
   "metadata": {},
   "source": [
    "### TODO\n",
    "\n",
    "**這個練習希望你定義四個函式，分別為add, sub, mul, div  \n",
    "分別為將兩個參數相加，相減，相乘，相除的功能  \n",
    "並且利用這四個函式算出 3 + 4 * 2 - 6 / 3 + 1 的答案，別忘了先乘除後加減**"
   ]
  },
  {
   "cell_type": "code",
   "execution_count": null,
   "metadata": {
    "collapsed": true
   },
   "outputs": [],
   "source": [
    "def add( arg1, arg2):\n",
    "    #在這裡寫程式\n",
    "    \n",
    "def sub( arg1, arg2):\n",
    "    #在這裡寫程式\n",
    "    \n",
    "    \n",
    "    #剩下的請你完成"
   ]
  },
  {
   "cell_type": "markdown",
   "metadata": {},
   "source": [
    "## 使用函式的好處\n",
    "\n",
    "+ 我們只寫了一次程式，然後以它為範本，在做重複工作時重複呼叫它，只改變參數，因而省去了我們重複寫一段程式的麻煩。\n",
    "+ 只要我們的函式能作用，我們就不需要再去擔心它。每次你重新寫一段程式碼，你都在增加犯錯的機會。利用函數可以減少你犯錯的機會，並且如果有錯誤，你只需針對一個地方修改就好，修好之後。我們能夠很有信心地說它之後都能夠正常運作。\n",
    "+ 我們能夠針對函式修改它的行為，然後這個修改將在每一次函式被呼叫時作用。這絕對比需要在程式的各個地方做修改要來的方便。\n",
    "\n",
    "\n",
    "下面，我們定義一個 count 函式，並輸入參數，第一個參數是開始的數，第二個數是結束的數，把兩個數之間的數都印出來一次  \n",
    "接下來我們使用count函式，從 1 數到 10 ，再從 25 數到 30 :\n"
   ]
  },
  {
   "cell_type": "code",
   "execution_count": 3,
   "metadata": {},
   "outputs": [
    {
     "name": "stdout",
     "output_type": "stream",
     "text": [
      "count 1 ~ 10\n",
      "1\n",
      "2\n",
      "3\n",
      "4\n",
      "5\n",
      "6\n",
      "7\n",
      "8\n",
      "9\n",
      "10\n",
      "====================\n",
      "count 25 ~ 30\n",
      "25\n",
      "26\n",
      "27\n",
      "28\n",
      "29\n",
      "30\n"
     ]
    }
   ],
   "source": [
    "#定義 count()\n",
    "def count(num1,num2):\n",
    "    for i in range( num1, num2+1 ):\n",
    "        print(i)  \n",
    "        \n",
    "# 1數到10        \n",
    "print(\"count 1 ~ 10\")\n",
    "count(1,10)\n",
    "\n",
    "print(\"=\"*20) # 分隔線\n",
    "\n",
    "# 25數到30\n",
    "print(\"count 25 ~ 30\")\n",
    "count(25,30)"
   ]
  },
  {
   "cell_type": "markdown",
   "metadata": {},
   "source": [
    "### 函式的抽象化\n",
    "\n",
    "我們能夠將函式抽象化，來達到用更少程式做更多事情的目的。舉例而言，如果我們寫了一個程式，能夠畫一個正方形，但當我們需要三角形時，  \n",
    "又要做一個能夠畫三角形的程式，需要五邊形時又要再寫一個程式，但如果能夠將各種形狀抽象化成 \"多邊形\" 這個概念，  \n",
    "我們可以用一個多邊形的函式，給予不同邊數的參數，來讓它同時具備畫三角形、四角形與五邊形的能力，  \n",
    "甚至可以畫出更多不同的形狀。\n",
    "\n",
    "以下我們就用畫多邊形的例子展示函式的抽象化，以下的練習請你在本機端進行。\n",
    "\n",
    "在 python 內建函式庫中，有一個繪圖的庫，叫做turtle。在jupyter notebook中無法運行 turtle，   \n",
    "所以請你在本機端的python程式中執行這個練習。\n",
    "\n",
    "首先我們畫一個正方形，範例如下 : \n",
    "```python\n",
    "import turtle             #在本機端執行\n",
    "\n",
    "screen = turtle.Screen()    \n",
    "eric = turtle.Turtle()    \n",
    "eric.pensize(2)\n",
    "eric.speed(5)\n",
    "\n",
    "eric.forward(100)\n",
    "eric.left(90)\n",
    "eric.forward(100)\n",
    "eric.left(90)\n",
    "eric.forward(100)\n",
    "eric.left(90)\n",
    "eric.forward(100)\n",
    "eric.left(90)\n",
    "\n",
    "turtle.mainloop()\n",
    "```\n",
    "---\n",
    "然而我們如果要畫很多個方形，我們必須把\n",
    "```python\n",
    "eric.forward(100)\n",
    "eric.left(90)\n",
    "```\n",
    "這段程式不斷重複的寫，這樣會讓我們的程式非常冗長  \n",
    "因此我們定義一個 square()的函式，並且給它一個size的變數，讓它可以自由改變大小\n",
    "\n",
    "\n",
    "```python\n",
    "import turtle        #在本機端執行     \n",
    " \n",
    "screen = turtle.Screen()    \n",
    "eric = turtle.Turtle()    \n",
    "eric.pencolor('red')\n",
    "eric.pensize(2)\n",
    "eric.speed(0)\n",
    "\n",
    "def square(size):\n",
    "    for i in range(4):\n",
    "        eric.forward(size)\n",
    "        eric.left(90)\n",
    "    \n",
    "\n",
    "square(30) #畫一個邊長 30 的 正方形\n",
    "\n",
    "\n",
    "turtle.mainloop()           \n",
    "```\n",
    "\n",
    "---\n",
    "上面這個例子定義了square(size)，並且畫出一個邊長30的正方形  \n",
    "接下來，利用for迴圈，重複呼叫square，傳入不同參數，畫出不同大小的正方形\n",
    "\n",
    "\n",
    "```python\n",
    "import turtle        #在本機端執行     \n",
    " \n",
    "screen = turtle.Screen()    \n",
    "eric = turtle.Turtle()    \n",
    "eric.pencolor('red')\n",
    "eric.pensize(2)\n",
    "eric.speed(0)\n",
    "\n",
    "# 定義 square\n",
    "def square(size):\n",
    "    for i in range(4):\n",
    "        eric.forward(size)\n",
    "        eric.left(90)\n",
    "# square 定義結束 \n",
    " \n",
    " \n",
    "for i in range(10):\n",
    "    square(i*10+10)  # 重複畫十個方形\n",
    "\n",
    "\n",
    "turtle.mainloop()           \n",
    "\n",
    "```\n",
    "\n",
    "上面這段程式的最後一段，就是重複呼叫square的地方\n",
    "\n",
    "```python\n",
    "for i in range(10):\n",
    "    square(i*10 + 10)\n",
    "```\n",
    "如果我們不只想要畫方形，想要進一步畫各種多邊形，我們可以定義一個polygon()函式  \n",
    "給予兩個參數 : 邊數與大小，分別命名為 edge和 size\n",
    "\n",
    "```python\n",
    "import turtle       #在本機端執行\n",
    " \n",
    "screen = turtle.Screen()    \n",
    "eric = turtle.Turtle()    \n",
    "eric.pencolor('blue')\n",
    "eric.pensize(2)\n",
    "eric.speed(0)\n",
    "eric.pendown()\n",
    "\n",
    "def polygon(size, edge):   # 定義 polygon 函式\n",
    "    for i in range(edge):\n",
    "        eric.forward(size)\n",
    "        eric.left(360.0/edge)\n",
    " # polygon 定義函式結束\n",
    "\n",
    "for i in range(30):           #畫出不同大小，不同邊數的多邊形\n",
    "    polygon(i*10+10, i+3)\n",
    "    \n",
    "    \n",
    "```\n",
    "---\n",
    "注意縮排，它們影響了程式的階層。\n",
    "\n",
    "\n",
    "在上面的例子，我們能夠畫出各種不同大小，不同邊數的多邊形 \n",
    "由這個例子，應該不難理解函式的強大之處  \n",
    "如果要畫十個多邊形，我們可能需要上百行程式，但因為使用函式，我們大幅減少了程式的行數\n",
    "\n"
   ]
  },
  {
   "cell_type": "markdown",
   "metadata": {},
   "source": []
  },
  {
   "cell_type": "code",
   "execution_count": null,
   "metadata": {
    "collapsed": true
   },
   "outputs": [],
   "source": []
  }
 ],
 "metadata": {
  "kernelspec": {
   "display_name": "Python 3",
   "language": "python",
   "name": "python3"
  },
  "language_info": {
   "codemirror_mode": {
    "name": "ipython",
    "version": 3
   },
   "file_extension": ".py",
   "mimetype": "text/x-python",
   "name": "python",
   "nbconvert_exporter": "python",
   "pygments_lexer": "ipython3",
   "version": "3.6.2"
  }
 },
 "nbformat": 4,
 "nbformat_minor": 2
}
