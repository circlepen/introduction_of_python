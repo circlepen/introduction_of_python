{
 "cells": [
  {
   "cell_type": "markdown",
   "metadata": {},
   "source": [
    "# operators (運算子)\n",
    "---\n",
    "**以下是一些例子，示範 python 中 + - * / 符號的運用**\n"
   ]
  },
  {
   "cell_type": "code",
   "execution_count": 1,
   "metadata": {},
   "outputs": [
    {
     "name": "stdout",
     "output_type": "stream",
     "text": [
      "23.0\n",
      "17.0\n",
      "60.0\n",
      "6.666666666666667\n"
     ]
    }
   ],
   "source": [
    "number = 20.0 #浮點數\n",
    "number2 = 3   #整數\n",
    "\n",
    "print (number + number2)\n",
    "print (number - number2)\n",
    "print (number * number2)\n",
    "print (number / number2)\n"
   ]
  },
  {
   "cell_type": "markdown",
   "metadata": {},
   "source": [
    "在 python 中，整數與浮點數都能夠作加減乘除的運算，如果把整數與浮點數一起運算，答案會被轉成浮點數。\n",
    "\n",
    "\n",
    "**另外，在 python 中， 對一個變數的值做運算時有一些簡寫的方式，例如: **\n",
    "**我們會把 `a = a+1 ` 寫成 `a += 1 ` **\n",
    "\n",
    "**以下是一些例子 : **"
   ]
  },
  {
   "cell_type": "code",
   "execution_count": 3,
   "metadata": {},
   "outputs": [
    {
     "name": "stdout",
     "output_type": "stream",
     "text": [
      "a: 6\n"
     ]
    }
   ],
   "source": [
    "a = 9\n",
    "a -= 3\n",
    "print ('a:',a)\n"
   ]
  },
  {
   "cell_type": "code",
   "execution_count": 4,
   "metadata": {},
   "outputs": [
    {
     "name": "stdout",
     "output_type": "stream",
     "text": [
      "a: 27\n"
     ]
    }
   ],
   "source": [
    "a = 9\n",
    "a *= 3\n",
    "print ('a:',a)"
   ]
  },
  {
   "cell_type": "code",
   "execution_count": 6,
   "metadata": {},
   "outputs": [
    {
     "name": "stdout",
     "output_type": "stream",
     "text": [
      "a: 3.0\n"
     ]
    }
   ],
   "source": [
    "a = 9\n",
    "a /= 3\n",
    "print ('a:',a)"
   ]
  },
  {
   "cell_type": "markdown",
   "metadata": {},
   "source": [
    "\"%\" 這個符號是取餘數的意思， 例如5 % 3 就是5對3取餘數，答案是2 ，以下是一個例子"
   ]
  },
  {
   "cell_type": "code",
   "execution_count": 7,
   "metadata": {},
   "outputs": [
    {
     "name": "stdout",
     "output_type": "stream",
     "text": [
      "3.3333333333333335\n",
      "1\n"
     ]
    }
   ],
   "source": [
    "n = 10\n",
    "print (10 / 3)\n",
    "print (10 % 3) #餘數, mod"
   ]
  },
  {
   "cell_type": "markdown",
   "metadata": {},
   "source": [
    "### TODO\n",
    "\n",
    "**請練習使用 += , -= , *= , /= **"
   ]
  },
  {
   "cell_type": "code",
   "execution_count": 8,
   "metadata": {},
   "outputs": [
    {
     "name": "stdout",
     "output_type": "stream",
     "text": [
      "31\n"
     ]
    }
   ],
   "source": [
    "#在這裡寫程式\n",
    "\n",
    "number = 28\n",
    "number += 3\n",
    "print(number)\n",
    "\n",
    "#請練習其他三個\n"
   ]
  },
  {
   "cell_type": "markdown",
   "metadata": {},
   "source": [
    "**_注意_**，若要比對兩變數是否相等，要用 **_==_** 而不是 **_=_** \n",
    "\n",
    "例如以下例子\n",
    "\n",
    "a == b 是比對 a 跟 b 是否相等，因為 15 不等於 10，所以輸出是 False"
   ]
  },
  {
   "cell_type": "code",
   "execution_count": 9,
   "metadata": {},
   "outputs": [
    {
     "data": {
      "text/plain": [
       "False"
      ]
     },
     "execution_count": 9,
     "metadata": {},
     "output_type": "execute_result"
    }
   ],
   "source": [
    "a = 10\n",
    "b = 15\n",
    "\n",
    "a == b"
   ]
  },
  {
   "cell_type": "markdown",
   "metadata": {},
   "source": [
    "# bool(布林值)\n",
    "---\n",
    "我們在比對數字的時候，除了 == 之外還有另外幾個常用到的符號\n",
    "\n",
    "'>', '<', '>=', '<=' \n",
    "\n",
    "如果他們判斷成立則會回傳 'True'\n",
    "不成立則會回傳 'False'\n",
    "\n",
    "True 與 False 就是所謂的布林值，**注意他們的頭一個字母是大寫**\n",
    "\n",
    "以下是一些例子"
   ]
  },
  {
   "cell_type": "code",
   "execution_count": 10,
   "metadata": {},
   "outputs": [
    {
     "name": "stdout",
     "output_type": "stream",
     "text": [
      "False\n"
     ]
    }
   ],
   "source": [
    "print(3 > 5) #False"
   ]
  },
  {
   "cell_type": "code",
   "execution_count": 11,
   "metadata": {},
   "outputs": [
    {
     "name": "stdout",
     "output_type": "stream",
     "text": [
      "True\n"
     ]
    }
   ],
   "source": [
    "print(3 < 5) #True"
   ]
  },
  {
   "cell_type": "code",
   "execution_count": 12,
   "metadata": {},
   "outputs": [
    {
     "name": "stdout",
     "output_type": "stream",
     "text": [
      "False\n",
      "True\n",
      "False\n",
      "True\n"
     ]
    }
   ],
   "source": [
    "a=18\n",
    "b=30\n",
    "print(a > b) #False\n",
    "print(a < b) #True\n",
    "print(a >= b) #False\n",
    "print(a <= b) #True"
   ]
  },
  {
   "cell_type": "markdown",
   "metadata": {},
   "source": [
    "# condition (條件判斷)\n",
    "\n",
    "配合上面的布林值，我們便可以給予程式條件，限定某些程式在特定條件下才能執行\n",
    "以下是一個簡單的例子:"
   ]
  },
  {
   "cell_type": "code",
   "execution_count": 13,
   "metadata": {},
   "outputs": [
    {
     "name": "stdout",
     "output_type": "stream",
     "text": [
      "number is smaller than number2\n"
     ]
    }
   ],
   "source": [
    "number = 10\n",
    "number2 = 15\n",
    "\n",
    "if number < number2:\n",
    "    print (\"number is smaller than number2\")"
   ]
  },
  {
   "cell_type": "markdown",
   "metadata": {},
   "source": [
    "我們利用 **' if '** 關鍵字來構成條件判斷，後面空白後接條件，記得要冒號\n",
    "\n",
    "底下空四個空白後輸入條件成立下要執行的程式\n",
    "\n",
    "因為 10 < 15， 所以 number < number2 的判斷是 True ，因此冒號下面的 print 就會被執行  \n",
    "\n",
    "以下再給一些例子 : "
   ]
  },
  {
   "cell_type": "code",
   "execution_count": 15,
   "metadata": {},
   "outputs": [
    {
     "name": "stdout",
     "output_type": "stream",
     "text": [
      "grade > 60 True\n"
     ]
    }
   ],
   "source": [
    "grade = 100\n",
    "print ('grade > 60', grade > 60) #True\n"
   ]
  },
  {
   "cell_type": "code",
   "execution_count": 16,
   "metadata": {},
   "outputs": [
    {
     "name": "stdout",
     "output_type": "stream",
     "text": [
      "grade2 > 60 False\n",
      "True\n"
     ]
    }
   ],
   "source": [
    "grade2 = 10\n",
    "print ('grade2 > 60', grade2 > 60) #False\n",
    "\n",
    "print (grade2 <80) #True\n"
   ]
  },
  {
   "cell_type": "code",
   "execution_count": 17,
   "metadata": {},
   "outputs": [
    {
     "name": "stdout",
     "output_type": "stream",
     "text": [
      "True\n",
      "perfect\n",
      "end\n"
     ]
    }
   ],
   "source": [
    "temp = 37\n",
    "print (temp != 30) #True\n",
    "\n",
    "if grade == 100:\n",
    "    print ('perfect') \n",
    "else:\n",
    "    print ('almost')\n",
    "print ('end')"
   ]
  },
  {
   "cell_type": "markdown",
   "metadata": {},
   "source": [
    "上面例子中 有\n",
    "```python\n",
    "if grade == 100:\n",
    "    print ('perfect') \n",
    "else:\n",
    "    print ('almost')\n",
    "```\n",
    "可以發現 else 關鍵字底下的程式會在 if 的條件不成立時執行\n",
    "### TODO\n",
    "\n",
    "請試著利用剛剛學過的 **' if '**，寫一個程式判斷成績\n",
    "\n",
    "六十分以上印出 \" pass \", 不到六十分印出 \" fail \" "
   ]
  },
  {
   "cell_type": "code",
   "execution_count": 19,
   "metadata": {
    "collapsed": true
   },
   "outputs": [],
   "source": [
    "#在這裡練習 \n",
    "\n"
   ]
  },
  {
   "cell_type": "code",
   "execution_count": null,
   "metadata": {
    "collapsed": true
   },
   "outputs": [],
   "source": []
  }
 ],
 "metadata": {
  "kernelspec": {
   "display_name": "Python 3",
   "language": "python",
   "name": "python3"
  },
  "language_info": {
   "codemirror_mode": {
    "name": "ipython",
    "version": 3
   },
   "file_extension": ".py",
   "mimetype": "text/x-python",
   "name": "python",
   "nbconvert_exporter": "python",
   "pygments_lexer": "ipython3",
   "version": "3.6.2"
  }
 },
 "nbformat": 4,
 "nbformat_minor": 2
}
