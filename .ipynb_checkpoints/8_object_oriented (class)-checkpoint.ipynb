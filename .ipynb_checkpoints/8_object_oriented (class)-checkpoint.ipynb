{
 "cells": [
  {
   "cell_type": "markdown",
   "metadata": {},
   "source": [
    "# object oriented (物件導向)\n",
    "\n",
    "函式將程式抽象化，讓我們可以專注在函式內部的指令，然後重複使用，但若要設計大型且複雜的程式時，或是與使用者介面結合時，還是會遭遇不少困難。因此有了另一種更抽象化的設計方式，就是物件導向。物件導向是一種將程式抽象化，以表達真實世界的程式設計方法，在物件導向中，我們專注於兩件事情:資料與行為。\n",
    "想像一個生活上的例子，你擁有一台車子，關於這台車子的資料可能有 : 廠牌、牌照號碼、所有人、引擎馬力、油耗、價錢，更進一步的可能是車子當下的狀態，如時速、車內溫度、油箱狀況、頭燈是否打開等等，而這台車子會有的行為可能是 : 前進、後退、左轉、右轉、加速、剎車等等，基本上身為一個駕駛，只要知道車子當時的資料與行為，便可以很好的操作一台車，而不需知道熱力學、動力學、機械設計等等車子運作的相關原理。\n",
    "\n",
    "## <font color=\"blue\">1.類別</font>\n",
    "\n",
    "在之前我們使用過 Python 的核心資料型態，如字串、整數、浮點數、陣列等等，但是當我們需要更複雜的功能時，便需要自己創造資料型態，這就是這裡要學的 \"類別\" 。類別不同於內建的資料型態，它更加具有彈性，在類別中你可以建立一個模型，並定義屬於它的資訊和行為，而物件(object)則是類別的實體，舉例來說，我們有一張汽車的設計圖，根據這張設計圖可以做出很多台車，類別就像是設計圖，而物件就像是根據設計圖生產的車子。  \n",
    "以下我們定義一個汽車的類別，請看以下範例\n",
    "\n",
    "```python\n",
    "class Car:\n",
    "   \n",
    "    def __init__(self):\n",
    "        #車子的位置資訊\n",
    "        self.x = 0\n",
    "        self.y = 0\n",
    "```\n",
    "在建立汽車的類別時，你需要做的第一件事就是定義**__init__()**方法。  \n",
    "__init__()方法在物件被建立時設定了所有一開始就該被定義的值和參數\n",
    "\n",
    "這台車子的類別目前有兩個資訊，X 和 Y 座標，但是它沒辦法做任何事，因為我們沒有定義它的 \"行為\" ，在這裡，我們稱其為 \"方法\" (method)   \n",
    "我們定義車子的方法，也就是前移動。\n",
    "它看起來應該會像下面這樣:\n",
    "\n",
    "```python\n",
    "\n",
    "class Car:\n",
    "   \n",
    "    \n",
    "    def __init__(self):\n",
    "        # 車子的 x, y 座標\n",
    "        self.x = 0\n",
    "        self.y = 0\n",
    "        \n",
    "    def forward(self):\n",
    "        # 增加車子的 X 值 \n",
    "        self.x += 1\n",
    "```\n",
    "車子的類別被定義出來了，並且儲存了它的資訊，還有一個移動的方法。然而車子並沒有真正被創造出來，畢竟我們只是畫好了設計圖。\n",
    "\n",
    "## <font color=\"blue\">2.物件</font>\n",
    "\n",
    "物件是類別的實體。  \n",
    "類別是一個概念，物件是基於概念的實體，所以我們寫程式時，定義的是類別，但實際操作的是物件，這個觀念非常重要。\n",
    "前面的例子中我們定義了何謂汽車，但我們只是定義了\"汽車\"的概念，還沒有真的做出\"汽車\"的實體，沒有實體就無法操作，所以我們必須創造汽車的\"物件\"  \n",
    "這是如何創造汽車實體(物件)的方法 :\n",
    "\n",
    "```python\n",
    "# 創造汽車的實體\n",
    "my_Car = Car()\n",
    "\n",
    "```\n",
    "整段程式執行起來會像這樣 : \n"
   ]
  },
  {
   "cell_type": "code",
   "execution_count": 1,
   "metadata": {},
   "outputs": [
    {
     "name": "stdout",
     "output_type": "stream",
     "text": [
      "<__main__.Car object at 0x05095B90>\n"
     ]
    }
   ],
   "source": [
    "# 程式碼 8-2\n",
    "\n",
    "class Car:\n",
    "    \n",
    "    def __init__(self):\n",
    "        # 車子的 X 和 Y 座標\n",
    "        self.x = 0\n",
    "        self.y = 0\n",
    "        \n",
    "    def forward(self):\n",
    "        # 增加汽車的 X 值 \n",
    "        self.x += 1\n",
    "        \n",
    "my_car = Car()  # 建立汽車的物件\n",
    "print(my_car)      # 印出物件\n"
   ]
  },
  {
   "cell_type": "markdown",
   "metadata": {},
   "source": [
    "為了實際運用汽車的實體，我們建立一個變數 **my_rocket**來儲存汽車的物件。所以現在 my_car 就是一個車子的物件。  \n",
    "你可以看到上面例子的輸出，表示 my_car 是__main__程式檔裡面的 Car 物件，儲存在記憶體中的特定位置\n",
    "my_car 會擁有所有 Car 類別的資料以及方法，就像車子的設計圖如果有輪胎，造出來的車子就該有輪胎，設計圖設計車子能跑到100公里/hr，實際造出來的車子就應該有這種性能。  \n",
    "\n",
    "### <font color=\"red\">練習</font>\n",
    "\n",
    "請練習定義一個類別student\n",
    "並給予兩個資料id,name，在初始化函式中，請將id設為000000，名字設為'name'"
   ]
  },
  {
   "cell_type": "code",
   "execution_count": null,
   "metadata": {
    "collapsed": true
   },
   "outputs": [],
   "source": [
    "class student:\n",
    "    def __init__(self):\n",
    "        ..."
   ]
  },
  {
   "cell_type": "markdown",
   "metadata": {},
   "source": [
    "## <font color=\"blue\">3.物件的方法</font>\n",
    "前面提過我們處理物件時專注於兩件事 : 資料與行為，物件的行為可以用函式實作，也有另一個名稱，就是物件的\"方法\"。  \n",
    "當你定義一個類別後，你便可以透過建構函式創造物件，然後使用物件的方法。下面的例子示範如何使用汽車的方法，讓車子動起來 :"
   ]
  },
  {
   "cell_type": "code",
   "execution_count": 2,
   "metadata": {},
   "outputs": [
    {
     "name": "stdout",
     "output_type": "stream",
     "text": [
      "Car position: 0\n",
      "Car position: 1\n",
      "Car position: 2\n"
     ]
    }
   ],
   "source": [
    "# 程式碼 8-3\n",
    "\n",
    "class Car:\n",
    "    \n",
    "    def __init__(self):\n",
    "        # 車子的 X 和 Y 座標\n",
    "        self.x = 0\n",
    "        self.y = 0\n",
    "        \n",
    "    def forward(self):\n",
    "        # 增加汽車的 X 值 \n",
    "        self.x += 1\n",
    "        \n",
    "my_car = Car()  # 建立汽車的物件\n",
    "\n",
    "my_car = Car()\n",
    "print(\"Car position:\", my_car.x)\n",
    "\n",
    "my_car.forward()\n",
    "print(\"Car position:\", my_car.x)\n",
    "\n",
    "my_car.forward()\n",
    "print(\"Car position:\", my_car.x)"
   ]
  },
  {
   "cell_type": "markdown",
   "metadata": {},
   "source": [
    "使用物件的方法時，需要呼叫方法，跟呼叫函式是一樣的，我們打出這個物件的名字，然後加上一個 \".\"，再加上方法的名稱，在上面的例子就是`my_car.forward()`\n",
    "\n",
    "## <font color=\"blue\">4.建立多個物件</font>\n",
    "\n",
    "當你有一個被定義好的類別，你就能夠利用它製造無數個物件，就像是有一張設計圖，便能製造許多同樣的汽車。每個物件都有自己獨立的資料與方法，一個物件被改變了不會影響其他的物件。\n",
    "\n",
    "下面的例子我們製造多一點的車子 :"
   ]
  },
  {
   "cell_type": "code",
   "execution_count": 3,
   "metadata": {},
   "outputs": [
    {
     "name": "stdout",
     "output_type": "stream",
     "text": [
      "<__main__.Car object at 0x05038A30>\n",
      "<__main__.Car object at 0x052DF0B0>\n",
      "<__main__.Car object at 0x052DF350>\n",
      "<__main__.Car object at 0x052DF2B0>\n",
      "<__main__.Car object at 0x052DF270>\n"
     ]
    }
   ],
   "source": [
    "# 程式碼 8-4\n",
    "\n",
    "class Car:\n",
    "    \n",
    "    def __init__(self):\n",
    "        # 車子的 X 和 Y 座標\n",
    "        self.x = 0\n",
    "        self.y = 0\n",
    "        \n",
    "    def forward(self):\n",
    "        # 增加汽車的 X 值 \n",
    "        self.x += 1\n",
    "        \n",
    "# 建立五台車子，並儲存在清單中\n",
    "my_cars = []\n",
    "for x in range(0,5):\n",
    "    new_car = Car()\n",
    "    my_cars.append(new_car)\n",
    "\n",
    "# 展示每台車子都是個別的物件\n",
    "for car in my_cars:\n",
    "    print(car)"
   ]
  },
  {
   "cell_type": "markdown",
   "metadata": {},
   "source": [
    "你可以發現每個車子物件都被存在不同的記憶體位置。\n",
    "利用 list ， 我們可以用更簡單的方式建立許多車子。"
   ]
  },
  {
   "cell_type": "code",
   "execution_count": 5,
   "metadata": {},
   "outputs": [
    {
     "name": "stdout",
     "output_type": "stream",
     "text": [
      "<__main__.Car object at 0x052FAD90>\n",
      "<__main__.Car object at 0x052FADD0>\n",
      "<__main__.Car object at 0x052FADF0>\n",
      "<__main__.Car object at 0x052FAE10>\n",
      "<__main__.Car object at 0x052FAE30>\n"
     ]
    }
   ],
   "source": [
    "# 程式碼 8-4.b\n",
    "class Car:\n",
    "    \n",
    "    def __init__(self):\n",
    "        # 車子的 X 和 Y 座標\n",
    "        self.x = 0\n",
    "        self.y = 0\n",
    "        \n",
    "    def forward(self):\n",
    "        # 增加汽車的 X 值 \n",
    "        self.x += 1\n",
    "        \n",
    "# 建立五台車子的物件，並儲存在清單中\n",
    "my_cars = [Car() for x in range(0,5)]\n",
    "\n",
    "# 展示每台車子都是個別的物件\n",
    "for car in my_cars:\n",
    "    print(car)"
   ]
  },
  {
   "cell_type": "markdown",
   "metadata": {},
   "source": [
    "下面的例子你可以發現，改變一個物件的值並不會影響其他物件。"
   ]
  },
  {
   "cell_type": "code",
   "execution_count": 6,
   "metadata": {},
   "outputs": [
    {
     "name": "stdout",
     "output_type": "stream",
     "text": [
      "Car position: 1\n",
      "Car position: 0\n",
      "Car position: 0\n",
      "Car position: 0\n",
      "Car position: 0\n"
     ]
    }
   ],
   "source": [
    "# 程式碼 8-4.c\n",
    "class Car:\n",
    "    \n",
    "    def __init__(self):\n",
    "        # 車子的 X 和 Y 座標\n",
    "        self.x = 0\n",
    "        self.y = 0\n",
    "        \n",
    "    def forward(self):\n",
    "        # 增加汽車的 X 值 \n",
    "        self.x += 1\n",
    "        \n",
    "# 建立五台車子的物件，並儲存在清單中\n",
    "my_cars = [Car() for x in range(0,5)]\n",
    "    \n",
    "my_cars[0].forward()\n",
    "\n",
    "for car in my_cars:\n",
    "    print(\"Car position:\",car.x)"
   ]
  },
  {
   "cell_type": "markdown",
   "metadata": {
    "collapsed": true
   },
   "source": [
    "## <font color=\"blue\">5.物件內的資料</font>\n",
    "\n",
    "物件有自己的成員資料，下面定義一個student的類別  \n",
    "name, ID 與 \\__age 就是其中的資料\n"
   ]
  },
  {
   "cell_type": "code",
   "execution_count": 2,
   "metadata": {
    "collapsed": true
   },
   "outputs": [],
   "source": [
    "# 程式碼 8-5\n",
    "\n",
    "class student:\n",
    "    _age = 0\n",
    "    def __init__(self, name, ID, age):\n",
    "        self.name = name\n",
    "        self.ID = ID\n",
    "        self.__age = age\n",
    "\n",
    "# 建立物件larry\n",
    "\n",
    "larry = student('Larry', 1252, 18)"
   ]
  },
  {
   "cell_type": "markdown",
   "metadata": {},
   "source": [
    "我們可以直接用 **_物件名稱 . 變數名稱_** 的形式取得變數值"
   ]
  },
  {
   "cell_type": "code",
   "execution_count": 5,
   "metadata": {},
   "outputs": [
    {
     "data": {
      "text/plain": [
       "'Larry'"
      ]
     },
     "execution_count": 5,
     "metadata": {},
     "output_type": "execute_result"
    }
   ],
   "source": [
    "# 程式碼 8-5.b\n",
    "\n",
    "larry.name"
   ]
  },
  {
   "cell_type": "markdown",
   "metadata": {},
   "source": [
    "你也可以利用跟一般變數一樣的方法改變物件的值"
   ]
  },
  {
   "cell_type": "code",
   "execution_count": 1,
   "metadata": {},
   "outputs": [
    {
     "data": {
      "text/plain": [
       "2341"
      ]
     },
     "execution_count": 1,
     "metadata": {},
     "output_type": "execute_result"
    }
   ],
   "source": [
    "# 程式碼 8-5.c\n",
    "\n",
    "#定義 student類別\n",
    "class student:\n",
    "    _age = 0\n",
    "    def __init__(self, name, ID, age):\n",
    "        self.name = name\n",
    "        self.ID = ID\n",
    "        self.__age = age\n",
    "\n",
    "# 建立 student 的物件 larry\n",
    "\n",
    "larry = student('Larry', 1252, 18)\n",
    "\n",
    "#改變資料\n",
    "larry.ID = 2341\n",
    "larry.ID"
   ]
  },
  {
   "cell_type": "markdown",
   "metadata": {},
   "source": [
    "但是若在變數名稱前面加上兩個底線，就無法直接用這種方式取得，因為這會將變數設為物件的私有變數    \n",
    "例如第三個變數，我們設定為`self.__age`，因此如果用相同方法就會出錯"
   ]
  },
  {
   "cell_type": "code",
   "execution_count": 16,
   "metadata": {},
   "outputs": [
    {
     "ename": "AttributeError",
     "evalue": "'student' object has no attribute '__age'",
     "output_type": "error",
     "traceback": [
      "\u001b[1;31m---------------------------------------------------------------------------\u001b[0m",
      "\u001b[1;31mAttributeError\u001b[0m                            Traceback (most recent call last)",
      "\u001b[1;32m<ipython-input-16-67d49391a984>\u001b[0m in \u001b[0;36m<module>\u001b[1;34m()\u001b[0m\n\u001b[0;32m      1\u001b[0m \u001b[1;31m# 程式碼 8-5.c\u001b[0m\u001b[1;33m\u001b[0m\u001b[1;33m\u001b[0m\u001b[0m\n\u001b[0;32m      2\u001b[0m \u001b[1;33m\u001b[0m\u001b[0m\n\u001b[1;32m----> 3\u001b[1;33m \u001b[0mlarry\u001b[0m\u001b[1;33m.\u001b[0m\u001b[0m__age\u001b[0m\u001b[1;33m\u001b[0m\u001b[0m\n\u001b[0m",
      "\u001b[1;31mAttributeError\u001b[0m: 'student' object has no attribute '__age'"
     ]
    }
   ],
   "source": [
    "# 程式碼 8-5.d\n",
    "\n",
    "larry.__age"
   ]
  },
  {
   "cell_type": "markdown",
   "metadata": {},
   "source": [
    "私有變數無法從物件外取得，因此要透過內部的函式取值  \n",
    "我們在 class 中增加一個 get_age() 函式，印出 \\__age 這個變數的值\n"
   ]
  },
  {
   "cell_type": "code",
   "execution_count": 15,
   "metadata": {},
   "outputs": [
    {
     "name": "stdout",
     "output_type": "stream",
     "text": [
      "18\n"
     ]
    }
   ],
   "source": [
    "# 程式碼 8-5.e\n",
    "\n",
    "class student:\n",
    "    def __init__(self, name, ID, age):\n",
    "        self.name = name\n",
    "        self.ID = ID\n",
    "        self.__age = age\n",
    "    def get_age(self):              #增加get_age\n",
    "        print(self.__age)\n",
    "\n",
    "# 建立物件\n",
    "larry = student('Larry', 1252, 18)\n",
    "# 取得__age\n",
    "larry.get_age()"
   ]
  },
  {
   "cell_type": "markdown",
   "metadata": {},
   "source": [
    "### <font color=\"red\">練習</font>\n",
    "\n",
    "下面定義了一個 car 類別，有三個資料 brand, owner, plate\n",
    "請做以下練習 :   \n",
    "1. 建立一個 car 物件，名字叫 car1，三個資料分別為 'Benz', 'John', 'ANY-412'\n",
    "2. 建立一個 car 物件，名字叫 car2，三個資料分別為 'BMW', 'Tom', 'CTR-152'\n",
    "3. 請幫 car2 加上一個資料，名稱是color，值是'red'\n",
    "4. 把 car1的 owner改成 'Jobs'\n",
    "5. 印出兩個 car物件的三個資料"
   ]
  },
  {
   "cell_type": "code",
   "execution_count": 7,
   "metadata": {},
   "outputs": [
    {
     "name": "stdout",
     "output_type": "stream",
     "text": [
      "car is created\n",
      "red\n"
     ]
    },
    {
     "data": {
      "text/plain": [
       "Ellipsis"
      ]
     },
     "execution_count": 7,
     "metadata": {},
     "output_type": "execute_result"
    }
   ],
   "source": [
    "# 練習 8-5\n",
    "\n",
    "class Car:\n",
    "    \n",
    "    def __init__(self):\n",
    "        print ('car is created')\n",
    "        \n",
    "        self.owner = 'WHO?'\n",
    "        self.brand = 'WHAT?'\n",
    "        self.plate = 'WHAT?'\n",
    "        \n",
    "        \n",
    "print(car1.color)\n",
    "#建立car1\n",
    "...\n",
    "\n",
    "#建立car2\n",
    "...\n",
    "\n",
    "#car2加上color\n",
    "...\n",
    "\n",
    "#改變car1的owner\n",
    "...\n",
    "\n",
    "#印出資料\n",
    "...\n"
   ]
  },
  {
   "cell_type": "markdown",
   "metadata": {
    "collapsed": true
   },
   "source": [
    "## <font color=\"blue\">6. 一個球的例子</font>\n",
    "\n"
   ]
  },
  {
   "cell_type": "markdown",
   "metadata": {
    "collapsed": true
   },
   "source": [
    "這裡我們做一個簡單的物件例子\n",
    "\n",
    "我們利用[codeskulptor](http://www.codeskulptor.org/) 來練習，我們要建立一個球的類別，並且建立一顆球的物件，顯示在畫面上  \n"
   ]
  },
  {
   "cell_type": "code",
   "execution_count": null,
   "metadata": {
    "collapsed": true
   },
   "outputs": [],
   "source": [
    "# 程式碼 5-6\n",
    "\n",
    "import simplegui  # 引入simplegui函式庫\n",
    "\n",
    "\n",
    "#定義球的類別\n",
    "class ball:\n",
    "    def __init__(self):\n",
    "        self.x = 125\n",
    "        self.y = 125\n",
    "\n",
    "# 建立球的實體(物件)\n",
    "ball = ball()\n",
    "\n",
    "# 處理畫面\n",
    "def draw_handler(canvas):\n",
    "        \n",
    "    canvas.draw_image(image, (500 / 2, 500 / 2), (500, 500), (ball.x, ball.y), (100, 100))  # (ball.x,ball,y)定為圖片的中心\n",
    "\n",
    "url = 'http://d1ag61cf94vdob.cloudfront.net/products/images/full/COL_Sideswipe.png'\n",
    "image = simplegui.load_image(url)\n",
    "frame = simplegui.create_frame('Testing', 500, 500)\n",
    "frame.set_draw_handler(draw_handler)\n",
    "frame.start()"
   ]
  },
  {
   "cell_type": "markdown",
   "metadata": {},
   "source": [
    "接下來我們新增一個方法move()  \n",
    "讓球向右移動"
   ]
  },
  {
   "cell_type": "code",
   "execution_count": null,
   "metadata": {
    "collapsed": true
   },
   "outputs": [],
   "source": [
    "# 程式碼 5-6.b\n",
    "\n",
    "import simplegui  # 引入simplegui函式庫\n",
    "\n",
    "\n",
    "#定義球的類別\n",
    "class ball:\n",
    "    def __init__(self):\n",
    "        self.x = 125\n",
    "        self.y = 125\n",
    "    def move(self):\n",
    "        self.x += 5\n",
    "\n",
    "# 建立球的實體(物件)\n",
    "ball = ball()\n",
    "\n",
    "# 處理畫面，這個函式內的程式會不斷重複執行\n",
    "def draw_handler(canvas):\n",
    "    global ball    \n",
    "    canvas.draw_image(image, (500 / 2, 500 / 2), (500, 500), (ball.x, ball.y), (100, 100))  # (ball.x,ball,y)定為圖片的中心\n",
    "    ball.move()\n",
    "    \n",
    "url = 'http://d1ag61cf94vdob.cloudfront.net/products/images/full/COL_Sideswipe.png'\n",
    "image = simplegui.load_image(url)\n",
    "frame = simplegui.create_frame('Testing', 500, 500)\n",
    "frame.set_draw_handler(draw_handler)\n",
    "frame.start()"
   ]
  },
  {
   "cell_type": "markdown",
   "metadata": {},
   "source": [
    "### <font color=\"red\">練習</font>\n",
    "試試看延續上面的程式，你是否能定義一個back函式，讓球倒退走?  \n",
    "另外如果要讓球移動到邊界的時候反彈呢?  \n",
    "練習做出球在畫面中左右彈跳的效果  \n",
    "(請在codeskulptor上執行)\n"
   ]
  },
  {
   "cell_type": "code",
   "execution_count": null,
   "metadata": {
    "collapsed": true
   },
   "outputs": [],
   "source": [
    "# 練習 5-6\n",
    "\n",
    "import simplegui  # 引入simplegui函式庫\n",
    "\n",
    "\n",
    "#定義球的類別\n",
    "class ball:\n",
    "    def __init__(self):\n",
    "        self.x = 125\n",
    "        self.y = 125\n",
    "    def move(self):\n",
    "        self.x += 5\n",
    "\n",
    "# 建立球的實體(物件)\n",
    "ball = ball()\n",
    "\n",
    "# 處理畫面\n",
    "def draw_handler(canvas):\n",
    "    global ball    \n",
    "    canvas.draw_image(image, (500 / 2, 500 / 2), (500, 500), (ball.x, ball.y), (100, 100))  # (ball.x,ball,y)定為圖片的中心\n",
    "    ball.move()\n",
    "    \n",
    "url = 'http://d1ag61cf94vdob.cloudfront.net/products/images/full/COL_Sideswipe.png'\n",
    "image = simplegui.load_image(url)\n",
    "frame = simplegui.create_frame('Testing', 500, 500)\n",
    "frame.set_draw_handler(draw_handler)\n",
    "frame.start()"
   ]
  }
 ],
 "metadata": {
  "kernelspec": {
   "display_name": "Python 3",
   "language": "python",
   "name": "python3"
  },
  "language_info": {
   "codemirror_mode": {
    "name": "ipython",
    "version": 3
   },
   "file_extension": ".py",
   "mimetype": "text/x-python",
   "name": "python",
   "nbconvert_exporter": "python",
   "pygments_lexer": "ipython3",
   "version": "3.6.2"
  }
 },
 "nbformat": 4,
 "nbformat_minor": 2
}
