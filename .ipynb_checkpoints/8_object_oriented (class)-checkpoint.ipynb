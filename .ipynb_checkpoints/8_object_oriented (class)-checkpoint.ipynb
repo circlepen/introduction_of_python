{
 "cells": [
  {
   "cell_type": "markdown",
   "metadata": {},
   "source": [
    "# object oriented (物件導向)\n",
    "\n",
    "物件導向就是以物件的角度來看待我們寫的程式，物件導向最重要的概念便是 類別(class) 與 物件(object)。\n",
    "\n",
    "\n",
    "## <font color=\"blue\">1.類別</font>\n",
    "\n",
    "在之前我們使用過 Python 的核心資料型態，如字串、整數、浮點數、陣列等等，但是當我們需要更複雜的功能時，便需要自己創造資料型態，這就是這裡要學的 \"類別\" 。類別不同於內建的資料型態，它更加具有彈性，在類別中你可以建立一個模型，並定義屬於它的資訊和行為，而物件(object)則是類別的實體，舉例來說，我們有一張汽車的設計圖，根據這張設計圖可以做出很多台車，類別就像是設計圖，而物件就像是根據設計圖生產的車子。\n",
    "再舉一個例子，如果你想要在程式中模擬火箭，你會需要知道它的X座標和Y座標。\n",
    "這裡是一個簡單的火箭例子:\n",
    "```python\n",
    "class Rocket:\n",
    "    # Rocket simulates a rocket ship for a game,\n",
    "    #  or a physics simulation.\n",
    "    \n",
    "    def __init__(self):\n",
    "        # 每支火箭都有自己的 X 和 Y 座標\n",
    "        self.x = 0\n",
    "        self.y = 0\n",
    "```\n",
    "在建立火箭的類別時，你需要做的第一件事就是定義**__init__()**方法。  \n",
    "__init__()方法在物件被建立時設定了所有一開始就該被定義的值和參數\n",
    "\n",
    "這個火箭的類別目前有兩個資訊，X 和 Y 座標，但是它沒辦法做任何事，因為我們沒有定義它的 \"行為\" ，在這裡，我們稱其為 \"方法\" (method)   \n",
    "我們定義火箭核心的方法，也就是向上移動，不會動的火箭就沒有用了對吧?  \n",
    "它看起來應該會像下面這樣:\n",
    "\n",
    "```python\n",
    "###highlight=[11,12,13]\n",
    "class Rocket:\n",
    "    # Rocket simulates a rocket ship for a game,\n",
    "    #  or a physics simulation.\n",
    "    \n",
    "    def __init__(self):\n",
    "        # 每支火箭都有自己的 X 和 Y 座標\n",
    "        self.x = 0\n",
    "        self.y = 0\n",
    "        \n",
    "    def move_up(self):\n",
    "        # 增加火箭的 Y 值 \n",
    "        self.y += 1\n",
    "```\n",
    "火箭的類別被定義出來了，並且儲存了它的資訊，還有一個移動的方法。然而火箭並沒有真正被創造出來，畢竟我們只是畫好了設計圖。\n",
    "\n",
    "# object (物件)\n",
    "\n",
    "物件是類別的實體。  \n",
    "類別是一個概念，物件是基於概念的實體，所以我們寫程式時，定義的是類別，但實際操作的是物件，這個觀念非常重要。\n",
    "前面的例子中我們定義了何謂火箭，但我們只是定義了\"火箭\"的概念，還沒有真的做出\"火箭\"的實體，沒有實體就無法操作，所以我們必須創造火箭的\"物件\"  \n",
    "這是如何創造火箭實體(物件)的方法 :\n",
    "\n",
    "```python\n",
    "# 創造火箭的實體\n",
    "my_rocket = Rocket()\n",
    "\n",
    "```\n",
    "整段程式執行起來會像這樣 : \n"
   ]
  },
  {
   "cell_type": "code",
   "execution_count": 2,
   "metadata": {},
   "outputs": [
    {
     "name": "stdout",
     "output_type": "stream",
     "text": [
      "<__main__.Rocket object at 0x05821CD0>\n"
     ]
    }
   ],
   "source": [
    "class Rocket:\n",
    "    # Rocket simulates a rocket ship for a game,\n",
    "    #  or a physics simulation.\n",
    "    \n",
    "    def __init__(self):\n",
    "        # 每支火箭都有自己的 X 和 Y 座標\n",
    "        self.x = 0\n",
    "        self.y = 0\n",
    "        \n",
    "    def move_up(self):\n",
    "        # 增加火箭的 Y 值 \n",
    "        self.y += 1\n",
    "        \n",
    "my_rocket = Rocket()  # 建立火箭的物件\n",
    "print(my_rocket)      # 印出物件\n"
   ]
  },
  {
   "cell_type": "markdown",
   "metadata": {},
   "source": [
    "為了實際運用火箭的實體，我們建立一個變數 **my_rocket**來儲存火箭的物件。所以現在 my_rocket 就是一個火箭的物件。  \n",
    "你可以看到上面例子的輸出，表示 my_rocket 是__main__程式檔裡面的 Rocket 物件，儲存在記憶體中的特定位置\n",
    "my_rocket 會擁有所有 Rocket 類別的資料以及方法，就像車子的設計圖如果有輪胎，造出來的車子就該有輪胎，設計圖設計車子能跑到100公里/hr，實際造出來的車子就應該有這種性能。  \n",
    "\n",
    "當你有了類別後，你便可以用它創造物件，然後使用物件的方法。下面的例子示範如何使用火箭的方法，讓火箭動起來 :\n",
    "\n"
   ]
  },
  {
   "cell_type": "code",
   "execution_count": 2,
   "metadata": {},
   "outputs": [
    {
     "name": "stdout",
     "output_type": "stream",
     "text": [
      "Rocket altitude: 0\n",
      "Rocket altitude: 1\n",
      "Rocket altitude: 2\n"
     ]
    }
   ],
   "source": [
    "\n",
    "# 建立火箭實體，並讓它動\n",
    "my_rocket = Rocket()\n",
    "print(\"Rocket altitude:\", my_rocket.y)\n",
    "\n",
    "my_rocket.move_up()\n",
    "print(\"Rocket altitude:\", my_rocket.y)\n",
    "\n",
    "my_rocket.move_up()\n",
    "print(\"Rocket altitude:\", my_rocket.y)"
   ]
  },
  {
   "cell_type": "markdown",
   "metadata": {},
   "source": [
    "想要取用物件的值或方法時，我們打出這個物件的名字，然後加上一個 \".\"，再加上所要的值或方法，在上面的例子就是 `my_rocket.y`以及`my_rocket.move_up()`\n",
    "\n",
    "當你有一個被定義好的類別，你就能夠利用它製造無數個物件，就像是有一張設計圖，便能製造許多同樣的汽車。每個物件都有自己獨立的資料與方法，一個物件被改變了不會影響其他的物件。\n",
    "\n",
    "下面的例子我們製造多一點的火箭 :"
   ]
  },
  {
   "cell_type": "code",
   "execution_count": 1,
   "metadata": {},
   "outputs": [
    {
     "name": "stdout",
     "output_type": "stream",
     "text": [
      "<__main__.Rocket object at 0x05A7A510>\n",
      "<__main__.Rocket object at 0x05A7A4B0>\n",
      "<__main__.Rocket object at 0x05A7A4D0>\n",
      "<__main__.Rocket object at 0x05A7A4F0>\n",
      "<__main__.Rocket object at 0x05A7A530>\n"
     ]
    }
   ],
   "source": [
    "###highlight=[15,16,17,18,19,20,21,22,23]\n",
    "class Rocket:\n",
    "    # Rocket simulates a rocket ship for a game,\n",
    "    #  or a physics simulation.\n",
    "    \n",
    "    def __init__(self):\n",
    "        # 每支火箭有自己的 x y 位置\n",
    "        self.x = 0\n",
    "        self.y = 0\n",
    "        \n",
    "    def move_up(self):\n",
    "        # 增加火箭的 y 座標數值\n",
    "        self.y += 1\n",
    "        \n",
    "# 建立五支火箭的物件，並儲存在清單中\n",
    "my_rockets = []\n",
    "for x in range(0,5):\n",
    "    new_rocket = Rocket()\n",
    "    my_rockets.append(new_rocket)\n",
    "\n",
    "# 展示每支火箭都是個別的物件\n",
    "for rocket in my_rockets:\n",
    "    print(rocket)"
   ]
  },
  {
   "cell_type": "markdown",
   "metadata": {},
   "source": [
    "你可以發現每個火箭物件都被存在不同的記憶體位置。\n",
    "利用 list ， 我們可以用更簡單的方式建立許多火箭。"
   ]
  },
  {
   "cell_type": "code",
   "execution_count": 5,
   "metadata": {},
   "outputs": [
    {
     "name": "stdout",
     "output_type": "stream",
     "text": [
      "<__main__.Rocket object at 0x052AA230>\n",
      "<__main__.Rocket object at 0x052AA270>\n",
      "<__main__.Rocket object at 0x052AA290>\n",
      "<__main__.Rocket object at 0x052AA2B0>\n",
      "<__main__.Rocket object at 0x052AA2D0>\n"
     ]
    }
   ],
   "source": [
    "###highlight=[16]\n",
    "class Rocket:\n",
    "    # Rocket simulates a rocket ship for a game,\n",
    "    #  or a physics simulation.\n",
    "    \n",
    "    def __init__(self):\n",
    "        # 每支火箭有自己的 x y 位置\n",
    "        self.x = 0\n",
    "        self.y = 0\n",
    "        \n",
    "    def move_up(self):\n",
    "        # 增加火箭的 y 座標數值\n",
    "        self.y += 1\n",
    "        \n",
    "# 建立五支火箭的物件，並儲存在清單中\n",
    "my_rockets = [Rocket() for x in range(0,5)]\n",
    "\n",
    "# 展示每支火箭都是個別的物件\n",
    "for rocket in my_rockets:\n",
    "    print(rocket)"
   ]
  },
  {
   "cell_type": "markdown",
   "metadata": {},
   "source": [
    "下面的例子你可以發現，改變一個物件的值並不會影響其他物件。"
   ]
  },
  {
   "cell_type": "code",
   "execution_count": 6,
   "metadata": {},
   "outputs": [
    {
     "name": "stdout",
     "output_type": "stream",
     "text": [
      "Rocket altitude: 1\n",
      "Rocket altitude: 0\n",
      "Rocket altitude: 0\n",
      "Rocket altitude: 0\n",
      "Rocket altitude: 0\n"
     ]
    }
   ],
   "source": [
    "###highlight=[18,19,20,21,22,23]\n",
    "class Rocket:\n",
    "    # Rocket simulates a rocket ship for a game,\n",
    "    #  or a physics simulation.\n",
    "    \n",
    "    def __init__(self):\n",
    "        # 每支火箭有自己的 x y 位置\n",
    "        self.x = 0\n",
    "        self.y = 0\n",
    "        \n",
    "    def move_up(self):\n",
    "        # 增加火箭的 y 座標數值\n",
    "        self.y += 1\n",
    "        \n",
    "# 建立五支火箭的物件，並儲存在清單中\n",
    "my_rockets = [Rocket() for x in range(0,5)]\n",
    "\n",
    "# 移動第一支火箭\n",
    "my_rockets[0].move_up()\n",
    "\n",
    "# 展示只有第一支火箭被移動\n",
    "for rocket in my_rockets:\n",
    "    print(\"Rocket altitude:\", rocket.y)"
   ]
  },
  {
   "cell_type": "markdown",
   "metadata": {
    "collapsed": true
   },
   "source": [
    "### TODO\n",
    "接下來做個練習，我們要定義\"車子\"這個類別，並且創造出它的物件\n",
    "\n",
    "首先，定義一個新的class 叫做car，car 有三筆資料，brand, id 以及 owner  \n",
    "並有以下方法:  \n",
    "\\_\\_init\\_\\_(brand, id, owner)  設定三筆資料為 brand, id, 以及 owner的值  \n",
    "deal(buyer)   將 owner 改為 buyer的值\n",
    "\n"
   ]
  },
  {
   "cell_type": "code",
   "execution_count": null,
   "metadata": {
    "collapsed": true
   },
   "outputs": [],
   "source": [
    "#定義一個 class car\n",
    "class Car:\n",
    "\n",
    "\n"
   ]
  },
  {
   "cell_type": "markdown",
   "metadata": {},
   "source": [
    "接下來，我們建立三個car 的物件， 分別是 :  \n",
    "brand = 'Toyota', id = 'AX1688', owner = 'Tommy'   \n",
    "brand = 'Ford', id = 'CV2546', owner = 'Eric'   \n",
    "brand = 'Luxgen', id = 'BH9487', owner = 'Justin'   \n",
    "並用三個變數 car1, car2, car3 來代表他們\n"
   ]
  },
  {
   "cell_type": "code",
   "execution_count": 3,
   "metadata": {
    "collapsed": true
   },
   "outputs": [],
   "source": [
    "#建立 car1, car2, car3 三個物件，並指定它們的值\n",
    "\n",
    "car1 = Car( )\n"
   ]
  },
  {
   "cell_type": "markdown",
   "metadata": {},
   "source": [
    "我們先將三個物件的owner印出來確認  \n",
    "之後我們將car1 交易給'Taisen'，再印出car1 的 owner\n"
   ]
  },
  {
   "cell_type": "code",
   "execution_count": null,
   "metadata": {
    "collapsed": true
   },
   "outputs": [],
   "source": [
    "# 印出物件的owner\n",
    "print(car1.owner)\n",
    "\n",
    "# 將car1交易給 Taisen\n",
    "\n",
    "\n",
    "# 印出car1 的 owner\n",
    "\n"
   ]
  },
  {
   "cell_type": "code",
   "execution_count": null,
   "metadata": {
    "collapsed": true
   },
   "outputs": [],
   "source": []
  }
 ],
 "metadata": {
  "kernelspec": {
   "display_name": "Python 3",
   "language": "python",
   "name": "python3"
  },
  "language_info": {
   "codemirror_mode": {
    "name": "ipython",
    "version": 3
   },
   "file_extension": ".py",
   "mimetype": "text/x-python",
   "name": "python",
   "nbconvert_exporter": "python",
   "pygments_lexer": "ipython3",
   "version": "3.6.2"
  }
 },
 "nbformat": 4,
 "nbformat_minor": 2
}
