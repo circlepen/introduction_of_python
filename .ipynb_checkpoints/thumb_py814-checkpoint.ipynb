{
 "cells": [
  {
   "cell_type": "markdown",
   "metadata": {},
   "source": [
    "# hello world (基礎輸出)\n",
    "---\n",
    "在 python 的一開始，讓 python 輸出 一段文字，使用 **_print_**\n",
    "在 python2 中，可以使用 **_print 要印的東西_**\n",
    "在 python3 中，可以使用 **_print(要印的東西)_ **\n",
    "\n",
    "以下是一個 hello world 的範例\n",
    "使用python 3 \n",
    "\n",
    "注意如果我們要表示字串，必須用' ' 或是　\" \" 括起來\n",
    "如果是數字或變數，就不需要"
   ]
  },
  {
   "cell_type": "code",
   "execution_count": 15,
   "metadata": {},
   "outputs": [
    {
     "name": "stdout",
     "output_type": "stream",
     "text": [
      "hello world\n",
      "17\n"
     ]
    }
   ],
   "source": [
    "\n",
    "print (\"hello world\")\n",
    "\n",
    "print ( 17 )\n"
   ]
  },
  {
   "cell_type": "markdown",
   "metadata": {},
   "source": [
    "### TODO :\n",
    "\n",
    "\n",
    "**請用print() 印出你的名字，注意字串必須用 ' ' 括起來**\n",
    "\n",
    "**另外，# 符號後面的內容會被視為註解，不會被電腦執行，在程式後面加上註解會有助於其他人理解你的程式**\n",
    "\n"
   ]
  },
  {
   "cell_type": "code",
   "execution_count": 9,
   "metadata": {
    "collapsed": true
   },
   "outputs": [],
   "source": [
    "#在這裡練習\n",
    "\n"
   ]
  },
  {
   "cell_type": "markdown",
   "metadata": {},
   "source": [
    "# variable (變數)\n",
    "-----\n",
    "在python 中，變數是一個能夠裝各種型態值的容器\n",
    "其中的值是可以變的\n",
    "可以用以下的方式來指定\n",
    "(使用python 3)"
   ]
  },
  {
   "cell_type": "code",
   "execution_count": 1,
   "metadata": {
    "scrolled": true
   },
   "outputs": [
    {
     "name": "stdout",
     "output_type": "stream",
     "text": [
      "1\n",
      "Levi\n"
     ]
    }
   ],
   "source": [
    "score = 1 # 創建變數 score ，並指定其值為 1 ，1 的型態為整數，英文為 int\n",
    "\n",
    "print (score) \n",
    "\n",
    "pi = 3.1415962  # 創建變數 pi ，並指定其值為 3.1415962 ， 型態為浮點數，英文為 float\n",
    "\n",
    "name= 'Levi'  # 創建變數 name ，並指定其值為 'Levi' ， 型態為字串，英文為 string\n",
    "\n",
    "print (name) \n"
   ]
  },
  {
   "cell_type": "markdown",
   "metadata": {},
   "source": [
    "\n",
    "**在上面的範例中你可以發現有三種資料型態，分別為:**\n",
    "\n",
    "**字串 string**\n",
    "\n",
    "**浮點數 float**\n",
    "\n",
    "**整數 int**\n",
    "\n",
    "**詳情可參考[這裡](http://www.codedata.com.tw/python/python-tutorial-the-2nd-class-1-numeric-types-and-string/)**"
   ]
  },
  {
   "cell_type": "markdown",
   "metadata": {},
   "source": [
    "### TODO\n",
    "\n",
    "\n",
    ">**請練習定義一個變數 color，指定其為顏色，**\n",
    ">\n",
    ">**例如 'red'，然後 print 出來**\n",
    ">\n",
    ">**再定義一個變數 lottery，指定其為某個數字**\n",
    ">\n",
    ">**然後print 出來 **"
   ]
  },
  {
   "cell_type": "code",
   "execution_count": null,
   "metadata": {
    "collapsed": true
   },
   "outputs": [],
   "source": [
    "#在這裡練習\n",
    "\n"
   ]
  },
  {
   "cell_type": "markdown",
   "metadata": {},
   "source": [
    "### 變數命名規則\n",
    "\n",
    "+ 變數只能包含字母、數字、底線，變數名稱能以字母或底線開頭，但不能以數字開頭\n",
    "\n",
    "+ 變數名稱中不能有空白，所以我們以底線取代空白，如果我們要取一個變數叫做 student name， 我們會寫作 student_name\n",
    "+ 變數名稱中不能包含 [python 保留字](https://docs.python.org/3/reference/lexical_analysis.html#keywords)\n",
    "+ 變數名稱盡量簡潔而清楚，例如mc_wheels 就會比單純的 \"wheels\" 或是 number_of_wheels_on_a_motorcycle 要來的好\n",
    "\n",
    "+ 在用英文大寫 I 跟 O 時要特別小心，因為很容易跟 1 和 0 搞混 \n"
   ]
  },
  {
   "cell_type": "markdown",
   "metadata": {},
   "source": [
    "### NameError\n",
    "\n",
    "在使用變數時有些常見的錯誤，看看底下的例子，你是否能理解為何出錯呢\n",
    "試著修正它吧"
   ]
  },
  {
   "cell_type": "code",
   "execution_count": 4,
   "metadata": {},
   "outputs": [
    {
     "ename": "NameError",
     "evalue": "name 'mesage' is not defined",
     "output_type": "error",
     "traceback": [
      "\u001b[1;31m---------------------------------------------------------------------------\u001b[0m",
      "\u001b[1;31mNameError\u001b[0m                                 Traceback (most recent call last)",
      "\u001b[1;32m<ipython-input-4-7966723379c3>\u001b[0m in \u001b[0;36m<module>\u001b[1;34m()\u001b[0m\n\u001b[0;32m      1\u001b[0m \u001b[0mmessage\u001b[0m \u001b[1;33m=\u001b[0m \u001b[1;34m\"Thank you for sharing Python with the world, Guido!\"\u001b[0m\u001b[1;33m\u001b[0m\u001b[0m\n\u001b[1;32m----> 2\u001b[1;33m \u001b[0mprint\u001b[0m\u001b[1;33m(\u001b[0m\u001b[0mmesage\u001b[0m\u001b[1;33m)\u001b[0m\u001b[1;33m\u001b[0m\u001b[0m\n\u001b[0m",
      "\u001b[1;31mNameError\u001b[0m: name 'mesage' is not defined"
     ]
    }
   ],
   "source": [
    "message = \"Thank you for sharing Python with the world, Guido!\"\n",
    "print(mesage)"
   ]
  },
  {
   "cell_type": "markdown",
   "metadata": {},
   "source": [
    "可以發現在定義變數名稱的時候我們取名叫做 **message**\n",
    "，然而在印出這個變數的值時，我們卻打成了 **mesage**\n",
    "\n",
    "**以下是正確的版本**"
   ]
  },
  {
   "cell_type": "code",
   "execution_count": 22,
   "metadata": {},
   "outputs": [
    {
     "name": "stdout",
     "output_type": "stream",
     "text": [
      "Thank you for sharing Python with the world, Guido!\n"
     ]
    }
   ],
   "source": [
    "###highlight=[3]\n",
    "message = \"Thank you for sharing Python with the world, Guido!\"\n",
    "print(message)"
   ]
  },
  {
   "cell_type": "markdown",
   "metadata": {},
   "source": [
    "# String (字串)\n",
    "---\n",
    "\n",
    "字串是一串的字元，字串比起字元是更好閱讀與理解的\n",
    "\n",
    "我們可以用以下兩種方式表示字串\n"
   ]
  },
  {
   "cell_type": "code",
   "execution_count": 5,
   "metadata": {
    "collapsed": true
   },
   "outputs": [],
   "source": [
    "my_string = \"This is a double-quoted string.\"\n",
    "my_string = 'This is a single-quoted string.'"
   ]
  },
  {
   "cell_type": "markdown",
   "metadata": {},
   "source": [
    "也可以如下表示"
   ]
  },
  {
   "cell_type": "code",
   "execution_count": null,
   "metadata": {
    "collapsed": true
   },
   "outputs": [],
   "source": [
    "quote = \"Linus Torvalds once said, 'Any program is only as good as it is useful.'\""
   ]
  },
  {
   "cell_type": "markdown",
   "metadata": {},
   "source": [
    "## 改變字串的大小寫\n",
    "\n",
    "你可以用以下的方式來改變你的字串，你會發現 'eric' 的第一個字母變成了大寫"
   ]
  },
  {
   "cell_type": "code",
   "execution_count": 6,
   "metadata": {},
   "outputs": [
    {
     "name": "stdout",
     "output_type": "stream",
     "text": [
      "eric\n",
      "Eric\n"
     ]
    }
   ],
   "source": [
    "first_name = 'eric'\n",
    "\n",
    "print(first_name)\n",
    "print(first_name.title())"
   ]
  },
  {
   "cell_type": "markdown",
   "metadata": {},
   "source": [
    "一個常見的好習慣是以小寫字串儲存資料，然後再改變他表現出來的大小寫，這樣可以避免錯別字的問題，讓我們不會把 \"Eric\"， \"eric\" 和 \"ERIC\"認成不同人\n",
    "\n",
    "以下是一些常見例子:\n"
   ]
  },
  {
   "cell_type": "code",
   "execution_count": 7,
   "metadata": {},
   "outputs": [
    {
     "name": "stdout",
     "output_type": "stream",
     "text": [
      "eric\n",
      "Eric\n",
      "ERIC\n",
      "eric\n"
     ]
    }
   ],
   "source": [
    "###highlight=[6,8,9]\n",
    "first_name = 'eric'\n",
    "\n",
    "print(first_name)\n",
    "print(first_name.title())\n",
    "print(first_name.upper())\n",
    "\n",
    "first_name = 'Eric'\n",
    "print(first_name.lower())"
   ]
  },
  {
   "cell_type": "markdown",
   "metadata": {},
   "source": [
    "## 字串的組合\n",
    "\n",
    "我們常常會需要用到字串的組合\n",
    "\n",
    "在python中字串的組合可以很簡單，我們一樣以例子來讓你理解"
   ]
  },
  {
   "cell_type": "code",
   "execution_count": 8,
   "metadata": {},
   "outputs": [
    {
     "name": "stdout",
     "output_type": "stream",
     "text": [
      "Ada Lovelace\n"
     ]
    }
   ],
   "source": [
    "first_name = 'ada'\n",
    "last_name = 'lovelace'\n",
    "\n",
    "full_name = first_name + ' ' + last_name\n",
    "\n",
    "print(full_name.title())\n"
   ]
  },
  {
   "cell_type": "markdown",
   "metadata": {},
   "source": [
    "加號讓兩個字串合成了一個，這叫做\"級聯\"，你可以用很多個加號把各個字串組成一段文字，事實上，許多網站都是以巨大的字串組成的字串級聯來寫成"
   ]
  },
  {
   "cell_type": "code",
   "execution_count": 9,
   "metadata": {},
   "outputs": [
    {
     "name": "stdout",
     "output_type": "stream",
     "text": [
      "Ada Lovelace was considered the world's first computer programmer.\n"
     ]
    }
   ],
   "source": [
    "###highlight=[6,7,8]\n",
    "first_name = 'ada'\n",
    "last_name = 'lovelace'\n",
    "full_name = first_name + ' ' + last_name\n",
    "\n",
    "message = full_name.title() + ' ' + \"was considered the world's first computer programmer.\"\n",
    "\n",
    "print(message)"
   ]
  },
  {
   "cell_type": "markdown",
   "metadata": {},
   "source": [
    "## 空白字元\n",
    "\n",
    "\"空白字元\"是一個電腦能夠識別但使用者看不見的字元，例如空白鍵、tab鍵以及空行 \n",
    "\n",
    "空白字元很容易使用，你使用它的時間大概和你使用電腦的時間一樣長， tab鍵 和空行 以特殊的字元組合來表示\n",
    "\n",
    "由\"\\t\"組合起來表示 **tab** ， tab可以用在字串中任何你想用的位子"
   ]
  },
  {
   "cell_type": "code",
   "execution_count": 10,
   "metadata": {},
   "outputs": [
    {
     "name": "stdout",
     "output_type": "stream",
     "text": [
      "Hello everyone!\n"
     ]
    }
   ],
   "source": [
    "print(\"Hello everyone!\")"
   ]
  },
  {
   "cell_type": "code",
   "execution_count": 11,
   "metadata": {},
   "outputs": [
    {
     "name": "stdout",
     "output_type": "stream",
     "text": [
      "\tHello everyone!\n"
     ]
    }
   ],
   "source": [
    "print(\"\\tHello everyone!\")"
   ]
  },
  {
   "cell_type": "code",
   "execution_count": 12,
   "metadata": {},
   "outputs": [
    {
     "name": "stdout",
     "output_type": "stream",
     "text": [
      "Hello \teveryone!\n"
     ]
    }
   ],
   "source": [
    "print(\"Hello \\teveryone!\")"
   ]
  },
  {
   "cell_type": "markdown",
   "metadata": {},
   "source": [
    "\" \\n \" 兩個字元可以組成換行字元，電腦會自動跳一行再顯示後面的字串，同樣的，你可以在一個字串中任何地方使用換行"
   ]
  },
  {
   "cell_type": "code",
   "execution_count": 13,
   "metadata": {},
   "outputs": [
    {
     "name": "stdout",
     "output_type": "stream",
     "text": [
      "Hello everyone!\n"
     ]
    }
   ],
   "source": [
    "print(\"Hello everyone!\")"
   ]
  },
  {
   "cell_type": "code",
   "execution_count": 14,
   "metadata": {},
   "outputs": [
    {
     "name": "stdout",
     "output_type": "stream",
     "text": [
      "\n",
      "Hello everyone!\n"
     ]
    }
   ],
   "source": [
    "print(\"\\nHello everyone!\")\n"
   ]
  },
  {
   "cell_type": "code",
   "execution_count": 15,
   "metadata": {},
   "outputs": [
    {
     "name": "stdout",
     "output_type": "stream",
     "text": [
      "Hello \n",
      "everyone!\n"
     ]
    }
   ],
   "source": [
    "print(\"Hello \\neveryone!\")"
   ]
  },
  {
   "cell_type": "code",
   "execution_count": 17,
   "metadata": {},
   "outputs": [
    {
     "name": "stdout",
     "output_type": "stream",
     "text": [
      "\n",
      "\n",
      "\n",
      "Hello everyone!\n"
     ]
    }
   ],
   "source": [
    "print(\"\\n\\n\\nHello everyone!\")"
   ]
  },
  {
   "cell_type": "markdown",
   "metadata": {},
   "source": [
    "**你還可以試試以下方式，以空白或是符號填充到字串中**\n"
   ]
  },
  {
   "cell_type": "code",
   "execution_count": 20,
   "metadata": {},
   "outputs": [
    {
     "name": "stdout",
     "output_type": "stream",
     "text": [
      "eric \n",
      " eric\n",
      "eric\n"
     ]
    }
   ],
   "source": [
    "name = ' eric '\n",
    "\n",
    "print(name.lstrip())\n",
    "print(name.rstrip())\n",
    "print(name.strip())"
   ]
  },
  {
   "cell_type": "code",
   "execution_count": 21,
   "metadata": {},
   "outputs": [
    {
     "name": "stdout",
     "output_type": "stream",
     "text": [
      "-eric -\n",
      "- eric-\n",
      "-eric-\n"
     ]
    }
   ],
   "source": [
    "name = ' eric '\n",
    "\n",
    "print('-' + name.lstrip() + '-')\n",
    "print('-' + name.rstrip() + '-')\n",
    "print('-' + name.strip() + '-')"
   ]
  },
  {
   "cell_type": "markdown",
   "metadata": {},
   "source": [
    "### 字串的選取\n",
    "\n",
    "字串可以用[陣列](Lists.ipynb)的方式作選取其中的特定項，以下是範例 :"
   ]
  },
  {
   "cell_type": "code",
   "execution_count": 8,
   "metadata": {},
   "outputs": [
    {
     "name": "stdout",
     "output_type": "stream",
     "text": [
      "s[2] i\n",
      "s[5:10] HUANG\n",
      "s[5:] HUANG is very cool.\n",
      "s[:10] Eric HUANG\n",
      "line1\n",
      "line2\n",
      "line3\n",
      "''''\n",
      "\n"
     ]
    }
   ],
   "source": [
    "# print numbers[2]\n",
    "\n",
    "s = 'Eric HUANG is very cool.'\n",
    "\n",
    "print ('s[2]', s[2])\n",
    "print ('s[5:10]', s[5:10])\n",
    "print ('s[5:]', s[5:])\n",
    "print ('s[:10]', s[:10])\n",
    "\n",
    "lines = \"\"\"line1\n",
    "line2\n",
    "line3\n",
    "''''\n",
    "\"\"\"\n",
    "\n",
    "print (lines)"
   ]
  },
  {
   "cell_type": "markdown",
   "metadata": {},
   "source": [
    "以下是另一個例子，我們用變數 data 儲存一群字串  \n",
    "然後使用字串的split()方法切割字串，我們便可以選取特定的一串字\n"
   ]
  },
  {
   "cell_type": "code",
   "execution_count": 9,
   "metadata": {},
   "outputs": [
    {
     "name": "stdout",
     "output_type": "stream",
     "text": [
      "lines ['pres,humd,temp,24R', '1004.50,0.48,-16.10,0', '']\n",
      "items ['1004.50', '0.48', '-16.10', '0']\n",
      "temp -16.10\n"
     ]
    }
   ],
   "source": [
    "data = \"\"\"pres,humd,temp,24R\n",
    "1004.50,0.48,-16.10,0\n",
    "\"\"\"\n",
    "lines = data.split('\\n')\n",
    "print ('lines', lines)\n",
    "\n",
    "line = lines[1]\n",
    "items = line.split(',')\n",
    "print ('items', items)\n",
    "\n",
    "temp = items[2]\n",
    "print ('temp', temp)\n"
   ]
  },
  {
   "cell_type": "markdown",
   "metadata": {},
   "source": [
    "然後我們可以將其轉成數字，並拿來作判斷"
   ]
  },
  {
   "cell_type": "code",
   "execution_count": 11,
   "metadata": {},
   "outputs": [
    {
     "name": "stdout",
     "output_type": "stream",
     "text": [
      "cold\n"
     ]
    }
   ],
   "source": [
    "temp = float(temp)\n",
    "\n",
    "if temp > 30:\n",
    "    print ('hot')\n",
    "    \n",
    "elif temp > 20:\n",
    "    print ('warm')\n",
    "    \n",
    "elif temp > 10:\n",
    "    print ('cool')\n",
    "    \n",
    "else:\n",
    "    print ('cold')"
   ]
  },
  {
   "cell_type": "markdown",
   "metadata": {},
   "source": [
    "### 資料擷取\n",
    "\n",
    "在網路上有許多開放資料，皆是以文字的形式儲存，我們能夠利用網路爬蟲擷取這些資料，並且處理他們。\n",
    "資料科學的基礎便建立於此，python 是處理資料最好用的語言之一。\n",
    "\n",
    "接下來我們做個小練習，我們利用 [codeskulptor](http://www.codeskulptor.org/) 做一個 ubike 站點地圖。\n",
    "我們需要以下幾個程式庫:\n",
    "+ urllib2\n",
    "+ simplemap\n",
    "\n",
    "以下是 simplemap 中建立地圖，並在地圖中標示記號的範例 : \n",
    "```python\n",
    "import simplemap\n",
    "\n",
    "def click_handler(a_marker):\n",
    "    print 'Clicked on marker', a_marker.get_description()\n",
    "\n",
    "green_icon = 'http://labs.google.com/ridefinder/images/mm_20_green.png'\n",
    "\n",
    "rice = simplemap.create_map('Rice University', (29.716467, -95.404213), 500, 500)\n",
    "rice.add_marker('Wiess College', 'W', green_icon, (29.714967, -95.400694), click_handler)\n",
    "```\n",
    "\n",
    "以下是codeskulptor 中 urllib2的範例 :\n",
    "```python\n",
    "import urllib2\n",
    "import codeskulptor\n",
    "\n",
    "a_file = urllib2.urlopen(codeskulptor.file2url('assets_sample_text.txt'))\n",
    "print a_file.read()\n",
    "```\n",
    "\n",
    "上面的範例使用的是 python2 的語法，若是使用 python3 ，請在print後面加上 \"括號()\" \n",
    "\n",
    "\n",
    "\n",
    "首先我們來個小練習，在 codeskulptor 中用變數data存取以下的資料  \n"
   ]
  },
  {
   "cell_type": "code",
   "execution_count": 5,
   "metadata": {
    "collapsed": true
   },
   "outputs": [],
   "source": [
    "data = u\"\"\"Number;Name;Total;Available;Area;Latitude;Longitude;Address;AreaEn;NameEn;AddressEn\n",
    "70;捷運台北101/世貿站;52;29;信義區;25.032752;121.561645;莊敬路/信義線五段(東南側);Xinyi Dist.;MRT Taipei 101/World Trade Center Sta.;The S.E. side of Zhuangjing Rd. & Sec. 5, Xinyi Rd.\n",
    "1;捷運市政府站(3號出口);180;147;信義區;25.0408578889;121.567904444;忠孝東路/松仁路(東南側);Xinyi Dist.;MRT Taipei City Hall Stataion(Exit 3)-2;The S.W. side of Road Zhongxiao East Road & Road Chung Yan.\n",
    "88;捷運象山站;58;49;信義區;25.032835;121.571274;信義路五段/信義路五段91巷(西北側);Xinyi Dist.;MRT Xiangshan Sta.;The N.W. side of Sec. 5, Xinyi Rd. & Ln. 91, Sec. 5, Xinyi Rd.\n",
    "138;捷運永春站(2號出口);30;2;信義區;25.040558;121.575372;忠孝東路五段420號旁(東側巷道上);Xinyi Dist.;MRT Yongchun Sta. (Exit 2);No.420, Sec. 5, Zhongxiao E. Rd.\n",
    "113;仁愛逸仙路口;38;6;信義區;25.037724;121.561178;仁愛路四段/逸仙路(西北側);Xinyi Dist.;Renai & Yixian Intersection;Sec. 4, Ren’ai Rd. & Yixian Rd.\n",
    "11;三張犁;66;11;信義區;25.034937;121.55762;光復南路/基隆路一段364巷;Xinyi Dist.;Sanchangli;The S.E. side of Road Guangfu South & Ln. 346, Sec. 1, Keelung Rd.\n",
    "9;松德站;40;2;信義區;25.03159;121.574353;台北市信義區松德路300號;Xinyi Dist.;Songde;No.300, Songde Rd.(32)\"\"\""
   ]
  },
  {
   "cell_type": "markdown",
   "metadata": {},
   "source": [
    "這是ubike網站中站點位置資訊的一部分，如果你把它印出來，會看到這一段文字"
   ]
  },
  {
   "cell_type": "code",
   "execution_count": 6,
   "metadata": {},
   "outputs": [
    {
     "name": "stdout",
     "output_type": "stream",
     "text": [
      "Number;Name;Total;Available;Area;Latitude;Longitude;Address;AreaEn;NameEn;AddressEn\n",
      "70;捷運台北101/世貿站;52;29;信義區;25.032752;121.561645;莊敬路/信義線五段(東南側);Xinyi Dist.;MRT Taipei 101/World Trade Center Sta.;The S.E. side of Zhuangjing Rd. & Sec. 5, Xinyi Rd.\n",
      "1;捷運市政府站(3號出口);180;147;信義區;25.0408578889;121.567904444;忠孝東路/松仁路(東南側);Xinyi Dist.;MRT Taipei City Hall Stataion(Exit 3)-2;The S.W. side of Road Zhongxiao East Road & Road Chung Yan.\n",
      "88;捷運象山站;58;49;信義區;25.032835;121.571274;信義路五段/信義路五段91巷(西北側);Xinyi Dist.;MRT Xiangshan Sta.;The N.W. side of Sec. 5, Xinyi Rd. & Ln. 91, Sec. 5, Xinyi Rd.\n",
      "138;捷運永春站(2號出口);30;2;信義區;25.040558;121.575372;忠孝東路五段420號旁(東側巷道上);Xinyi Dist.;MRT Yongchun Sta. (Exit 2);No.420, Sec. 5, Zhongxiao E. Rd.\n",
      "113;仁愛逸仙路口;38;6;信義區;25.037724;121.561178;仁愛路四段/逸仙路(西北側);Xinyi Dist.;Renai & Yixian Intersection;Sec. 4, Ren’ai Rd. & Yixian Rd.\n",
      "11;三張犁;66;11;信義區;25.034937;121.55762;光復南路/基隆路一段364巷;Xinyi Dist.;Sanchangli;The S.E. side of Road Guangfu South & Ln. 346, Sec. 1, Keelung Rd.\n",
      "9;松德站;40;2;信義區;25.03159;121.574353;台北市信義區松德路300號;Xinyi Dist.;Songde;No.300, Songde Rd.(32)\n"
     ]
    }
   ],
   "source": [
    "print(data)"
   ]
  },
  {
   "cell_type": "markdown",
   "metadata": {},
   "source": [
    "接著我們將這整串字分割"
   ]
  },
  {
   "cell_type": "code",
   "execution_count": 7,
   "metadata": {},
   "outputs": [
    {
     "name": "stdout",
     "output_type": "stream",
     "text": [
      "lines ['Number;Name;Total;Available;Area;Latitude;Longitude;Address;AreaEn;NameEn;AddressEn', '70;捷運台北101/世貿站;52;29;信義區;25.032752;121.561645;莊敬路/信義線五段(東南側);Xinyi Dist.;MRT Taipei 101/World Trade Center Sta.;The S.E. side of Zhuangjing Rd. & Sec. 5, Xinyi Rd.', '1;捷運市政府站(3號出口);180;147;信義區;25.0408578889;121.567904444;忠孝東路/松仁路(東南側);Xinyi Dist.;MRT Taipei City Hall Stataion(Exit 3)-2;The S.W. side of Road Zhongxiao East Road & Road Chung Yan.', '88;捷運象山站;58;49;信義區;25.032835;121.571274;信義路五段/信義路五段91巷(西北側);Xinyi Dist.;MRT Xiangshan Sta.;The N.W. side of Sec. 5, Xinyi Rd. & Ln. 91, Sec. 5, Xinyi Rd.', '138;捷運永春站(2號出口);30;2;信義區;25.040558;121.575372;忠孝東路五段420號旁(東側巷道上);Xinyi Dist.;MRT Yongchun Sta. (Exit 2);No.420, Sec. 5, Zhongxiao E. Rd.', '113;仁愛逸仙路口;38;6;信義區;25.037724;121.561178;仁愛路四段/逸仙路(西北側);Xinyi Dist.;Renai & Yixian Intersection;Sec. 4, Ren’ai Rd. & Yixian Rd.', '11;三張犁;66;11;信義區;25.034937;121.55762;光復南路/基隆路一段364巷;Xinyi Dist.;Sanchangli;The S.E. side of Road Guangfu South & Ln. 346, Sec. 1, Keelung Rd.', '9;松德站;40;2;信義區;25.03159;121.574353;台北市信義區松德路300號;Xinyi Dist.;Songde;No.300, Songde Rd.(32)']\n"
     ]
    }
   ],
   "source": [
    "lines = data.split('\\n')\n",
    "print ('lines', lines)"
   ]
  },
  {
   "cell_type": "markdown",
   "metadata": {},
   "source": [
    "你會發現 lines 是一個陣列(清單)，每一個項目都是上面字串中的其中一行\n",
    "\n",
    "接著我們用for迴圈，對清單中的每一行再切割，然後將其中的項目印出來"
   ]
  },
  {
   "cell_type": "code",
   "execution_count": 8,
   "metadata": {},
   "outputs": [
    {
     "name": "stdout",
     "output_type": "stream",
     "text": [
      "8\n",
      "Latitude Longitude\n",
      "25.032752 121.561645\n",
      "25.0408578889 121.567904444\n",
      "25.032835 121.571274\n",
      "25.040558 121.575372\n",
      "25.037724 121.561178\n",
      "25.034937 121.55762\n",
      "25.03159 121.574353\n"
     ]
    }
   ],
   "source": [
    "\n",
    "print (len(lines))\n",
    "\n",
    "for line in lines:\n",
    "    items = line.split(';')\n",
    "    \n",
    "    lng = items[5]\n",
    "    lat = items[6]\n",
    "    print (lng, lat)"
   ]
  },
  {
   "cell_type": "markdown",
   "metadata": {},
   "source": [
    "上面的例子印出了每一個站點的經緯度  \n",
    "仔細觀察選取資料的方式\n",
    "\n",
    "### TODO\n",
    "\n",
    "**請你模仿上面的方法，這次把每個站點的名字、號碼以及經緯度印出來**\n"
   ]
  },
  {
   "cell_type": "code",
   "execution_count": 22,
   "metadata": {
    "collapsed": true
   },
   "outputs": [],
   "source": [
    "#在這裡練習\n",
    "\n"
   ]
  },
  {
   "cell_type": "markdown",
   "metadata": {},
   "source": [
    "你的結果看起來應該會像這樣 : \n",
    "```\n",
    "8\n",
    "Name Number Latitude Longitude\n",
    "捷運台北101/世貿站 70 25.032752 121.561645\n",
    "捷運市政府站(3號出口) 1 25.0408578889 121.567904444\n",
    "捷運象山站 88 25.032835 121.571274\n",
    "捷運永春站(2號出口) 138 25.040558 121.575372\n",
    "仁愛逸仙路口 113 25.037724 121.561178\n",
    "三張犁 11 25.034937 121.55762\n",
    "松德站 9 25.03159 121.574353\n",
    "```\n",
    "\n",
    "接下來我們要使用 urllib2 直接從網路上存取ubike的資料\n",
    "```python\n",
    "import urllib2\n",
    "\n",
    "data = urllib2.urlopen(\"http://erichuang2013.github.io/Youbike.csv\")\n",
    "\n",
    "lines = data.read().split('\\n')\n",
    "print(lines)\n",
    "\n",
    "```"
   ]
  },
  {
   "cell_type": "markdown",
   "metadata": {},
   "source": [
    "### TODO\n",
    "\n",
    "**請你在 [codeskulptor](http://www.codeskulptor.org/) 中利用 urllib2 的功能，印出跟前一個練習一樣的結果  \n",
    "你的輸出應該要長這樣 :**\n",
    "```html\n",
    "8\n",
    "Name Number Latitude Longitude\n",
    "捷運台北101/世貿站 70 25.032752 121.561645\n",
    "捷運市政府站(3號出口) 1 25.0408578889 121.567904444\n",
    "捷運象山站 88 25.032835 121.571274\n",
    "捷運永春站(2號出口) 138 25.040558 121.575372\n",
    "仁愛逸仙路口 113 25.037724 121.561178\n",
    "三張犁 11 25.034937 121.55762\n",
    "松德站 9 25.03159 121.574353\n",
    "```"
   ]
  },
  {
   "cell_type": "markdown",
   "metadata": {},
   "source": [
    "接下來我們要利用 simplemap 的方法在地圖中標示站點位置，以下的程式你可以在codeskulptor中試試看 :\n"
   ]
  },
  {
   "cell_type": "code",
   "execution_count": null,
   "metadata": {
    "collapsed": true
   },
   "outputs": [],
   "source": [
    "#在 codeskulptor 中執行\n",
    "\n",
    "import simplemap\n",
    "import urllib2\n",
    "\n",
    "#定義獲取資料的方法\n",
    "def get_youbike_data():               \n",
    "    url = 'http://erichuang2013.github.io/Youbike.csv'\n",
    "    a_file = urllib2.urlopen(url)\n",
    "    wdata =  a_file.read()\n",
    "    return wdata\n",
    "\n",
    "#定義處理點擊事件的方法\n",
    "def click_handler(a_marker):\n",
    "    print 'Clicked on marker', a_marker.get_description()\n",
    "    \n",
    "#建立simplemap\n",
    "green_icon = 'http://taipei.youbike.com.tw/cht/images/map/icon_nomo.png'\n",
    "gmap = simplemap.create_map('youbike', (25.032752, 121.561645), 700, 700)\n",
    " \n",
    "#實際執行程式    \n",
    "data = get_youbike_data() #資料存到變數 data 中\n",
    "lines = data.split('\\n')  #將每個站點的資料分割\n",
    "print 'lines', lines\n",
    "print len(lines)\n",
    "\n",
    "for line in lines[1:]:\n",
    "    items = line.split(';')  #將每個站點的各參數分割\n",
    "    name = items[1]        #站點名稱\n",
    "    no = items[2]          #站點號碼\n",
    "    lng = float(items[5])  #站點經度\n",
    "    lat = float(items[6])  #站點緯度\n",
    "    #print name, no, lng, lat       \n",
    "    gmap.add_marker(name, 'W', green_icon, (lng, lat), click_handler)  #加入標記\n",
    " "
   ]
  },
  {
   "cell_type": "markdown",
   "metadata": {},
   "source": [
    "我們利用urllib2獲得youbike的資料，並且利用simplemap建立一個地圖，並將站點的經緯度傳入，建立標記(mark)，然後將標記的圖示換成youbike官方的圖樣"
   ]
  },
  {
   "cell_type": "markdown",
   "metadata": {},
   "source": [
    "# 數字\n",
    "---\n",
    "\n",
    "數字分為 **整數(integer)** , **浮點數(float)**\n",
    "\n",
    "整數可以如下的操作"
   ]
  },
  {
   "cell_type": "code",
   "execution_count": 24,
   "metadata": {},
   "outputs": [
    {
     "name": "stdout",
     "output_type": "stream",
     "text": [
      "5\n",
      "1\n",
      "6\n",
      "1.5\n",
      "9\n"
     ]
    }
   ],
   "source": [
    "print(3 + 2)\n",
    "print(3 - 2)\n",
    "print(3 * 2)\n",
    "print(3 / 2)\n",
    "print(3 ** 2)"
   ]
  },
  {
   "cell_type": "markdown",
   "metadata": {},
   "source": [
    "**注意第五個例子是 3 的 2 次方的意思**"
   ]
  },
  {
   "cell_type": "markdown",
   "metadata": {},
   "source": [
    "**浮點數**同樣可以做加減乘除\n",
    "\n",
    "需要注意的是浮點數會有位數限制，因此會有四捨五入的問題"
   ]
  },
  {
   "cell_type": "code",
   "execution_count": 26,
   "metadata": {},
   "outputs": [
    {
     "name": "stdout",
     "output_type": "stream",
     "text": [
      "5.3\n",
      "0.5\n",
      "6.8\n",
      "1.65\n",
      "11.559999999999999\n"
     ]
    }
   ],
   "source": [
    "print(3.3 + 2)\n",
    "print(3 - 2.5)\n",
    "print(3.4 * 2)\n",
    "print(3.3 / 2)\n",
    "print(3.4 ** 2)"
   ]
  },
  {
   "cell_type": "markdown",
   "metadata": {},
   "source": [
    "也會出現如下的誤差"
   ]
  },
  {
   "cell_type": "code",
   "execution_count": 1,
   "metadata": {},
   "outputs": [
    {
     "name": "stdout",
     "output_type": "stream",
     "text": [
      "0.30000000000000004\n"
     ]
    }
   ],
   "source": [
    "print(3 * 0.1)"
   ]
  },
  {
   "cell_type": "markdown",
   "metadata": {},
   "source": [
    "# operator(運算子)\n",
    "---"
   ]
  },
  {
   "cell_type": "markdown",
   "metadata": {},
   "source": [
    "**以下是一些例子，示範 python 中 + - * / 符號的運用**"
   ]
  },
  {
   "cell_type": "code",
   "execution_count": 19,
   "metadata": {},
   "outputs": [
    {
     "name": "stdout",
     "output_type": "stream",
     "text": [
      "23.0\n",
      "17.0\n",
      "60.0\n",
      "6.666666666666667\n"
     ]
    }
   ],
   "source": [
    "number = 20.0\n",
    "number2 = 3\n",
    "\n",
    "print (number + number2)\n",
    "print (number - number2)\n",
    "print (number * number2)\n",
    "print (number / number2)\n"
   ]
  },
  {
   "cell_type": "markdown",
   "metadata": {},
   "source": [
    "**在 python 中， 對一個變數的值做運算時有一些簡寫的方式**\n",
    "\n",
    "**例如: **\n",
    "**我們會把 `a = a+1 ` 寫成 `a += 1 ` **\n",
    "\n",
    "**以下是一些例子**"
   ]
  },
  {
   "cell_type": "code",
   "execution_count": 4,
   "metadata": {},
   "outputs": [
    {
     "name": "stdout",
     "output_type": "stream",
     "text": [
      "a: 6\n"
     ]
    }
   ],
   "source": [
    "a = 9\n",
    "a -= 3\n",
    "print ('a:',a)\n"
   ]
  },
  {
   "cell_type": "code",
   "execution_count": 1,
   "metadata": {},
   "outputs": [
    {
     "name": "stdout",
     "output_type": "stream",
     "text": [
      "a: 27\n"
     ]
    }
   ],
   "source": [
    "a = 9\n",
    "a *= 3\n",
    "print ('a:',a)"
   ]
  },
  {
   "cell_type": "code",
   "execution_count": 2,
   "metadata": {},
   "outputs": [
    {
     "name": "stdout",
     "output_type": "stream",
     "text": [
      "a: 3.0\n"
     ]
    }
   ],
   "source": [
    "a = 9\n",
    "a /= 3\n",
    "print ('a:',a)"
   ]
  },
  {
   "cell_type": "code",
   "execution_count": 3,
   "metadata": {},
   "outputs": [
    {
     "name": "stdout",
     "output_type": "stream",
     "text": [
      "3.3333333333333335\n",
      "1\n"
     ]
    }
   ],
   "source": [
    "n = 10\n",
    "print (10/3)\n",
    "print (10%3) #餘數, mod"
   ]
  },
  {
   "cell_type": "markdown",
   "metadata": {},
   "source": [
    "### TODO\n",
    "\n",
    "**請練習使用 += , -= , *= , /= **"
   ]
  },
  {
   "cell_type": "code",
   "execution_count": 21,
   "metadata": {},
   "outputs": [
    {
     "name": "stdout",
     "output_type": "stream",
     "text": [
      "31\n"
     ]
    }
   ],
   "source": [
    "#在這裡寫程式\n",
    "\n",
    "number = 28\n",
    "number += 3\n",
    "print(number)\n",
    "\n",
    "#請練習其他三個\n"
   ]
  },
  {
   "cell_type": "markdown",
   "metadata": {
    "collapsed": true
   },
   "source": [
    "**_注意_**，若要比對兩變數是否相等，要用 **_==_** 而不是 **_=_** \n",
    "\n",
    "例如以下例子\n",
    "\n",
    "a == b 是比對 a 跟 b 是否相等，因為 15 不等於 10，所以輸出是 False"
   ]
  },
  {
   "cell_type": "code",
   "execution_count": 5,
   "metadata": {},
   "outputs": [
    {
     "data": {
      "text/plain": [
       "False"
      ]
     },
     "execution_count": 5,
     "metadata": {},
     "output_type": "execute_result"
    }
   ],
   "source": [
    "a = 10\n",
    "b = 15\n",
    "\n",
    "a == b"
   ]
  },
  {
   "cell_type": "markdown",
   "metadata": {},
   "source": [
    "# bool(布林值)\n",
    "---\n",
    "我們在比對數字的時候，除了 == 之外還有另外幾個常用到的符號\n",
    "\n",
    "'>', '<', '>=', '<=' \n",
    "\n",
    "如果他們判斷成立則會回傳 'True'\n",
    "不成立則會回傳 'False'\n",
    "\n",
    "True 與 False 就是所謂的布林值，**注意他們的頭一個字母是大寫**\n",
    "\n",
    "以下是一些例子"
   ]
  },
  {
   "cell_type": "code",
   "execution_count": 6,
   "metadata": {},
   "outputs": [
    {
     "name": "stdout",
     "output_type": "stream",
     "text": [
      "False\n"
     ]
    }
   ],
   "source": [
    "print(3 > 5) #False"
   ]
  },
  {
   "cell_type": "code",
   "execution_count": 7,
   "metadata": {},
   "outputs": [
    {
     "name": "stdout",
     "output_type": "stream",
     "text": [
      "True\n"
     ]
    }
   ],
   "source": [
    "print(3 < 5) #True\n"
   ]
  },
  {
   "cell_type": "code",
   "execution_count": 8,
   "metadata": {},
   "outputs": [
    {
     "name": "stdout",
     "output_type": "stream",
     "text": [
      "False\n",
      "True\n",
      "False\n",
      "True\n"
     ]
    }
   ],
   "source": [
    "a=18\n",
    "b=30\n",
    "print(a > b) #False\n",
    "print(a < b) #True\n",
    "print(a >= b) #False\n",
    "print(a <= b) #True"
   ]
  },
  {
   "cell_type": "markdown",
   "metadata": {},
   "source": [
    "# condition (條件式)\n",
    "---\n",
    "配合上面的布林值，我們便可以給予程式條件，限定某些程式在特定條件下才能執行\n",
    "\n",
    "以下是一個簡單的例子:"
   ]
  },
  {
   "cell_type": "code",
   "execution_count": 28,
   "metadata": {},
   "outputs": [
    {
     "name": "stdout",
     "output_type": "stream",
     "text": [
      "number is smaller than number2\n"
     ]
    }
   ],
   "source": [
    "number = 10\n",
    "number2 = 15\n",
    "\n",
    "if number < number2:\n",
    "    print (\"number is smaller than number2\")"
   ]
  },
  {
   "cell_type": "markdown",
   "metadata": {},
   "source": [
    "我們利用 **' if '** 關鍵字來構成條件判斷，後面空白後接條件，記得要冒號\n",
    "\n",
    "底下空四個空白後輸入條件成立下要執行的程式\n",
    "\n",
    "因為 10 < 15， 所以 number < number2 的判斷是 True ，因此冒號下面的 print 就會被執行"
   ]
  },
  {
   "cell_type": "markdown",
   "metadata": {},
   "source": [
    "以下再給一些例子"
   ]
  },
  {
   "cell_type": "code",
   "execution_count": 9,
   "metadata": {},
   "outputs": [
    {
     "name": "stdout",
     "output_type": "stream",
     "text": [
      "grade > 60 True\n"
     ]
    }
   ],
   "source": [
    "grade = 100\n",
    "print ('grade > 60', grade > 60) #True\n",
    "\n"
   ]
  },
  {
   "cell_type": "code",
   "execution_count": 10,
   "metadata": {},
   "outputs": [
    {
     "name": "stdout",
     "output_type": "stream",
     "text": [
      "grade2 > 60 False\n",
      "True\n"
     ]
    }
   ],
   "source": [
    "grade2 = 10\n",
    "print ('grade2 > 60', grade2 > 60) #False\n",
    "\n",
    "print (grade2 <80) #True\n"
   ]
  },
  {
   "cell_type": "code",
   "execution_count": 11,
   "metadata": {},
   "outputs": [
    {
     "name": "stdout",
     "output_type": "stream",
     "text": [
      "True\n",
      "perfect\n",
      "end\n"
     ]
    }
   ],
   "source": [
    "temp = 37\n",
    "print (temp != 30) #True\n",
    "\n",
    "if grade == 100:\n",
    "    print ('perfect') \n",
    "else:\n",
    "    print ('almost')\n",
    "print ('end')"
   ]
  },
  {
   "cell_type": "markdown",
   "metadata": {},
   "source": [
    "上面例子中 有\n",
    "```python\n",
    "if grade == 100:\n",
    "    print ('perfect') \n",
    "else:\n",
    "    print ('almost')\n",
    "```\n",
    "可以發現 else 關鍵字底下的程式會在 if 的條件不成立時執行"
   ]
  },
  {
   "cell_type": "markdown",
   "metadata": {},
   "source": [
    "### TODO\n",
    "\n",
    "請試著利用剛剛學過的 **' if '**，寫一個程式判斷成績\n",
    "\n",
    "六十分以上印出 \" pass \", 不到六十分印出 \" fail \"  "
   ]
  },
  {
   "cell_type": "code",
   "execution_count": null,
   "metadata": {
    "collapsed": true
   },
   "outputs": [],
   "source": [
    "# 在這裡練習\n",
    "\n"
   ]
  },
  {
   "cell_type": "markdown",
   "metadata": {
    "collapsed": true
   },
   "source": [
    "# for loop (迴圈)\n",
    "---\n",
    "\n",
    "迴圈是一個讓程式重複執行的結構，可以讓我們用更少的程式來做重複的動作\n",
    "\n",
    "以下是一個小例子，示範標準for 迴圈的寫法\n"
   ]
  },
  {
   "cell_type": "code",
   "execution_count": 1,
   "metadata": {},
   "outputs": [
    {
     "name": "stdout",
     "output_type": "stream",
     "text": [
      "0\n",
      "1\n",
      "2\n",
      "3\n",
      "4\n",
      "5\n",
      "6\n",
      "7\n",
      "8\n",
      "9\n"
     ]
    }
   ],
   "source": [
    "for i in range(10):\n",
    "    print(i)"
   ]
  },
  {
   "cell_type": "markdown",
   "metadata": {},
   "source": [
    "可以發現這是一個從零開始計數，並且印出來的程式  \n",
    "需要注意的是 **range(10)**  \n",
    "我們可以直接在 python 中把它印出來看看\n"
   ]
  },
  {
   "cell_type": "markdown",
   "metadata": {},
   "source": [
    "如果在本機端的python中打\n",
    "```python\n",
    "print(range(0,4))\n",
    "```\n",
    "那麼會出現 \n",
    "```python\n",
    "[0,1,2,3]\n",
    "```\n",
    "**也就是從 0 到 3 的四個數字**，所以如果想要執行50次，就會是:  \n",
    "```python\n",
    "for i in range(50):\n",
    "    要執行的程式\n",
    "```\n",
    "但須注意range(50)是從 0 開始到 49  \n",
    "而不是1 到 50"
   ]
  },
  {
   "cell_type": "markdown",
   "metadata": {},
   "source": [
    "### TODO  \n",
    "\n",
    "這個練習要結合前面的if else 跟現在學到的for 迴圈  \n",
    "我們要重複執行100次  \n",
    "從0開始到99  \n",
    "每次數一個數時就判斷是奇數還是偶數  \n",
    "是奇數的話就 print 出 \"奇數\"  \n",
    "是偶數的話就print 出 \"偶數\"  \n"
   ]
  },
  {
   "cell_type": "code",
   "execution_count": 7,
   "metadata": {
    "collapsed": true
   },
   "outputs": [],
   "source": [
    "for i in range(100):\n",
    "    ...\n",
    "#請在此練習，取代...的部分"
   ]
  },
  {
   "cell_type": "markdown",
   "metadata": {},
   "source": [
    "# Function(函式)\n",
    "---\n",
    "函式是一連串指令的集合，我們將一串指令結合在一起並給予名稱 你或許已經用過許多 python 內建的函式例如: string.title() 或是 list.sort()之類, python3中的 print() 也是我們最常用到的函式\n",
    "\n",
    "有了函式我們能讓python做更多事\n"
   ]
  },
  {
   "cell_type": "markdown",
   "metadata": {
    "collapsed": true
   },
   "source": [
    "以下是一個常見的函式寫法"
   ]
  },
  {
   "cell_type": "code",
   "execution_count": null,
   "metadata": {
    "collapsed": true
   },
   "outputs": [],
   "source": [
    "# Let's define a function.\n",
    "def function_name(argument_1, argument_2):\n",
    "\t# 寫任何我們想要函式執行的程式在這,\n",
    "\t#  使用參數一 , 參數二\n",
    "\n",
    "# Use function_name to call the function.\n",
    "function_name(value_1, value_2)"
   ]
  },
  {
   "cell_type": "markdown",
   "metadata": {
    "collapsed": true
   },
   "source": [
    "這段程式無法執行，但可以展示函式通常怎麼被使用  \n",
    "+ **定義函式 **\n",
    "  + 使用關鍵字 def  告訴python 你將要 定義(define) 一個函式  \n",
    "  + 給你的函式一個名字，一個變數的名字可以讓你看出這個變數有甚麼用處，同樣的，函式的名字也應該讓你看出它的功用  \n",
    "  + 給予每個函式處理時必須的值名字\n",
    "     + 這些值的名字本身是變數，但只限於函式內使用  \n",
    "     + 他們的名字最好與你程式裡其他的變數名稱不一樣\n",
    "     + 這些函式所必需的值稱為函式的 \" 參數 \"(arguments)\n",
    "     \n",
    "     \n",
    "+ ** 呼叫(使用)函式**  \n",
    "  + 呼叫函式的方式就是寫出它的名字並在後面加上小括號()\n",
    "  + 在小括號裡面，給予函式參數的值\n",
    "    + 這些參數值可以是變數，也可以是實際的值，如整數 5 或字串 'eric'"
   ]
  },
  {
   "cell_type": "markdown",
   "metadata": {},
   "source": [
    "以下是一個例子 :"
   ]
  },
  {
   "cell_type": "code",
   "execution_count": 14,
   "metadata": {},
   "outputs": [
    {
     "name": "stdout",
     "output_type": "stream",
     "text": [
      "\n",
      "你做得很好, Adriana!\n",
      "感謝你為這次計畫付出的努力.\n",
      "\n",
      "你做得很好, Billy!\n",
      "感謝你為這次計畫付出的努力.\n",
      "\n",
      "你做得很好, Caroline!\n",
      "感謝你為這次計畫付出的努力.\n"
     ]
    }
   ],
   "source": [
    "  def thank_you(name):\n",
    "    # 這個函式印出兩行的個人化感謝訊息\n",
    "    print(\"\\n你做得很好, %s!\" % name)\n",
    "    print(\"感謝你為這次計畫付出的努力.\")\n",
    "    \n",
    "thank_you('Adriana')\n",
    "thank_you('Billy')\n",
    "thank_you('Caroline')"
   ]
  },
  {
   "cell_type": "markdown",
   "metadata": {},
   "source": [
    "---\n",
    "函式集合了一段代碼，當你需要使用時，就呼叫它\n",
    "在上面的例子，每一段print的代碼都被執行了三次，只有感謝的人名不一樣，因此當你有一段需要常常被使用到的程式碼，把它寫進函式就是你的好選擇。\n",
    "\n",
    "def 這個關鍵字告訴Python我們要定義一個函數，在這個例子中，我們給予它一個名字，也就是_thank_you()_  \n",
    "\n",
    "在括號中，我們給予函式運算所必需的值，也就是參數。在這個例子中我們需要一個名字，也就是我們感謝的對象。我們利用name 這個變數儲存我們的參數值 \n",
    "\n",
    "呼叫函式時，我們寫出它的名字，加上括號，並在括號中填入參數，在這個例子中，我們呼叫了三次函式，每次給予不同的名字。\n",
    "\n",
    "再給一個例子  \n",
    "這個例子定義一個加法函式，並用 **return** 這個關鍵字 來回傳函式的運算結果"
   ]
  },
  {
   "cell_type": "code",
   "execution_count": 9,
   "metadata": {},
   "outputs": [
    {
     "name": "stdout",
     "output_type": "stream",
     "text": [
      "11\n"
     ]
    }
   ],
   "source": [
    "def add(num1, num2):\n",
    "    return num1 + num2\n",
    "print(add(4,7))"
   ]
  },
  {
   "cell_type": "markdown",
   "metadata": {},
   "source": [
    "我們在 print() 中呼叫 add()  \n",
    "並給予兩個參數 4 跟 7  \n",
    "因此 add() 返回 4 + 7 的結果  \n",
    "於是印出 11\n"
   ]
  },
  {
   "cell_type": "markdown",
   "metadata": {},
   "source": [
    "### 常見錯誤\n",
    "\n",
    "函式必須在你使用前給予定義，因為程式是從上面依序往下執行，所以函式的定義必須放在呼叫的上面  \n",
    "以下是一個錯誤的例子:"
   ]
  },
  {
   "cell_type": "code",
   "execution_count": 2,
   "metadata": {
    "scrolled": true
   },
   "outputs": [
    {
     "ename": "NameError",
     "evalue": "name 'thank_you' is not defined",
     "output_type": "error",
     "traceback": [
      "\u001b[1;31m---------------------------------------------------------------------------\u001b[0m",
      "\u001b[1;31mNameError\u001b[0m                                 Traceback (most recent call last)",
      "\u001b[1;32m<ipython-input-2-ebcfd06ff194>\u001b[0m in \u001b[0;36m<module>\u001b[1;34m()\u001b[0m\n\u001b[1;32m----> 1\u001b[1;33m \u001b[0mthank_you\u001b[0m\u001b[1;33m(\u001b[0m\u001b[1;34m'Adriana'\u001b[0m\u001b[1;33m)\u001b[0m\u001b[1;33m\u001b[0m\u001b[0m\n\u001b[0m\u001b[0;32m      2\u001b[0m \u001b[0mthank_you\u001b[0m\u001b[1;33m(\u001b[0m\u001b[1;34m'Billy'\u001b[0m\u001b[1;33m)\u001b[0m\u001b[1;33m\u001b[0m\u001b[0m\n\u001b[0;32m      3\u001b[0m \u001b[0mthank_you\u001b[0m\u001b[1;33m(\u001b[0m\u001b[1;34m'Caroline'\u001b[0m\u001b[1;33m)\u001b[0m\u001b[1;33m\u001b[0m\u001b[0m\n\u001b[0;32m      4\u001b[0m \u001b[1;33m\u001b[0m\u001b[0m\n\u001b[0;32m      5\u001b[0m \u001b[1;32mdef\u001b[0m \u001b[0mthank_you\u001b[0m\u001b[1;33m(\u001b[0m\u001b[0mname\u001b[0m\u001b[1;33m)\u001b[0m\u001b[1;33m:\u001b[0m\u001b[1;33m\u001b[0m\u001b[0m\n",
      "\u001b[1;31mNameError\u001b[0m: name 'thank_you' is not defined"
     ]
    }
   ],
   "source": [
    "thank_you('Adriana')\n",
    "thank_you('Billy')\n",
    "thank_you('Caroline')\n",
    "\n",
    "def thank_you(name):\n",
    "    # 這個函式印出兩行的個人化感謝訊息\n",
    "    print(\"\\nYou are doing good work, %s!\" % name)\n",
    "    print(\"Thank you very much for your efforts on this project.\")"
   ]
  },
  {
   "cell_type": "markdown",
   "metadata": {
    "collapsed": true
   },
   "source": [
    "### TODO\n",
    "\n",
    "**這個練習希望你定義四個函式，分別為add, sub, mul, div  \n",
    "分別為將兩個參數相加，相減，相乘，相除的功能  \n",
    "並且利用這四個函式算出 3 + 4 * 2 - 6 / 3 + 1 的答案，別忘了先乘除後加減**"
   ]
  },
  {
   "cell_type": "code",
   "execution_count": null,
   "metadata": {
    "collapsed": true
   },
   "outputs": [],
   "source": [
    "def add( arg1, arg2):\n",
    "    #在這裡寫程式\n",
    "    \n",
    "def sub( arg1, arg2):\n",
    "    #在這裡寫程式\n",
    "    \n",
    "    \n",
    "#剩下的請你完成"
   ]
  },
  {
   "cell_type": "markdown",
   "metadata": {
    "collapsed": true
   },
   "source": [
    "## 使用函式的好處\n",
    "\n",
    "+ 我們只寫了一次程式，然後以它為範本，在做重複工作時重複呼叫它，只改變參數，因而省去了我們重複寫一段程式的麻煩。\n",
    "+ 只要我們的函式能作用，我們就不需要再去擔心它。每次你重新寫一段程式碼，你都在增加犯錯的機會。利用函數可以減少你犯錯的機會，並且如果有錯誤，你只需針對一個地方修改就好，修好之後。我們能夠很有信心地說它之後都能夠正常運作。\n",
    "+ 我們能夠針對函式修改它的行為，然後這個修改將在每一次函式被呼叫時作用。這絕對比需要在程式的各個地方做修改要來的方便。"
   ]
  },
  {
   "cell_type": "markdown",
   "metadata": {},
   "source": [
    "這裡我們使用 Python 的繪圖套件 turtle 來展示函式的方便性  \n",
    "在 jupyter 中無法執行turtle，所以你需要將以下的程式複製到你的本機端執行。"
   ]
  },
  {
   "cell_type": "markdown",
   "metadata": {},
   "source": [
    "在 turtle 中我們如果要畫一個四方型，我們需要這樣做:"
   ]
  },
  {
   "cell_type": "markdown",
   "metadata": {},
   "source": [
    "```python\n",
    "import turtle             #在本機端執行\n",
    " \n",
    "screen = turtle.Screen()    \n",
    "eric = turtle.Turtle()    \n",
    "eric.pencolor('red')\n",
    "eric.pensize(2)\n",
    "eric.speed(0)\n",
    "\n",
    "eric.forward(100)\n",
    "eric.left(90)\n",
    "eric.forward(100)\n",
    "eric.left(90)\n",
    "eric.forward(100)\n",
    "eric.left(90)\n",
    "eric.forward(100)\n",
    "eric.left(90)\n",
    "\n",
    "turtle.mainloop()\n",
    "```"
   ]
  },
  {
   "cell_type": "markdown",
   "metadata": {},
   "source": [
    "---\n",
    "可以看到 eric.forward()和eric.left()是一直被重複的，我們用for 迴圈來簡化它:"
   ]
  },
  {
   "cell_type": "markdown",
   "metadata": {},
   "source": [
    "```python\n",
    "import turtle           #在本機端執行 \n",
    " \n",
    "screen = turtle.Screen()    \n",
    "eric = turtle.Turtle()    \n",
    "eric.pencolor('red')\n",
    "eric.pensize(2)\n",
    "eric.speed(0)\n",
    "\n",
    "\n",
    "for i in range(4):\n",
    "    eric.forward(size)\n",
    "    eric.left(90)\n",
    "    \n",
    "\n",
    "turtle.mainloop()      \n",
    "```"
   ]
  },
  {
   "cell_type": "markdown",
   "metadata": {},
   "source": [
    "---\n",
    "然而我們如果要畫很多個方形，我們必須把\n",
    "```python\n",
    "for i in range(4):\n",
    "    eric.forward(size)\n",
    "    eric.left(90)\n",
    "```\n",
    "這段程式不斷重複的寫，這樣會讓我們的程式非常冗長  \n",
    "因此我們定義一個 square()的函式，並且給它一個size的變數，讓它可以自由改變大小\n"
   ]
  },
  {
   "cell_type": "markdown",
   "metadata": {},
   "source": [
    "\n",
    "```python\n",
    "import turtle        #在本機端執行     \n",
    " \n",
    "screen = turtle.Screen()    \n",
    "eric = turtle.Turtle()    \n",
    "eric.pencolor('red')\n",
    "eric.pensize(2)\n",
    "eric.speed(0)\n",
    "\n",
    "def square(size):\n",
    "    for i in range(4):\n",
    "        eric.forward(size)\n",
    "        eric.left(90)\n",
    "    \n",
    "for i in range(30):\n",
    "    square(i*10 + 10)\n",
    "\n",
    "turtle.mainloop()           \n",
    "```"
   ]
  },
  {
   "cell_type": "markdown",
   "metadata": {},
   "source": [
    "---\n",
    "上面這個例子定義了square(size)，我們可以呼叫它來畫出方形，在這裡我們用了一個for 迴圈，每次呼叫時給予不同的size，因此可以畫出三十個不同大小的正方形\n",
    "```python\n",
    "for i in range(30):\n",
    "    square(i*10 + 10)\n",
    "```\n"
   ]
  },
  {
   "cell_type": "markdown",
   "metadata": {},
   "source": [
    "如果我們不只想要畫方形，想要進一步畫各種多邊形，我們可以定義一個polygon()函式，給予兩個參數:邊數與大小，分別命名為 edge和 size"
   ]
  },
  {
   "cell_type": "markdown",
   "metadata": {},
   "source": [
    "```python\n",
    "import turtle       #在本機端執行\n",
    " \n",
    "screen = turtle.Screen()    \n",
    "eric = turtle.Turtle()    \n",
    "eric.pencolor('blue')\n",
    "eric.pensize(2)\n",
    "eric.speed(0)\n",
    "eric.pendown()\n",
    "\n",
    "def polygon(size, edge):\n",
    "    for i in range(edge):\n",
    "        eric.forward(size)\n",
    "        eric.left(360.0/edge)\n",
    "        \n",
    "for i in range(30):\n",
    "    polygon(i*10+10, i+3)\n",
    "```"
   ]
  },
  {
   "cell_type": "markdown",
   "metadata": {},
   "source": [
    "---\n",
    "注意縮排，它們影響了程式的階層。\n",
    "\n",
    "\n",
    "在上面的例子，我們能夠畫出各種不同大小，不同邊數的多邊形 \n",
    "由這個例子，應該不難理解函式的強大之處  \n",
    "如果要畫十個多邊形，我們可能需要上百行程式，但因為使用函式，我們大幅減少了程式的行數"
   ]
  },
  {
   "cell_type": "markdown",
   "metadata": {},
   "source": [
    "### TODO\n",
    "\n",
    "**這個練習請你在本機端進行  \n",
    "利用上面的 polygon() 畫以下幾個圖形 :  **\n",
    "\n",
    "**三角形、五角形、七邊型 十八邊型、25邊形、圓形**"
   ]
  },
  {
   "cell_type": "markdown",
   "metadata": {},
   "source": [
    "---\n",
    "#  GUI\n",
    "---\n",
    "\n",
    "接下來的練習我們使用 [codeskulptor](http://www.codeskulptor.org/) 來練習\n",
    "\n",
    "在 codeskulptor 裡面有一個範例程式\n",
    "\n",
    "```python\n",
    "import simplegui\n",
    "\n",
    "message = \"Welcome!\"\n",
    "\n",
    "# 滑鼠點擊事件處理\n",
    "def click():\n",
    "    global message\n",
    "    message = \"Good job!\"\n",
    "\n",
    "# 畫布繪圖事件處理\n",
    "def draw(canvas):\n",
    "    canvas.draw_text(message, [50,112], 48, \"Red\")\n",
    "\n",
    "# 創建視窗並與事件處理綁定\n",
    "frame = simplegui.create_frame(\"Home\", 300, 200)\n",
    "frame.add_button(\"Click me\", click)\n",
    "frame.set_draw_handler(draw)\n",
    "\n",
    "# 開始視窗動畫\n",
    "frame.start()\n",
    "```\n",
    "---\n",
    "### TODO  \n",
    "\n",
    "試著看懂這個程式，然後完成以下動作:\n",
    "1. 把訊息的字串顏色改成黃色\n",
    "2. 將它的位子置中\n",
    "3. 把背景改成綠色\n",
    "4. 將視窗放大成 500 x 500\n",
    "5. 增加一個按鍵，按下去後會顯示訊息\" hello \"\n",
    "\n",
    "\n",
    "### 練習 \n",
    "\n",
    "接下來一樣在[codeskulptor](http://www.codeskulptor.org/) 中練習  \n",
    "\n",
    "請查閱 [coskuptor 的文件](http://www.codeskulptor.org/docs.html#tabs-Python)，我們來做一個球體動畫\n",
    "\n",
    "在文件中尋找simplegui.load_image()  \n",
    "可以發現以下的範例 :\n",
    "```python\n",
    "import simplegui\n",
    "\n",
    "def draw_handler(canvas):\n",
    "    canvas.draw_image(image, (1521 / 2, 1818 / 2), (1521, 1818), (50, 50), (100, 100))\n",
    "\n",
    "image = simplegui.load_image('http://commondatastorage.googleapis.com/codeskulptor-assets/gutenberg.jpg')\n",
    "\n",
    "frame = simplegui.create_frame('Testing', 100, 100)\n",
    "frame.set_draw_handler(draw_handler)\n",
    "frame.start()\n",
    "```\n",
    "將它貼到空的codeskulptor頁面，然後把圖片改成球  \n",
    "並且把畫面大小改成 500 x 500\n",
    "\n",
    "完成後你會看到 [這樣的結果](http://www.codeskulptor.org/#user43_yw7yTyaRqR_0.py)\n",
    "\n",
    "接下來我們要讓球動起來  \n",
    "找到球的位置，我們將位置的 X 方向變成變數，並設定一個x的速度vx，然後利用for 迴圈讓 X 每次改變 vx 的大小\n",
    "\n",
    "接下來我們做一個反彈的效果，如果 x > (500-球的半徑)，那麼就讓 vx 變成負的，試著改改看，如果做對了會像[這樣](http://www.codeskulptor.org/#user43_Jz3qIiYWAy_0.py)\n",
    "### TODO\n",
    "\n",
    "1. 這個程式只有右邊會反彈，請做出左邊邊界的反彈效果\n",
    "\n",
    "2. 如果橫向完成了，請做出垂直方向的移動與反彈效果，你可以參考橫向的做法。 \n",
    "3. 接下來，請你讓球的速度變成不固定，利用random()可以將變數指定為亂數，詳細請參考[這裡](http://www.codeskulptor.org/docs.html#)\n",
    "4. 如果都成功了，請想辦法做出第二顆球\n"
   ]
  },
  {
   "cell_type": "markdown",
   "metadata": {},
   "source": [
    "讓我們看一下一顆球的程式  \n",
    "\n",
    "```python\n",
    "import simplegui\n",
    "\n",
    "x = 50\n",
    "vx = 3\n",
    "y = 100\n",
    "vy = 2\n",
    "def draw_handler(canvas):\n",
    "    global x, vx, y, vy\n",
    "    \n",
    "    x += vx\n",
    "    y += vy\n",
    "    \n",
    "    if x > 450:\n",
    "        vx = vx * -1\n",
    "    if x < 50:\n",
    "        vx = vx * -1    \n",
    "    if y > 450:\n",
    "        vy = vy * -1\n",
    "    if y < 50:\n",
    "        vy = vy * -1\n",
    "        \n",
    "    canvas.draw_image(image, (500 / 2, 500 / 2), (500, 500), (x, y), (100, 100))\n",
    "\n",
    "url = 'https://img-new.cgtrader.com/items/51193/c89e9eab99/large/soccer-ball-flag-3d-model-low-poly-max-obj-3ds-fbx.png'\n",
    "image = simplegui.load_image(url)\n",
    "\n",
    "frame = simplegui.create_frame('Testing', 500, 500)\n",
    "frame.set_draw_handler(draw_handler)\n",
    "frame.start()\n",
    "```\n",
    "我們可以發現\n",
    "```python\n",
    "canvas.draw_image(image, (500 / 2, 500 / 2), (500, 500), (x, y), (100, 100))```\n",
    "以及\n",
    "```python\n",
    "image = simplegui.load_image(url)\n",
    "``` \n",
    "是影響球的樣子與位置的程式，試著利用他們作出第二顆球  \n",
    "之後我們希望兩顆球的位置與速度是不同的，所以你必須要建立專屬第二顆球的位置、速度變數。  \n",
    "試著做做看\n"
   ]
  },
  {
   "cell_type": "markdown",
   "metadata": {
    "collapsed": true
   },
   "source": [
    "[參考答案](http://www.codeskulptor.org/#user43_Jz3qIiYWAy_6.py)"
   ]
  },
  {
   "cell_type": "markdown",
   "metadata": {},
   "source": [
    "# class and object (類別與物件)\n",
    "\n",
    "在之前我們使用過 Python 的核心資料型態，如字串、整數、浮點數、陣列等等，但是當我們需要更複雜的功能時，便需要自己創造資料型態，這就是這裡要學的 \"類別\" 。類別不同於其他的資料型態，它更加具有彈性，在類別中你可以建立一個模型，並定義屬於它的資訊和行為，而物件(object)則是類別的實體，舉例來說，我們有一張汽車的設計圖，根據這張設計圖可以做出很多台車，類別就像是設計圖，而物件就像是根據設計圖生產的車子。  \n",
    "\n",
    "再舉一個例子，如果你想要在程式中模擬火箭，你會需要知道它的X座標和Y座標。  \n",
    "\n",
    "這裡是一個簡單的火箭例子:"
   ]
  },
  {
   "cell_type": "code",
   "execution_count": 1,
   "metadata": {
    "collapsed": true
   },
   "outputs": [],
   "source": [
    "class Rocket():\n",
    "    # Rocket simulates a rocket ship for a game,\n",
    "    #  or a physics simulation.\n",
    "    \n",
    "    def __init__(self):\n",
    "        # 每支火箭都有自己的 X 和 Y 座標\n",
    "        self.x = 0\n",
    "        self.y = 0"
   ]
  },
  {
   "cell_type": "markdown",
   "metadata": {},
   "source": [
    "在建立火箭的類別時，你需要做的第一件事就是定義**__init__()**方法。  \n",
    "__init__()方法在物件被建立時設定了所有一開始就該被定義的值和參數\n",
    "\n",
    "這個火箭的類別目前有兩個資訊，X 和 Y 座標，但是它沒辦法做任何事，因為我們沒有定義它的 \"行為\" ，在這裡，我們稱其為 \"方法\" (method)   \n",
    "我們定義火箭核心的方法，也就是向上移動，不會動的火箭就沒有用了對吧?  \n",
    "它看起來應該會像下面這樣:"
   ]
  },
  {
   "cell_type": "code",
   "execution_count": 1,
   "metadata": {
    "collapsed": true
   },
   "outputs": [],
   "source": [
    "###highlight=[11,12,13]\n",
    "class Rocket():\n",
    "    # Rocket simulates a rocket ship for a game,\n",
    "    #  or a physics simulation.\n",
    "    \n",
    "    def __init__(self):\n",
    "        # 每支火箭都有自己的 X 和 Y 座標\n",
    "        self.x = 0\n",
    "        self.y = 0\n",
    "        \n",
    "    def move_up(self):\n",
    "        # 增加火箭的 Y 值 \n",
    "        self.y += 1"
   ]
  },
  {
   "cell_type": "markdown",
   "metadata": {},
   "source": [
    "火箭的類別被定義出來了，並且儲存了它的資訊，還有一個移動的方法。然而火箭並沒有真正被創造出來，畢竟我們只是畫好了設計圖。\n",
    "這是如何創造火箭實體的方法 :\n"
   ]
  },
  {
   "cell_type": "code",
   "execution_count": 4,
   "metadata": {},
   "outputs": [
    {
     "name": "stdout",
     "output_type": "stream",
     "text": [
      "<__main__.Rocket object at 0x05FD12B0>\n"
     ]
    }
   ],
   "source": [
    "\n",
    "# 創造火箭的實體\n",
    "my_rocket = Rocket()\n",
    "print(my_rocket)"
   ]
  },
  {
   "cell_type": "markdown",
   "metadata": {},
   "source": [
    "為了實際運用火箭的實體，我們建立一個變數 **my_rocket**來儲存火箭的物件。所以現在 my_rocket 就是一個火箭的物件。  \n",
    "你可以看到上面例子的輸出，表示 my_rocket 是__main__程式檔裡面的 Rocket 物件，儲存在記憶體中的特定位置\n",
    "my_rocket 會擁有所有 Rocket 類別的資料以及方法，就像車子的設計圖如果有輪胎，造出來的車子就該有輪胎，設計圖設計車子能跑到100公里/hr，實際造出來的車子就應該有這種性能。  \n",
    "\n",
    "當你有了類別後，你便可以用它創造物件，然後使用物件的方法。下面的例子示範如何使用火箭的方法，讓火箭動起來 :"
   ]
  },
  {
   "cell_type": "code",
   "execution_count": 4,
   "metadata": {},
   "outputs": [
    {
     "name": "stdout",
     "output_type": "stream",
     "text": [
      "Rocket altitude: 0\n",
      "Rocket altitude: 1\n",
      "Rocket altitude: 2\n"
     ]
    }
   ],
   "source": [
    "\n",
    "# 建立火箭實體，並讓它動\n",
    "my_rocket = Rocket()\n",
    "print(\"Rocket altitude:\", my_rocket.y)\n",
    "\n",
    "my_rocket.move_up()\n",
    "print(\"Rocket altitude:\", my_rocket.y)\n",
    "\n",
    "my_rocket.move_up()\n",
    "print(\"Rocket altitude:\", my_rocket.y)"
   ]
  },
  {
   "cell_type": "markdown",
   "metadata": {},
   "source": [
    "想要取用物件的值或方法時，我們打出這個物件的名字，然後加上一個 \".\"，再加上所要的值或方法，在上面的例子就是 `my_rocket.y`以及`my_rocket.move_up()`\n",
    "\n",
    "當你有一個被定義好的類別，你就能夠利用它製造無數個物件，就像是有一張設計圖，便能製造許多同樣的汽車。每個物件都有自己獨立的資料與方法，一個物件被改變了不會影響其他的物件。\n",
    "\n",
    "下面的例子我們製造多一點的火箭 :"
   ]
  },
  {
   "cell_type": "code",
   "execution_count": 5,
   "metadata": {},
   "outputs": [
    {
     "name": "stdout",
     "output_type": "stream",
     "text": [
      "<__main__.Rocket object at 0x0587B9F0>\n",
      "<__main__.Rocket object at 0x0587B990>\n",
      "<__main__.Rocket object at 0x0587B9B0>\n",
      "<__main__.Rocket object at 0x0587B9D0>\n",
      "<__main__.Rocket object at 0x0587BA10>\n"
     ]
    }
   ],
   "source": [
    "###highlight=[15,16,17,18,19,20,21,22,23]\n",
    "class Rocket():\n",
    "    # Rocket simulates a rocket ship for a game,\n",
    "    #  or a physics simulation.\n",
    "    \n",
    "    def __init__(self):\n",
    "        # Each rocket has an (x,y) position.\n",
    "        self.x = 0\n",
    "        self.y = 0\n",
    "        \n",
    "    def move_up(self):\n",
    "        # Increment the y-position of the rocket.\n",
    "        self.y += 1\n",
    "        \n",
    "# Create a fleet of 5 rockets, and store them in a list.\n",
    "my_rockets = []\n",
    "for x in range(0,5):\n",
    "    new_rocket = Rocket()\n",
    "    my_rockets.append(new_rocket)\n",
    "\n",
    "# Show that each rocket is a separate object.\n",
    "for rocket in my_rockets:\n",
    "    print(rocket)"
   ]
  },
  {
   "cell_type": "markdown",
   "metadata": {},
   "source": [
    "你可以發現每個火箭物件都被存在不同的記憶體位置。\n",
    "利用 list ， 我們可以用更簡單的方式建立許多火箭。"
   ]
  },
  {
   "cell_type": "code",
   "execution_count": 6,
   "metadata": {},
   "outputs": [
    {
     "name": "stdout",
     "output_type": "stream",
     "text": [
      "<__main__.Rocket object at 0x05864870>\n",
      "<__main__.Rocket object at 0x058648B0>\n",
      "<__main__.Rocket object at 0x058649D0>\n",
      "<__main__.Rocket object at 0x05864F10>\n",
      "<__main__.Rocket object at 0x05864E30>\n"
     ]
    }
   ],
   "source": [
    "###highlight=[16]\n",
    "class Rocket():\n",
    "    # Rocket simulates a rocket ship for a game,\n",
    "    #  or a physics simulation.\n",
    "    \n",
    "    def __init__(self):\n",
    "        # Each rocket has an (x,y) position.\n",
    "        self.x = 0\n",
    "        self.y = 0\n",
    "        \n",
    "    def move_up(self):\n",
    "        # Increment the y-position of the rocket.\n",
    "        self.y += 1\n",
    "        \n",
    "# Create a fleet of 5 rockets, and store them in a list.\n",
    "my_rockets = [Rocket() for x in range(0,5)]\n",
    "\n",
    "# Show that each rocket is a separate object.\n",
    "for rocket in my_rockets:\n",
    "    print(rocket)"
   ]
  },
  {
   "cell_type": "markdown",
   "metadata": {},
   "source": [
    "下面的例子你可以發現，改變一個物件的值並不會影響其他物件。\n"
   ]
  },
  {
   "cell_type": "code",
   "execution_count": 7,
   "metadata": {},
   "outputs": [
    {
     "name": "stdout",
     "output_type": "stream",
     "text": [
      "Rocket altitude: 1\n",
      "Rocket altitude: 0\n",
      "Rocket altitude: 0\n",
      "Rocket altitude: 0\n",
      "Rocket altitude: 0\n"
     ]
    }
   ],
   "source": [
    "###highlight=[18,19,20,21,22,23]\n",
    "class Rocket():\n",
    "    # Rocket simulates a rocket ship for a game,\n",
    "    #  or a physics simulation.\n",
    "    \n",
    "    def __init__(self):\n",
    "        # Each rocket has an (x,y) position.\n",
    "        self.x = 0\n",
    "        self.y = 0\n",
    "        \n",
    "    def move_up(self):\n",
    "        # Increment the y-position of the rocket.\n",
    "        self.y += 1\n",
    "        \n",
    "# Create a fleet of 5 rockets, and store them in a list.\n",
    "my_rockets = [Rocket() for x in range(0,5)]\n",
    "\n",
    "# Move the first rocket up.\n",
    "my_rockets[0].move_up()\n",
    "\n",
    "# Show that only the first rocket has moved.\n",
    "for rocket in my_rockets:\n",
    "    print(\"Rocket altitude:\", rocket.y)"
   ]
  },
  {
   "cell_type": "markdown",
   "metadata": {},
   "source": [
    "我們利用之前在 [codeskulptor做過的球的程式](http://www.codeskulptor.org/#user43_Jz3qIiYWAy_6.py)來練習看看，請你在codeskulptor練習: \n",
    "\n",
    "修改上面的程式，讓球成為一個類別  \n",
    "底下是球的類別的範例，注意，這只是一部分程式，直接貼上是無法有功能的\n",
    "\n",
    "```python\n",
    "url = 'https://img-new.cgtrader.com/items/51193/c89e9eab99/large/soccer-ball-flag-3d-model-low-poly-max-obj-3ds-fbx.png'\n",
    "image = simplegui.load_image(url)\n",
    "\n",
    "class Ball():       #在 codeskulptor 中練習\n",
    "    \n",
    "    def __init__(self):\n",
    "        self.x = random.randint(50, 450)\n",
    "        self.vx = random.randint(-5, 5)\n",
    "        self.y = random.randint(50, 450)\n",
    "        self.vy = random.randint(-5, 5)\n",
    "        self.image=image\n",
    "        \n",
    "    def move(self):\n",
    "        self.x += self.vx\n",
    "        self.y += self.vy\n",
    "        \n",
    "        if self.x > 450 or self.x < 50:\n",
    "            self.vx = self.vx * -1   \n",
    "            \n",
    "        if self.y > 450 or self.y < 50:\n",
    "            self.vy = self.vy * -1\n",
    "\n",
    "```"
   ]
  },
  {
   "cell_type": "markdown",
   "metadata": {},
   "source": [
    "### TODO\n",
    "\n",
    "**請你在codeskulptor中練習，定義ball類別，並且建立至少五個ball物件，讓畫面上出現五顆彈跳的球，效果可以參考[這裡](http://www.codeskulptor.org/#user43_Jz3qIiYWAy_6.py)**\n",
    "\n",
    "\n",
    "上面的練習需要用到類別的定義，物件的建立，for迴圈以及陣列，試著做做看"
   ]
  },
  {
   "cell_type": "markdown",
   "metadata": {
    "collapsed": true
   },
   "source": [
    "# 小遊戲\n",
    "\n",
    "我們利用 codeskulptor 提供的 simplegui 以及學過的語法，做一個簡單的小遊戲。\n",
    "\n",
    "首先打開codeskulptor新建一個檔案，然後將視窗改成 500x500，並且將背景切割成四等分，每一分顏色不一樣  \n",
    "你可以利用canvas.draw_polygon()函式切割畫面，相關說明在[文件中](http://www.codeskulptor.org/docs.html)\n",
    "\n",
    "你的畫面應該會長這樣 : \n",
    "\n",
    "![Imgur](http://i.imgur.com/QV4RuLRm.png )\n",
    "\n",
    "接下來我們加上一個按鍵功能，當按下空白鍵時，讓畫面裡的四塊方塊隨機出現一塊\n",
    "這裡會需要 random 函式庫 與 key_handler()  \n",
    "相關說明一樣能在文件中找到\n",
    "\n",
    "接下來畫一條直線，你可以在文件中找到 canvas.draw_line()函式\n",
    "你的畫面應該長這樣 : \n",
    "\n",
    "![Imgur](http://imgur.com/hApIur8m.png )\n",
    "\n",
    "\n",
    "這裡是[範例](http://www.codeskulptor.org/#user43_5AJJ6oMpyz_2.py)\n",
    "\n"
   ]
  },
  {
   "cell_type": "markdown",
   "metadata": {
    "collapsed": true
   },
   "source": [
    "接下來我們需要讓我們的指針(也就是剛剛畫的線)動起來\n",
    "檢視一下文件中的格式 :  \n",
    "canvas.draw_line(point1, point2, line_width, line_color)\n",
    "以及實例 :  \n",
    "canvas.draw_line((10, 20), (30, 40), 12, 'Red')\n",
    "\n",
    "我們可以發現我們把 point1 的座標設為畫面中心點，point2 的座標設為變數，指針就會隨著變數改變指向\n",
    "\n",
    "我們希望指針繞著圓轉，所以必須引入[三角函數](https://zh.wikipedia.org/wiki/%E4%B8%89%E8%A7%92%E5%87%BD%E6%95%B0)，在 python 中，我們使用 math 函式庫，所以記得要 import math ， 在這個遊戲中目前我們有三個引入的函式庫\n",
    "```python\n",
    "import simplegui\n",
    "import random\n",
    "import math\n",
    "```\n",
    "接下來我們定義 get_x 與 get_y 方法，取得指針的 point2 位置\n",
    "\n",
    "```python\n",
    "def get_x():\n",
    "    rad = deg / 360.0 * 2 * math.pi\n",
    "    return 250 + 250* math.cos(rad)\n",
    "\n",
    "def get_y():\n",
    "    rad = deg / 360.0 * 2 * math.pi\n",
    "    return 250 + 250* math.sin(rad) \n",
    "```\n",
    "然後將draw_line的point2改為get_x 和get_y\n",
    "```python\n",
    "    canvas.draw_line((250, 250), (get_x(), get_y()), 10, 'Yellow')\n",
    "```\n",
    "\n",
    "path.pi 是 math 內建的圓周率常數，deg是一個控制角度的變數\n",
    "\n",
    "draw_handler()是一個simplegui更新畫面的方法，會不斷迴圈執行裡面的畫面，在draw_handler每次執行時會執行以下動作:  \n",
    "```python\n",
    "    v += 0.01  \n",
    "    deg += v  \n",
    "    print ('deg', deg)  \n",
    "    \n",
    "    if q == 0:\n",
    "        canvas.draw_polygon([(0, 0), (0, 250), (250, 250), (250, 0)], 5, '#00ffbf', 'Magenta')\n",
    "    if q == 1:\n",
    "        canvas.draw_polygon([(0, 250), (0, 500), (250, 500), (250, 250)], 5, '#SkyBlue', 'PaleTurquoise')\n",
    "    if q == 2:\n",
    "        canvas.draw_polygon([(250, 250), (250, 500), (500, 500), (500, 250)], 5, 'Blue', 'SandyBrown')  \n",
    "    if q == 3:\n",
    "        canvas.draw_polygon([(250, 0), (250, 250), (500, 250), (500, 0)], 5, 'Blue', '\tSpringGreen') \n",
    "    \n",
    "    # pointer\n",
    "    canvas.draw_line((250, 250), (get_x(), get_y()), 10, 'Yellow')\n",
    "```\n",
    "\n",
    "\n",
    "完整的程式代碼如下 :  \n"
   ]
  },
  {
   "cell_type": "code",
   "execution_count": null,
   "metadata": {
    "collapsed": true
   },
   "outputs": [],
   "source": [
    "#在codeskulptor 中執行\n",
    "\n",
    "import simplegui\n",
    "import random\n",
    "import math\n",
    "\n",
    "q = random.randint(0, 3)\n",
    "deg = 0\n",
    "v = 0.5\n",
    "\n",
    "def get_x():\n",
    "    rad = deg / 360.0 * 2 * math.pi\n",
    "    return 250 + 250* math.cos(rad)\n",
    "\n",
    "def get_y():\n",
    "    rad = deg / 360.0 * 2 * math.pi\n",
    "    return 250 + 250* math.sin(rad) \n",
    "    \n",
    "\n",
    "def draw_handler(canvas):\n",
    "    global deg, v\n",
    "    \n",
    "    v += 0.01\n",
    "    deg += v\n",
    "    print 'deg', deg\n",
    "    \n",
    "    if q == 0:\n",
    "        canvas.draw_polygon([(0, 0), (0, 250), (250, 250), (250, 0)], 5, '#00ffbf', 'Magenta')\n",
    "    if q == 1:\n",
    "        canvas.draw_polygon([(0, 250), (0, 500), (250, 500), (250, 250)], 5, '#SkyBlue', 'PaleTurquoise')\n",
    "    if q == 2:\n",
    "        canvas.draw_polygon([(250, 250), (250, 500), (500, 500), (500, 250)], 5, 'Blue', 'SandyBrown')  \n",
    "    if q == 3:\n",
    "        canvas.draw_polygon([(250, 0), (250, 250), (500, 250), (500, 0)], 5, 'Blue', '\tSpringGreen') \n",
    "    \n",
    "    # pointer\n",
    "    canvas.draw_line((250, 250), (get_x(), get_y()), 10, 'Yellow')\n",
    " \n",
    "def key_handler(key):\n",
    "    global q\n",
    "\n",
    "    if key == 32:\n",
    "        q = random.randint(0, 3)\n",
    "        print ('new q', q)\n",
    "    \n",
    "frame = simplegui.create_frame('Testing', 500, 500)\n",
    "frame.set_draw_handler(draw_handler)\n",
    "frame.set_keydown_handler(key_handler)\n",
    "frame.start()\n"
   ]
  },
  {
   "cell_type": "markdown",
   "metadata": {
    "collapsed": true
   },
   "source": [
    "接下來我們要新增的功能有 :  \n",
    "   + 讓指針越跑越快\n",
    "   + 按下空白鍵時有音效並反轉指針\n",
    "   + 如果在指針沒有指到顏色區塊時按下空白鍵，就算輸了\n",
    "   + 計分\n",
    "   + 重新開始\n"
   ]
  },
  {
   "cell_type": "markdown",
   "metadata": {},
   "source": [
    "### 讓指針越跑越快\n",
    "\n",
    "在上面的範例程式中其實已經有讓指針越跑越快的程式了，也就是 draw_handler() 中的 `v += 0.01`  \n",
    "如果想要在更快一點，只需要改掉0.01就行了\n",
    "\n",
    "### 空白鍵按下有音效並反轉指針\n",
    "\n",
    "codeskulptor 文件中 有關於 load_sound 的範例 :\n",
    "```python\n",
    "import simplegui\n",
    "\n",
    "sound = simplegui.load_sound('http://commondatastorage.googleapis.com/codeskulptor-assets/Epoq-Lepidoptera.ogg')\n",
    "sound.set_volume(0.7)\n",
    "```\n",
    "試著結合進你的程式中  \n",
    "\n",
    "反轉指針方向，我們需要一個變數direction \n",
    "一開始 direction = 1，之後按下空白鍵時，direction會被乘以-1\n",
    "```python\n",
    "def key_handler(key):\n",
    "    global q, direction, score\n",
    "\n",
    "    if key == 32:\n",
    "        print 'q', q, 'get_q_from_deg()', get_q_from_deg(), score\n",
    "        \n",
    "        if q ==  get_q_from_deg():\n",
    "            q = random.randint(0, 3)\n",
    "            direction *= -1   #在這個地方乘以-1\n",
    "            score += 1\n",
    "            sound.play()\n",
    "        else:\n",
    "            print ('DEAD!!!')\n",
    "\n",
    "```\n",
    "### 色塊外按空白鍵\n",
    "\n",
    "要做到這個功能，我們必須能判斷指針的位置與色塊的位置，這可以利用角度做到  \n",
    "\n",
    "我們定義一個函式 :  \n",
    "```python\n",
    "def get_q_from_deg():\n",
    "    d = deg % 360 # 0~360\n",
    "    r = 0\n",
    "    if d > 270:\n",
    "        r = 3\n",
    "    elif d > 180:\n",
    "        r = 0\n",
    "    elif d > 90:\n",
    "        r = 1\n",
    "    else:\n",
    "        r = 2\n",
    "        \n",
    "    return r \n",
    "```\n",
    "我們能夠在每次按空白鍵時呼叫這個函式，取得它的回傳值 r ，然後與色塊的值比對\n",
    "\n",
    "因此在key_handler()的程式也必須修改\n",
    "```python\n",
    "def key_handler(key):\n",
    "    global q, direction, score\n",
    "\n",
    "    if key == 32:\n",
    "        print 'q', q, 'get_q_from_deg()', get_q_from_deg(), score\n",
    "        \n",
    "        # 比對指針有沒有指到色塊\n",
    "        if q ==  get_q_from_deg():    \n",
    "            q = random.randint(0, 3)\n",
    "            direction *= -1\n",
    "            score += 1\n",
    "            sound.play()\n",
    "        else:\n",
    "            print ('DEAD!!!')\n",
    "```\n",
    "這裡我們在死掉時先印出一個 \" DEAD!!! \"，讓我們知道死掉了  \n",
    "之後只要做一點小修改，就能讓程式停下來\n",
    "\n",
    "### 計分\n",
    "\n",
    "定義一個變數 score，一開始設為 0  \n",
    "並且在 key_handler() 中，如果比對的結果正確，就加分\n",
    "```python\n",
    "if q ==  get_q_from_deg():\n",
    "            q = random.randint(0, 3)\n",
    "            direction *= -1\n",
    "            score += 1   #加分\n",
    "            sound.play()\n",
    "        else:\n",
    "            print ('DEAD!!!')\n",
    "```\n",
    "到目前為止的功能，你可以參考 [這個範例](http://www.codeskulptor.org/#user43_5AJJ6oMpyz_11.py)\n",
    "\n",
    "### 死掉時遊戲停止的方法\n",
    "\n",
    "這個部份很簡單，我們只要將key_handler()當中會動的部分(指針反轉、色塊變換)用一個 if 包起來就行了  \n",
    "設定一個變數 game_on，一開始設為 True  \n",
    "以game_on 作為 if 的條件，再把原本 `print ('DEAD')!!!`的地方改為 `game_on = False`就行了\n",
    "\n",
    "另外我們還能在死掉時顯示一個訊息 \"GAME OVER\"，這部分你可以自己試試看\n",
    "\n",
    "### 重新開始\n",
    "\n",
    "只要將所有變數都設為初始值就行了\n",
    "\n",
    "以下是一個範例的完整程式碼"
   ]
  },
  {
   "cell_type": "code",
   "execution_count": null,
   "metadata": {
    "collapsed": true
   },
   "outputs": [],
   "source": [
    "#在 codeskulptor 中執行\n",
    "\n",
    "import simplegui\n",
    "import random\n",
    "import math\n",
    "q = random.randint(0, 3)\n",
    "deg = 0\n",
    "v = 0.5\n",
    "score = 0\n",
    "direction = 1\n",
    "running = True\n",
    "\n",
    "#獲取X座標的方法\n",
    "def get_x():   \n",
    "    rad = deg / 360.0 * 2 * math.pi\n",
    "    return 250 + 250* math.cos(rad)\n",
    "\n",
    "#獲取Y座標的方法\n",
    "def get_y():\n",
    "    rad = deg / 360.0 * 2 * math.pi\n",
    "    return 250 + 250* math.sin(rad)\n",
    "\n",
    "#取得指針指向的方法\n",
    "def get_q_from_deg():\n",
    "    d = deg % 360 # 0~360\n",
    "    r = 0\n",
    "    if d > 270:\n",
    "        r = 3\n",
    "    elif d > 180:\n",
    "        r = 0\n",
    "    elif d > 90:\n",
    "        r = 1\n",
    "    else:\n",
    "        r = 2\n",
    "        \n",
    "    return r \n",
    "\n",
    "    \n",
    "#螢幕更新畫面的方法\n",
    "def draw_handler(canvas):\n",
    "    global deg, v\n",
    "\n",
    "# 決定顯示哪一個色塊 \n",
    "    if q == 0:\n",
    "        canvas.draw_polygon([(0, 0), (0, 250), (250, 250), (250, 0)], 5, 'Blue', 'yellow')\n",
    "    if q == 1:  \n",
    "        canvas.draw_polygon([(0, 250), (0, 500), (250, 500), (250, 250)], 5, 'DarkGoldenRod', 'Chartreuse ')\n",
    "    if q == 2:\n",
    "        canvas.draw_polygon([(250, 250), (250, 500), (500, 500), (500, 250)], 5, 'DarkGrey', 'OrangeRed  ')\n",
    "    if q == 3:\n",
    "        canvas.draw_polygon([(250, 0), (250, 250), (500, 250), (500, 0)], 5, 'DarkMagenta ', 'DarkBlue')\n",
    "\n",
    "#畫指針\n",
    "    canvas.draw_line( (250,250) , (get_x(),get_y()) , 10 , 'white')  \n",
    "# 顯示分數\n",
    "    canvas.draw_text(str(score), [300,112], 100, \"Red\")   \n",
    "\n",
    "# 遊戲運行判斷\n",
    "\n",
    "    if running:\n",
    "        v += 0.005\n",
    "        deg += v * direction\n",
    "    else:\n",
    "        canvas.draw_text('Gameover', [0,250], 100, \"Red\")\n",
    "\n",
    "# 按鍵事件處理        \n",
    "def key_handler(key):\n",
    "    global q ,direction, score, running\n",
    "\n",
    "# 比對按下空白鍵時，指針是否指到色塊    \n",
    "    if key == 32:\n",
    "        if q == get_q_from_deg():\n",
    "            sound.play()\n",
    "            q = random.randint(0, 3)\n",
    "            direction *= -1\n",
    "            score +=1\n",
    "        else:\n",
    "            \n",
    "            running = False\n",
    "            \n",
    "sound = simplegui.load_sound('http://static.thumb.com.tw/paste/IF07DA1.wav') #載入聲音   \n",
    "frame = simplegui.create_frame('Testing', 500, 500) #建立視窗\n",
    "frame.set_draw_handler(draw_handler)   # 啟動處理畫面\n",
    "frame.set_keydown_handler(key_handler) # 啟動按鍵處理\n",
    "\n",
    "frame.start()  "
   ]
  }
 ],
 "metadata": {
  "kernelspec": {
   "display_name": "Python 3",
   "language": "python",
   "name": "python3"
  },
  "language_info": {
   "codemirror_mode": {
    "name": "ipython",
    "version": 3
   },
   "file_extension": ".py",
   "mimetype": "text/x-python",
   "name": "python",
   "nbconvert_exporter": "python",
   "pygments_lexer": "ipython3",
   "version": "3.6.2"
  }
 },
 "nbformat": 4,
 "nbformat_minor": 2
}
