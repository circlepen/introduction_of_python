{
 "cells": [
  {
   "cell_type": "markdown",
   "metadata": {},
   "source": [
    "# hello world (基礎輸出入) \n",
    "---\n",
    "## <font color=\"blue\">1.print 輸出</font>\n",
    "python 的基礎輸出語法相當簡單，只需要一個print。\n",
    "在 python 的一開始，讓 python 輸出 一段文字，使用 **_print_**  \n",
    "在 python2 中，可以使用 **_print X_**  \n",
    "在 python3 中，可以使用 **_print(X)_ **  \n",
    "其中的X代表要印出的東西，X可以是數字、字串、物件或變數等等\n",
    "\n",
    "以下是一個 hello world 的範例  \n",
    "使用python 3  \n",
    "\n",
    "注意如果我們要表示字串，必須用' ' 或是　\" \" 括起來  \n",
    "如果是數字或變數，就不需要  "
   ]
  },
  {
   "cell_type": "code",
   "execution_count": 1,
   "metadata": {},
   "outputs": [
    {
     "name": "stdout",
     "output_type": "stream",
     "text": [
      "hello world\n",
      "17\n"
     ]
    }
   ],
   "source": [
    "# 程式碼 1-1\n",
    "print (\"hello world\")\n",
    "\n",
    "print ( 17 )"
   ]
  },
  {
   "cell_type": "markdown",
   "metadata": {},
   "source": [
    "### <font color=\"red\">練習</font>\n",
    "\n",
    "**請用print() 印出你的名字，注意字串必須用 ' ' 括起來**\n",
    "\n",
    "**另外，# 符號後面的內容會被視為註解，不會被電腦執行，在程式中加上註解會有助於其他人理解你的程式**\n"
   ]
  },
  {
   "cell_type": "code",
   "execution_count": 2,
   "metadata": {},
   "outputs": [
    {
     "name": "stdout",
     "output_type": "stream",
     "text": [
      "\n"
     ]
    }
   ],
   "source": [
    "#練習 1-1\n",
    "#在這裡練習\n",
    "\n",
    "print()\n"
   ]
  },
  {
   "cell_type": "markdown",
   "metadata": {},
   "source": [
    "### <font color=\"red\">練習</font>\n",
    "\n",
    "請用print() 輸出以下的字串:\n",
    "\n",
    "`life is short, you need python`\n"
   ]
  },
  {
   "cell_type": "code",
   "execution_count": 3,
   "metadata": {},
   "outputs": [
    {
     "name": "stdout",
     "output_type": "stream",
     "text": [
      "\n"
     ]
    }
   ],
   "source": [
    "#練習 1-1b\n",
    "#在這裡練習\n",
    "\n",
    "print()\n"
   ]
  },
  {
   "cell_type": "markdown",
   "metadata": {},
   "source": [
    "在print 字串時有幾個小技巧\n",
    "你可以用 * 來重複輸出一樣的字串"
   ]
  },
  {
   "cell_type": "code",
   "execution_count": 3,
   "metadata": {},
   "outputs": [
    {
     "name": "stdout",
     "output_type": "stream",
     "text": [
      "====================\n"
     ]
    }
   ],
   "source": [
    "print(\"=\"*20)   #輸出20個 \" = \""
   ]
  },
  {
   "cell_type": "markdown",
   "metadata": {},
   "source": [
    "你也可以用 '+' 來把兩個字串合在一起，被連結的兩個字串印出時會用空白區隔"
   ]
  },
  {
   "cell_type": "code",
   "execution_count": 5,
   "metadata": {},
   "outputs": [
    {
     "name": "stdout",
     "output_type": "stream",
     "text": [
      "hello Eric\n"
     ]
    }
   ],
   "source": [
    "print('hello ' + 'Eric')"
   ]
  },
  {
   "cell_type": "markdown",
   "metadata": {},
   "source": [
    "## <font color=\"blue\">2. input 輸入</font>\n",
    "\n",
    "python 中的 基礎輸入，可以利用input() 做到，在括號中填入一串字串作為問題，讓使用者輸入，使用者輸入的值會被以字串型態儲存，通常我們以變數來儲存使用者的輸入，變數會在下一章節詳細介紹。以下是一個例子:"
   ]
  },
  {
   "cell_type": "code",
   "execution_count": 4,
   "metadata": {},
   "outputs": [
    {
     "name": "stdout",
     "output_type": "stream",
     "text": [
      "輸入一串字:1223\n",
      "1223\n",
      "<class 'str'>\n"
     ]
    }
   ],
   "source": [
    "#程式碼 1-2\n",
    "a = input(\"輸入一串字:\")  #讀取輸入存到變數 a\n",
    "\n",
    "print(a)   #印出 a 的值\n",
    "print(type(a))  #印出 a 的型態"
   ]
  },
  {
   "cell_type": "markdown",
   "metadata": {},
   "source": [
    "### <font color=\"red\">練習</font>\n",
    "\n",
    "請你寫一個程式，讀取使用者輸入的名字，然後對他說hello，舉個例子，你執行時應該會看到:\n",
    "\n",
    "``` python\n",
    "請輸入你的名字: larry #larry是使用者的輸入\n",
    "\n",
    "hello, larry\n",
    "```\n"
   ]
  },
  {
   "cell_type": "code",
   "execution_count": null,
   "metadata": {
    "collapsed": true
   },
   "outputs": [],
   "source": [
    "#練習 1-2\n",
    "#讀取輸入\n",
    "a = input('請輸入你的名字')\n",
    "\n",
    "#接下來請你完成\n",
    "\n",
    "print()"
   ]
  },
  {
   "cell_type": "markdown",
   "metadata": {
    "collapsed": true
   },
   "source": [
    "### <font color=\"red\">練習</font>\n",
    "\n",
    "寫一個程式，讀取一個整數並印出他的前一個數字\n",
    "\n",
    "例如:\n",
    "輸入 20\n",
    "\n",
    "輸出 19"
   ]
  },
  {
   "cell_type": "code",
   "execution_count": null,
   "metadata": {
    "collapsed": true
   },
   "outputs": [],
   "source": [
    "#練習 1-2b\n",
    "# 讀取一個整數 :\n",
    "a = int(input())\n",
    "\n",
    "#印出值:\n",
    "print(...)\n",
    "\n"
   ]
  },
  {
   "cell_type": "markdown",
   "metadata": {},
   "source": [
    "### <font color=\"red\">練習</font>\n",
    "寫一個程式，讓使用者輸入一串字，並計算輸入的長度，可以用len()函式取得字串的長度\n",
    "\n",
    "例如:\n",
    "```python\n",
    "print(len(\"hello Larry\"))\n",
    "```\n",
    "這會算出\"hello Larry\"這段字的長度，並print出來，要注意的是，空白也會被算做一個字，所以上面的範例會輸出 11"
   ]
  },
  {
   "cell_type": "code",
   "execution_count": null,
   "metadata": {
    "collapsed": true
   },
   "outputs": [],
   "source": [
    "#在這裡練習\n",
    "\n",
    "a = input(\"type something\")\n",
    "\n",
    "print(len())\n"
   ]
  },
  {
   "cell_type": "markdown",
   "metadata": {},
   "source": [
    "## <font color=\"blue\">3. 註解</font>\n",
    "\n",
    "python中有兩種註解形式，一種是單行，一種是多行。\n",
    "+ 單行的註解  \n",
    "利用 # 符號可以將符號後面的字當作註解，電腦不會執行它\n",
    "```python\n",
    "#這是註解，電腦會忽略它\n",
    "這行字就會被當程式執行\n",
    "```\n",
    "\n",
    "+ 多行註解  \n",
    "如果要一次把一整段文字作為註解，可以利用三個雙引號 \"\"\" 開頭，然後再三個 \"\"\" 結尾，在兩組引號中間的字都會被視為註解，不會執行\n",
    "\n",
    "```python\n",
    "\"\"\"\n",
    "這裡面的字會被當註解\n",
    "就算空行也可以\n",
    "繼續換行，還是會被當註解\n",
    "\"\"\"\n",
    "```\n",
    "### <font color=\"red\">練習</font>\n",
    "請在底下練習寫註解，單行與多行各一段"
   ]
  },
  {
   "cell_type": "code",
   "execution_count": 3,
   "metadata": {},
   "outputs": [
    {
     "data": {
      "text/plain": [
       "'\\n多行註解\\n第二行註解\\n第三行註解\\n第四行\\n'"
      ]
     },
     "execution_count": 3,
     "metadata": {},
     "output_type": "execute_result"
    }
   ],
   "source": [
    "#練習 1-3\n",
    "#單行註解\n",
    "\n",
    "\"\"\"\n",
    "多行註解\n",
    "第二行註解\n",
    "第三行註解\n",
    "第四行\n",
    "\"\"\"\n",
    "\n",
    "\n",
    "\n",
    "#你也試試看\n",
    "\n",
    "\n"
   ]
  }
 ],
 "metadata": {
  "kernelspec": {
   "display_name": "Python 3",
   "language": "python",
   "name": "python3"
  },
  "language_info": {
   "codemirror_mode": {
    "name": "ipython",
    "version": 3
   },
   "file_extension": ".py",
   "mimetype": "text/x-python",
   "name": "python",
   "nbconvert_exporter": "python",
   "pygments_lexer": "ipython3",
   "version": "3.6.2"
  }
 },
 "nbformat": 4,
 "nbformat_minor": 2
}
