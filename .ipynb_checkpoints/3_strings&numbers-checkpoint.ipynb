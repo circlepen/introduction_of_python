{
 "cells": [
  {
   "cell_type": "markdown",
   "metadata": {},
   "source": [
    "## <font color=\"blue\">1.字串</font>\n",
    "\n",
    "字串是一串的字元，例如'apple'這個字串是由'a','p','p','l','e'這幾個字元組成。字串比起字元是更好閱讀與理解的。\n",
    "\n",
    "我們可以用以下兩種方式表示字串"
   ]
  },
  {
   "cell_type": "code",
   "execution_count": 1,
   "metadata": {
    "collapsed": true
   },
   "outputs": [],
   "source": [
    "# 程式碼 3-1\n",
    "\n",
    "my_string = \"This is a double-quoted string.\"  # 雙引號\n",
    "my_string = 'This is a single-quoted string.'  # 單引號"
   ]
  },
  {
   "cell_type": "markdown",
   "metadata": {},
   "source": [
    "也可以如下表示"
   ]
  },
  {
   "cell_type": "code",
   "execution_count": 2,
   "metadata": {},
   "outputs": [
    {
     "data": {
      "text/plain": [
       "\"Linus Torvalds once said, 'Any program is only as good as it is useful.'\""
      ]
     },
     "execution_count": 2,
     "metadata": {},
     "output_type": "execute_result"
    }
   ],
   "source": [
    "# 程式碼 3-1.b\n",
    "\n",
    "quote = \"Linus Torvalds once said, 'Any program is only as good as it is useful.'\"\n",
    "quote"
   ]
  },
  {
   "cell_type": "markdown",
   "metadata": {},
   "source": [
    "### <font color=\"red\">練習</font>\n",
    "請你建立一個變數，指定值為字串\"python is fun\"，並且印出來"
   ]
  },
  {
   "cell_type": "code",
   "execution_count": null,
   "metadata": {
    "collapsed": true
   },
   "outputs": [],
   "source": [
    "# 練習 3-1\n",
    "\n",
    "...\n",
    "\n",
    "print()"
   ]
  },
  {
   "cell_type": "markdown",
   "metadata": {},
   "source": [
    "## <font color=\"blue\">2.改變字串大小寫</font>\n",
    "\n",
    "\n",
    "你可以用以下的方式來改變你的字串，你會發現 'eric' 的第一個字母變成了大寫"
   ]
  },
  {
   "cell_type": "code",
   "execution_count": 4,
   "metadata": {},
   "outputs": [
    {
     "name": "stdout",
     "output_type": "stream",
     "text": [
      "eric\n",
      "Eric\n"
     ]
    }
   ],
   "source": [
    "# 程式碼 3-2\n",
    "\n",
    "first_name = 'eric'\n",
    "\n",
    "print(first_name)\n",
    "\n",
    "second_name = first_name.title()\n",
    "print(second_name)"
   ]
  },
  {
   "cell_type": "markdown",
   "metadata": {},
   "source": [
    "一個常見的好習慣是以小寫字串儲存資料，然後再改變他表現出來的大小寫，這樣可以避免錯別字的問題，讓我們不會把 \"Eric\"， \"eric\" 和 \"ERIC\"認成不同人\n",
    "\n",
    "以下是一些常見例子:"
   ]
  },
  {
   "cell_type": "code",
   "execution_count": 8,
   "metadata": {},
   "outputs": [
    {
     "name": "stdout",
     "output_type": "stream",
     "text": [
      "eric\n",
      "Eric\n",
      "ERIC\n",
      "eric\n"
     ]
    }
   ],
   "source": [
    "# 程式碼 3-2.b\n",
    "\n",
    "name = 'eric'  #eric\n",
    "print(name)\n",
    "\n",
    "name2 = name.title() # Eric\n",
    "print(name2)   \n",
    "\n",
    "name3 = name.upper() # ERIC\n",
    "print(name3)\n",
    "\n",
    "name4 = name3.lower()  # eric\n",
    "print(name4)"
   ]
  },
  {
   "cell_type": "markdown",
   "metadata": {},
   "source": [
    "### <font color=\"red\">練習</font>\n",
    "現在有個字串\"TOMMY\"  \n",
    "請把它變成\"Tommy\""
   ]
  },
  {
   "cell_type": "code",
   "execution_count": 9,
   "metadata": {},
   "outputs": [
    {
     "name": "stdout",
     "output_type": "stream",
     "text": [
      "Tommy\n"
     ]
    }
   ],
   "source": [
    "# 練習 3-2\n",
    "\n",
    "name = 'TOMMY'\n",
    "\n",
    "...\n",
    "\n",
    "print(...)"
   ]
  },
  {
   "cell_type": "markdown",
   "metadata": {},
   "source": [
    "## <font color=\"blue\">3.字串的組合</font>\n",
    "\n",
    "我們常常會需要用到字串的組合\n",
    "\n",
    "在python中字串的組合可以很簡單，我們一樣以例子來讓你理解"
   ]
  },
  {
   "cell_type": "code",
   "execution_count": 11,
   "metadata": {
    "scrolled": true
   },
   "outputs": [
    {
     "name": "stdout",
     "output_type": "stream",
     "text": [
      "Ada Lovelacewas considered the world's first computer programmer.\n"
     ]
    }
   ],
   "source": [
    "# 程式碼 3-3\n",
    "\n",
    "first_name = 'ada'\n",
    "last_name = 'lovelace'\n",
    "\n",
    "full_name = first_name + ' ' + last_name  \n",
    "\n",
    "message = full_name.title() + \"was considered the world's first computer programmer.\"\n",
    "print(message)\n"
   ]
  },
  {
   "cell_type": "markdown",
   "metadata": {},
   "source": [
    "加號讓兩個字串合成了一個，這叫做\"級聯\"，你可以用很多個加號把各個字串組成一段文字，事實上，  \n",
    "許多網站都是以巨大的字串組成的字串級聯來寫成\n",
    "\n",
    "### <font color=\"red\">練習</font>\n",
    "請練習將底下兩個字串連在一起，印出\"今天天氣是晴天\""
   ]
  },
  {
   "cell_type": "code",
   "execution_count": 12,
   "metadata": {},
   "outputs": [
    {
     "name": "stdout",
     "output_type": "stream",
     "text": [
      "\n"
     ]
    }
   ],
   "source": [
    "#練習 3-3\n",
    "\n",
    "first = \"今天天氣是\"\n",
    "\n",
    "second = \"晴天\"\n",
    "\n",
    "print()\n"
   ]
  },
  {
   "cell_type": "markdown",
   "metadata": {},
   "source": [
    "## <font color=\"blue\">4.空白字元</font>\n",
    "\n",
    "\"空白字元\"是一個電腦能夠識別但使用者看不見的字元，例如空白鍵、tab鍵以及空行 \n",
    "\n",
    "空白字元很容易使用，你使用它的時間大概和你使用電腦的時間一樣長， tab鍵 和空行 以特殊的字元組合來表示\n",
    "\n",
    "由\"\\t\"組合起來表示 **tab** ， tab可以用在字串中任何你想用的位子"
   ]
  },
  {
   "cell_type": "code",
   "execution_count": 8,
   "metadata": {},
   "outputs": [
    {
     "name": "stdout",
     "output_type": "stream",
     "text": [
      "Hello everyone!\n"
     ]
    }
   ],
   "source": [
    "#程式碼 3-4\n",
    "\n",
    "print(\"Hello everyone!\")"
   ]
  },
  {
   "cell_type": "code",
   "execution_count": 9,
   "metadata": {},
   "outputs": [
    {
     "name": "stdout",
     "output_type": "stream",
     "text": [
      "\tHello everyone!\n"
     ]
    }
   ],
   "source": [
    "#程式碼 3-4.b\n",
    "\n",
    "print(\"\\tHello everyone!\")"
   ]
  },
  {
   "cell_type": "code",
   "execution_count": 10,
   "metadata": {},
   "outputs": [
    {
     "name": "stdout",
     "output_type": "stream",
     "text": [
      "Hello \teveryone!\n"
     ]
    }
   ],
   "source": [
    "#程式碼 3-4.c\n",
    "\n",
    "print(\"Hello \\teveryone!\")"
   ]
  },
  {
   "cell_type": "markdown",
   "metadata": {},
   "source": [
    "\" \\n \" 兩個字元可以組成換行字元，電腦會自動跳一行再顯示後面的字串，同樣的，你可以在一個字串中任何地方使用換行"
   ]
  },
  {
   "cell_type": "code",
   "execution_count": 11,
   "metadata": {},
   "outputs": [
    {
     "name": "stdout",
     "output_type": "stream",
     "text": [
      "Hello everyone!\n"
     ]
    }
   ],
   "source": [
    "#程式碼 3-4.d\n",
    "\n",
    "print(\"Hello everyone!\")"
   ]
  },
  {
   "cell_type": "code",
   "execution_count": 12,
   "metadata": {},
   "outputs": [
    {
     "name": "stdout",
     "output_type": "stream",
     "text": [
      "\n",
      "Hello everyone!\n"
     ]
    }
   ],
   "source": [
    "#程式碼 3-4.e\n",
    "\n",
    "print(\"\\nHello everyone!\")"
   ]
  },
  {
   "cell_type": "code",
   "execution_count": 13,
   "metadata": {},
   "outputs": [
    {
     "name": "stdout",
     "output_type": "stream",
     "text": [
      "Hello \n",
      "everyone!\n"
     ]
    }
   ],
   "source": [
    "#程式碼 3-4.f\n",
    "\n",
    "print(\"Hello \\neveryone!\")"
   ]
  },
  {
   "cell_type": "code",
   "execution_count": 14,
   "metadata": {},
   "outputs": [
    {
     "name": "stdout",
     "output_type": "stream",
     "text": [
      "\n",
      "\n",
      "\n",
      "Hello everyone!\n"
     ]
    }
   ],
   "source": [
    "#程式碼 3-4.g\n",
    "\n",
    "print(\"\\n\\n\\nHello everyone!\")"
   ]
  },
  {
   "cell_type": "markdown",
   "metadata": {},
   "source": [
    "**你還可以試試以下方式，以空白或是符號填充到字串中**"
   ]
  },
  {
   "cell_type": "code",
   "execution_count": 14,
   "metadata": {},
   "outputs": [
    {
     "name": "stdout",
     "output_type": "stream",
     "text": [
      "eric \n",
      " eric\n"
     ]
    }
   ],
   "source": [
    "#程式碼 3-4.h\n",
    "\n",
    "name = ' eric '\n",
    "\n",
    "name2 = name.lstrip()\n",
    "print(name2)\n",
    "\n",
    "name3 = name.rstrip()\n",
    "print(name3)\n",
    "      "
   ]
  },
  {
   "cell_type": "code",
   "execution_count": 17,
   "metadata": {},
   "outputs": [
    {
     "name": "stdout",
     "output_type": "stream",
     "text": [
      "-eric -\n",
      "- eric-\n",
      "-eric-\n"
     ]
    }
   ],
   "source": [
    "#程式碼 3-4.i\n",
    "\n",
    "name = ' eric '\n",
    "\n",
    "print('-' + name.lstrip() + '-')\n",
    "print('-' + name.rstrip() + '-')\n",
    "print('-' + name.strip() + '-')"
   ]
  },
  {
   "cell_type": "markdown",
   "metadata": {},
   "source": [
    "## <font color=\"blue\">5.字串的選取</font>\n",
    "\n",
    "字串可以用[陣列](Lists.ipynb)的方式作選取其中的特定項，以下是範例 :"
   ]
  },
  {
   "cell_type": "code",
   "execution_count": 18,
   "metadata": {},
   "outputs": [
    {
     "name": "stdout",
     "output_type": "stream",
     "text": [
      "s[2]: i\n",
      "s[5:10]: HUANG\n",
      "s[5:]: HUANG is very cool.\n",
      "s[:10]: Eric HUANG\n"
     ]
    }
   ],
   "source": [
    "# 程式碼 3-5\n",
    "\n",
    "s = 'Eric HUANG is very cool.'\n",
    "\n",
    "print ('s[2]:', s[2])\n",
    "print ('s[5:10]:', s[5:10])\n",
    "print ('s[5:]:', s[5:])\n",
    "print ('s[:10]:', s[:10])\n",
    "\n",
    "\n"
   ]
  },
  {
   "cell_type": "markdown",
   "metadata": {},
   "source": [
    "以下是另一個例子，我們用變數 data 儲存一群字串  \n",
    "然後使用字串的split()方法切割字串，我們便可以選取特定的一串字  \n",
    "在分析資料時，這是很有用的方法"
   ]
  },
  {
   "cell_type": "code",
   "execution_count": 21,
   "metadata": {
    "scrolled": true
   },
   "outputs": [
    {
     "name": "stdout",
     "output_type": "stream",
     "text": [
      "lines ['pres,humd,temp,24R', '1004.50,0.48,-16.10,0', '']\n",
      "items ['1004.50', '0.48', '-16.10', '0']\n",
      "temp -16.10\n"
     ]
    }
   ],
   "source": [
    "# 程式碼 3-5.b\n",
    "\n",
    "data = \"\"\"pres,humd,temp,24R\n",
    "1004.50,0.48,-16.10,0\n",
    "\"\"\"\n",
    "lines = data.split('\\n')\n",
    "print ('lines', lines)\n",
    "\n",
    "line = lines[1]\n",
    "items = line.split(',')\n",
    "print ('items', items)\n",
    "\n",
    "temp = items[2]\n",
    "print ('temp', temp)"
   ]
  },
  {
   "cell_type": "markdown",
   "metadata": {},
   "source": [
    "### <font color=\"red\">練習</font>\n",
    "請練習提取以下這個字串的前五個字元\n"
   ]
  },
  {
   "cell_type": "code",
   "execution_count": null,
   "metadata": {
    "collapsed": true
   },
   "outputs": [],
   "source": [
    "# 練習 3-5\n",
    "\n",
    "string = 'learning python is so fun'\n",
    "\n",
    "# 印出前五個字元\n",
    "..."
   ]
  },
  {
   "cell_type": "markdown",
   "metadata": {},
   "source": [
    "## <font color=\"blue\">6.整數</font>\n",
    "---\n",
    "\n",
    "數字分為 **整數(integer)** , **浮點數(float)**，在電腦程式中，所有不是整數的數都用浮點數表示\n",
    "\n",
    "我們可以用運算子進行加減乘除的運算"
   ]
  },
  {
   "cell_type": "code",
   "execution_count": 19,
   "metadata": {},
   "outputs": [
    {
     "data": {
      "text/plain": [
       "5"
      ]
     },
     "execution_count": 19,
     "metadata": {},
     "output_type": "execute_result"
    }
   ],
   "source": [
    "# 程式碼 3-6\n",
    "\n",
    "3 + 2"
   ]
  },
  {
   "cell_type": "code",
   "execution_count": 20,
   "metadata": {},
   "outputs": [
    {
     "data": {
      "text/plain": [
       "3"
      ]
     },
     "execution_count": 20,
     "metadata": {},
     "output_type": "execute_result"
    }
   ],
   "source": [
    "# 程式碼 3-6.b\n",
    "\n",
    "5 - 2"
   ]
  },
  {
   "cell_type": "code",
   "execution_count": 21,
   "metadata": {},
   "outputs": [
    {
     "data": {
      "text/plain": [
       "15"
      ]
     },
     "execution_count": 21,
     "metadata": {},
     "output_type": "execute_result"
    }
   ],
   "source": [
    "# 程式碼 3-6.c\n",
    "\n",
    "5 * 3"
   ]
  },
  {
   "cell_type": "code",
   "execution_count": 22,
   "metadata": {},
   "outputs": [
    {
     "data": {
      "text/plain": [
       "5.0"
      ]
     },
     "execution_count": 22,
     "metadata": {},
     "output_type": "execute_result"
    }
   ],
   "source": [
    "# 程式碼 3-6.d\n",
    "\n",
    "20 / 4"
   ]
  },
  {
   "cell_type": "code",
   "execution_count": 23,
   "metadata": {},
   "outputs": [
    {
     "data": {
      "text/plain": [
       "9"
      ]
     },
     "execution_count": 23,
     "metadata": {},
     "output_type": "execute_result"
    }
   ],
   "source": [
    "# 程式碼 3-6.e\n",
    "\n",
    "3 ** 2"
   ]
  },
  {
   "cell_type": "markdown",
   "metadata": {},
   "source": [
    "**注意第五個例子是 3 的 2 次方的意思**  \n",
    "## <font color=\"blue\">7.浮點數</font>\n",
    "浮點數一樣可以加減乘除\n",
    "但要注意除的時候會有誤差的問題"
   ]
  },
  {
   "cell_type": "code",
   "execution_count": 25,
   "metadata": {},
   "outputs": [
    {
     "name": "stdout",
     "output_type": "stream",
     "text": [
      "5.3\n",
      "0.5\n",
      "6.8\n",
      "1.65\n",
      "11.559999999999999\n"
     ]
    }
   ],
   "source": [
    "# 程式碼 3-7\n",
    "\n",
    "print(3.3 + 2)\n",
    "print(3 - 2.5)\n",
    "print(3.4 * 2)\n",
    "print(3.3 / 2)\n",
    "print(3.4 ** 2)"
   ]
  },
  {
   "cell_type": "markdown",
   "metadata": {},
   "source": [
    "也會出現如下的誤差"
   ]
  },
  {
   "cell_type": "code",
   "execution_count": 27,
   "metadata": {},
   "outputs": [
    {
     "name": "stdout",
     "output_type": "stream",
     "text": [
      "0.30000000000000004\n"
     ]
    }
   ],
   "source": [
    "print(3 * 0.1)"
   ]
  },
  {
   "cell_type": "markdown",
   "metadata": {
    "collapsed": true
   },
   "source": [
    "### <font color=\"red\">練習</font>\n",
    "\n",
    "請試著用以下三種組合操作加減乘除四則運算，看看有甚麼不同\n",
    "\n",
    "1.整數與整數  \n",
    "2.整數與浮點數  \n",
    "3.浮點數與浮點數"
   ]
  },
  {
   "cell_type": "code",
   "execution_count": 1,
   "metadata": {},
   "outputs": [
    {
     "name": "stdout",
     "output_type": "stream",
     "text": [
      "7 -1 12 0.75\n"
     ]
    }
   ],
   "source": [
    "# 練習 3-7\n",
    "\n",
    "print(3+4,3-4,3*4,3/4)\n",
    "\n"
   ]
  }
 ],
 "metadata": {
  "kernelspec": {
   "display_name": "Python 3",
   "language": "python",
   "name": "python3"
  },
  "language_info": {
   "codemirror_mode": {
    "name": "ipython",
    "version": 3
   },
   "file_extension": ".py",
   "mimetype": "text/x-python",
   "name": "python",
   "nbconvert_exporter": "python",
   "pygments_lexer": "ipython3",
   "version": "3.6.2"
  }
 },
 "nbformat": 4,
 "nbformat_minor": 2
}
