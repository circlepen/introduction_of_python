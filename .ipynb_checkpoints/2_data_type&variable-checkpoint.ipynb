{
 "cells": [
  {
   "cell_type": "markdown",
   "metadata": {},
   "source": [
    "## <font color=\"blue\">1.變數的定義</font>\n",
    "變數是一個容器，能夠儲存一個特定的值，  \n",
    "這個值可以是任何型態的資料，關於資料型態我們等等會介紹。  \n",
    "變數的定義很簡單，就是變數名稱加變數的值  \n",
    "以下是一個變數的小例子:\n"
   ]
  },
  {
   "cell_type": "code",
   "execution_count": 9,
   "metadata": {
    "collapsed": true
   },
   "outputs": [],
   "source": [
    "#程式碼 2-1\n",
    "score = 1 # 創建變數 score ，並指定其值為 1 ，1 的型態為整數，英文為 int\n"
   ]
  },
  {
   "cell_type": "markdown",
   "metadata": {},
   "source": [
    "變數的定義很簡單，打出變數的\"名稱\"，然後用等號指定值，上面的例子我們指定變數 **score** 的值是 **1**  \n",
    "接下來我們指定另一個變數，變數名稱是 neme，變數的值是 \"Eric\""
   ]
  },
  {
   "cell_type": "code",
   "execution_count": 10,
   "metadata": {
    "collapsed": true
   },
   "outputs": [],
   "source": [
    "#程式碼 2-1.b\n",
    "name = \"Eric\""
   ]
  },
  {
   "cell_type": "markdown",
   "metadata": {},
   "source": [
    "當變數被定義出來後，我們便可以使用它  \n",
    "用變數的方式就是打出變數名稱  \n",
    "像下面這樣"
   ]
  },
  {
   "cell_type": "code",
   "execution_count": 12,
   "metadata": {},
   "outputs": [
    {
     "data": {
      "text/plain": [
       "'Eric'"
      ]
     },
     "execution_count": 12,
     "metadata": {},
     "output_type": "execute_result"
    }
   ],
   "source": [
    "#程式碼 2-1.c\n",
    "name"
   ]
  },
  {
   "cell_type": "markdown",
   "metadata": {},
   "source": [
    "### 變數命名規則\n",
    "\n",
    "+ 變數只能包含字母、數字、底線，變數名稱能以字母或底線開頭，但不能以數字開頭\n",
    "\n",
    "+ 變數名稱中不能有空白，所以我們以底線取代空白，如果我們要取一個變數叫做 student name， 我們會寫作 student_name\n",
    "+ 變數名稱中不能包含 [python 保留字](https://docs.python.org/3/reference/lexical_analysis.html#keywords)\n",
    "+ 變數名稱盡量簡潔而清楚，例如mc_wheels 就會比單純的 \"wheels\" 或是 number_of_wheels_on_a_motorcycle 要來的好\n",
    "\n",
    "+ 在用英文大寫 I 跟 O 時要特別小心，因為很容易跟 1 和 0 搞混 \n",
    "\n",
    "底下是簡單的保留字列表\n",
    "\n",
    " | | | |\n",
    "-----|----|----|----|-----\n",
    "False | class | finally |is |return\n",
    "None |continue| for| lambda |try\n",
    "True |def |from |nonlocal |while\n",
    "and |del |global |not |with\n",
    "as |elif |if |or |yield\n",
    "assert |else |import |pass\n",
    "break |except |in |raise"
   ]
  },
  {
   "cell_type": "markdown",
   "metadata": {},
   "source": [
    "### <font color=\"red\">練習</font>\n",
    "請練習定義一個變數，名稱為language，指定其值為\"English\"\n"
   ]
  },
  {
   "cell_type": "code",
   "execution_count": null,
   "metadata": {
    "collapsed": true
   },
   "outputs": [],
   "source": [
    "#練習 2-1\n",
    "\n",
    "#定義變數\n",
    "\n",
    "\n",
    "language = \n"
   ]
  },
  {
   "cell_type": "markdown",
   "metadata": {},
   "source": [
    "## <font color=\"blue\">2.變數的更改</font>\n",
    "\n",
    "變數被指定值之後，可以隨時改變變數的值，因為變數一次只能存一個值，所以新指定的值就會把舊的值蓋掉。  \n",
    "以下是更改變數的值的例子  \n",
    "首先設定變數值"
   ]
  },
  {
   "cell_type": "code",
   "execution_count": 13,
   "metadata": {},
   "outputs": [
    {
     "data": {
      "text/plain": [
       "'Taipei'"
      ]
     },
     "execution_count": 13,
     "metadata": {},
     "output_type": "execute_result"
    }
   ],
   "source": [
    "#程式碼 2-2\n",
    "city = 'Taipei'\n",
    "city"
   ]
  },
  {
   "cell_type": "markdown",
   "metadata": {},
   "source": [
    "現在city變數的值是'Taipei'  \n",
    "接下來指定city的值為'NewYork'"
   ]
  },
  {
   "cell_type": "code",
   "execution_count": 14,
   "metadata": {},
   "outputs": [
    {
     "data": {
      "text/plain": [
       "'NewYork'"
      ]
     },
     "execution_count": 14,
     "metadata": {},
     "output_type": "execute_result"
    }
   ],
   "source": [
    "#程式碼 2-2.b\n",
    "city = 'NewYork'\n",
    "city"
   ]
  },
  {
   "cell_type": "markdown",
   "metadata": {},
   "source": [
    "可以看到現在同樣一個變數city的值改成了'NewYork'  \n",
    "### <font color=\"red\">練習</font>\n",
    "請練習定義一個變數color，指定其值為 'red'  \n",
    "然後用print()輸出color的值  \n",
    "接下來再指定color的值為 'blue'  \n",
    "然後一樣用print()印出來"
   ]
  },
  {
   "cell_type": "code",
   "execution_count": 8,
   "metadata": {
    "collapsed": true
   },
   "outputs": [],
   "source": [
    "#練習 2-2\n",
    "\n",
    "#定義color，並指定其值\n",
    "\n",
    "print(color)\n",
    "\n",
    "#指定color的值為blue\n",
    "\n",
    "\n",
    "print(color)\n"
   ]
  },
  {
   "cell_type": "markdown",
   "metadata": {},
   "source": [
    "### NameError\n",
    "\n",
    "在使用變數時有些常見的錯誤，看看底下的例子，你是否能理解為何出錯呢\n",
    "試著修正它吧"
   ]
  },
  {
   "cell_type": "code",
   "execution_count": 9,
   "metadata": {},
   "outputs": [
    {
     "ename": "NameError",
     "evalue": "name 'mesage' is not defined",
     "output_type": "error",
     "traceback": [
      "\u001b[1;31m---------------------------------------------------------------------------\u001b[0m",
      "\u001b[1;31mNameError\u001b[0m                                 Traceback (most recent call last)",
      "\u001b[1;32m<ipython-input-9-7966723379c3>\u001b[0m in \u001b[0;36m<module>\u001b[1;34m()\u001b[0m\n\u001b[0;32m      1\u001b[0m \u001b[0mmessage\u001b[0m \u001b[1;33m=\u001b[0m \u001b[1;34m\"Thank you for sharing Python with the world, Guido!\"\u001b[0m\u001b[1;33m\u001b[0m\u001b[0m\n\u001b[1;32m----> 2\u001b[1;33m \u001b[0mprint\u001b[0m\u001b[1;33m(\u001b[0m\u001b[0mmesage\u001b[0m\u001b[1;33m)\u001b[0m\u001b[1;33m\u001b[0m\u001b[0m\n\u001b[0m",
      "\u001b[1;31mNameError\u001b[0m: name 'mesage' is not defined"
     ]
    }
   ],
   "source": [
    "#程式碼 2-2.c\n",
    "message = \"Thank you for sharing Python with the world, Guido!\"\n",
    "print(mesage)"
   ]
  },
  {
   "cell_type": "markdown",
   "metadata": {},
   "source": [
    "可以發現在定義變數名稱的時候我們取名叫做 **message**\n",
    "，然而在印出這個變數的值時，我們卻打成了 **mesage**\n",
    "\n",
    "**以下是正確的版本**"
   ]
  },
  {
   "cell_type": "code",
   "execution_count": 16,
   "metadata": {
    "scrolled": true
   },
   "outputs": [
    {
     "name": "stdout",
     "output_type": "stream",
     "text": [
      "Thank you for sharing Python with the world, Guido!\n"
     ]
    }
   ],
   "source": [
    "#程式碼 2-2.d\n",
    "message = \"Thank you for sharing Python with the world, Guido!\"\n",
    "print(message)"
   ]
  },
  {
   "cell_type": "markdown",
   "metadata": {},
   "source": [
    "## <font color=\"blue\">3.資料型態</font>\n",
    "\n",
    "資料型態會影響電腦程式運作的方式，就像人類在處理不同資料時，有不同的規則，對文字有文字的規則，對數字有數字的規則。在 python 中有幾個內建的資料型態 : 整數、浮點數、布林值、字串、容器等等。\n",
    "\n",
    "在python中，你可以透過type()函式來得知資料的型態，以下是一些簡單的示範 :  "
   ]
  },
  {
   "cell_type": "code",
   "execution_count": 1,
   "metadata": {},
   "outputs": [
    {
     "data": {
      "text/plain": [
       "str"
      ]
     },
     "execution_count": 1,
     "metadata": {},
     "output_type": "execute_result"
    }
   ],
   "source": [
    "#程式碼 2-3\n",
    "type(\"hello\")"
   ]
  },
  {
   "cell_type": "code",
   "execution_count": 2,
   "metadata": {},
   "outputs": [
    {
     "data": {
      "text/plain": [
       "int"
      ]
     },
     "execution_count": 2,
     "metadata": {},
     "output_type": "execute_result"
    }
   ],
   "source": [
    "#程式碼 2-3.b\n",
    "type(123456)"
   ]
  },
  {
   "cell_type": "code",
   "execution_count": 3,
   "metadata": {},
   "outputs": [
    {
     "data": {
      "text/plain": [
       "float"
      ]
     },
     "execution_count": 3,
     "metadata": {},
     "output_type": "execute_result"
    }
   ],
   "source": [
    "#程式碼 2-3.c\n",
    "type(3.1415)"
   ]
  },
  {
   "cell_type": "code",
   "execution_count": 4,
   "metadata": {},
   "outputs": [
    {
     "data": {
      "text/plain": [
       "bool"
      ]
     },
     "execution_count": 4,
     "metadata": {},
     "output_type": "execute_result"
    }
   ],
   "source": [
    "#程式碼 2-3.d\n",
    "type(True)"
   ]
  },
  {
   "cell_type": "code",
   "execution_count": 5,
   "metadata": {},
   "outputs": [
    {
     "data": {
      "text/plain": [
       "list"
      ]
     },
     "execution_count": 5,
     "metadata": {},
     "output_type": "execute_result"
    }
   ],
   "source": [
    "#程式碼 2-3.e\n",
    "type([1,2,3])"
   ]
  },
  {
   "cell_type": "code",
   "execution_count": 28,
   "metadata": {},
   "outputs": [
    {
     "data": {
      "text/plain": [
       "dict"
      ]
     },
     "execution_count": 28,
     "metadata": {},
     "output_type": "execute_result"
    }
   ],
   "source": [
    "#程式碼 2-3.f\n",
    "type('123')"
   ]
  },
  {
   "cell_type": "markdown",
   "metadata": {},
   "source": [
    "可以由上面的例子發現，數字加上小數點就會被判別為浮點數，True 跟False 會被判別為布林值，用 \" \"或 ' ' 颳起來的字會被判別為字串，  \n",
    "那如果打了一串字卻不用 \" \" 括起來呢?  \n",
    "我們可以試試看"
   ]
  },
  {
   "cell_type": "code",
   "execution_count": 4,
   "metadata": {},
   "outputs": [
    {
     "ename": "NameError",
     "evalue": "name 'hello' is not defined",
     "output_type": "error",
     "traceback": [
      "\u001b[1;31m---------------------------------------------------------------------------\u001b[0m",
      "\u001b[1;31mNameError\u001b[0m                                 Traceback (most recent call last)",
      "\u001b[1;32m<ipython-input-4-43a14fcd4265>\u001b[0m in \u001b[0;36m<module>\u001b[1;34m()\u001b[0m\n\u001b[1;32m----> 1\u001b[1;33m \u001b[0mprint\u001b[0m\u001b[1;33m(\u001b[0m\u001b[0mhello\u001b[0m\u001b[1;33m)\u001b[0m\u001b[1;33m\u001b[0m\u001b[0m\n\u001b[0m",
      "\u001b[1;31mNameError\u001b[0m: name 'hello' is not defined"
     ]
    }
   ],
   "source": [
    "#程式碼 2-3.g\n",
    "\n",
    "print(hello)\n"
   ]
  },
  {
   "cell_type": "markdown",
   "metadata": {},
   "source": [
    "這裡直譯器給出一個錯誤 : name 'hello' is not defined ，也就是說直譯器將 hello 認作一個 \"變數\" ，而不是 \"字串\"    \n",
    "因此在寫程式的時候要特別注意字串的引號 \" \""
   ]
  },
  {
   "cell_type": "markdown",
   "metadata": {},
   "source": [
    "### <font color=\"red\">練習</font>\n",
    "請用type()函式找出以下資料是甚麼型態  \n",
    "+ 'Eric'\n",
    "+ 4.25\n",
    "+ [3,6,4]\n",
    "+ {2:4}\n",
    "+ ['Taipei', 'Tokyo', 'Beijing', 'Seoul']"
   ]
  },
  {
   "cell_type": "code",
   "execution_count": 29,
   "metadata": {},
   "outputs": [
    {
     "data": {
      "text/plain": [
       "ellipsis"
      ]
     },
     "execution_count": 29,
     "metadata": {},
     "output_type": "execute_result"
    }
   ],
   "source": [
    "# 練習 2-3\n",
    "\n",
    "type(...)\n",
    "\n"
   ]
  },
  {
   "cell_type": "markdown",
   "metadata": {},
   "source": [
    "## <font color=\"blue\">4.型態轉換</font>\n",
    "\n",
    "在 python 中我們可以轉換一個值的資料型態，例如將數字轉成字串，以下的例子示範如何將數字轉成字串:\n"
   ]
  },
  {
   "cell_type": "code",
   "execution_count": 17,
   "metadata": {},
   "outputs": [
    {
     "data": {
      "text/plain": [
       "int"
      ]
     },
     "execution_count": 17,
     "metadata": {},
     "output_type": "execute_result"
    }
   ],
   "source": [
    "# 程式碼 2-4\n",
    "num = 15\n",
    "type(num) #這時的型態是整數"
   ]
  },
  {
   "cell_type": "markdown",
   "metadata": {},
   "source": [
    "現在num是整數的型態，接著我們用str()函式把它轉成字串型態"
   ]
  },
  {
   "cell_type": "code",
   "execution_count": 18,
   "metadata": {
    "scrolled": true
   },
   "outputs": [
    {
     "data": {
      "text/plain": [
       "str"
      ]
     },
     "execution_count": 18,
     "metadata": {},
     "output_type": "execute_result"
    }
   ],
   "source": [
    "# 程式碼 2-4.b\n",
    "\n",
    "num = str(num)\n",
    "type(num) #現在轉成了字串"
   ]
  },
  {
   "cell_type": "markdown",
   "metadata": {},
   "source": [
    "接著我們定義一個變數pi，值是3.14，型態是浮點數"
   ]
  },
  {
   "cell_type": "code",
   "execution_count": 19,
   "metadata": {},
   "outputs": [
    {
     "data": {
      "text/plain": [
       "float"
      ]
     },
     "execution_count": 19,
     "metadata": {},
     "output_type": "execute_result"
    }
   ],
   "source": [
    "#程式碼 2-4.c\n",
    "\n",
    "pi = 3.14\n",
    "type(pi)"
   ]
  },
  {
   "cell_type": "code",
   "execution_count": 20,
   "metadata": {},
   "outputs": [
    {
     "data": {
      "text/plain": [
       "str"
      ]
     },
     "execution_count": 20,
     "metadata": {},
     "output_type": "execute_result"
    }
   ],
   "source": [
    "#程式碼 2-4.d\n",
    "\n",
    "pi = str(pi)\n",
    "type(pi)"
   ]
  },
  {
   "cell_type": "markdown",
   "metadata": {},
   "source": [
    "你也可以將字串轉成數字，但這字串必須本身是數字  \n",
    "以下是例子:\n",
    "    "
   ]
  },
  {
   "cell_type": "code",
   "execution_count": 24,
   "metadata": {},
   "outputs": [
    {
     "data": {
      "text/plain": [
       "str"
      ]
     },
     "execution_count": 24,
     "metadata": {},
     "output_type": "execute_result"
    }
   ],
   "source": [
    "#程式碼 2-4.e\n",
    "\n",
    "s = '123'     #字串\n",
    "type(s)"
   ]
  },
  {
   "cell_type": "code",
   "execution_count": 25,
   "metadata": {},
   "outputs": [
    {
     "data": {
      "text/plain": [
       "int"
      ]
     },
     "execution_count": 25,
     "metadata": {},
     "output_type": "execute_result"
    }
   ],
   "source": [
    "#程式碼 2-4.f\n",
    "\n",
    "s = int(s)\n",
    "\n",
    "type(s)  #被轉成整數"
   ]
  },
  {
   "cell_type": "markdown",
   "metadata": {},
   "source": [
    "下面這個例子會出錯，因為轉換的字串本身不是數字"
   ]
  },
  {
   "cell_type": "code",
   "execution_count": 26,
   "metadata": {
    "scrolled": false
   },
   "outputs": [
    {
     "ename": "ValueError",
     "evalue": "invalid literal for int() with base 10: 'hello'",
     "output_type": "error",
     "traceback": [
      "\u001b[1;31m---------------------------------------------------------------------------\u001b[0m",
      "\u001b[1;31mValueError\u001b[0m                                Traceback (most recent call last)",
      "\u001b[1;32m<ipython-input-26-4731e5f8352e>\u001b[0m in \u001b[0;36m<module>\u001b[1;34m()\u001b[0m\n\u001b[0;32m      2\u001b[0m \u001b[1;33m\u001b[0m\u001b[0m\n\u001b[0;32m      3\u001b[0m \u001b[0ms\u001b[0m \u001b[1;33m=\u001b[0m \u001b[1;34m'hello'\u001b[0m\u001b[1;33m\u001b[0m\u001b[0m\n\u001b[1;32m----> 4\u001b[1;33m \u001b[0ms\u001b[0m \u001b[1;33m=\u001b[0m \u001b[0mint\u001b[0m\u001b[1;33m(\u001b[0m\u001b[0ms\u001b[0m\u001b[1;33m)\u001b[0m\u001b[1;33m\u001b[0m\u001b[0m\n\u001b[0m\u001b[0;32m      5\u001b[0m \u001b[0mtype\u001b[0m\u001b[1;33m(\u001b[0m\u001b[0ms\u001b[0m\u001b[1;33m)\u001b[0m\u001b[1;33m\u001b[0m\u001b[0m\n",
      "\u001b[1;31mValueError\u001b[0m: invalid literal for int() with base 10: 'hello'"
     ]
    }
   ],
   "source": [
    "#程式碼 2-4.g\n",
    "\n",
    "s = 'hello'\n",
    "s = int(s)\n",
    "type(s)\n"
   ]
  },
  {
   "cell_type": "markdown",
   "metadata": {},
   "source": [
    "以下這個例子也會出錯，因為數字型態是浮點數，但強制轉成整數，就會出錯"
   ]
  },
  {
   "cell_type": "code",
   "execution_count": 27,
   "metadata": {},
   "outputs": [
    {
     "ename": "ValueError",
     "evalue": "invalid literal for int() with base 10: '123.45'",
     "output_type": "error",
     "traceback": [
      "\u001b[1;31m---------------------------------------------------------------------------\u001b[0m",
      "\u001b[1;31mValueError\u001b[0m                                Traceback (most recent call last)",
      "\u001b[1;32m<ipython-input-27-0e55fa012b40>\u001b[0m in \u001b[0;36m<module>\u001b[1;34m()\u001b[0m\n\u001b[0;32m      2\u001b[0m \u001b[1;33m\u001b[0m\u001b[0m\n\u001b[0;32m      3\u001b[0m \u001b[0ms\u001b[0m \u001b[1;33m=\u001b[0m \u001b[1;34m'123.45'\u001b[0m\u001b[1;33m\u001b[0m\u001b[0m\n\u001b[1;32m----> 4\u001b[1;33m \u001b[0ms\u001b[0m \u001b[1;33m=\u001b[0m \u001b[0mint\u001b[0m\u001b[1;33m(\u001b[0m\u001b[0ms\u001b[0m\u001b[1;33m)\u001b[0m\u001b[1;33m\u001b[0m\u001b[0m\n\u001b[0m\u001b[0;32m      5\u001b[0m \u001b[0mtype\u001b[0m\u001b[1;33m(\u001b[0m\u001b[0ms\u001b[0m\u001b[1;33m)\u001b[0m\u001b[1;33m\u001b[0m\u001b[0m\n",
      "\u001b[1;31mValueError\u001b[0m: invalid literal for int() with base 10: '123.45'"
     ]
    }
   ],
   "source": [
    "#程式碼 2-4.h\n",
    "\n",
    "s = '123.45'\n",
    "s = int(s)\n",
    "type(s)"
   ]
  },
  {
   "cell_type": "markdown",
   "metadata": {},
   "source": [
    "### <font color=\"red\">練習</font>\n",
    "\n",
    "請協助完成底下的程式，使用者輸入一個分數，我們要自動幫它加20分，然後印出    \n",
    "但input()函數讀取進來的值都是字串，因此要把它轉成數字才能加分，  \n",
    "請利用float()或int()函式讓加分程式能正常運作  \n",
    "(分數可能有小數點)\n",
    "\n"
   ]
  },
  {
   "cell_type": "code",
   "execution_count": null,
   "metadata": {
    "collapsed": true
   },
   "outputs": [],
   "source": [
    "# 練習 2-4\n",
    "\n",
    "score = input(\"輸入原始分數\")\n",
    "...\n",
    "newscore = score + 20\n",
    "print(\"新的分數是\" + str(newscore))"
   ]
  }
 ],
 "metadata": {
  "kernelspec": {
   "display_name": "Python 3",
   "language": "python",
   "name": "python3"
  },
  "language_info": {
   "codemirror_mode": {
    "name": "ipython",
    "version": 3
   },
   "file_extension": ".py",
   "mimetype": "text/x-python",
   "name": "python",
   "nbconvert_exporter": "python",
   "pygments_lexer": "ipython3",
   "version": "3.6.2"
  }
 },
 "nbformat": 4,
 "nbformat_minor": 2
}
