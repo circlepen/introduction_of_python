{
 "cells": [
  {
   "cell_type": "markdown",
   "metadata": {},
   "source": [
    "# function (函式)\n",
    "---\n",
    "函式是一連串指令的集合，我們將一串指令結合在一起並給予名稱 你或許已經用過許多 python 內建的函式例如: string.title(), int(), input() 或是 list.sort()之類, python3中的 print() 也是我們最常用到的函式\n",
    "\n",
    "有了函式我們能讓python做更多事  \n",
    "以下是一個常見的函式寫法:"
   ]
  },
  {
   "cell_type": "code",
   "execution_count": null,
   "metadata": {
    "collapsed": true
   },
   "outputs": [],
   "source": [
    "# Let's define a function.\n",
    "def function_name(argument_1, argument_2):\n",
    "\t# 寫任何我們想要函式執行的程式在這,\n",
    "\t#  使用參數一 , 參數二\n",
    "\n",
    "# Use function_name to call the function.\n",
    "function_name(value_1, value_2)"
   ]
  },
  {
   "cell_type": "markdown",
   "metadata": {},
   "source": [
    "這段程式無法執行，但可以展示函式通常怎麼被使用  \n",
    "+ **定義函式 **\n",
    "  + 使用關鍵字 def  告訴python 你將要 定義(define) 一個函式  \n",
    "  + 給你的函式一個名字，一個變數的名字可以讓你看出這個變數有甚麼用處，同樣的，函式的名字也應該讓你看出它的功用  \n",
    "  + 給予每個函式處理時必須的值名字\n",
    "     + 這些值的名字本身是變數，但只限於函式內使用  \n",
    "     + 他們的名字最好與你程式裡其他的變數名稱不一樣\n",
    "     + 這些函式所必需的值稱為函式的 \" 參數 \"(arguments)\n",
    "     \n",
    "     \n",
    "+ ** 呼叫(使用)函式**  \n",
    "  + 呼叫函式的方式就是寫出它的名字並在後面加上小括號()\n",
    "  + 在小括號裡面，給予函式參數的值\n",
    "    + 這些參數值可以是變數，也可以是實際的值，如整數 5 或字串 'eric'  \n",
    "    \n",
    "以下是一個例子:    "
   ]
  },
  {
   "cell_type": "code",
   "execution_count": 3,
   "metadata": {},
   "outputs": [
    {
     "name": "stdout",
     "output_type": "stream",
     "text": [
      "\n",
      "你做得很好, Adriana!\n",
      "感謝你為這次計畫付出的努力.\n",
      "\n",
      "你做得很好, Billy!\n",
      "感謝你為這次計畫付出的努力.\n",
      "\n",
      "你做得很好, Caroline!\n",
      "感謝你為這次計畫付出的努力.\n"
     ]
    }
   ],
   "source": [
    "def thank_you(name):\n",
    "    # 這個函式印出兩行的個人化感謝訊息\n",
    "    print(\"\\n你做得很好, %s!\" % name)\n",
    "    print(\"感謝你為這次計畫付出的努力.\")\n",
    "    \n",
    "thank_you('Adriana')\n",
    "thank_you('Billy')\n",
    "thank_you('Caroline')"
   ]
  },
  {
   "cell_type": "markdown",
   "metadata": {},
   "source": [
    "---\n",
    "函式集合了一段代碼，當你需要使用時，就呼叫它\n",
    "在上面的例子，每一段print的代碼都被執行了三次，只有感謝的人名不一樣，因此當你有一段需要常常被使用到的程式碼，把它寫進函式就是你的好選擇。\n",
    "\n",
    "def 這個關鍵字告訴Python我們要定義一個函數，在這個例子中，我們給予它一個名字，也就是_thank_you()_  \n",
    "\n",
    "在括號中，我們給予函式運算所必需的值，也就是參數。在這個例子中我們需要一個名字，也就是我們感謝的對象。我們利用name 這個變數儲存我們的參數值 \n",
    "\n",
    "呼叫函式時，我們寫出它的名字，加上括號，並在括號中填入參數，在這個例子中，我們呼叫了三次函式，每次給予不同的名字。\n",
    "\n",
    "再給一個例子  \n",
    "這個例子定義一個加法函式，並用 **return** 這個關鍵字 來回傳函式的運算結果"
   ]
  },
  {
   "cell_type": "code",
   "execution_count": 4,
   "metadata": {},
   "outputs": [
    {
     "name": "stdout",
     "output_type": "stream",
     "text": [
      "11\n"
     ]
    }
   ],
   "source": [
    "def add(num1, num2):\n",
    "    return num1 + num2\n",
    "print(add(4,7))"
   ]
  },
  {
   "cell_type": "markdown",
   "metadata": {},
   "source": [
    "我們在 print() 中呼叫 add()  \n",
    "並給予兩個參數 4 跟 7  \n",
    "因此 add() 返回 4 + 7 的結果  \n",
    "於是印出 11\n",
    "### 常見錯誤\n",
    "\n",
    "函式必須在你使用前給予定義，因為程式是從上面依序往下執行，所以函式的定義必須放在呼叫的上面  \n",
    "以下是一個錯誤的例子:"
   ]
  },
  {
   "cell_type": "code",
   "execution_count": 8,
   "metadata": {},
   "outputs": [
    {
     "ename": "NameError",
     "evalue": "name 'thank_You' is not defined",
     "output_type": "error",
     "traceback": [
      "\u001b[1;31m---------------------------------------------------------------------------\u001b[0m",
      "\u001b[1;31mNameError\u001b[0m                                 Traceback (most recent call last)",
      "\u001b[1;32m<ipython-input-8-7701cfb34f47>\u001b[0m in \u001b[0;36m<module>\u001b[1;34m()\u001b[0m\n\u001b[1;32m----> 1\u001b[1;33m \u001b[0mthank_You\u001b[0m\u001b[1;33m(\u001b[0m\u001b[1;34m'Adriana'\u001b[0m\u001b[1;33m)\u001b[0m\u001b[1;33m\u001b[0m\u001b[0m\n\u001b[0m\u001b[0;32m      2\u001b[0m \u001b[0mthank_You\u001b[0m\u001b[1;33m(\u001b[0m\u001b[1;34m'Billy'\u001b[0m\u001b[1;33m)\u001b[0m\u001b[1;33m\u001b[0m\u001b[0m\n\u001b[0;32m      3\u001b[0m \u001b[0mthank_You\u001b[0m\u001b[1;33m(\u001b[0m\u001b[1;34m'Caroline'\u001b[0m\u001b[1;33m)\u001b[0m\u001b[1;33m\u001b[0m\u001b[0m\n\u001b[0;32m      4\u001b[0m \u001b[1;33m\u001b[0m\u001b[0m\n\u001b[0;32m      5\u001b[0m \u001b[1;32mdef\u001b[0m \u001b[0mthank_You\u001b[0m\u001b[1;33m(\u001b[0m\u001b[0mname\u001b[0m\u001b[1;33m)\u001b[0m\u001b[1;33m:\u001b[0m\u001b[1;33m\u001b[0m\u001b[0m\n",
      "\u001b[1;31mNameError\u001b[0m: name 'thank_You' is not defined"
     ]
    }
   ],
   "source": [
    "thank_You('Adriana')\n",
    "thank_You('Billy')\n",
    "thank_You('Caroline')\n",
    "\n",
    "def thank_You(name):\n",
    "    # 這個函式印出兩行的個人化感謝訊息\n",
    "    print(\"\\nYou are doing good work, %s!\" % name)\n",
    "    print(\"Thank you very much for your efforts on this project.\")"
   ]
  },
  {
   "cell_type": "markdown",
   "metadata": {},
   "source": [
    "### TODO\n",
    "\n",
    "**這個練習希望你定義四個函式，分別為add, sub, mul, div  \n",
    "分別為將兩個參數相加，相減，相乘，相除的功能  \n",
    "並且利用這四個函式算出 3 + 4 * 2 - 6 / 3 + 1 的答案，別忘了先乘除後加減**"
   ]
  },
  {
   "cell_type": "code",
   "execution_count": null,
   "metadata": {
    "collapsed": true
   },
   "outputs": [],
   "source": [
    "def add( arg1, arg2):\n",
    "    #在這裡寫程式\n",
    "    \n",
    "def sub( arg1, arg2):\n",
    "    #在這裡寫程式\n",
    "    \n",
    "    \n",
    "    #剩下的請你完成"
   ]
  },
  {
   "cell_type": "markdown",
   "metadata": {},
   "source": [
    "## 使用函式的好處\n",
    "\n",
    "+ 我們只寫了一次程式，然後以它為範本，在做重複工作時重複呼叫它，只改變參數，因而省去了我們重複寫一段程式的麻煩。\n",
    "+ 只要我們的函式能作用，我們就不需要再去擔心它。每次你重新寫一段程式碼，你都在增加犯錯的機會。利用函數可以減少你犯錯的機會，並且如果有錯誤，你只需針對一個地方修改就好，修好之後。我們能夠很有信心地說它之後都能夠正常運作。\n",
    "+ 我們能夠針對函式修改它的行為，然後這個修改將在每一次函式被呼叫時作用。這絕對比需要在程式的各個地方做修改要來的方便。\n",
    "\n"
   ]
  },
  {
   "cell_type": "code",
   "execution_count": null,
   "metadata": {
    "collapsed": true
   },
   "outputs": [],
   "source": []
  }
 ],
 "metadata": {
  "kernelspec": {
   "display_name": "Python 3",
   "language": "python",
   "name": "python3"
  },
  "language_info": {
   "codemirror_mode": {
    "name": "ipython",
    "version": 3
   },
   "file_extension": ".py",
   "mimetype": "text/x-python",
   "name": "python",
   "nbconvert_exporter": "python",
   "pygments_lexer": "ipython3",
   "version": "3.6.2"
  }
 },
 "nbformat": 4,
 "nbformat_minor": 2
}
