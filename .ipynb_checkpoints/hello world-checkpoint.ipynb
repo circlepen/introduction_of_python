{
 "cells": [
  {
   "cell_type": "markdown",
   "metadata": {},
   "source": [
    "# hello world (基礎輸出)\n",
    "---\n",
    "python 的基礎輸出語法相當簡單，只需要一個print。\n",
    "在 python 的一開始，讓 python 輸出 一段文字，使用 **_print_**\n",
    "在 python2 中，可以使用 **_print 要印的東西_**\n",
    "在 python3 中，可以使用 **_print(要印的東西)_ **\n",
    "\n",
    "以下是一個 hello world 的範例\n",
    "使用python 3 \n",
    "\n",
    "注意如果我們要表示字串，必須用' ' 或是　\" \" 括起來\n",
    "如果是數字或變數，就不需要"
   ]
  },
  {
   "cell_type": "code",
   "execution_count": 1,
   "metadata": {},
   "outputs": [
    {
     "name": "stdout",
     "output_type": "stream",
     "text": [
      "hello world\n",
      "17\n"
     ]
    }
   ],
   "source": [
    "print (\"hello world\")\n",
    "\n",
    "print ( 17 )"
   ]
  },
  {
   "cell_type": "markdown",
   "metadata": {},
   "source": [
    "### TODO :\n",
    "\n",
    "\n",
    "**請用print() 印出你的名字，注意字串必須用 ' ' 括起來**\n",
    "\n",
    "**另外，# 符號後面的內容會被視為註解，不會被電腦執行，在程式中加上註解會有助於其他人理解你的程式**\n"
   ]
  },
  {
   "cell_type": "code",
   "execution_count": 2,
   "metadata": {
    "collapsed": true
   },
   "outputs": [],
   "source": [
    "#在這裡練習\n",
    "\n"
   ]
  },
  {
   "cell_type": "markdown",
   "metadata": {},
   "source": [
    "### TODO :\n",
    "\n",
    "請用print() 輸出以下的字串:\n",
    "\n",
    "`life is short, you need python`\n"
   ]
  },
  {
   "cell_type": "code",
   "execution_count": 3,
   "metadata": {
    "collapsed": true
   },
   "outputs": [],
   "source": [
    "#在這裡練習\n",
    "\n"
   ]
  }
 ],
 "metadata": {
  "kernelspec": {
   "display_name": "Python 3",
   "language": "python",
   "name": "python3"
  },
  "language_info": {
   "codemirror_mode": {
    "name": "ipython",
    "version": 3
   },
   "file_extension": ".py",
   "mimetype": "text/x-python",
   "name": "python",
   "nbconvert_exporter": "python",
   "pygments_lexer": "ipython3",
   "version": "3.6.2"
  }
 },
 "nbformat": 4,
 "nbformat_minor": 2
}
