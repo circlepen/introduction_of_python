{
 "cells": [
  {
   "cell_type": "markdown",
   "metadata": {},
   "source": [
    "# list (陣列、清單)\n",
    "---\n",
    "list 是 python 內建的一個資料結構，可以讓我們儲存一群資料，這些資料會被某些規則聯繫起來，而我們能夠利用內建的函式操作他們，陣列中儲存的資料並沒有嚴格的型態限制，你能夠把數字與字串存在同一個清單中，但我們通常不會這麼做。  \n",
    "## <font color=\"blue\">1.清單(list)的定義</font>\n",
    "\n",
    "在定義清單時，要記得給予一個清楚的名稱，假如你的清單中是一群狗的名字，你可以把清單命名為 \"dogs\"，同樣的如果是一群車的名字，你可以命名為 \"cars\" ， 而針對清單中的單一項目， 你便可以用 dog 或car 來稱呼，如此一來可以讓你清楚分辨在操作的對象是整個清單還是其中的單一項目。 \n",
    "\n",
    "定義一個清單時，給予名稱，並把清單的項目用中括號 \"[]\" 括起來，並將每筆資料用逗號 ',' 分開。\n",
    "\n",
    "底下的例子簡單的示範如何定義一個清單"
   ]
  },
  {
   "cell_type": "code",
   "execution_count": 3,
   "metadata": {
    "collapsed": true
   },
   "outputs": [],
   "source": [
    "#程式碼 7-1\n",
    "\n",
    "students = ['bernice', 'aaron', 'cody']"
   ]
  },
  {
   "cell_type": "markdown",
   "metadata": {},
   "source": [
    "上面例子中我們給予一個變數students，並賦值一個清單，清單內容是'bernice','aaron'和'cody'，這個students便是清單的\"名稱\"，而內容的三個英文名字就是清單的\"項目\"。\n",
    "\n",
    "除了使用這個方式定義清單外，我們也可以利用list()函數將tuple(元組)型態的資料轉為list型態，關於元組，我們稍後介紹。"
   ]
  },
  {
   "cell_type": "markdown",
   "metadata": {},
   "source": [
    "## <font color=\"blue\">2.取用清單中的項目</font>\n",
    "\n",
    "清單中的項目都被依據位置編號，這個編號稱做index，從0開始，由左往右編  \n",
    "因此清單的第一項index是0，第二項index是1，第三項index是2，以此類推。\n",
    "以下範例定義了一個名稱為 dogs 的 list ，並示範取出dogs的第一項\n"
   ]
  },
  {
   "cell_type": "code",
   "execution_count": 6,
   "metadata": {},
   "outputs": [
    {
     "data": {
      "text/plain": [
       "'border collie'"
      ]
     },
     "execution_count": 6,
     "metadata": {},
     "output_type": "execute_result"
    }
   ],
   "source": [
    "#程式碼 7-2\n",
    "\n",
    "dogs = ['border collie', 'australian cattle dog', 'labrador retriever']\n",
    "\n",
    "dogs[0]"
   ]
  },
  {
   "cell_type": "markdown",
   "metadata": {},
   "source": [
    "### <font color=\"red\">練習</font>\n",
    "\n",
    "**請你取用dogs 的第二項、第三項\n",
    "並將其印出**"
   ]
  },
  {
   "cell_type": "code",
   "execution_count": 5,
   "metadata": {},
   "outputs": [
    {
     "name": "stdout",
     "output_type": "stream",
     "text": [
      "australian cattle dog\n"
     ]
    }
   ],
   "source": [
    "#練習 7-2\n",
    "dogs = ['border collie', 'australian cattle dog', 'labrador retriever']\n",
    "\n",
    "print(...)\n"
   ]
  },
  {
   "cell_type": "markdown",
   "metadata": {},
   "source": [
    "若想取用清單的最後一項，只要把[ ]中的數字改成-1即可  \n",
    "範例如下"
   ]
  },
  {
   "cell_type": "code",
   "execution_count": 7,
   "metadata": {},
   "outputs": [
    {
     "data": {
      "text/plain": [
       "'labrador retriever'"
      ]
     },
     "execution_count": 7,
     "metadata": {},
     "output_type": "execute_result"
    }
   ],
   "source": [
    "# 程式碼 7-2.b\n",
    "\n",
    "dogs = ['border collie', 'australian cattle dog', 'labrador retriever']\n",
    "\n",
    "dogs[-1]"
   ]
  },
  {
   "cell_type": "markdown",
   "metadata": {},
   "source": [
    "### <font color=\"red\">練習</font>\n",
    "\n",
    "**請取出dogs 的倒數第二項，倒數第三項，並印出其值**"
   ]
  },
  {
   "cell_type": "code",
   "execution_count": 10,
   "metadata": {
    "collapsed": true
   },
   "outputs": [],
   "source": [
    "# 練習 7-2.b\n",
    "\n",
    "dogs = ['border collie', 'australian cattle dog', 'labrador retriever','Pomeranian','Formosan']\n",
    "#在這裡練習\n",
    "\n",
    "print(...)\n",
    "\n"
   ]
  },
  {
   "cell_type": "markdown",
   "metadata": {},
   "source": [
    "## <font color=\"blue\">3.修改清單中的項目</font>\n",
    "要修改清單中的項目很簡單，只要重新賦值就好，就跟變數的修改一樣，只是我們必須先用index指出要取代的位子。  \n",
    "以下是一個例子"
   ]
  },
  {
   "cell_type": "code",
   "execution_count": 11,
   "metadata": {},
   "outputs": [
    {
     "name": "stdout",
     "output_type": "stream",
     "text": [
      "改變前:  ['border collie', 'Pomeranian', 'Formosan']\n",
      "改變後:  ['border collie', 'Corgi', 'Formosan']\n"
     ]
    }
   ],
   "source": [
    "# 程式碼 7-3\n",
    "dogs = ['border collie','Pomeranian','Formosan']\n",
    "print(\"改變前: \", dogs)\n",
    "\n",
    "dogs[1] = 'Corgi'\n",
    "print(\"改變後: \", dogs)"
   ]
  },
  {
   "cell_type": "markdown",
   "metadata": {},
   "source": [
    "### <font color=\"red\">練習</font>\n",
    "\n",
    "請練習把 dogs 的第三項換成 'Wolf dog'，並印出整個dogs"
   ]
  },
  {
   "cell_type": "code",
   "execution_count": null,
   "metadata": {
    "collapsed": true
   },
   "outputs": [],
   "source": [
    "# 練習 7-3\n",
    "\n",
    "dogs = ['border collie','Pomeranian','Formosan','Corgi']\n",
    "\n",
    "...\n"
   ]
  },
  {
   "cell_type": "markdown",
   "metadata": {},
   "source": [
    "## <font color=\"blue\">4.對清單中每一項進行操作 (遍歷)</font>\n",
    "有時候我們想要對一個清單中的所有資料做處理，這時候有一個很好用的方法，就是for迴圈。\n",
    "寫法如下 :"
   ]
  },
  {
   "cell_type": "code",
   "execution_count": 11,
   "metadata": {},
   "outputs": [
    {
     "name": "stdout",
     "output_type": "stream",
     "text": [
      "border collie\n",
      "australian cattle dog\n",
      "labrador retriever\n"
     ]
    }
   ],
   "source": [
    "#程式碼 7-4\n",
    "\n",
    "dogs = ['border collie', 'australian cattle dog', 'labrador retriever']\n",
    "\n",
    "for dog in dogs:\n",
    "    print(dog)"
   ]
  },
  {
   "cell_type": "markdown",
   "metadata": {},
   "source": [
    "注意 \n",
    "```python\n",
    "for dog in dogs :\n",
    "```\n",
    "不要搞錯兩個順序，這非常重要  \n",
    "+ \"for\" 關鍵字告訴 python 準備進行迴圈\n",
    "+ 變數 'dog' 沒有 's'，是一個暫時的變數，用來儲存清單中的項目，一次存一項。\n",
    "+ 迴圈的第一次執行， \"dog\"變數的值是 \"border collie\"\n",
    "+ 迴圈的第二次執行時，\"dog\"變數的值是 \"australian cattle dog\"\n",
    "+ 第三次時，\"dog\"變數的值是 \"labrador retriever\"\n",
    "+ 之後，因為清單內沒有其他項了，所以迴圈結束"
   ]
  },
  {
   "cell_type": "markdown",
   "metadata": {},
   "source": [
    "這裡有個網站 : [pythontutor.com](http://pythontutor.com/visualize.html#mode=display)能夠讓你每次只執行程式的一個步驟，並且用視覺化的方式讓你看到執行的動作，試試看，你會更理解其中的運作原理\n",
    "\n",
    "底下再給個例子  \n",
    "你能夠對取出來的資料作其他操作，例如組成字串組合"
   ]
  },
  {
   "cell_type": "code",
   "execution_count": 12,
   "metadata": {},
   "outputs": [
    {
     "name": "stdout",
     "output_type": "stream",
     "text": [
      "I like border collies.\n",
      "I like australian cattle dogs.\n",
      "I like labrador retrievers.\n"
     ]
    }
   ],
   "source": [
    "# 程式碼 7-4.b\n",
    "dogs = ['border collie', 'australian cattle dog', 'labrador retriever']\n",
    "\n",
    "for dog in dogs:\n",
    "    print('I like ' + dog + 's.')\n",
    "    "
   ]
  },
  {
   "cell_type": "markdown",
   "metadata": {
    "collapsed": true
   },
   "source": [
    "### <font color=\"red\">練習</font>\n",
    "\n",
    "以下的練習請你定義一個清單 colors，其中包含紅, 橙, 黃, 綠, 藍, 紫 六個項目 ，並執行以下動作 :   \n",
    "\n",
    "1. 印出清單的第四項\n",
    "2. 把清單的第三項改成\"玫瑰金\"\n",
    "3. 使用for 迴圈將每一項印出來\n"
   ]
  },
  {
   "cell_type": "code",
   "execution_count": 2,
   "metadata": {
    "collapsed": true
   },
   "outputs": [],
   "source": [
    "# 練習 7-4\n",
    "\n",
    "colors=[...]\n",
    "print(...)\n",
    "\n"
   ]
  },
  {
   "cell_type": "markdown",
   "metadata": {
    "collapsed": true
   },
   "source": [
    "## <font color=\"blue\">5. list常用函數</font>\n",
    "接下來將介紹一些 list 常用到的操作函式，可以對list裡面的資料進行操作，讓我們更快完成工作。\n",
    "\n",
    "### append()\n",
    "\n",
    "append()函式可以將某個項目添加到指定list 的最末項，請看以下例子:  \n"
   ]
  },
  {
   "cell_type": "code",
   "execution_count": 12,
   "metadata": {},
   "outputs": [
    {
     "data": {
      "text/plain": [
       "['John', 'Levi', 'Optimus', 'Lufy', 'Naruto', 'Mikasa', 'Sakura']"
      ]
     },
     "execution_count": 12,
     "metadata": {},
     "output_type": "execute_result"
    }
   ],
   "source": [
    "# 程式碼 7-5\n",
    "\n",
    "students = ['John', 'Levi', 'Optimus', 'Lufy', 'Naruto', 'Mikasa']\n",
    "\n",
    "students.append('Sakura')\n",
    "\n",
    "students"
   ]
  },
  {
   "cell_type": "markdown",
   "metadata": {},
   "source": [
    "仔細觀察用法，我們想將\"Sakura\"這個學生加到students這個list中，因此我們用students.append()，並將\"Sakura\"作為參數傳入。  \n",
    "接著輸出students，可以發現\"Sakura\"被添加到 students的最後一項\n",
    "\n",
    "\n",
    "### <font color=\"red\">練習</font>\n",
    "請你對students清單再添加一名學生，\"Arturia\"。 "
   ]
  },
  {
   "cell_type": "code",
   "execution_count": 14,
   "metadata": {},
   "outputs": [
    {
     "data": {
      "text/plain": [
       "['John', 'Levi', 'Optimus', 'Lufy', 'Naruto', 'Mikasa']"
      ]
     },
     "execution_count": 14,
     "metadata": {},
     "output_type": "execute_result"
    }
   ],
   "source": [
    "# 練習 7-5\n",
    "\n",
    "students = ['John', 'Levi', 'Optimus', 'Lufy', 'Naruto', 'Mikasa']\n",
    "\n",
    "#在這裡添加\"Arturia\"\n",
    "...\n",
    "\n",
    "students"
   ]
  },
  {
   "cell_type": "markdown",
   "metadata": {},
   "source": [
    "### extend()\n",
    "\n",
    "append()函式會將一個項目添加到現有清單的尾端，extend()函式則是將一個清單附加到另一個清單的尾部。  \n",
    "請看以下例子：\n"
   ]
  },
  {
   "cell_type": "code",
   "execution_count": 16,
   "metadata": {},
   "outputs": [
    {
     "data": {
      "text/plain": [
       "['John', 'Levi', 'Optimus', 'Lufy', 'Arturia', 'Naruto', 'Shiron', 'Alan']"
      ]
     },
     "execution_count": 16,
     "metadata": {},
     "output_type": "execute_result"
    }
   ],
   "source": [
    "# 程式碼 7-5.b\n",
    "\n",
    "students1 = ['John', 'Levi', 'Optimus', 'Lufy']\n",
    "students2 = ['Arturia','Naruto','Shiron','Alan']\n",
    "\n",
    "students1.extend(students2)\n",
    "\n",
    "students1\n"
   ]
  },
  {
   "cell_type": "markdown",
   "metadata": {},
   "source": [
    "students1 是主清單，students2要附加到主清單的後面，因此是將students2作為參數傳入函式中。\n",
    "\n",
    "### <font color=\"red\">練習</font>\n",
    "底下定義了兩個清單，請你將cars2附加到cars1的後面。 "
   ]
  },
  {
   "cell_type": "code",
   "execution_count": 17,
   "metadata": {},
   "outputs": [
    {
     "data": {
      "text/plain": [
       "['Benz', 'BMW', 'Bentley']"
      ]
     },
     "execution_count": 17,
     "metadata": {},
     "output_type": "execute_result"
    }
   ],
   "source": [
    "# 練習 7-5.b\n",
    "\n",
    "cars1 = ['Benz','BMW','Bentley']\n",
    "cars2 = ['Toyota','Mazda','Mitsubishi']\n",
    "\n",
    "...\n",
    "\n",
    "cars1"
   ]
  },
  {
   "cell_type": "markdown",
   "metadata": {},
   "source": [
    "### remove()\n",
    "\n",
    "這個函式可以移除一個陣列中指定值的第一個項，例如在上面cars1中，我如果用remove('Benz')，則會找到第一個'Benz'項，並刪除它。  \n",
    "請看以下例子"
   ]
  },
  {
   "cell_type": "code",
   "execution_count": 18,
   "metadata": {},
   "outputs": [
    {
     "data": {
      "text/plain": [
       "['John', 'Optimus', 'Lufy', 'Levi']"
      ]
     },
     "execution_count": 18,
     "metadata": {},
     "output_type": "execute_result"
    }
   ],
   "source": [
    "# 程式碼 7-5.c\n",
    "students= ['John', 'Levi', 'Optimus', 'Lufy','Levi']\n",
    "\n",
    "students.remove('Levi')\n",
    "\n",
    "students"
   ]
  },
  {
   "cell_type": "markdown",
   "metadata": {},
   "source": [
    "原本的students中有兩個'Levi'，在remove('Levi')後剩下一個'Levi'，而且是後面那一個\n",
    "### <font color=\"red\">練習</font>\n",
    "請你將以下清單中的第一個 \"red\" 刪除"
   ]
  },
  {
   "cell_type": "code",
   "execution_count": 19,
   "metadata": {},
   "outputs": [
    {
     "data": {
      "text/plain": [
       "['yellow', 'green', 'red', 'red', 'blue', 'red']"
      ]
     },
     "execution_count": 19,
     "metadata": {},
     "output_type": "execute_result"
    }
   ],
   "source": [
    "# 練習 7-5.c\n",
    "\n",
    "colors = ['yellow', 'green','red','red','blue','red']\n",
    "\n",
    "#使用remove()\n",
    "\n",
    "colors"
   ]
  },
  {
   "cell_type": "markdown",
   "metadata": {},
   "source": [
    "### index()\n",
    "\n",
    "index()函數可以列出目標清單中的目標項目所有索引值中，第一個索引，拿上面colors的例子來說。\n",
    "```python\n",
    "colors = ['yellow', 'green','red','red','blue','red']\n",
    "```\n",
    "如果用colors.index('red')尋找的話，回傳值會是 2，因為第一個 red的索引值是 2\n",
    "\n",
    "以下是一個例子:"
   ]
  },
  {
   "cell_type": "code",
   "execution_count": 21,
   "metadata": {},
   "outputs": [
    {
     "data": {
      "text/plain": [
       "1"
      ]
     },
     "execution_count": 21,
     "metadata": {},
     "output_type": "execute_result"
    }
   ],
   "source": [
    "# 程式碼 7-5.d\n",
    "students= ['John', 'Levi', 'Optimus', 'Lufy','Levi']\n",
    "\n",
    "students.index('Levi')\n"
   ]
  },
  {
   "cell_type": "markdown",
   "metadata": {},
   "source": [
    "### <font color=\"red\">練習</font>\n",
    "\n",
    "請找出 colors中，第一個 'yellow'的索引值(index)"
   ]
  },
  {
   "cell_type": "code",
   "execution_count": 22,
   "metadata": {
    "collapsed": true
   },
   "outputs": [],
   "source": [
    "# 練習 7-5.d\n",
    "\n",
    "colors = ['green','yellow', 'green','yellow','red','blue','red']\n",
    "\n",
    "#找出yellow的索引值\n"
   ]
  },
  {
   "cell_type": "markdown",
   "metadata": {},
   "source": [
    "### sort()\n",
    "\n",
    "sort()函式可以將清單中的所有項目進行排序，文字的排序中，大寫會優先於小寫。    \n",
    "以下是一個例子"
   ]
  },
  {
   "cell_type": "code",
   "execution_count": 28,
   "metadata": {},
   "outputs": [
    {
     "data": {
      "text/plain": [
       "['ABC', 'Cat', 'DOG', 'abc', 'xyz']"
      ]
     },
     "execution_count": 28,
     "metadata": {},
     "output_type": "execute_result"
    }
   ],
   "source": [
    "# 程式碼 7-5.e\n",
    "\n",
    "alist = ['abc','ABC','xyz','DOG','Cat']\n",
    "\n",
    "alist.sort()\n",
    "\n",
    "alist"
   ]
  },
  {
   "cell_type": "markdown",
   "metadata": {},
   "source": [
    "注意，sort()函式是直接改變清單本身的內容順序，如果不想要改變清單本身，只想取得經過排序的內容的話，  \n",
    "可以使用 sorted() 函式，以下是一個範例。"
   ]
  },
  {
   "cell_type": "code",
   "execution_count": 30,
   "metadata": {},
   "outputs": [
    {
     "name": "stdout",
     "output_type": "stream",
     "text": [
      "alist:  ['abc', 'ABC', 'xyz', 'DOG', 'Cat']\n",
      "sorted alist:  ['ABC', 'Cat', 'DOG', 'abc', 'xyz']\n"
     ]
    }
   ],
   "source": [
    "# 程式碼 7-5.f\n",
    "\n",
    "alist = ['abc','ABC','xyz','DOG','Cat']\n",
    "s_alist = sorted(alist)\n",
    "print(\"alist: \",alist)\n",
    "print(\"sorted alist: \",s_alist)"
   ]
  },
  {
   "cell_type": "markdown",
   "metadata": {},
   "source": [
    "### <font color=\"red\">練習</font>\n",
    "請你練習將底下的list重新排序\n",
    "分別使用 sorted() 與 sort()"
   ]
  },
  {
   "cell_type": "code",
   "execution_count": null,
   "metadata": {
    "collapsed": true
   },
   "outputs": [],
   "source": [
    "# 練習 7-5.e\n",
    "\n",
    "cities = ['Taipei','Seoul','Tokyo','Hong Kong','Beijing']\n",
    "\n"
   ]
  },
  {
   "cell_type": "markdown",
   "metadata": {},
   "source": [
    "### len()\n",
    "\n",
    "len()函式可以取得清單的長度(也就是總共有幾個項目)  \n",
    "以下是一個範例"
   ]
  },
  {
   "cell_type": "code",
   "execution_count": 32,
   "metadata": {},
   "outputs": [
    {
     "data": {
      "text/plain": [
       "7"
      ]
     },
     "execution_count": 32,
     "metadata": {},
     "output_type": "execute_result"
    }
   ],
   "source": [
    "# 程式碼 7-5.g\n",
    "\n",
    "colors = ['green','yellow', 'green','yellow','red','blue','red']\n",
    "\n",
    "len(colors)"
   ]
  },
  {
   "cell_type": "markdown",
   "metadata": {},
   "source": [
    "因為color中有七個項目，所以回傳值是 7  \n",
    "### <font color=\"red\">練習</font>\n",
    "請取得以下list的長度"
   ]
  },
  {
   "cell_type": "code",
   "execution_count": 37,
   "metadata": {
    "collapsed": true
   },
   "outputs": [],
   "source": [
    "# 練習 7-5.f\n",
    "\n",
    "cities = ['Taipei','Seoul','Tokyo','Hong Kong','Beijing']\n",
    "\n",
    "#使用 len()函式\n"
   ]
  },
  {
   "cell_type": "markdown",
   "metadata": {},
   "source": [
    "## <font color=\"blue\">6. Tuple</font>\n",
    "Tuple 也是一個容器，和 list一樣，可以儲存各種資料，但是Tuple與 List有一個最大的不同點 :  \n",
    "Tuple的內容一旦定義完成，便無法修改，但 list可以。  \n",
    "以下是一個tuple的範例"
   ]
  },
  {
   "cell_type": "code",
   "execution_count": 36,
   "metadata": {},
   "outputs": [
    {
     "data": {
      "text/plain": [
       "'hello'"
      ]
     },
     "execution_count": 36,
     "metadata": {},
     "output_type": "execute_result"
    }
   ],
   "source": [
    "# 程式碼 7-6\n",
    "\n",
    "atuple = (2,3,'hello','ABC')\n",
    "\n",
    "atuple[2]"
   ]
  },
  {
   "cell_type": "markdown",
   "metadata": {},
   "source": [
    "可以發現建立一個 tuple 與建立一個 list的差異就在於，tuple使用小括弧 ( )，list使用中括弧 [ ]  \n",
    "要注意的是，取用內容的項目時 tuple一樣是使用中括弧與 index值的  \n",
    "另外在上面曾經提過，我們可以利用 list()函式將一個 tuple 轉換成 list  \n",
    "請看以下範例："
   ]
  },
  {
   "cell_type": "code",
   "execution_count": 38,
   "metadata": {},
   "outputs": [
    {
     "data": {
      "text/plain": [
       "[2, 3, 'hello', 'ABC']"
      ]
     },
     "execution_count": 38,
     "metadata": {},
     "output_type": "execute_result"
    }
   ],
   "source": [
    "# 程式碼 7-6.b\n",
    "\n",
    "atuple = (2,3,'hello','ABC')\n",
    "\n",
    "alist = list(atuple)\n",
    "\n",
    "alist"
   ]
  },
  {
   "cell_type": "markdown",
   "metadata": {},
   "source": [
    "另外，我們可以利用 + 運算子，將兩個 tuple或兩個 list合併，就像合併字串一樣。"
   ]
  },
  {
   "cell_type": "code",
   "execution_count": 41,
   "metadata": {},
   "outputs": [
    {
     "data": {
      "text/plain": [
       "('a', 'b', 'c', 'd', 'e', 'f')"
      ]
     },
     "execution_count": 41,
     "metadata": {},
     "output_type": "execute_result"
    }
   ],
   "source": [
    "# 程式碼 7-6.c\n",
    "\n",
    "tuple1 = ('a', 'b', 'c')\n",
    "tuple2 = ('d', 'e', 'f')\n",
    "\n",
    "atuple = tuple1 + tuple2\n",
    "atuple"
   ]
  },
  {
   "cell_type": "code",
   "execution_count": 42,
   "metadata": {},
   "outputs": [
    {
     "data": {
      "text/plain": [
       "['a', 'b', 'c', 'd', 'e', 'f']"
      ]
     },
     "execution_count": 42,
     "metadata": {},
     "output_type": "execute_result"
    }
   ],
   "source": [
    "# 程式碼 7-6.d\n",
    "\n",
    "list1 = ['a', 'b', 'c']\n",
    "list2 = ['d', 'e', 'f']\n",
    "\n",
    "alist = list1 + list2\n",
    "alist"
   ]
  },
  {
   "cell_type": "markdown",
   "metadata": {},
   "source": [
    "### tuple 與 list 的比較\n",
    "+ tuple 佔據較少的空間\n",
    "+ tuple 一旦被建立就無法改動\n",
    "+ tuple 可使用的函式較少(畢竟少了很多改動的空間)\n",
    "+ tuple 可以做為 dictionary的鍵值(之後介紹dictionary)\n",
    "+ tuple 可以做為簡化的物件\n",
    "+ 函式的參數是被作為 tuple形式做傳遞\n"
   ]
  },
  {
   "cell_type": "markdown",
   "metadata": {},
   "source": [
    "### <font color=\"red\">練習</font>\n",
    "建立一個tuple，名稱是cities，內容是'Taipei','Seoul','Tokyo','Hong Kong','Beijing'  \n",
    "接下來請你印出它的第三項\n"
   ]
  },
  {
   "cell_type": "code",
   "execution_count": 1,
   "metadata": {
    "collapsed": true
   },
   "outputs": [],
   "source": [
    "# 練習 7-6 \n",
    "\n",
    "\n",
    "#建立tuple\n",
    "\n",
    "\n",
    "#印出第三項"
   ]
  },
  {
   "cell_type": "markdown",
   "metadata": {},
   "source": [
    "### <font color=\"red\">練習</font>\n",
    "接下來請將這上面建立的 tuple轉換成 list"
   ]
  },
  {
   "cell_type": "code",
   "execution_count": null,
   "metadata": {
    "collapsed": true
   },
   "outputs": [],
   "source": [
    "# 練習 7-6.b\n",
    "\n",
    "# 轉成list"
   ]
  },
  {
   "cell_type": "markdown",
   "metadata": {},
   "source": [
    "## <font color=\"blue\">7. 字典(Dictionary)</font>\n",
    "\n",
    "字典(dictionary)是一種類似 list的容器，不同的是，字典內項目(item)的順序並不重要，字典中的項目都有自己的鍵值(key)，key的型態通常是字串，每個 key對應到該項的值(value)，key 與 value的關係是學習字典使用的重點。和list一樣，你可以對 dictionary 中的項進行修改、刪除、增加等等的操作，讓我們看看以下例子:\n"
   ]
  },
  {
   "cell_type": "code",
   "execution_count": 2,
   "metadata": {
    "collapsed": true
   },
   "outputs": [],
   "source": [
    "#程式碼 7-7\n",
    "\n",
    "empty_dict = {}  #空的字典\n",
    "\n",
    "dict = {'Name':'Eric', 'class':'1252', 'age':32} "
   ]
  },
  {
   "cell_type": "markdown",
   "metadata": {},
   "source": [
    "我們用大括弧 { }來建立字典，每一組 item 都有兩個部分，由冒號 : 隔開，左邊的是 鍵(key)，右邊的是值(value)，item 與 item之間用逗號隔開"
   ]
  },
  {
   "cell_type": "markdown",
   "metadata": {},
   "source": [
    "### <font color=\"red\">練習</font>\n",
    "請練習建立一個 dictionary，鍵值(key)分別是:'nation','city','district'，內容值(value)分別是:'Taiwan','Taipei','Daan'\n"
   ]
  },
  {
   "cell_type": "code",
   "execution_count": 3,
   "metadata": {
    "collapsed": true
   },
   "outputs": [],
   "source": [
    "# 練習 7-7"
   ]
  },
  {
   "cell_type": "markdown",
   "metadata": {},
   "source": [
    "## <font color=\"blue\">8. 取得字典中的值 </font>\n",
    "\n",
    "在 list中，我們可以用 index 來取得項目的值，在字典中我們則是用key來取得值，請看以下範例:\n"
   ]
  },
  {
   "cell_type": "code",
   "execution_count": 6,
   "metadata": {},
   "outputs": [
    {
     "data": {
      "text/plain": [
       "'Ziv'"
      ]
     },
     "execution_count": 6,
     "metadata": {},
     "output_type": "execute_result"
    }
   ],
   "source": [
    "# 程式碼 7-8\n",
    "\n",
    "ahq = {'top':'Ziv', 'mid':'Westdoor', 'ad':'An', 'sup':'Albis', 'jg':'Mountain'}\n",
    "\n",
    "ahq['top']"
   ]
  },
  {
   "cell_type": "markdown",
   "metadata": {},
   "source": [
    "我們在list中使用 list[index]取得值，在字典中則是 dict['key']"
   ]
  },
  {
   "cell_type": "markdown",
   "metadata": {},
   "source": [
    "### <font color=\"red\">練習</font>\n",
    "請練習取得上面 ahq字典的 'ad' 項的值"
   ]
  },
  {
   "cell_type": "code",
   "execution_count": 8,
   "metadata": {},
   "outputs": [
    {
     "data": {
      "text/plain": [
       "Ellipsis"
      ]
     },
     "execution_count": 8,
     "metadata": {},
     "output_type": "execute_result"
    }
   ],
   "source": [
    "# 練習 7-8\n",
    "\n",
    "#取得 ahq 的 'ad'項\n",
    "\n",
    "..."
   ]
  },
  {
   "cell_type": "markdown",
   "metadata": {},
   "source": [
    "## <font color=\"blue\">9. 字典的修改、新增、刪除 </font>\n",
    "\n",
    "### 修改\n",
    "要修改字典中的值，與修改list中的值很像，利用鍵值修改就行了，請看以下範例:\n"
   ]
  },
  {
   "cell_type": "code",
   "execution_count": 10,
   "metadata": {},
   "outputs": [
    {
     "name": "stdout",
     "output_type": "stream",
     "text": [
      "修改前: Westdoor\n",
      "修改後: Chawy\n"
     ]
    }
   ],
   "source": [
    "# 程式碼7-9\n",
    "\n",
    "ahq = {'top':'Ziv', 'mid':'Westdoor', 'ad':'An', 'sup':'Albis', 'jg':'Mountain'}\n",
    "\n",
    "print('修改前: ' + ahq['mid']) #修改前\n",
    "ahq['mid'] = 'Chawy'\n",
    "print('修改後: ' + ahq['mid']) #修改後"
   ]
  },
  {
   "cell_type": "markdown",
   "metadata": {},
   "source": [
    "### 新增\n",
    "新增的方式與修改很像，我們指定一個不存在的鍵值，並給予一個值"
   ]
  },
  {
   "cell_type": "code",
   "execution_count": 13,
   "metadata": {},
   "outputs": [
    {
     "data": {
      "text/plain": [
       "{'America': 'Washington',\n",
       " 'China': 'Beijing',\n",
       " 'Japen': 'Tokyo',\n",
       " 'Korea': 'Seoul',\n",
       " 'Taiwan': 'Taipei'}"
      ]
     },
     "execution_count": 13,
     "metadata": {},
     "output_type": "execute_result"
    }
   ],
   "source": [
    "# 程式碼 7-9.b\n",
    "\n",
    "cities = {'Taiwan':'Taipei', 'Japen':'Tokyo', 'Korea':'Seoul', 'China':'Beijing'}\n",
    "\n",
    "cities['America'] = 'Washington'\n",
    "\n",
    "cities"
   ]
  },
  {
   "cell_type": "markdown",
   "metadata": {},
   "source": [
    "上面的輸出與我們一開始打的順序不一樣，但這沒有關係，記得我們提過，字典的項是沒有順序的，只能用key來操作。\n",
    "### 刪除\n",
    "我們可以使用 del 關鍵字刪除我們不要的項，請看以下範例:\n"
   ]
  },
  {
   "cell_type": "code",
   "execution_count": 18,
   "metadata": {},
   "outputs": [
    {
     "name": "stdout",
     "output_type": "stream",
     "text": [
      "刪除前:  {'Taiwan': 'Taipei', 'Japen': 'Tokyo', 'Korea': 'Seoul', 'China': 'Beijing'}\n",
      "刪除後:  {'Taiwan': 'Taipei', 'Japen': 'Tokyo', 'Korea': 'Seoul'}\n"
     ]
    }
   ],
   "source": [
    "# 程式碼 7-9.c\n",
    "\n",
    "cities = {'Taiwan':'Taipei', 'Japen':'Tokyo', 'Korea':'Seoul', 'China':'Beijing'}\n",
    "print('刪除前: ', cities)\n",
    "\n",
    "del cities['China']   #刪除 China 項\n",
    "print('刪除後: ', cities)"
   ]
  },
  {
   "cell_type": "markdown",
   "metadata": {},
   "source": [
    "### <font color=\"red\">練習</font>\n",
    "\n",
    "接下來這個練習，請對 students 這個字典進行以下操作:\n",
    "1. 新增一個項，'Charlie':45\n",
    "2. 刪除'Brenny' 項\n",
    "3. 將'Randy'的值改為 15\n"
   ]
  },
  {
   "cell_type": "code",
   "execution_count": 24,
   "metadata": {
    "collapsed": true
   },
   "outputs": [],
   "source": [
    "#練習 7-9\n",
    "\n",
    "students = {'Tommy' : 33, 'Andy' : 21, 'Eric' : 18, 'Emma' : 17, 'Brenny' : 28, 'Randy' : 25}\n"
   ]
  },
  {
   "cell_type": "code",
   "execution_count": 25,
   "metadata": {},
   "outputs": [
    {
     "name": "stdout",
     "output_type": "stream",
     "text": [
      "{'Tommy': 33, 'Andy': 21, 'Eric': 18, 'Emma': 17, 'Brenny': 28, 'Randy': 25}\n"
     ]
    }
   ],
   "source": [
    "#這是測試，不需要改動\n",
    "print(students)"
   ]
  },
  {
   "cell_type": "markdown",
   "metadata": {},
   "source": [
    "如果正確，你應該會看到這個結果:  \n",
    "```\n",
    "{'Tommy': 33, 'Andy': 21, 'Eric': 18, 'Emma': 17, 'Randy': 15, 'charlie': 45}\n",
    "```"
   ]
  },
  {
   "cell_type": "markdown",
   "metadata": {},
   "source": [
    "## <font color=\"blue\">10. 字典的常用函式 </font>\n",
    "\n",
    "### update()\n",
    "update()函式可以一個字典合併到另一個字典中\n"
   ]
  },
  {
   "cell_type": "code",
   "execution_count": 28,
   "metadata": {},
   "outputs": [
    {
     "data": {
      "text/plain": [
       "{'China': 'Beijing',\n",
       " 'Japen': 'Tokyo',\n",
       " 'Korea': 'Seoul',\n",
       " 'Taiwan': 'Taipei',\n",
       " 'United Kindom': 'London',\n",
       " 'United states': 'Washington'}"
      ]
     },
     "execution_count": 28,
     "metadata": {},
     "output_type": "execute_result"
    }
   ],
   "source": [
    "# 程式碼 7-10\n",
    "\n",
    "cities = {'Taiwan' : 'Taipei', 'Japen' : 'Tokyo', 'Korea' : 'Seoul', 'China' : 'Beijing'}\n",
    "others = {'United states' : 'Washington', 'United Kindom' :'London' }\n",
    "\n",
    "cities.update(others)  #將 others字典合併到 cities字典中\n",
    "\n",
    "cities"
   ]
  },
  {
   "cell_type": "markdown",
   "metadata": {},
   "source": [
    "### keys()\n",
    "keys()函式會返回(return)一個字典的所有鍵，請看以下範例\n"
   ]
  },
  {
   "cell_type": "code",
   "execution_count": 30,
   "metadata": {},
   "outputs": [
    {
     "data": {
      "text/plain": [
       "dict_keys(['Taiwan', 'Japen', 'Korea', 'China'])"
      ]
     },
     "execution_count": 30,
     "metadata": {},
     "output_type": "execute_result"
    }
   ],
   "source": [
    "# 程式碼 7-10.b\n",
    "\n",
    "cities = {'Taiwan' : 'Taipei', 'Japen' : 'Tokyo', 'Korea' : 'Seoul', 'China' : 'Beijing'}\n",
    "cities.keys()"
   ]
  },
  {
   "cell_type": "markdown",
   "metadata": {},
   "source": [
    "### values()\n",
    "values()函式會return一個字典的所有值，請看以下範例\n"
   ]
  },
  {
   "cell_type": "code",
   "execution_count": 36,
   "metadata": {},
   "outputs": [
    {
     "data": {
      "text/plain": [
       "dict_values(['Taipei', 'Tokyo', 'Seoul', 'Beijing'])"
      ]
     },
     "execution_count": 36,
     "metadata": {},
     "output_type": "execute_result"
    }
   ],
   "source": [
    "# 程式碼 7-10.c\n",
    "\n",
    "cities = {'Taiwan' : 'Taipei', 'Japen' : 'Tokyo', 'Korea' : 'Seoul', 'China' : 'Beijing'}\n",
    "cities.values()"
   ]
  },
  {
   "cell_type": "markdown",
   "metadata": {},
   "source": [
    "### items()\n",
    "items()函式返回一個字典所有的項，以(鍵, 值)的tuple所組成形式返回，我們可以用for迴圈將items()所返回的tuple個別印出來，請看以下範例\n"
   ]
  },
  {
   "cell_type": "code",
   "execution_count": 33,
   "metadata": {},
   "outputs": [
    {
     "name": "stdout",
     "output_type": "stream",
     "text": [
      "dict_items([('Taiwan', 'Taipei'), ('Japen', 'Tokyo'), ('Korea', 'Seoul'), ('China', 'Beijing')])\n",
      "Taiwan Taipei\n",
      "Japen Tokyo\n",
      "Korea Seoul\n",
      "China Beijing\n"
     ]
    }
   ],
   "source": [
    "# 程式碼 7-10.d\n",
    "\n",
    "cities = {'Taiwan' : 'Taipei', 'Japen' : 'Tokyo', 'Korea' : 'Seoul', 'China' : 'Beijing'}\n",
    "\n",
    "city_item = cities.items()\n",
    "print(city_item)  #items()返回的值\n",
    "\n",
    "# for迴圈 個別取出tuple\n",
    "for key,value in city_item:\n",
    "    print(key,value)\n"
   ]
  },
  {
   "cell_type": "markdown",
   "metadata": {},
   "source": [
    "### in\n",
    "in 關鍵字用在字典時，可以檢查字典中是否有指定的項，注意，必須用key搜尋，不能用value。  \n",
    "請看以下範例"
   ]
  },
  {
   "cell_type": "code",
   "execution_count": 35,
   "metadata": {},
   "outputs": [
    {
     "data": {
      "text/plain": [
       "True"
      ]
     },
     "execution_count": 35,
     "metadata": {},
     "output_type": "execute_result"
    }
   ],
   "source": [
    "# 程式碼 7-10.e\n",
    "\n",
    "cities = {'Taiwan' : 'Taipei', 'Japen' : 'Tokyo', 'Korea' : 'Seoul', 'China' : 'Beijing'}\n",
    "\n",
    "'Taiwan' in cities"
   ]
  }
 ],
 "metadata": {
  "kernelspec": {
   "display_name": "Python 3",
   "language": "python",
   "name": "python3"
  },
  "language_info": {
   "codemirror_mode": {
    "name": "ipython",
    "version": 3
   },
   "file_extension": ".py",
   "mimetype": "text/x-python",
   "name": "python",
   "nbconvert_exporter": "python",
   "pygments_lexer": "ipython3",
   "version": "3.6.2"
  }
 },
 "nbformat": 4,
 "nbformat_minor": 2
}
