{
 "cells": [
  {
   "cell_type": "markdown",
   "metadata": {},
   "source": [
    "# 迴圈  \n",
    "---\n",
    "\n",
    "日常生活中有許多重複的事情，例如一個星期有七天，每七天就會重新回到星期一，或者一年有四季，不斷循環，這都是日常生活中\"迴圈\"的概念。在電腦程式中，迴圈是一個讓程式重複執行的結構，可以讓我們用更少的程式來做出重複的動作，舉例來說，假設我們有一份150人的名單，那麼要印出所有人的名字，就必須要打150次 print()，但是如果有迴圈，那麼我們就可以打一次程式，讓它執行150次，每次把名字換掉就好。\n",
    "\n",
    "\n",
    "## <font color=\"blue\">1. for 基本語法</font>\n",
    "下面例子是示範重覆3次，印出一行hi及一行David，說明使用for迴圈的寫法，"
   ]
  },
  {
   "cell_type": "code",
   "execution_count": 32,
   "metadata": {},
   "outputs": [
    {
     "name": "stdout",
     "output_type": "stream",
     "text": [
      "Hi!\n",
      "David\n",
      "Hi!\n",
      "David\n",
      "Hi!\n",
      "David\n"
     ]
    }
   ],
   "source": [
    "#程式碼1\n",
    "for i in range(3):\n",
    "    print('Hi!')\n",
    "    print('David')"
   ]
  },
  {
   "cell_type": "markdown",
   "metadata": {},
   "source": [
    "for是python常用的關鍵字，for關鍵字後面會有空白，range(3)是下一行的程式碼執行3次，所以'hello'字串會變列出來3行，for的結尾要有冒號，代表是下面還有程式碼，也都是屬於for迴圈的內容。要特別注意的是print的前面有4個空白字元，這是所謂的縮排，縮排內容不一定只有一行這個區塊的程式碼就是for迴圈執行時的內容，如果是多行，也會依順序的執行出來."
   ]
  },
  {
   "cell_type": "markdown",
   "metadata": {},
   "source": [
    "### <font color=\"red\">練習</font>\n",
    "\n",
    "仿做程式碼1，在下面印出自己的名字5次"
   ]
  },
  {
   "cell_type": "code",
   "execution_count": 33,
   "metadata": {
    "collapsed": true
   },
   "outputs": [],
   "source": [
    "#練習1, 印出自己的名字5次\n",
    "#使用 range(5), print的字串修改成自己的中文或英文名字\n",
    "\n",
    "#for ...\n",
    "#    print('hi')\n",
    "#    print('自己名字')\n"
   ]
  },
  {
   "cell_type": "markdown",
   "metadata": {},
   "source": [
    "上面練習，印出來的結果會像是，Eric的部份應該是你的名字\n",
    "\n",
    "```\n",
    "Hi\n",
    "Eric\n",
    "Hi\n",
    "Eric\n",
    "Hi\n",
    "Eric\n",
    "Hi\n",
    "Eric\n",
    "Hi\n",
    "Eric\n",
    "```\n",
    "\n",
    "<hr/>\n",
    "\n",
    "## <font color=\"blue\">2. pass(通過)關鍵字</font>\n",
    "\n",
    "for開頭的迴圈的下一行，一定要有縮排的程式碼，如果暫時還沒有指令需要執行，可以用pass的關鍵字來暫時取代，pass是通過的意思，也就是先省去不用執行"
   ]
  },
  {
   "cell_type": "code",
   "execution_count": 34,
   "metadata": {
    "collapsed": true
   },
   "outputs": [],
   "source": [
    "#程式碼 2\n",
    "for i in range(10):\n",
    "    pass"
   ]
  },
  {
   "cell_type": "markdown",
   "metadata": {},
   "source": [
    "### <font color=\"red\">練習</font>\n",
    "\n",
    "參考程式碼2，練習pass的使用"
   ]
  },
  {
   "cell_type": "code",
   "execution_count": 35,
   "metadata": {
    "collapsed": true
   },
   "outputs": [],
   "source": [
    "#練習2, 請練習 for ... pass"
   ]
  },
  {
   "cell_type": "markdown",
   "metadata": {},
   "source": [
    "<hr/>\n",
    "\n",
    "## <font color=\"blue\">3.  index變數使用</font>\n",
    "\n",
    "range(3)產生python數列[0, 1, 2]，每次迴圈執行到for第一行時，會從這個列表中依序取一個數出來，設定成為變數i，變數i其實就是index的第一個字母的代表，需注意的是i會是從0計數，多數的程式語言都是從0開計數，並非從1開始。"
   ]
  },
  {
   "cell_type": "code",
   "execution_count": 36,
   "metadata": {},
   "outputs": [
    {
     "name": "stdout",
     "output_type": "stream",
     "text": [
      "0 good\n",
      "1 good\n",
      "2 good\n"
     ]
    }
   ],
   "source": [
    "#程式碼3\n",
    "for i in range(3):\n",
    "    print(i, 'good')"
   ]
  },
  {
   "cell_type": "code",
   "execution_count": 37,
   "metadata": {},
   "outputs": [
    {
     "name": "stdout",
     "output_type": "stream",
     "text": [
      "0\n",
      "1\n",
      "2\n"
     ]
    }
   ],
   "source": [
    "#程式碼3b\n",
    "#變數是可以換名字的\n",
    "for j in range(3):\n",
    "    print(j)"
   ]
  },
  {
   "cell_type": "markdown",
   "metadata": {},
   "source": [
    "### <font color=\"red\">練習</font>"
   ]
  },
  {
   "cell_type": "code",
   "execution_count": 38,
   "metadata": {
    "collapsed": true
   },
   "outputs": [],
   "source": [
    "#練習3, 把程式碼中的變數i改名成變數index, 在下方打出來\n",
    "#for index in ..."
   ]
  },
  {
   "cell_type": "markdown",
   "metadata": {},
   "source": [
    "<hr/>\n",
    "\n",
    "## <font color=\"blue\">4.  用for來拿出數列中的內容</font>"
   ]
  },
  {
   "cell_type": "code",
   "execution_count": 42,
   "metadata": {},
   "outputs": [
    {
     "name": "stdout",
     "output_type": "stream",
     "text": [
      "2\n",
      "4\n",
      "8\n",
      "16\n",
      "32\n",
      "64\n"
     ]
    }
   ],
   "source": [
    "#程式碼xx\n",
    "for i in [2, 4, 8, 16, 32, 64]:\n",
    "    print(i)"
   ]
  },
  {
   "cell_type": "markdown",
   "metadata": {},
   "source": [
    "### <font color=\"red\">練習</font>"
   ]
  },
  {
   "cell_type": "code",
   "execution_count": 30,
   "metadata": {
    "collapsed": true
   },
   "outputs": [],
   "source": [
    "#練習xx\n",
    "#印出等差數列中的每一個數字 [1, 4, 7, 10, 13]"
   ]
  },
  {
   "cell_type": "markdown",
   "metadata": {},
   "source": [
    "<hr/>\n",
    "## <font color=\"blue\">5.  break</font>"
   ]
  },
  {
   "cell_type": "code",
   "execution_count": 41,
   "metadata": {},
   "outputs": [
    {
     "name": "stdout",
     "output_type": "stream",
     "text": [
      "0 5以後的不會被執行\n",
      "1 5以後的不會被執行\n",
      "2 5以後的不會被執行\n",
      "3 5以後的不會被執行\n",
      "4 5以後的不會被執行\n"
     ]
    }
   ],
   "source": [
    "for i in range(10):\n",
    "    if i == 5:\n",
    "        break\n",
    "    print(i, '5以後的不會被執行')"
   ]
  },
  {
   "cell_type": "markdown",
   "metadata": {},
   "source": [
    "### <font color=\"red\">練習</font>"
   ]
  },
  {
   "cell_type": "code",
   "execution_count": null,
   "metadata": {
    "collapsed": true
   },
   "outputs": [],
   "source": [
    "#練習"
   ]
  },
  {
   "cell_type": "markdown",
   "metadata": {},
   "source": []
  },
  {
   "cell_type": "markdown",
   "metadata": {},
   "source": [
    "<hr/>\n",
    "## <font color=\"blue\">6. 迴圈中的continue</font>"
   ]
  },
  {
   "cell_type": "code",
   "execution_count": 40,
   "metadata": {},
   "outputs": [
    {
     "name": "stdout",
     "output_type": "stream",
     "text": [
      "5 前面0,1,2,3,4的不會被執行\n",
      "6 前面0,1,2,3,4的不會被執行\n",
      "7 前面0,1,2,3,4的不會被執行\n",
      "8 前面0,1,2,3,4的不會被執行\n",
      "9 前面0,1,2,3,4的不會被執行\n"
     ]
    }
   ],
   "source": [
    "for i in range(10):\n",
    "    if i < 5:\n",
    "        continue\n",
    "    print(i, '前面0,1,2,3,4的不會被執行')"
   ]
  },
  {
   "cell_type": "code",
   "execution_count": null,
   "metadata": {
    "collapsed": true
   },
   "outputs": [],
   "source": [
    "#練習"
   ]
  },
  {
   "cell_type": "markdown",
   "metadata": {},
   "source": [
    "<hr/>\n",
    "## <font color=\"blue\">7.  while 迴圈基本語法</font>"
   ]
  },
  {
   "cell_type": "code",
   "execution_count": 45,
   "metadata": {},
   "outputs": [
    {
     "name": "stdout",
     "output_type": "stream",
     "text": [
      "0\n",
      "1\n",
      "2\n",
      "end\n"
     ]
    }
   ],
   "source": [
    "count = 0\n",
    "while count < 3:\n",
    "    print(count)\n",
    "    count += 1\n",
    "print('end')"
   ]
  },
  {
   "cell_type": "markdown",
   "metadata": {},
   "source": [
    "<hr/>\n",
    "## <font color=\"blue\">8.  while Ture 重覆執行到永遠</font>"
   ]
  },
  {
   "cell_type": "code",
   "execution_count": 1,
   "metadata": {
    "collapsed": true
   },
   "outputs": [],
   "source": [
    "index = 0\n",
    "while True:\n",
    "    index += 1\n",
    "    if index == 5:\n",
    "        break"
   ]
  },
  {
   "cell_type": "markdown",
   "metadata": {},
   "source": [
    "<hr/>\n",
    "<hr/>\n",
    "<hr/>\n",
    "<hr/>\n",
    "<hr/>\n",
    "<hr/>\n",
    "more. enumerate, zip, filter, "
   ]
  },
  {
   "cell_type": "markdown",
   "metadata": {},
   "source": [
    "### TODO  \n",
    "\n",
    "這個練習要結合前面的if else 跟現在學到的for 迴圈  \n",
    "我們要重複執行100次  \n",
    "從0開始到99  \n",
    "每次數一個數時就判斷是奇數還是偶數  \n",
    "是奇數的話就 print 出 \"奇數\"  \n",
    "是偶數的話就print 出 \"偶數\""
   ]
  },
  {
   "cell_type": "code",
   "execution_count": 5,
   "metadata": {
    "collapsed": true
   },
   "outputs": [],
   "source": [
    "for i in range(100):\n",
    "    ...\n",
    "#請在此練習，取代...的部分"
   ]
  },
  {
   "cell_type": "code",
   "execution_count": 4,
   "metadata": {},
   "outputs": [
    {
     "name": "stdout",
     "output_type": "stream",
     "text": [
      "range(0, 4)\n"
     ]
    }
   ],
   "source": [
    "print(range(4))"
   ]
  },
  {
   "cell_type": "markdown",
   "metadata": {
    "collapsed": true
   },
   "source": [
    "接下來我們利用for迴圈跟if else 條件來做一個小遊戲  \n",
    "用 for 迴圈以及 random 連續出題，用 if 來判斷回答正確與否  \n",
    "試著觀察並仿作 **注意語法以及縮排**"
   ]
  },
  {
   "cell_type": "code",
   "execution_count": 1,
   "metadata": {},
   "outputs": [
    {
     "name": "stdout",
     "output_type": "stream",
     "text": [
      "2+12= ?14\n",
      "right\n",
      "7+9= ?16\n",
      "right\n",
      "9+10= ?8\n",
      "wrong\n",
      "8+9= ?3\n",
      "wrong\n",
      "1+4= ?45\n",
      "wrong\n"
     ]
    }
   ],
   "source": [
    "#小遊戲，加減法問答\n",
    "import random \n",
    "\n",
    "for i in range(5):                 # for迴圈重複執行五次\n",
    "    a = random.randint(1,10)       # 指定一個 1~10的隨機數字存在 a \n",
    "    b = random.randint(1,15)       # 指定一個 1~15的隨機數字存在 b\n",
    "    question = str(a)+ '+' + str(b) +  '= ?'  # 問題的字串組合\n",
    "    \n",
    "    ans=input(question)        #提問並把回答儲存在 ans\n",
    "    \n",
    "    if int(ans) == (a + b): \n",
    "        print('right')         #如果回答與答案相符，就印出 right\n",
    "        \n",
    "    else:\n",
    "        print('wrong')         #如果回答與答案不符，就印出 wrong\n",
    "        "
   ]
  },
  {
   "cell_type": "code",
   "execution_count": 2,
   "metadata": {
    "collapsed": true
   },
   "outputs": [],
   "source": [
    "#試著仿作一個程式，並把問答次數改成 10 次\n",
    "\n",
    "\n",
    "\n"
   ]
  },
  {
   "cell_type": "markdown",
   "metadata": {
    "collapsed": true
   },
   "source": [
    "# while loop\n",
    "\n",
    "與for loop 相似的，while loop也是一個重複執行的方式，但是只需要規定執行條件。  \n",
    "以下是一個while loop的範例 :  \n"
   ]
  },
  {
   "cell_type": "code",
   "execution_count": 23,
   "metadata": {},
   "outputs": [
    {
     "name": "stdout",
     "output_type": "stream",
     "text": [
      "0\n",
      "1\n",
      "2\n",
      "3\n",
      "4\n",
      "5\n",
      "6\n",
      "7\n",
      "8\n",
      "9\n"
     ]
    }
   ],
   "source": [
    "i = 0\n",
    "while i < 10:\n",
    "    print (i)\n",
    "    i += 1"
   ]
  },
  {
   "cell_type": "markdown",
   "metadata": {},
   "source": [
    "我們定義 i < 10 為迴圈的執行條件， 當這個條件不成立時，迴圈就會自動停止，\n",
    "在每次迴圈執行時，我們將 i 加上 1 ，這樣一來執行到第十次的時候，  \n",
    "執行條件(i < 10)就不會成立，迴圈就停止了。 \n",
    "\n",
    "for loop 與 while loop不同的地方在於:  \n",
    "我們通常在知道要重複幾次時用for loop，而在不知道要重複幾次時，使用while loop\n",
    "\n",
    "\n",
    "要注意的是，如果指定了一個永遠成立的執行條件(也就是沒有能停止迴圈的條件)，那麼就會讓迴圈變成無窮迴圈(infinite loop)  \n",
    "在大多數狀況下，無窮迴圈是會造成大問題的，所以請小心設定 while 迴圈的執行條件\n",
    "\n",
    "以下是一個無窮迴圈的例子:"
   ]
  },
  {
   "cell_type": "markdown",
   "metadata": {},
   "source": [
    "```python\n",
    "#不要執行它，這是一個無窮迴圈\n",
    "i = 0\n",
    "\n",
    "while (1 == 1):\n",
    "    print (i)\n",
    "    i += 1\n",
    "    \n",
    "```\n",
    "\n",
    "因為執行條件是 1 等於 1，這個條件永遠成立，所以迴圈會不斷重複執行，每次把 i加上 1，然後印出來"
   ]
  },
  {
   "cell_type": "markdown",
   "metadata": {},
   "source": [
    "### TODO\n",
    "\n",
    "請你將下面這個程式的for loop 改成while loop，達到一樣的功能\n",
    "\n",
    "```python\n",
    "import random \n",
    "\n",
    "for i in range(5):                 # for迴圈重複執行五次\n",
    "    a = random.randint(1,10)       # 指定一個 1~10的隨機數字存在 a \n",
    "    b = random.randint(1,15)       # 指定一個 1~15的隨機數字存在 b\n",
    "    question = str(a)+ '+' + str(b) +  '= ?'  # 問題的字串組合\n",
    "    \n",
    "    ans=input(question)        #提問並把回答儲存在 ans\n",
    "    \n",
    "    if int(ans) == (a + b): \n",
    "        print('right')         #如果回答與答案相符，就印出 right\n",
    "        \n",
    "    else:\n",
    "        print('wrong')         #如果回答與答案不符，就印出 wrong\n",
    "```"
   ]
  },
  {
   "cell_type": "code",
   "execution_count": 4,
   "metadata": {
    "collapsed": true
   },
   "outputs": [],
   "source": [
    "# 在這裡練習\n",
    "\n",
    "\n"
   ]
  },
  {
   "cell_type": "markdown",
   "metadata": {
    "collapsed": true
   },
   "source": [
    "### TODO\n",
    "接下來我們來練習做一個猜數字的遊戲  \n",
    "我們先指定一個1~1000的隨機數字作為答案，然後讓使用者去猜\n",
    "如果猜對了則程式結束  \n",
    "猜錯了，如果猜得比答案大，程式會提示說:太大了，如果猜得比答案小，程式會提示說:太小了\n",
    "一直重複提問到猜出來為止"
   ]
  },
  {
   "cell_type": "code",
   "execution_count": null,
   "metadata": {
    "collapsed": true
   },
   "outputs": [],
   "source": [
    "import random\n",
    "\n",
    "ans=random.randint(1,1000)  # 1~1000 取一個整數作為答案\n",
    "\n",
    "#重複提問\n",
    "\n",
    "while True:\n",
    "    innum = int(input())\n",
    "    \n",
    "    if    :               #比對答案與輸入\n",
    "        print()\n",
    "    elif  :\n",
    "        print()\n",
    "    else:\n",
    "        print()\n",
    "    "
   ]
  }
 ],
 "metadata": {
  "kernelspec": {
   "display_name": "Python 3",
   "language": "python",
   "name": "python3"
  },
  "language_info": {
   "codemirror_mode": {
    "name": "ipython",
    "version": 3
   },
   "file_extension": ".py",
   "mimetype": "text/x-python",
   "name": "python",
   "nbconvert_exporter": "python",
   "pygments_lexer": "ipython3",
   "version": "3.6.2"
  }
 },
 "nbformat": 4,
 "nbformat_minor": 2
}
