{
 "cells": [
  {
   "cell_type": "markdown",
   "metadata": {},
   "source": [
    "# list (陣列、清單)\n",
    "\n",
    "list 是 python 內建的一個資料結構，可以讓我們儲存一群資料，這些資料會被某些規則關聯起來，而我們能夠利用內建的函式操作他們，陣列中儲存的資料並沒有嚴格的型態限制，你能夠把數字與字串存在同一個清單中，但我們通常不會這麼做。  \n",
    "\n",
    "底下的例子簡單的示範清單如何建立，以及我們如何取用裡面的資料"
   ]
  },
  {
   "cell_type": "code",
   "execution_count": 1,
   "metadata": {},
   "outputs": [
    {
     "name": "stdout",
     "output_type": "stream",
     "text": [
      "Hello, Bernice!\n",
      "Hello, Aaron!\n",
      "Hello, Cody!\n"
     ]
    }
   ],
   "source": [
    "students = ['bernice', 'aaron', 'cody']\n",
    "\n",
    "for student in students:\n",
    "    print(\"Hello, \" + student.title() + \"!\")"
   ]
  },
  {
   "cell_type": "markdown",
   "metadata": {},
   "source": [
    "### 清單的定義"
   ]
  },
  {
   "cell_type": "markdown",
   "metadata": {},
   "source": [
    "在定義清單時，要記得給予一個清楚的名稱，假如你的清單中是一群狗的名字，你可以把清單命名為 \"dogs\"，同樣的如果是一群車的名字，你可以命名為 \"cars\" ， 而針對清單中的單一項目， 你便可以用 dog 或car 來稱呼，如此一來可以讓你清楚分辨在操作的對象是整個清單還是其中的單一項目。 \n",
    "\n",
    "定義一個清單時，給予名稱，並把清單的項目用中括號 \"[]\" 括起來，並將每筆資料用逗號 ',' 分開。\n"
   ]
  },
  {
   "cell_type": "code",
   "execution_count": 3,
   "metadata": {
    "collapsed": true
   },
   "outputs": [],
   "source": [
    "dogs = ['border collie', 'australian cattle dog', 'labrador retriever']"
   ]
  },
  {
   "cell_type": "markdown",
   "metadata": {},
   "source": [
    "## 取用清單中的項目\n",
    "\n",
    "清單中的項目都被依據位置編號，從0開始，由左往右編  \n",
    "如果想取用清單的第一項，便是取0，第二項取1，以此類推\n",
    "以下是一個取用dogs 的第一項的例子\n"
   ]
  },
  {
   "cell_type": "code",
   "execution_count": 4,
   "metadata": {},
   "outputs": [
    {
     "name": "stdout",
     "output_type": "stream",
     "text": [
      "Border Collie\n"
     ]
    }
   ],
   "source": [
    "dogs = ['border collie', 'australian cattle dog', 'labrador retriever']\n",
    "\n",
    "dog = dogs[0]\n",
    "print(dog.title())"
   ]
  },
  {
   "cell_type": "markdown",
   "metadata": {},
   "source": [
    "### TODO\n",
    "\n",
    "**請你取用dogs 的第二項、第三項、第四項  \n",
    "並將其印出**"
   ]
  },
  {
   "cell_type": "code",
   "execution_count": 8,
   "metadata": {
    "collapsed": true
   },
   "outputs": [],
   "source": [
    "dogs = ['border collie', 'australian cattle dog', 'labrador retriever']\n",
    "#在這裡練習\n",
    "\n",
    "\n"
   ]
  },
  {
   "cell_type": "markdown",
   "metadata": {},
   "source": [
    "若想取用清單的最後一項，只要把[]中的數字改成-1即可  \n",
    "範例如下"
   ]
  },
  {
   "cell_type": "code",
   "execution_count": 9,
   "metadata": {},
   "outputs": [
    {
     "name": "stdout",
     "output_type": "stream",
     "text": [
      "Labrador Retriever\n"
     ]
    }
   ],
   "source": [
    "###highlight=[4]\n",
    "dogs = ['border collie', 'australian cattle dog', 'labrador retriever']\n",
    "\n",
    "dog = dogs[-1]\n",
    "print(dog.title())"
   ]
  },
  {
   "cell_type": "markdown",
   "metadata": {},
   "source": [
    "### TODO\n",
    "\n",
    "**請取出dogs 的倒數第二項，倒數第三項，並印出其值**"
   ]
  },
  {
   "cell_type": "code",
   "execution_count": 10,
   "metadata": {
    "collapsed": true
   },
   "outputs": [],
   "source": [
    "dogs = ['border collie', 'australian cattle dog', 'labrador retriever']\n",
    "#在這裡練習\n",
    "\n",
    "\n"
   ]
  },
  {
   "cell_type": "markdown",
   "metadata": {},
   "source": [
    "### 對清單中每一項進行操作 ( 遍歷 )\n",
    "\n",
    "在一開始的例子中我們已經示範過遍歷操作。在dogs的例子中，我們的清單名稱為dogs ，而我們將其中每一項用一個變數dog取代，python允許我們使用for 迴圈對清單中每一項進行操作\n",
    "寫法如下 :"
   ]
  },
  {
   "cell_type": "code",
   "execution_count": 11,
   "metadata": {},
   "outputs": [
    {
     "name": "stdout",
     "output_type": "stream",
     "text": [
      "border collie\n",
      "australian cattle dog\n",
      "labrador retriever\n"
     ]
    }
   ],
   "source": [
    "dogs = ['border collie', 'australian cattle dog', 'labrador retriever']\n",
    "\n",
    "for dog in dogs:\n",
    "    print(dog)"
   ]
  },
  {
   "cell_type": "markdown",
   "metadata": {},
   "source": [
    "注意 \n",
    "```python\n",
    "for dog in dogs :\n",
    "```\n",
    "不要搞錯兩個順序，這是致命的  \n",
    "+ \"for\" 關鍵字告訴 python 準備進行迴圈\n",
    "+ 變數 'dog' 沒有 's'，是一個暫時的變數，用來儲存清單中的項目，一次存一項。\n",
    "+ 迴圈的第一次執行， \"dog\"變數的值是 \"border collie\"\n",
    "+ 迴圈的第二次執行時，\"dog\"變數的值是 \"australian cattle dog\"\n",
    "+ 第三次時，\"dog\"變數的值是 \"labrador retriever\"\n",
    "+ 之後，因為清單內沒有其他項了，所以迴圈結束"
   ]
  },
  {
   "cell_type": "markdown",
   "metadata": {},
   "source": [
    "這裡有個網站 : [pythontutor.com](http://pythontutor.com/visualize.html#mode=display)能夠讓你每次只執行程式的一個步驟，並且用視覺化的方式讓你看到執行的動作，試試看，你會更理解其中的運作原理\n",
    "\n",
    "底下再給個例子  \n",
    "你能夠對取出來的資料作其他操作，例如組成字串組合"
   ]
  },
  {
   "cell_type": "code",
   "execution_count": 12,
   "metadata": {},
   "outputs": [
    {
     "name": "stdout",
     "output_type": "stream",
     "text": [
      "I like border collies.\n",
      "I like australian cattle dogs.\n",
      "I like labrador retrievers.\n"
     ]
    }
   ],
   "source": [
    "###highlight=[5]\n",
    "dogs = ['border collie', 'australian cattle dog', 'labrador retriever']\n",
    "\n",
    "for dog in dogs:\n",
    "    print('I like ' + dog + 's.')"
   ]
  },
  {
   "cell_type": "markdown",
   "metadata": {
    "collapsed": true
   },
   "source": [
    "### TODO\n",
    "\n",
    "以下的練習請你定義一個清單 colors，其中包含紅, 橙, 黃, 綠, 藍, 紫 六個項目 ，並執行以下動作 :   \n",
    "\n",
    "1. 印出清單的第四項\n",
    "2. 印出 字串組合 (\"清單的第三項是:\",黃)\n",
    "3. 印出清單的長度，可以參考[這裡](https://www.tutorialspoint.com/python/list_len.htm)\n",
    "4. 使用for 迴圈將每一項印出來\n"
   ]
  },
  {
   "cell_type": "code",
   "execution_count": 2,
   "metadata": {
    "collapsed": true
   },
   "outputs": [],
   "source": [
    "colors=[]\n",
    "#在這裡練習\n",
    "\n",
    "\n"
   ]
  },
  {
   "cell_type": "code",
   "execution_count": null,
   "metadata": {
    "collapsed": true
   },
   "outputs": [],
   "source": []
  }
 ],
 "metadata": {
  "kernelspec": {
   "display_name": "Python 3",
   "language": "python",
   "name": "python3"
  },
  "language_info": {
   "codemirror_mode": {
    "name": "ipython",
    "version": 3
   },
   "file_extension": ".py",
   "mimetype": "text/x-python",
   "name": "python",
   "nbconvert_exporter": "python",
   "pygments_lexer": "ipython3",
   "version": "3.6.2"
  }
 },
 "nbformat": 4,
 "nbformat_minor": 2
}
