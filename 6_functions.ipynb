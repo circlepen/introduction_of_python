{
 "cells": [
  {
   "cell_type": "markdown",
   "metadata": {},
   "source": [
    "# function (函式)\n",
    "---\n",
    "## <font color=\"blue\">1. 函式是甚麼</font>\n",
    "函式是一連串指令的集合，我們將一群指令獨立出來並給予名稱，你或許已經用過許多 python 內建的函式例如: int(), input(), print() 之類，  \n",
    "函式可以結構化程式，並且達到寫一次，重複使用的好處。  \n",
    "你可以回想中學數學的方程式，函式的概念與方程式相似，一個固定的處理方式，針對不同輸入，會有不同輸出。  \n",
    "以下是一個簡單的函示範例"
   ]
  },
  {
   "cell_type": "code",
   "execution_count": null,
   "metadata": {
    "collapsed": true
   },
   "outputs": [],
   "source": [
    "#程式 6-1\n",
    "# 定義一個函式\n",
    "def function_name(argument_1, argument_2):\n",
    "    # 寫任何我們想要函式執行的程式在這,\n",
    "    #  使用參數一 , 參數二\n",
    "\n",
    "# 使用函示名稱呼叫函式\n",
    "function_name(value_1, value_2)"
   ]
  },
  {
   "cell_type": "markdown",
   "metadata": {},
   "source": [
    "這段程式無法執行，但可以展示函式的定義與呼叫 \n",
    "     "
   ]
  },
  {
   "cell_type": "markdown",
   "metadata": {},
   "source": [
    "## <font color=\"blue\">2. 函式的定義</font>\n",
    "---\n",
    "+ **定義函式 **\n",
    "  + 使用關鍵字 def  告訴python 你將要 定義(define) 一個函式  \n",
    "  + 給你的函式一個名字，一個變數的名字可以讓你看出這個變數有甚麼用處，同樣的，函式的名字也應該讓你看出它的功用  \n",
    "  + 給予每個函式處理時必須的值名字\n",
    "     + 這些值的名字本身是變數，但只限於函式內使用  \n",
    "     + 他們的名字最好與你程式裡其他的變數名稱不一樣\n",
    "     + 這些函式所必需的值稱為函式的 \" 參數 \"(arguments)    \n",
    "  + 記得縮排(空四個空白)，有縮排的程式碼會被視為在函式的\"裡面\"，否則會被視為再函式的\"外面\"   \n",
    "\n",
    "以下是一個範例，我們定義一個函式，名稱叫hello，功能就是print(\"hello!\")"
   ]
  },
  {
   "cell_type": "code",
   "execution_count": 4,
   "metadata": {
    "collapsed": true
   },
   "outputs": [],
   "source": [
    "#程式 6-2\n",
    "def hello():\n",
    "    print('hello!')"
   ]
  },
  {
   "cell_type": "markdown",
   "metadata": {},
   "source": [
    "你可以發現這個程式沒有輸出，為什麼呢? 因為我們沒有呼叫它，當函式被定義出來後，並不會執行，只有在被呼叫時會執行函式內的程式。  \n",
    "因此我們用函式名稱加括號呼叫hello()函式。"
   ]
  },
  {
   "cell_type": "code",
   "execution_count": 6,
   "metadata": {},
   "outputs": [
    {
     "name": "stdout",
     "output_type": "stream",
     "text": [
      "hello!\n"
     ]
    }
   ],
   "source": [
    "#程式 6-2.b\n",
    "hello()"
   ]
  },
  {
   "cell_type": "markdown",
   "metadata": {},
   "source": [
    "這樣便有了一行輸出\"hello!\"  \n",
    "需要注意的是，電腦讀取程式時，是從上而下循序讀下來，因此如果我們先呼叫函式，而把定義放在呼叫的後面，那麼便會出現錯誤。"
   ]
  },
  {
   "cell_type": "code",
   "execution_count": 7,
   "metadata": {},
   "outputs": [
    {
     "ename": "NameError",
     "evalue": "name 'greet' is not defined",
     "output_type": "error",
     "traceback": [
      "\u001b[1;31m---------------------------------------------------------------------------\u001b[0m",
      "\u001b[1;31mNameError\u001b[0m                                 Traceback (most recent call last)",
      "\u001b[1;32m<ipython-input-7-3df591d81a45>\u001b[0m in \u001b[0;36m<module>\u001b[1;34m()\u001b[0m\n\u001b[1;32m----> 1\u001b[1;33m \u001b[0mgreet\u001b[0m\u001b[1;33m(\u001b[0m\u001b[1;33m)\u001b[0m\u001b[1;33m\u001b[0m\u001b[0m\n\u001b[0m\u001b[0;32m      2\u001b[0m \u001b[1;33m\u001b[0m\u001b[0m\n\u001b[0;32m      3\u001b[0m \u001b[1;32mdef\u001b[0m \u001b[0mgreet\u001b[0m\u001b[1;33m(\u001b[0m\u001b[1;33m)\u001b[0m\u001b[1;33m:\u001b[0m\u001b[1;33m\u001b[0m\u001b[0m\n\u001b[0;32m      4\u001b[0m     \u001b[0mprint\u001b[0m\u001b[1;33m(\u001b[0m\u001b[1;34m\"this is a greeting from Eric\"\u001b[0m\u001b[1;33m)\u001b[0m\u001b[1;33m\u001b[0m\u001b[0m\n",
      "\u001b[1;31mNameError\u001b[0m: name 'greet' is not defined"
     ]
    }
   ],
   "source": [
    "#程式 6-2.c\n",
    "greet()\n",
    "\n",
    "def greet():\n",
    "    print(\"this is a greeting from Eric\")"
   ]
  },
  {
   "cell_type": "markdown",
   "metadata": {},
   "source": [
    "上面的例子電腦給了一個error :  \n",
    "`NameError: name 'greet' is not defined`  \n",
    "因為我們執行時，電腦還沒有讀到定義的部分，所以不認得greet()是什麼\n",
    "\n",
    "## <font color=\"blue\">3. 函式的參數</font>\n",
    "---\n",
    "我們在接下來的例子中加入參數，參數的命名也請盡量清楚簡單，例如我們要做一個對不同人打招呼，可以顯示對方名字的程式  \n",
    "我們便可以把參數取名為name，請看以下例子"
   ]
  },
  {
   "cell_type": "code",
   "execution_count": 10,
   "metadata": {},
   "outputs": [
    {
     "name": "stdout",
     "output_type": "stream",
     "text": [
      "hello Eric\n",
      "hello Larry\n",
      "hello Jacky\n"
     ]
    }
   ],
   "source": [
    "#程式 6-3\n",
    "def hello(name):\n",
    "    \n",
    "    print('hello', name)\n",
    "    \n",
    "hello('Eric')  #傳入Eric\n",
    "hello('Larry') #傳入Larry\n",
    "hello('Jacky') #傳入Jacky"
   ]
  },
  {
   "cell_type": "markdown",
   "metadata": {},
   "source": [
    "如此一來我們便能對不同人打招呼，只要修改傳入的參數就好  \n",
    "在呼叫時，我們傳入的值會自動取代定義式中 \"name\"的位子  \n",
    "### <font color=\"red\">練習</font>\n",
    "請練習定義一個函式，名稱是plus，傳入兩個參數，x 跟 y ，功能是print(x + y)  "
   ]
  },
  {
   "cell_type": "code",
   "execution_count": null,
   "metadata": {
    "collapsed": true
   },
   "outputs": [],
   "source": [
    "#練習 6-3\n",
    "def plus(...):\n",
    "    ..."
   ]
  },
  {
   "cell_type": "markdown",
   "metadata": {},
   "source": [
    "如果你寫對的話，下面這個cell 的執行結果將會是 :  \n",
    "16  \n",
    "100  \n",
    "請執行下面的cell"
   ]
  },
  {
   "cell_type": "code",
   "execution_count": null,
   "metadata": {
    "collapsed": true
   },
   "outputs": [],
   "source": [
    "#測試 6-3\n",
    "plus(5,11)\n",
    "plus(7,93)\n"
   ]
  },
  {
   "cell_type": "markdown",
   "metadata": {},
   "source": [
    "再一個練習，請定義一個函式，名稱是count，傳入一個參數 X，型態是整數，功能是用一個for迴圈把從零開始到X-1的整數都print出來  \n",
    "例如，當我輸入count(10)，那麼輸出會是 :  \n",
    "0  \n",
    "1  \n",
    "2  \n",
    "3  \n",
    "4  \n",
    "5  \n",
    "6  \n",
    "7  \n",
    "8  \n",
    "9  "
   ]
  },
  {
   "cell_type": "code",
   "execution_count": 20,
   "metadata": {
    "collapsed": true
   },
   "outputs": [],
   "source": [
    "#練習 6-3.b\n",
    "def count(...):\n",
    "    ..."
   ]
  },
  {
   "cell_type": "markdown",
   "metadata": {},
   "source": [
    "底下這個cell 是測試，請先執行你的定義式，然後執行這個cell，  \n",
    "如果你看到的輸出是:  \n",
    "`0  \n",
    "1  \n",
    "2  \n",
    "3  \n",
    "4`  \n",
    "那麼你就寫對了"
   ]
  },
  {
   "cell_type": "code",
   "execution_count": 21,
   "metadata": {},
   "outputs": [
    {
     "name": "stdout",
     "output_type": "stream",
     "text": [
      "0\n",
      "1\n",
      "2\n",
      "3\n",
      "4\n"
     ]
    }
   ],
   "source": [
    "#測試 6-3.b\n",
    "count(5)"
   ]
  },
  {
   "cell_type": "markdown",
   "metadata": {},
   "source": [
    "### <font color=\"red\">練習</font>\n",
    "\n",
    "這個練習希望你定義四個函式，分別為add, sub, mul, div  \n",
    "分別為將兩個參數相加，相減，相乘，相除的功能  \n",
    "並且利用這四個函式算出 3 + 4 * 2 - 6 / 3 + 1 的答案，別忘了先乘除後加減\n",
    "函式的計算結果可以用 **return** 關鍵字傳遞  \n",
    "也就是把print(a+b) 改成 return a+b，那麼結果不會印出來，而會被傳遞給其他的函式使用\n"
   ]
  },
  {
   "cell_type": "code",
   "execution_count": null,
   "metadata": {
    "collapsed": true
   },
   "outputs": [],
   "source": [
    "# 練習 6-3.c\n",
    "def add( arg1, arg2):\n",
    "    #在這裡寫程式\n",
    "    return\n",
    "    \n",
    "def sub( arg1, arg2):\n",
    "    #在這裡寫程式\n",
    "    \n",
    "    \n",
    "    #剩下的請你完成"
   ]
  },
  {
   "cell_type": "code",
   "execution_count": null,
   "metadata": {
    "collapsed": true
   },
   "outputs": [],
   "source": [
    "add(sub(add(mul(4, 2),3),div(6,3)),1)"
   ]
  },
  {
   "cell_type": "markdown",
   "metadata": {},
   "source": [
    "## <font color=\"blue\">4. 函式的呼叫(使用)</font>\n",
    "+ ** 呼叫(使用)函式**  \n",
    "  + 呼叫函式的方式就是寫出它的名字並在後面加上小括號()\n",
    "  + 在小括號裡面，給予函式參數的值\n",
    "    + 這些參數值可以是變數，也可以是實際的值，如整數 5 或字串 'eric'  \n",
    "    + 參數的格式必須與定義時一樣，例如，定義時給了三個參數，呼叫時也要給三個參數，並且資料型態上也要注意是否相符\n",
    "以下是一個例子:    "
   ]
  },
  {
   "cell_type": "code",
   "execution_count": 27,
   "metadata": {},
   "outputs": [
    {
     "name": "stdout",
     "output_type": "stream",
     "text": [
      "\n",
      "你做得很好, Adriana!\n",
      "感謝你為這次計畫付出的努力.\n",
      "\n",
      "你做得很好, Billy!\n",
      "感謝你為這次計畫付出的努力.\n",
      "\n",
      "你做得很好, Caroline!\n",
      "感謝你為這次計畫付出的努力.\n"
     ]
    }
   ],
   "source": [
    "#程式 6-4\n",
    "def thank_you(name):\n",
    "    # 這個函式印出兩行的個人化感謝訊息\n",
    "    print(\"\\n你做得很好, %s!\" % name)\n",
    "    print(\"感謝你為這次計畫付出的努力.\")\n",
    "    \n",
    "thank_you('Adriana')\n",
    "thank_you('Billy')\n",
    "thank_you('Caroline')"
   ]
  },
  {
   "cell_type": "markdown",
   "metadata": {},
   "source": [
    "上面的例子定義時給了一個參數，如果在呼叫時給予兩個參數，便會得到以下錯誤:"
   ]
  },
  {
   "cell_type": "code",
   "execution_count": 28,
   "metadata": {},
   "outputs": [
    {
     "ename": "TypeError",
     "evalue": "thank_you() takes 1 positional argument but 2 were given",
     "output_type": "error",
     "traceback": [
      "\u001b[1;31m---------------------------------------------------------------------------\u001b[0m",
      "\u001b[1;31mTypeError\u001b[0m                                 Traceback (most recent call last)",
      "\u001b[1;32m<ipython-input-28-f87e54576de0>\u001b[0m in \u001b[0;36m<module>\u001b[1;34m()\u001b[0m\n\u001b[0;32m      1\u001b[0m \u001b[1;31m#程式 6-4.b\u001b[0m\u001b[1;33m\u001b[0m\u001b[1;33m\u001b[0m\u001b[0m\n\u001b[1;32m----> 2\u001b[1;33m \u001b[0mthank_you\u001b[0m\u001b[1;33m(\u001b[0m\u001b[1;34m'Mendy'\u001b[0m\u001b[1;33m,\u001b[0m\u001b[1;34m'Susan'\u001b[0m\u001b[1;33m)\u001b[0m\u001b[1;33m\u001b[0m\u001b[0m\n\u001b[0m",
      "\u001b[1;31mTypeError\u001b[0m: thank_you() takes 1 positional argument but 2 were given"
     ]
    }
   ],
   "source": [
    "#程式 6-4.b\n",
    "thank_you('Mendy','Susan')"
   ]
  },
  {
   "cell_type": "markdown",
   "metadata": {},
   "source": [
    "### <font color=\"red\">練習</font>\n",
    "\n",
    "在這個練習中，我定義了一個函式，取三個參數，將三個參數排序後由小到大輸出，三個輸入參數必須是數字  \n",
    "請你使用這個函式，排列94,55,78 和 39, 2, 84 三組數字"
   ]
  },
  {
   "cell_type": "code",
   "execution_count": null,
   "metadata": {
    "collapsed": true
   },
   "outputs": [],
   "source": [
    "#練習 6-4\n",
    "#這是定義式，不要更改這裡的程式\n",
    "def increasing(a,b,c):\n",
    "    my_list = [a, b, c]\n",
    "    sorted_list = sorted(my_list)\n",
    "    print(sorted_list[0],sorted_list[1],sorted_list[2])\n",
    "\n",
    "#請在底下呼叫increasing()函式，給予題目指定的參數\n",
    "\n",
    "increasing(...)"
   ]
  },
  {
   "cell_type": "markdown",
   "metadata": {},
   "source": [
    "當你學會如何使用函式之後，你能做到的事情會變得非常多，因為儘管許多程式的原理你尚未明瞭，但只要學會函式的用法，便可以運用現成的函式完成你的工作，而不需要自己寫，這便是抽象化的好處。\n",
    "### <font color=\"red\">練習</font>\n",
    "以下來做個練習，這裡定義了一個程式，如果你是初學者，許多部份應該是你沒見過的，但你也無須知道，現在你只需要知道，這個函式的名稱叫做printlines，有兩個參數 n1, n2，功能是會畫出一條二次方程式的拋物線，與一條一次方程式的直線，顯示的區間是在 x = n1 到 x = n2\n",
    "之間，以下是定義式，只需執行這個cell，不需要改動它  "
   ]
  },
  {
   "cell_type": "code",
   "execution_count": 34,
   "metadata": {
    "collapsed": true
   },
   "outputs": [],
   "source": [
    "#程式 6-4.c\n",
    "#執行這個 cell，不需要改動\n",
    "import matplotlib.pyplot as plt\n",
    "import numpy as np\n",
    "def printlines(n1,n2):\n",
    "    x = np.linspace(n1, n2, 50)\n",
    "    y1 = 2*x + 1\n",
    "    y2 = x**2\n",
    "\n",
    "    plt.figure(num = 2, figsize = (8, 5),)\n",
    "    plt.plot(x, y2)\n",
    "# plot the second curve in this figure with certain parameters\n",
    "    plt.plot(x, y1, color='red', linewidth=1.0, linestyle='--')\n",
    "    plt.show()\n",
    "    \n"
   ]
  },
  {
   "cell_type": "markdown",
   "metadata": {},
   "source": [
    "接下來，我們示範這個函式的用法"
   ]
  },
  {
   "cell_type": "code",
   "execution_count": 35,
   "metadata": {},
   "outputs": [
    {
     "data": {
      "image/png": "[encoded data removed]",
      "text/plain": [
       "<matplotlib.figure.Figure at 0xd72ef0>"
      ]
     },
     "metadata": {},
     "output_type": "display_data"
    }
   ],
   "source": [
    "#程式 6-4.d\n",
    "#使用上一個 cell定義的函式\n",
    "\n",
    "printlines(-4, 7)"
   ]
  },
  {
   "cell_type": "markdown",
   "metadata": {},
   "source": [
    "你可以看到線的區間是在x = -4 ~ x = 7 之間，  \n",
    "現在請你用這個函式畫一個圖，顯示區間在 -1 到 10之間"
   ]
  },
  {
   "cell_type": "code",
   "execution_count": null,
   "metadata": {
    "collapsed": true
   },
   "outputs": [],
   "source": [
    "#練習6-4.b\n",
    "#呼叫printlines()函式\n",
    "\n",
    "printlines(...)"
   ]
  },
  {
   "cell_type": "markdown",
   "metadata": {},
   "source": [
    "你會看到一個一樣的圖，但是X軸的座標應該是從-1到10的範圍\n",
    "\n",
    "### 使用函式的好處\n",
    "\n",
    "+ 我們只寫了一次程式，然後以它為範本，在做重複工作時重複呼叫它，只改變參數，因而省去了我們重複寫一段程式的麻煩。\n",
    "+ 只要我們的函式能作用，我們就不需要再去擔心它。每次你重新寫一段程式碼，你都在增加犯錯的機會。利用函數可以減少你犯錯的機會，並且如果有錯誤，你只需針對一個地方修改就好，修好之後。我們能夠很有信心地說它之後都能夠正常運作。\n",
    "+ 我們能夠針對函式修改它的行為，然後這個修改將在每一次函式被呼叫時作用。這絕對比需要在程式的各個地方做修改要來的方便。\n",
    "\n"
   ]
  },
  {
   "cell_type": "markdown",
   "metadata": {},
   "source": [
    "## <font color=\"blue\">5. 模組與套件</font>\n",
    "---\n",
    "函式只能夠在一個檔案中重複使用，但如果想要讓其他檔案也可以使用一個函式，就需要模組。  \n",
    "簡單的說模組就是一個.py檔案，裡面集合了一些函式、物件與常數，而如果將許多的模組組織成一個目錄，就是所謂\"套件\"\n",
    "模組與套件可以透過import關鍵字引入新的檔案中，這樣不需要把內容重打一次，也可以使用套件中定義的函式與常數，我們舉上面畫圖的例子，使用了matplotlib 和 numpy 這兩個套件。"
   ]
  },
  {
   "cell_type": "code",
   "execution_count": 53,
   "metadata": {},
   "outputs": [
    {
     "data": {
      "image/png": "[encoded data removed]",
      "text/plain": [
       "<matplotlib.figure.Figure at 0x10c1930>"
      ]
     },
     "metadata": {},
     "output_type": "display_data"
    }
   ],
   "source": [
    "# 程式 6-5\n",
    "#注意 import 關鍵字\n",
    "import matplotlib.pyplot as plt\n",
    "import numpy as np\n",
    "\n",
    "\n",
    "x = np.linspace(-3,3,50)\n",
    "y = x**2-3*x+2\n",
    "plt.figure(num = 1,figsize = (6,3),)\n",
    "plt.plot(x, y)\n",
    "plt.show()\n",
    "\n"
   ]
  },
  {
   "cell_type": "markdown",
   "metadata": {},
   "source": [
    "**import** 關鍵字引入套件後我們便可以使用原本沒有的函式，例如 np.linspace(), plt.plot() 之類\n",
    "關於這兩個套件，我們會在進階章節詳細介紹，如果有興趣，可以參考:  \n",
    "[numpy](https://zh.wikipedia.org/wiki/NumPy)  \n",
    "[matplotlib](https://zh.wikipedia.org/wiki/Matplotlib)  \n",
    "\n",
    "你可以將引入的套件另外取名，之後就用自己取的名字呼叫套件的函式，像是上面程式中的  \n",
    "```python\n",
    "import numpy as np\n",
    "```\n",
    "那麼之後呼叫就不需要打numpy 而只要打np就可以了"
   ]
  }
 ],
 "metadata": {
  "kernelspec": {
   "display_name": "Python 3",
   "language": "python",
   "name": "python3"
  },
  "language_info": {
   "codemirror_mode": {
    "name": "ipython",
    "version": 3
   },
   "file_extension": ".py",
   "mimetype": "text/x-python",
   "name": "python",
   "nbconvert_exporter": "python",
   "pygments_lexer": "ipython3",
   "version": "3.6.2"
  }
 },
 "nbformat": 4,
 "nbformat_minor": 2
}
