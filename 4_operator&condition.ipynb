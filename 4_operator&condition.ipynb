{
 "cells": [
  {
   "cell_type": "markdown",
   "metadata": {},
   "source": [
    "# operators (運算子)\n",
    "---\n",
    "## <font color=\"blue\">1.基本運算子</font>\n",
    "python中可以使用基本的數學運算  \n",
    "用法如下，要注意的是，乘號是 * 而除號是 / ，跟手寫的符號不一樣\n",
    " "
   ]
  },
  {
   "cell_type": "code",
   "execution_count": 5,
   "metadata": {},
   "outputs": [
    {
     "data": {
      "text/plain": [
       "9"
      ]
     },
     "execution_count": 5,
     "metadata": {},
     "output_type": "execute_result"
    }
   ],
   "source": [
    "#程式 4-1\n",
    "\n",
    "4 + 5"
   ]
  },
  {
   "cell_type": "code",
   "execution_count": 4,
   "metadata": {},
   "outputs": [
    {
     "data": {
      "text/plain": [
       "0.8888888888888888"
      ]
     },
     "execution_count": 4,
     "metadata": {},
     "output_type": "execute_result"
    }
   ],
   "source": [
    "#程式 4-1.b\n",
    "\n",
    "8 / 9"
   ]
  },
  {
   "cell_type": "markdown",
   "metadata": {},
   "source": [
    "我們在前面提過資料型態的差別，數字分為兩種型態，整數(int)與浮點數(float)  \n",
    "所有的不屬於整數的數字都被歸類為浮點數，而計算時，整數與浮點數如果放在一起算，會全部被當作浮點數，如下面的例子"
   ]
  },
  {
   "cell_type": "code",
   "execution_count": 7,
   "metadata": {},
   "outputs": [
    {
     "name": "stdout",
     "output_type": "stream",
     "text": [
      "23.0\n",
      "17.0\n",
      "60.0\n",
      "6.666666666666667\n"
     ]
    }
   ],
   "source": [
    "#程式 4-1.c\n",
    "number = 20.0 #浮點數\n",
    "number2 = 3   #整數\n",
    "\n",
    "print (number + number2) #加法\n",
    "print (number - number2) #減法\n",
    "print (number * number2) #乘法\n",
    "print (number / number2) #除法\n"
   ]
  },
  {
   "cell_type": "markdown",
   "metadata": {},
   "source": [
    "### <font color=\"red\">練習</font>\n",
    "請練習使用加減乘除運算  \n",
    "例如: 3 + 5, 6 * 4, 等等"
   ]
  },
  {
   "cell_type": "code",
   "execution_count": 13,
   "metadata": {
    "collapsed": true
   },
   "outputs": [],
   "source": [
    "#練習 4-1\n",
    "\n"
   ]
  },
  {
   "cell_type": "markdown",
   "metadata": {},
   "source": [
    "## <font color=\"blue\">2.計數</font>\n",
    "在程式中我們很常用到一個功能，就是計數，通常會定義一個變數，如:a = 0  \n",
    "然後每次要加計一單位，便把a + 1，正常寫法為: `a = a + 1`，但是我們通常會用簡寫的方式，寫作: `a += 1` ，如果要遞減計數的話，也可以用 `a -= 1`，記得 += 或 -= 必須連載一起，但左右各一個空白。\n",
    "\n",
    "以下是一些例子 : "
   ]
  },
  {
   "cell_type": "code",
   "execution_count": 3,
   "metadata": {},
   "outputs": [
    {
     "name": "stdout",
     "output_type": "stream",
     "text": [
      "a: 6\n"
     ]
    }
   ],
   "source": [
    "#程式 4-2\n",
    "a = 9\n",
    "\n",
    "a -= 3\n",
    "print ('a:',a)\n"
   ]
  },
  {
   "cell_type": "code",
   "execution_count": 4,
   "metadata": {},
   "outputs": [
    {
     "name": "stdout",
     "output_type": "stream",
     "text": [
      "a: 27\n"
     ]
    }
   ],
   "source": [
    "#程式 4-2.b\n",
    "a = 9\n",
    "a *= 3\n",
    "print ('a:',a)"
   ]
  },
  {
   "cell_type": "code",
   "execution_count": 6,
   "metadata": {},
   "outputs": [
    {
     "name": "stdout",
     "output_type": "stream",
     "text": [
      "a: 3.0\n"
     ]
    }
   ],
   "source": [
    "#程式4-2.c\n",
    "a = 9\n",
    "a /= 3\n",
    "print ('a:',a)"
   ]
  },
  {
   "cell_type": "markdown",
   "metadata": {},
   "source": [
    "### <font color=\"red\">練習</font>\n",
    "請練習使用+= *=等符號，首先定義一個變數 a ，之後把 a 加上 5，再把 a 乘以 4，然後把 a除以 2 ，最後印出 a 的值\n"
   ]
  },
  {
   "cell_type": "code",
   "execution_count": 14,
   "metadata": {
    "collapsed": true
   },
   "outputs": [],
   "source": [
    "#練習 4-2\n",
    "\n"
   ]
  },
  {
   "cell_type": "markdown",
   "metadata": {},
   "source": [
    "## <font color=\"blue\">3.進階運算子</font>\n",
    "除了基本的加減乘除之外，還有幾個數學運算子也是我們常用到的，例如 '%', '//', '\\*\\*'等。  \n",
    "\"%\" 這個符號是取餘數的意思， 例如 5 % 3 就是 5 對 3 取餘數，答案是 2 ，以下是一個例子"
   ]
  },
  {
   "cell_type": "code",
   "execution_count": 9,
   "metadata": {},
   "outputs": [
    {
     "name": "stdout",
     "output_type": "stream",
     "text": [
      "3.3333333333333335\n",
      "1\n"
     ]
    }
   ],
   "source": [
    "#程式 4-3\n",
    "print (10 / 3) #直接除\n",
    "print (10 % 3) #餘數, mod"
   ]
  },
  {
   "cell_type": "markdown",
   "metadata": {},
   "source": [
    "\"//\" 這個符號是取商的意思，例如 9 // 4，9 除以 4 等於 2 餘 1，所以答案是 2"
   ]
  },
  {
   "cell_type": "code",
   "execution_count": 10,
   "metadata": {},
   "outputs": [
    {
     "name": "stdout",
     "output_type": "stream",
     "text": [
      "2.5\n",
      "2\n"
     ]
    }
   ],
   "source": [
    "#程式 4-3.b\n",
    "print( 10 / 4 ) #直接除\n",
    "print( 10 // 4 ) #取商"
   ]
  },
  {
   "cell_type": "markdown",
   "metadata": {},
   "source": [
    "\"\\*\\*\" 這個符號是次方的意思， 2 \\*\\* 5 也就是 2 的 5 次方"
   ]
  },
  {
   "cell_type": "code",
   "execution_count": 11,
   "metadata": {},
   "outputs": [
    {
     "name": "stdout",
     "output_type": "stream",
     "text": [
      "9\n",
      "1024\n"
     ]
    }
   ],
   "source": [
    "#程式 4-3.c\n",
    "print( 3 ** 2 ) #三的二次方\n",
    "print( 4 ** 5) #四的五次方"
   ]
  },
  {
   "cell_type": "markdown",
   "metadata": {},
   "source": [
    "### <font color=\"red\">練習</font>\n",
    "\n",
    "請練習使用上面介紹的符號算出:  \n",
    "+ 408293 除以 37 的商\n",
    "+ 9487 除以的 87 的餘數 \n",
    "+ 426 的 3 次方"
   ]
  },
  {
   "cell_type": "code",
   "execution_count": 20,
   "metadata": {
    "collapsed": true
   },
   "outputs": [],
   "source": [
    "#練習 4-3\n",
    "\n"
   ]
  },
  {
   "cell_type": "markdown",
   "metadata": {},
   "source": [
    "答案分別是  \n",
    "`11034`  \n",
    "`4`  \n",
    "`77308776`\n"
   ]
  },
  {
   "cell_type": "markdown",
   "metadata": {},
   "source": [
    "# bool(布林值)\n",
    "---\n",
    "## <font color=\"blue\">4.邏輯運算子</font>\n",
    "布林值也就是真與假，只有兩個結果，可以對應到邏輯學的命題，真就是True，假就是False，注意在表示時第一個字母要大寫，在寫程式時，我們時常會需要進行判斷，而判斷所得的結果就是True或是False，這也影響了程式的流程控制，是非常重要的一個基本資料型態。  \n",
    "在進行判斷時，通常會搭配上邏輯運算子，以下幾個是常見的邏輯運算子\n",
    "+ \\> 大於\n",
    "+ < 小於\n",
    "+ \\>= 大於或等於\n",
    "+ <= 小於或等於\n",
    "+ == 相等於\n",
    "+ != 不等於\n",
    "+ and 且\n",
    "+ or 或\n",
    "這些運算子在進行判斷後，如果結果為真，就會回傳 True，結果為假就回傳False  \n",
    "以下是一些範例"
   ]
  },
  {
   "cell_type": "code",
   "execution_count": 23,
   "metadata": {},
   "outputs": [
    {
     "name": "stdout",
     "output_type": "stream",
     "text": [
      "False\n",
      "True\n",
      "False\n"
     ]
    }
   ],
   "source": [
    "#程式 4-4\n",
    "print( 3 > 5) # 三不大於五，所以會傳回 False\n",
    "print( 4 < 10) # 四小於十，所以會傳回True\n",
    "a = \"hello\"\n",
    "b = \"Hello\"\n",
    "print( a == b ) # a 和 b 字串不完全相等，所以傳回False"
   ]
  },
  {
   "cell_type": "markdown",
   "metadata": {},
   "source": [
    "特別要注意的是，一個 = 是指定的意思，也就是變數賦值，兩個 == 是比對相等與否的意思  \n",
    "這是初學者常常弄錯的觀念，而 != 是不等於的意思，也就是兩者相等時會回傳False  \n",
    "另外 and 和 or 兩個是交集與聯集運算子  \n",
    "+ and 是交集運算子，當左右兩個條件都是True時，其值為True，反之為False\n",
    "+ or 是聯集運算子，當左右兩個條件都是False時，其值為False，反之為True  \n",
    "以下是 and 和 or 的範例"
   ]
  },
  {
   "cell_type": "code",
   "execution_count": 25,
   "metadata": {},
   "outputs": [
    {
     "name": "stdout",
     "output_type": "stream",
     "text": [
      "True\n",
      "False\n",
      "----------------------------------------\n",
      "False\n",
      "True\n"
     ]
    }
   ],
   "source": [
    "#程式 4-4.b\n",
    "print(True and True) #True\n",
    "print(False and True) #False\n",
    "\n",
    "print('--'*20)\n",
    "\n",
    "print(False or False) #False\n",
    "print(True or False) #True"
   ]
  },
  {
   "cell_type": "markdown",
   "metadata": {},
   "source": [
    "如果將比對與交集聯集合起來用，會像下面的例子:"
   ]
  },
  {
   "cell_type": "code",
   "execution_count": 26,
   "metadata": {},
   "outputs": [
    {
     "data": {
      "text/plain": [
       "False"
      ]
     },
     "execution_count": 26,
     "metadata": {},
     "output_type": "execute_result"
    }
   ],
   "source": [
    "3 > 5 and 7 < 9  #左邊是False，右邊是True，and 之後是False"
   ]
  },
  {
   "cell_type": "markdown",
   "metadata": {},
   "source": [
    "### <font color=\"red\">練習</font>\n",
    "請模仿上面這個例子，做出兩個and和兩個or條件式\n",
    "分別讓 and 和 or 各出現一次True 與一次False\n"
   ]
  },
  {
   "cell_type": "code",
   "execution_count": 27,
   "metadata": {},
   "outputs": [
    {
     "name": "stdout",
     "output_type": "stream",
     "text": [
      "False\n"
     ]
    }
   ],
   "source": [
    "#練習 4-4\n",
    "\n",
    "print(3 > 5 and 7 < 9 ) #這個print會印出False，模仿這行程式，分別使用and 和 bor\n",
    "\n",
    "#請在以下練習\n",
    "..."
   ]
  },
  {
   "cell_type": "markdown",
   "metadata": {},
   "source": [
    "你的輸出應該會是  \n",
    "`False`    \n",
    "`True`  \n",
    "`False`  \n",
    "`True`  \n"
   ]
  },
  {
   "cell_type": "markdown",
   "metadata": {},
   "source": [
    "# condition (條件判斷)\n",
    "---\n",
    "## <font color=\"blue\">5.if 判斷式基本語法</font>\n",
    "配合上面的布林值，我們便可以給予程式條件，限定某些程式在特定條件下才能執行\n",
    "以下是一個簡單的例子:"
   ]
  },
  {
   "cell_type": "code",
   "execution_count": 28,
   "metadata": {},
   "outputs": [
    {
     "name": "stdout",
     "output_type": "stream",
     "text": [
      "number is smaller than number2\n"
     ]
    }
   ],
   "source": [
    "#程式 4-5\n",
    "number = 10\n",
    "number2 = 15\n",
    "\n",
    "if number < number2:\n",
    "    print (\"number is smaller than number2\")"
   ]
  },
  {
   "cell_type": "markdown",
   "metadata": {},
   "source": [
    "我們利用 **' if '** 關鍵字來構成條件判斷，後面空白後接條件，記得要冒號\n",
    "\n",
    "底下空四個空白後輸入條件成立下要執行的程式\n",
    "\n",
    "因為 10 < 15， 所以 number < number2 的判斷是 True ，因此冒號下面的 print 就會被執行  \n",
    "\n",
    "以下再給一些例子 : "
   ]
  },
  {
   "cell_type": "code",
   "execution_count": 15,
   "metadata": {},
   "outputs": [
    {
     "name": "stdout",
     "output_type": "stream",
     "text": [
      "grade > 60 True\n"
     ]
    }
   ],
   "source": [
    "#程式 4-5.b\n",
    "grade = 100\n",
    "print ('grade > 60', grade > 60) #True\n"
   ]
  },
  {
   "cell_type": "code",
   "execution_count": 16,
   "metadata": {},
   "outputs": [
    {
     "name": "stdout",
     "output_type": "stream",
     "text": [
      "grade2 > 60 False\n",
      "True\n"
     ]
    }
   ],
   "source": [
    "#程式 4-5.c\n",
    "grade2 = 10\n",
    "print ('grade2 > 60', grade2 > 60) #False\n",
    "\n",
    "print (grade2 <80) #True\n"
   ]
  },
  {
   "cell_type": "markdown",
   "metadata": {},
   "source": [
    "## <font color=\"blue\">5.if else 判斷式</font>\n",
    "\n",
    "在做if判斷時，我們規定了如果條件成立要做甚麼，但並沒有規定條件不成立要做甚麼，如果在需要進行非 A 即 B 的條件判斷，例如考卷答案對或錯，或是電子鎖密碼對或錯這種只有兩種狀況的判斷時，我們會加上 **else** 關鍵字，翻成中文的話就是 若...否則...，以下是一個範例。"
   ]
  },
  {
   "cell_type": "code",
   "execution_count": 30,
   "metadata": {},
   "outputs": [
    {
     "name": "stdout",
     "output_type": "stream",
     "text": [
      "Fail\n"
     ]
    }
   ],
   "source": [
    "#程式 4-5\n",
    "score = 50\n",
    "if score >= 60:\n",
    "    print('Pass')\n",
    "else:\n",
    "    print('Fail')"
   ]
  },
  {
   "cell_type": "markdown",
   "metadata": {},
   "source": [
    "在這個例子中，我們要對分數score做判斷，如果大於等於六十分，就是通過，否則就是不通過。  \n",
    "因為我們定義score = 50，所以印出 Fail。  \n",
    "可以發現 else 關鍵字底下的程式會在 if 的條件不成立時執行。  \n",
    "需要注意的是 else 關鍵字的後面不需要接條件而是直接接冒號，因為\"否則\"就是上面條件的相反，所以if 跟 else 是針對同一個條件的兩個狀況。\n",
    "\n",
    "### <font color=\"red\">練習</font>\n",
    "請定義一個變數 temperature 並給予一個值，然後利用 if 跟 else 判斷，如果temperature大於35就印出\"Hot\"，小於等於的話就印出 \"OK\"。"
   ]
  },
  {
   "cell_type": "code",
   "execution_count": 19,
   "metadata": {
    "collapsed": true
   },
   "outputs": [],
   "source": [
    "#練習 4-5\n",
    "\n",
    "temperature = ...\n",
    "\n",
    "\n"
   ]
  },
  {
   "cell_type": "markdown",
   "metadata": {
    "collapsed": true
   },
   "source": [
    "## <font color=\"blue\">6.if elif else 判斷式</font>\n",
    "在日常生活中，我們遭遇到的狀況通常是有許多條件的，針對每個條件有不同的反應，因此我們需要再增加一個關鍵字，elif，這個關鍵字准許我們針對更多的條件有各自不同的對應動作，例如上面例子的溫度，我們對溫度的感覺通常不只冷跟熱，可能有很冷，微涼，舒適，有點熱，很熱等等，針對這樣的狀況，我們就需要區分出五種條件，請看以下例子"
   ]
  },
  {
   "cell_type": "code",
   "execution_count": 32,
   "metadata": {},
   "outputs": [
    {
     "name": "stdout",
     "output_type": "stream",
     "text": [
      "現在溫度25\n",
      "舒適\n"
     ]
    }
   ],
   "source": [
    "#程式 4-6\n",
    "temp = input(\"現在溫度\") #輸入溫度，型態為字串\n",
    "temp = float(temp) #將字串轉成浮點數\n",
    "\n",
    "if temp < 16 :\n",
    "    print(\"很冷\")\n",
    "elif temp < 24 :\n",
    "    print(\"微涼\")\n",
    "elif temp < 30 :\n",
    "    print(\"舒適\")\n",
    "elif temp < 34 :\n",
    "    print(\"有點熱\")\n",
    "else :\n",
    "    print(\"很熱\")"
   ]
  },
  {
   "cell_type": "markdown",
   "metadata": {},
   "source": [
    "這裡我們將狀況切成五種，不同的溫度區間給予不同的輸出。或許有人會有疑問，如果我輸入25，那麼會同時滿足temp < 34, temp < 30, 兩個條件，那麼會不會有兩個輸出呢?  \n",
    "答案是不會，因為if elif else 這個判斷式，是一個多條件判斷式，在這麼多的條件中，只要有一個條件成立，那麼其他條件便會被略過不執行。另外我們必須知道的是，電腦在執行程式時，是由上到下循序執行下來的，因此第一個if 的條件會先被判斷，如果不成立，會繼續進行第一個elif的判斷，如果不成立再繼續第二個elif，一直到最後的else，如果在這個過程中有一個條件成立了，便會執行這個條件的程式，然後略過接下來的判斷。在這個例子中我們輸入25，所以在temp < 30 這個elif判斷成立，因此輸出\"舒適\"，然後略過接下來的temp < 30 以及 else，所以我們只會得到一個輸出\"舒適\"。\n",
    "\n",
    "### <font color=\"red\">練習</font>\n",
    "\n",
    "這裡進行一個小練習，我們現在讓使用者輸入衣服的顏色，只有在輸入red, green, yellow, blue 四種顏色時，我們會給一個輸出，其他狀況(也就是else)則是直接回應\"我們沒有這個顏色\"\n"
   ]
  },
  {
   "cell_type": "code",
   "execution_count": null,
   "metadata": {
    "collapsed": true
   },
   "outputs": [],
   "source": [
    "#練習 4-6\n",
    "color = input(\"輸入顏色\")\n",
    "\n",
    "\n",
    "if color == \"red\":\n",
    "    print(\"一件紅色的衣服\")\n",
    "#請完成剩下的部分\n",
    "elif ... :\n",
    "\n",
    "elif ... :\n",
    "\n",
    "elif ... :\n",
    "\n",
    "else:\n",
    "    print(\"我們沒有這個顏色\")"
   ]
  },
  {
   "cell_type": "markdown",
   "metadata": {},
   "source": [
    "## <font color=\"blue\">7.if判斷式 與 and or 結合</font>\n",
    "\n",
    "程式4-6的例子中我們用if elif 和 else做多條件判斷，但其實也可以只用if 進行判斷  \n",
    "觀察一下程式4-6的例子，可以發現，我們需要的是以下幾個區段:  \n",
    "小於16度  \n",
    "16~23度  \n",
    "24~29度  \n",
    "30~33度  \n",
    "大於33度  \n",
    "我們可以將程式改寫如下"
   ]
  },
  {
   "cell_type": "code",
   "execution_count": 33,
   "metadata": {},
   "outputs": [
    {
     "name": "stdout",
     "output_type": "stream",
     "text": [
      "現在溫度25\n",
      "舒適\n"
     ]
    }
   ],
   "source": [
    "#程式 4-7 \n",
    "temp = input(\"現在溫度\") #輸入溫度，型態為字串\n",
    "temp = float(temp) #將字串轉成浮點數\n",
    "\n",
    "if temp < 16 :\n",
    "    print(\"很冷\")\n",
    "if temp < 24 and temp >= 16 :\n",
    "    print(\"微涼\")\n",
    "if temp < 30 and temp >= 24 :\n",
    "    print(\"舒適\")\n",
    "if temp < 34 and temp >= 30 :\n",
    "    print(\"有點熱\")\n",
    "if temp >=34  :\n",
    "    print(\"很熱\")"
   ]
  },
  {
   "cell_type": "markdown",
   "metadata": {},
   "source": [
    "因為我們的條件式有區段性的，所以利用if 和 and 的組合，便可以得到一樣的效果，而不需要加上 elif 和 else。\n",
    "\n",
    "### <font color=\"red\">練習</font>\n",
    "請練習用if 和 and 語法，寫一個成績判斷的程式，判斷標準如下:  \n",
    "\n",
    "90分以上(含90)  等第A\n",
    "80分以上(含80)  等第B\n",
    "70分以上(含70)  等第C\n",
    "60分以上(含60)  等第D\n",
    "小於六十分      等第F\n"
   ]
  },
  {
   "cell_type": "code",
   "execution_count": 15,
   "metadata": {},
   "outputs": [
    {
     "name": "stdout",
     "output_type": "stream",
     "text": [
      "輸入一個數字6.8\n",
      "大\n"
     ]
    }
   ],
   "source": [
    "#練習 4-7 \n",
    "\n",
    "score = input(\"輸入分數\") #讀取輸入\n",
    "score = float(score)     #轉成浮點數\n",
    "#請完成剩下的部分\n",
    "...\n"
   ]
  }
 ],
 "metadata": {
  "kernelspec": {
   "display_name": "Python 3",
   "language": "python",
   "name": "python3"
  },
  "language_info": {
   "codemirror_mode": {
    "name": "ipython",
    "version": 3
   },
   "file_extension": ".py",
   "mimetype": "text/x-python",
   "name": "python",
   "nbconvert_exporter": "python",
   "pygments_lexer": "ipython3",
   "version": "3.6.2"
  }
 },
 "nbformat": 4,
 "nbformat_minor": 2
}
