{
 "cells": [
  {
   "cell_type": "markdown",
   "metadata": {},
   "source": [
    "# 迴圈\n",
    "---\n",
    "\n",
    "日常生活中有許多重複的事情，例如一個星期有七天，每七天就會重新回到星期一，或者一年有四季，不斷循環，這都是日常生活中\"迴圈\"的概念。在電腦程式中，迴圈是一個讓程式重複執行的結構，可以讓我們用更少的程式來做出重複的動作，舉例來說，假設我們有一份150人的名單，那麼要印出所有人的名字，就必須要打150次 print()，但是如果有迴圈，那麼我們就可以打一次程式，讓它執行150次，每次把名字換掉就好。\n",
    "# for loop  (迴圈)\n",
    "---\n",
    "## <font color=\"blue\">1.for基本語法</font>\n",
    "\n",
    "for是python常用的關鍵字，for關鍵字後面會有空白，range(3)是下一行的程式碼執行3次，所以'hello'字串會變列出來3行，for的結尾要有冒號，代表是下面還有程式碼，也都是屬於for迴圈的內容。要特別注意的是print的前面有4個空白字元，這是所謂的縮排，縮排內容不一定只有一行這個區塊的程式碼就是for迴圈執行時的內容，如果是多行，也會依順序的執行出來.\n",
    "\n",
    "下面例子是示範重覆3次，印出一行hi及一行David，說明使用for迴圈的寫法，"
   ]
  },
  {
   "cell_type": "code",
   "execution_count": 1,
   "metadata": {},
   "outputs": [
    {
     "name": "stdout",
     "output_type": "stream",
     "text": [
      "Hi!\n",
      "David\n",
      "Hi!\n",
      "David\n",
      "Hi!\n",
      "David\n"
     ]
    }
   ],
   "source": [
    "#程式碼 5-1\n",
    "for i in range(3):\n",
    "    print('Hi!')\n",
    "    print('David')"
   ]
  },
  {
   "cell_type": "markdown",
   "metadata": {},
   "source": [
    "### <font color=\"red\">練習</font>\n",
    "\n",
    "仿做程式碼5-1，在下面印出自己的名字5次"
   ]
  },
  {
   "cell_type": "code",
   "execution_count": 5,
   "metadata": {
    "collapsed": true
   },
   "outputs": [],
   "source": [
    "#練習 5-1, 印出自己的名字5次\n",
    "#使用 range(5), print的字串修改成自己的中文或英文名字\n",
    "\n",
    "#for ...\n",
    "#    print('hi')\n",
    "#    print('自己名字')\n"
   ]
  },
  {
   "cell_type": "markdown",
   "metadata": {},
   "source": [
    "上面練習，印出來的結果會像是，Eric的部份應該是你的名字\n",
    "\n",
    "```\n",
    "Hi\n",
    "Eric\n",
    "Hi\n",
    "Eric\n",
    "Hi\n",
    "Eric\n",
    "Hi\n",
    "Eric\n",
    "Hi\n",
    "Eric\n",
    "```\n",
    "\n",
    "<hr/>\n",
    "\n",
    "## <font color=\"blue\">2. pass(通過)關鍵字</font>\n",
    "\n",
    "for開頭的迴圈的下一行，一定要有縮排的程式碼，如果暫時還沒有指令需要執行，可以用pass的關鍵字來暫時取代，pass是通過的意思，也就是先省去不用執行"
   ]
  },
  {
   "cell_type": "code",
   "execution_count": 7,
   "metadata": {
    "collapsed": true
   },
   "outputs": [],
   "source": [
    "#程式碼 5-2\n",
    "for i in range(10):\n",
    "    pass"
   ]
  },
  {
   "cell_type": "markdown",
   "metadata": {},
   "source": [
    "### <font color=\"red\">練習</font>\n",
    "\n",
    "參考程式碼2，練習pass的使用"
   ]
  },
  {
   "cell_type": "code",
   "execution_count": 8,
   "metadata": {
    "collapsed": true
   },
   "outputs": [],
   "source": [
    "#練習 5-2, 請練習 for ... pass\n",
    "\n"
   ]
  },
  {
   "cell_type": "markdown",
   "metadata": {},
   "source": [
    "<hr/>\n",
    "\n",
    "## <font color=\"blue\">3.  index變數使用</font>\n",
    "\n",
    "range(3)產生python數列[0, 1, 2]，每次迴圈執行到for第一行時，會從這個列表中依序取一個數出來，設定成為變數i，變數i其實就是index的第一個字母的代表，需注意的是i會是從0計數，多數的程式語言都是從0開計數，並非從1開始。"
   ]
  },
  {
   "cell_type": "code",
   "execution_count": 3,
   "metadata": {},
   "outputs": [
    {
     "name": "stdout",
     "output_type": "stream",
     "text": [
      "0 good\n",
      "1 good\n",
      "2 good\n"
     ]
    }
   ],
   "source": [
    "#程式碼 5-3\n",
    "for i in range(3):\n",
    "    print(i, 'good')"
   ]
  },
  {
   "cell_type": "code",
   "execution_count": 9,
   "metadata": {},
   "outputs": [
    {
     "name": "stdout",
     "output_type": "stream",
     "text": [
      "0\n",
      "1\n",
      "2\n"
     ]
    }
   ],
   "source": [
    "#程式碼 5-3b\n",
    "#變數是可以換名字的\n",
    "for j in range(3):\n",
    "    print(j)"
   ]
  },
  {
   "cell_type": "markdown",
   "metadata": {},
   "source": [
    "### <font color=\"red\">練習</font>\n",
    "上面的範例:\n",
    "```python\n",
    "for i in range(3):\n",
    "print(i)\n",
    "```\n",
    "請你把其中的 i 改為 index"
   ]
  },
  {
   "cell_type": "code",
   "execution_count": 10,
   "metadata": {
    "collapsed": true
   },
   "outputs": [],
   "source": [
    "#練習 5-3, 把程式碼中的變數i改名成變數index, 在下方打出來\n",
    "#for index in ..."
   ]
  },
  {
   "cell_type": "markdown",
   "metadata": {},
   "source": [
    "---\n",
    "\n",
    "## <font color=\"blue\">4.  用for來拿出數列中的內容</font>\n",
    "for 迴圈可以與\"清單\"一起使用，關於\"清單\"的用法在第七章會詳細介紹，以下舉個簡單的例子:"
   ]
  },
  {
   "cell_type": "code",
   "execution_count": 6,
   "metadata": {},
   "outputs": [
    {
     "name": "stdout",
     "output_type": "stream",
     "text": [
      "2\n",
      "4\n",
      "8\n",
      "16\n",
      "32\n",
      "64\n"
     ]
    }
   ],
   "source": [
    "#程式碼 5-4\n",
    "for i in [2, 4, 8, 16, 32, 64]:\n",
    "    print(i)"
   ]
  },
  {
   "cell_type": "markdown",
   "metadata": {},
   "source": [
    "### <font color=\"red\">練習</font>\n",
    "請把數列[1, 4, 7, 10, 13]中的每個數字印出來"
   ]
  },
  {
   "cell_type": "code",
   "execution_count": 13,
   "metadata": {
    "collapsed": true
   },
   "outputs": [],
   "source": [
    "#練習 5-4\n",
    "#印出等差數列中的每一個數字 [1, 4, 7, 10, 13]\n",
    "\n"
   ]
  },
  {
   "cell_type": "markdown",
   "metadata": {},
   "source": [
    "---\n",
    "## <font color=\"blue\">5.  break</font>\n",
    "break 是一個關鍵字，當直譯器讀到 break 的時候，會跳出目前進行中的迴圈，然後執行迴圈外的後續程式。例如以下的例子:"
   ]
  },
  {
   "cell_type": "code",
   "execution_count": 14,
   "metadata": {},
   "outputs": [
    {
     "name": "stdout",
     "output_type": "stream",
     "text": [
      "0 5以後的不會被執行\n",
      "1 5以後的不會被執行\n",
      "2 5以後的不會被執行\n",
      "3 5以後的不會被執行\n",
      "4 5以後的不會被執行\n"
     ]
    }
   ],
   "source": [
    "#程式碼 5-5\n",
    "for i in range(10):\n",
    "    if i == 5:\n",
    "        break\n",
    "    print(i, '5以後的不會被執行')"
   ]
  },
  {
   "cell_type": "markdown",
   "metadata": {},
   "source": [
    "從上面可以看到，原本應該從 0 開始跑到 9 的迴圈，在 5 以後就不執行了，因為當 i==5 時，電腦讀到了break命令。"
   ]
  },
  {
   "cell_type": "markdown",
   "metadata": {},
   "source": [
    "### <font color=\"red\">練習</font>\n",
    "請你寫一個重複100次的迴圈  \n",
    "每次把 index 印出來，且當index == 8 時，給一個break指令，跳出迴圈\n",
    "然後在底下印出 \"end\"，注意冒號與縮排"
   ]
  },
  {
   "cell_type": "code",
   "execution_count": 22,
   "metadata": {
    "collapsed": true
   },
   "outputs": [],
   "source": [
    "#練習 5-5\n",
    "#for ...:\n",
    "   #...\n",
    "#print(\"end\")"
   ]
  },
  {
   "cell_type": "markdown",
   "metadata": {},
   "source": [
    "<hr/>\n",
    "## <font color=\"blue\">6. 迴圈中的continue</font>\n",
    "continue 也是一個關鍵字，當直譯器讀到 continue時，會跳過本次index的執行，開始跑下次迴圈，例如在十次循環中的第六次得到一個continue命令，電腦會跳過第六次，開始跑第七次的循環，以下是一個例子:"
   ]
  },
  {
   "cell_type": "code",
   "execution_count": 20,
   "metadata": {},
   "outputs": [
    {
     "name": "stdout",
     "output_type": "stream",
     "text": [
      "5 前面0,1,2,3,4的不會被執行\n",
      "6 前面0,1,2,3,4的不會被執行\n",
      "7 前面0,1,2,3,4的不會被執行\n",
      "8 前面0,1,2,3,4的不會被執行\n",
      "9 前面0,1,2,3,4的不會被執行\n"
     ]
    }
   ],
   "source": [
    "#程式碼 5-6\n",
    "for i in range(10):\n",
    "    if i < 5:\n",
    "        continue\n",
    "    print(i, '前面0,1,2,3,4的不會被執行')"
   ]
  },
  {
   "cell_type": "markdown",
   "metadata": {},
   "source": [
    "### <font color=\"red\">練習</font>\n",
    "請練習一個十次迴圈，跳過第五次跟第八次"
   ]
  },
  {
   "cell_type": "code",
   "execution_count": 25,
   "metadata": {
    "collapsed": true
   },
   "outputs": [],
   "source": [
    "#練習 5-6\n",
    "for i in range(10):\n",
    "    ..."
   ]
  },
  {
   "cell_type": "markdown",
   "metadata": {},
   "source": [
    "## while迴圈\n",
    "\n",
    "<hr/>\n",
    "## <font color=\"blue\">7.  while 迴圈基本語法</font>\n",
    "與for迴圈不同的是，while迴圈中的條件規定的是執行條件，當條件判定為True時，迴圈會繼續執行，當條件判定為False時，迴圈停止，因此我們可以利用它來達到無限迴圈的效果。  \n",
    "底下是一個基本的while迴圈"
   ]
  },
  {
   "cell_type": "code",
   "execution_count": 26,
   "metadata": {},
   "outputs": [
    {
     "name": "stdout",
     "output_type": "stream",
     "text": [
      "0\n",
      "1\n",
      "2\n",
      "end\n"
     ]
    }
   ],
   "source": [
    "#程式碼 5-7\n",
    "count = 0\n",
    "while count < 3:\n",
    "    print(count)\n",
    "    count += 1\n",
    "print('end')"
   ]
  },
  {
   "cell_type": "markdown",
   "metadata": {},
   "source": [
    "可以發現我們必須要設定一個變數count來控制while迴圈的執行次數，美次執行時，都把count加一，在這裡要特別注意，如果沒有每次執行都把count加一，執行條件就永遠是True，那麼就會出現無限迴圈。下面就是無限迴圈的例子  \n",
    "```python\n",
    "count = 0\n",
    "while count < 3:\n",
    "    print(count)\n",
    "```\n",
    "一樣設了一個count，但因為沒有在每次執行時讓 count+=1，所以count永遠小於三，如此一來就會一直印出數字。\n",
    "\n",
    "### <font color=\"red\">練習</font>\n",
    "請你練習利用 while 迴圈，印出'Eric' 五次\n",
    "提示 : 定義一個count變數，每印一次'Eric'就把count += 1，把while的執行條件 設為 count<5"
   ]
  },
  {
   "cell_type": "code",
   "execution_count": null,
   "metadata": {
    "collapsed": true
   },
   "outputs": [],
   "source": [
    "#練習 5-7\n",
    "count = 0\n",
    "while count < 5:\n",
    "    ..."
   ]
  },
  {
   "cell_type": "markdown",
   "metadata": {},
   "source": [
    "<hr/>\n",
    "## <font color=\"blue\">8.  while Ture 重覆執行到永遠</font>\n",
    "底下是一個例子，我們把執行條件設為True，所以迴圈就會一直執行下去，不過為了安全起見，我們設定當index == 5 時，用 break 跳出迴圈。  \n",
    "重複執行到永遠是危險的，當有一隻程式不斷跑下去的時候，會占用電腦的記憶體與CPU，如果程式夠大，就有機會讓電腦當機，這也是某些電腦病毒攻擊的方式，雖然現在的電腦都有針對無限重複執行的對應機制，但還是要盡力避免非必要下出現無限重複的情況。"
   ]
  },
  {
   "cell_type": "code",
   "execution_count": 28,
   "metadata": {},
   "outputs": [
    {
     "name": "stdout",
     "output_type": "stream",
     "text": [
      "0\n",
      "1\n",
      "2\n",
      "3\n",
      "4\n"
     ]
    }
   ],
   "source": [
    "index = 0\n",
    "while True:\n",
    "    print(index)\n",
    "    index += 1\n",
    "    \n",
    "    #如果把這下面的內容拿掉，就會變成無限重複的迴圈\n",
    "    if index == 5:\n",
    "        break"
   ]
  },
  {
   "cell_type": "markdown",
   "metadata": {},
   "source": [
    "以下把兩個迴圈的形式用簡單方式並列，請觀察一下他們的不同。"
   ]
  },
  {
   "cell_type": "markdown",
   "metadata": {},
   "source": [
    "執行十次迴圈，把index印出來 \n",
    "**for 迴圈** \n",
    "```python\n",
    "for i in range(10):\n",
    "    print(i)\n",
    "```\n",
    "**while 迴圈**\n",
    "```python\n",
    "count=0\n",
    "while count < 10:\n",
    "    print(count)\n",
    "    count += 1    \n",
    "```\n",
    "底下我們執行看看:\n"
   ]
  },
  {
   "cell_type": "code",
   "execution_count": 31,
   "metadata": {},
   "outputs": [
    {
     "name": "stdout",
     "output_type": "stream",
     "text": [
      "for迴圈 : \n",
      "0\n",
      "1\n",
      "2\n",
      "3\n",
      "4\n",
      "5\n",
      "6\n",
      "7\n",
      "8\n",
      "9\n",
      "==============================\n",
      "while迴圈 : \n",
      "0\n",
      "1\n",
      "2\n",
      "3\n",
      "4\n",
      "5\n",
      "6\n",
      "7\n",
      "8\n",
      "9\n"
     ]
    }
   ],
   "source": [
    "print(\"for迴圈 : \")\n",
    "for i in range(10):\n",
    "    print(i)\n",
    "count=0\n",
    "print(\"=\" * 30)\n",
    "print(\"while迴圈 : \")\n",
    "while count < 10:\n",
    "    print(count)\n",
    "    count += 1"
   ]
  }
 ],
 "metadata": {
  "kernelspec": {
   "display_name": "Python 3",
   "language": "python",
   "name": "python3"
  },
  "language_info": {
   "codemirror_mode": {
    "name": "ipython",
    "version": 3
   },
   "file_extension": ".py",
   "mimetype": "text/x-python",
   "name": "python",
   "nbconvert_exporter": "python",
   "pygments_lexer": "ipython3",
   "version": "3.6.2"
  }
 },
 "nbformat": 4,
 "nbformat_minor": 2
}
