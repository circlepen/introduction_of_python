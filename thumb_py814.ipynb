{
 "cells": [
  {
   "cell_type": "markdown",
   "metadata": {},
   "source": [
    "# hello world (基礎輸出)\n",
    "---\n",
    "在 python 的一開始，讓 python 輸出 一段文字，使用 **_print_**\n",
    "在 python2 中，可以使用 **_print 要印的東西_**\n",
    "在 python3 中，可以使用 **_print(要印的東西)_ **\n",
    "\n",
    "以下是一個 hello world 的範例\n",
    "使用python 3 \n",
    "\n",
    "注意如果我們要表示字串，必須用' ' 或是　\" \" 括起來\n",
    "如果是數字或變數，就不需要"
   ]
  },
  {
   "cell_type": "code",
   "execution_count": 15,
   "metadata": {},
   "outputs": [
    {
     "name": "stdout",
     "output_type": "stream",
     "text": [
      "hello world\n",
      "17\n"
     ]
    }
   ],
   "source": [
    "\n",
    "print (\"hello world\")\n",
    "\n",
    "print ( 17 )\n"
   ]
  },
  {
   "cell_type": "markdown",
   "metadata": {},
   "source": [
    "### TODO :\n",
    "\n",
    "\n",
    "**請用print() 印出你的名字，注意字串必須用 ' ' 括起來**\n",
    "\n",
    "**另外，# 符號後面的內容會被視為註解，不會被電腦執行，在程式後面加上註解會有助於其他人理解你的程式**\n",
    "\n"
   ]
  },
  {
   "cell_type": "code",
   "execution_count": 9,
   "metadata": {
    "collapsed": true
   },
   "outputs": [],
   "source": [
    "#在這裡練習\n",
    "\n"
   ]
  },
  {
   "cell_type": "markdown",
   "metadata": {},
   "source": [
    "# variable (變數)\n",
    "-----\n",
    "在python 中，變數是一個能夠裝各種型態值的容器\n",
    "其中的值是可以變的\n",
    "可以用以下的方式來指定\n",
    "(使用python 3)"
   ]
  },
  {
   "cell_type": "code",
   "execution_count": 1,
   "metadata": {
    "scrolled": true
   },
   "outputs": [
    {
     "name": "stdout",
     "output_type": "stream",
     "text": [
      "1\n",
      "Levi\n"
     ]
    }
   ],
   "source": [
    "score = 1 # 創建變數 score ，並指定其值為 1 ，1 的型態為整數，英文為 int\n",
    "\n",
    "print (score) \n",
    "\n",
    "pi = 3.1415962  # 創建變數 pi ，並指定其值為 3.1415962 ， 型態為浮點數，英文為 float\n",
    "\n",
    "name= 'Levi'  # 創建變數 name ，並指定其值為 'Levi' ， 型態為字串，英文為 string\n",
    "\n",
    "print (name) \n"
   ]
  },
  {
   "cell_type": "markdown",
   "metadata": {},
   "source": [
    "\n",
    "**在上面的範例中你可以發現有三種資料型態，分別為:**\n",
    "\n",
    "**字串 string**\n",
    "\n",
    "**浮點數 float**\n",
    "\n",
    "**整數 int**\n",
    "\n",
    "**詳情可參考[這裡](http://www.codedata.com.tw/python/python-tutorial-the-2nd-class-1-numeric-types-and-string/)**"
   ]
  },
  {
   "cell_type": "markdown",
   "metadata": {},
   "source": [
    "### TODO\n",
    "\n",
    "\n",
    ">**請練習定義一個變數 color，指定其為顏色，**\n",
    ">\n",
    ">**例如 'red'，然後 print 出來**\n",
    ">\n",
    ">**再定義一個變數 lottery，指定其為某個數字**\n",
    ">\n",
    ">**然後print 出來 **"
   ]
  },
  {
   "cell_type": "code",
   "execution_count": null,
   "metadata": {
    "collapsed": true
   },
   "outputs": [],
   "source": [
    "#在這裡練習\n"
   ]
  },
  {
   "cell_type": "markdown",
   "metadata": {},
   "source": [
    "### 變數命名規則\n",
    "\n",
    "+ 變數只能包含字母、數字、底線，變數名稱能以字母或底線開頭，但不能以數字開頭\n",
    "\n",
    "+ 變數名稱中不能有空白，所以我們以底線取代空白，如果我們要取一個變數叫做 student name， 我們會寫作 student_name\n",
    "+ 變數名稱中不能包含 [python 保留字](https://docs.python.org/3/reference/lexical_analysis.html#keywords)\n",
    "+ 變數名稱盡量簡潔而清楚，例如mc_wheels 就會比單純的 \"wheels\" 或是 number_of_wheels_on_a_motorcycle 要來的好\n",
    "\n",
    "+ 在用英文大寫 I 跟 O 時要特別小心，因為很容易跟 1 和 0 搞混 \n"
   ]
  },
  {
   "cell_type": "markdown",
   "metadata": {},
   "source": [
    "### NameError\n",
    "\n",
    "在使用變數時有些常見的錯誤，看看底下的例子，你是否能理解為何出錯呢\n",
    "試著修正它吧"
   ]
  },
  {
   "cell_type": "code",
   "execution_count": 4,
   "metadata": {},
   "outputs": [
    {
     "ename": "NameError",
     "evalue": "name 'mesage' is not defined",
     "output_type": "error",
     "traceback": [
      "\u001b[1;31m---------------------------------------------------------------------------\u001b[0m",
      "\u001b[1;31mNameError\u001b[0m                                 Traceback (most recent call last)",
      "\u001b[1;32m<ipython-input-4-7966723379c3>\u001b[0m in \u001b[0;36m<module>\u001b[1;34m()\u001b[0m\n\u001b[0;32m      1\u001b[0m \u001b[0mmessage\u001b[0m \u001b[1;33m=\u001b[0m \u001b[1;34m\"Thank you for sharing Python with the world, Guido!\"\u001b[0m\u001b[1;33m\u001b[0m\u001b[0m\n\u001b[1;32m----> 2\u001b[1;33m \u001b[0mprint\u001b[0m\u001b[1;33m(\u001b[0m\u001b[0mmesage\u001b[0m\u001b[1;33m)\u001b[0m\u001b[1;33m\u001b[0m\u001b[0m\n\u001b[0m",
      "\u001b[1;31mNameError\u001b[0m: name 'mesage' is not defined"
     ]
    }
   ],
   "source": [
    "message = \"Thank you for sharing Python with the world, Guido!\"\n",
    "print(mesage)"
   ]
  },
  {
   "cell_type": "markdown",
   "metadata": {},
   "source": [
    "可以發現在定義變數名稱的時候我們取名叫做 **message**\n",
    "，然而在印出這個變數的值時，我們卻打成了 **mesage**\n",
    "\n",
    "**以下是正確的版本**"
   ]
  },
  {
   "cell_type": "code",
   "execution_count": 22,
   "metadata": {},
   "outputs": [
    {
     "name": "stdout",
     "output_type": "stream",
     "text": [
      "Thank you for sharing Python with the world, Guido!\n"
     ]
    }
   ],
   "source": [
    "###highlight=[3]\n",
    "message = \"Thank you for sharing Python with the world, Guido!\"\n",
    "print(message)"
   ]
  },
  {
   "cell_type": "markdown",
   "metadata": {},
   "source": [
    "# String (字串)\n",
    "---\n",
    "\n",
    "字串是一串的字元，字串比起字元是更好閱讀與理解的\n",
    "\n",
    "我們可以用以下兩種方式表示字串\n"
   ]
  },
  {
   "cell_type": "code",
   "execution_count": 5,
   "metadata": {
    "collapsed": true
   },
   "outputs": [],
   "source": [
    "my_string = \"This is a double-quoted string.\"\n",
    "my_string = 'This is a single-quoted string.'"
   ]
  },
  {
   "cell_type": "markdown",
   "metadata": {},
   "source": [
    "也可以如下表示"
   ]
  },
  {
   "cell_type": "code",
   "execution_count": null,
   "metadata": {
    "collapsed": true
   },
   "outputs": [],
   "source": [
    "quote = \"Linus Torvalds once said, 'Any program is only as good as it is useful.'\""
   ]
  },
  {
   "cell_type": "markdown",
   "metadata": {},
   "source": [
    "## 改變字串的大小寫\n",
    "\n",
    "你可以用以下的方式來改變你的字串，你會發現 'eric' 的第一個字母變成了大寫"
   ]
  },
  {
   "cell_type": "code",
   "execution_count": 6,
   "metadata": {},
   "outputs": [
    {
     "name": "stdout",
     "output_type": "stream",
     "text": [
      "eric\n",
      "Eric\n"
     ]
    }
   ],
   "source": [
    "first_name = 'eric'\n",
    "\n",
    "print(first_name)\n",
    "print(first_name.title())"
   ]
  },
  {
   "cell_type": "markdown",
   "metadata": {},
   "source": [
    "一個常見的好習慣是以小寫字串儲存資料，然後再改變他表現出來的大小寫，這樣可以避免錯別字的問題，讓我們不會把 \"Eric\"， \"eric\" 和 \"ERIC\"認成不同人\n",
    "\n",
    "以下是一些常見例子:\n"
   ]
  },
  {
   "cell_type": "code",
   "execution_count": 7,
   "metadata": {},
   "outputs": [
    {
     "name": "stdout",
     "output_type": "stream",
     "text": [
      "eric\n",
      "Eric\n",
      "ERIC\n",
      "eric\n"
     ]
    }
   ],
   "source": [
    "###highlight=[6,8,9]\n",
    "first_name = 'eric'\n",
    "\n",
    "print(first_name)\n",
    "print(first_name.title())\n",
    "print(first_name.upper())\n",
    "\n",
    "first_name = 'Eric'\n",
    "print(first_name.lower())"
   ]
  },
  {
   "cell_type": "markdown",
   "metadata": {},
   "source": [
    "## 字串的組合\n",
    "\n",
    "我們常常會需要用到字串的組合\n",
    "\n",
    "在python中字串的組合可以很簡單，我們一樣以例子來讓你理解"
   ]
  },
  {
   "cell_type": "code",
   "execution_count": 8,
   "metadata": {},
   "outputs": [
    {
     "name": "stdout",
     "output_type": "stream",
     "text": [
      "Ada Lovelace\n"
     ]
    }
   ],
   "source": [
    "first_name = 'ada'\n",
    "last_name = 'lovelace'\n",
    "\n",
    "full_name = first_name + ' ' + last_name\n",
    "\n",
    "print(full_name.title())\n"
   ]
  },
  {
   "cell_type": "markdown",
   "metadata": {},
   "source": [
    "加號讓兩個字串合成了一個，這叫做\"級聯\"，你可以用很多個加號把各個字串組成一段文字，事實上，許多網站都是以巨大的字串組成的字串級聯來寫成"
   ]
  },
  {
   "cell_type": "code",
   "execution_count": 9,
   "metadata": {},
   "outputs": [
    {
     "name": "stdout",
     "output_type": "stream",
     "text": [
      "Ada Lovelace was considered the world's first computer programmer.\n"
     ]
    }
   ],
   "source": [
    "###highlight=[6,7,8]\n",
    "first_name = 'ada'\n",
    "last_name = 'lovelace'\n",
    "full_name = first_name + ' ' + last_name\n",
    "\n",
    "message = full_name.title() + ' ' + \"was considered the world's first computer programmer.\"\n",
    "\n",
    "print(message)"
   ]
  },
  {
   "cell_type": "markdown",
   "metadata": {},
   "source": [
    "## 空白字元\n",
    "\n",
    "\"空白字元\"是一個電腦能夠識別但使用者看不見的字元，例如空白鍵、tab鍵以及空行 \n",
    "\n",
    "空白字元很容易使用，你使用它的時間大概和你使用電腦的時間一樣長， tab鍵 和空行 以特殊的字元組合來表示\n",
    "\n",
    "由\"\\t\"組合起來表示 **tab** ， tab可以用在字串中任何你想用的位子"
   ]
  },
  {
   "cell_type": "code",
   "execution_count": 10,
   "metadata": {},
   "outputs": [
    {
     "name": "stdout",
     "output_type": "stream",
     "text": [
      "Hello everyone!\n"
     ]
    }
   ],
   "source": [
    "print(\"Hello everyone!\")"
   ]
  },
  {
   "cell_type": "code",
   "execution_count": 11,
   "metadata": {},
   "outputs": [
    {
     "name": "stdout",
     "output_type": "stream",
     "text": [
      "\tHello everyone!\n"
     ]
    }
   ],
   "source": [
    "print(\"\\tHello everyone!\")"
   ]
  },
  {
   "cell_type": "code",
   "execution_count": 12,
   "metadata": {},
   "outputs": [
    {
     "name": "stdout",
     "output_type": "stream",
     "text": [
      "Hello \teveryone!\n"
     ]
    }
   ],
   "source": [
    "print(\"Hello \\teveryone!\")"
   ]
  },
  {
   "cell_type": "markdown",
   "metadata": {},
   "source": [
    "\"\\n\" 兩個字元可以組成換行字元，電腦會自動跳一行再顯示後面的字串，同樣的，你可以在一個字串中任何地方使用換行"
   ]
  },
  {
   "cell_type": "code",
   "execution_count": 13,
   "metadata": {},
   "outputs": [
    {
     "name": "stdout",
     "output_type": "stream",
     "text": [
      "Hello everyone!\n"
     ]
    }
   ],
   "source": [
    "print(\"Hello everyone!\")"
   ]
  },
  {
   "cell_type": "code",
   "execution_count": 14,
   "metadata": {},
   "outputs": [
    {
     "name": "stdout",
     "output_type": "stream",
     "text": [
      "\n",
      "Hello everyone!\n"
     ]
    }
   ],
   "source": [
    "print(\"\\nHello everyone!\")\n"
   ]
  },
  {
   "cell_type": "code",
   "execution_count": 15,
   "metadata": {},
   "outputs": [
    {
     "name": "stdout",
     "output_type": "stream",
     "text": [
      "Hello \n",
      "everyone!\n"
     ]
    }
   ],
   "source": [
    "print(\"Hello \\neveryone!\")"
   ]
  },
  {
   "cell_type": "code",
   "execution_count": 17,
   "metadata": {},
   "outputs": [
    {
     "name": "stdout",
     "output_type": "stream",
     "text": [
      "\n",
      "\n",
      "\n",
      "Hello everyone!\n"
     ]
    }
   ],
   "source": [
    "print(\"\\n\\n\\nHello everyone!\")"
   ]
  },
  {
   "cell_type": "markdown",
   "metadata": {},
   "source": [
    "**你還可以試試以下方式，以空白或是符號填充到字串中**\n"
   ]
  },
  {
   "cell_type": "code",
   "execution_count": 20,
   "metadata": {},
   "outputs": [
    {
     "name": "stdout",
     "output_type": "stream",
     "text": [
      "eric \n",
      " eric\n",
      "eric\n"
     ]
    }
   ],
   "source": [
    "name = ' eric '\n",
    "\n",
    "print(name.lstrip())\n",
    "print(name.rstrip())\n",
    "print(name.strip())"
   ]
  },
  {
   "cell_type": "code",
   "execution_count": 21,
   "metadata": {},
   "outputs": [
    {
     "name": "stdout",
     "output_type": "stream",
     "text": [
      "-eric -\n",
      "- eric-\n",
      "-eric-\n"
     ]
    }
   ],
   "source": [
    "name = ' eric '\n",
    "\n",
    "print('-' + name.lstrip() + '-')\n",
    "print('-' + name.rstrip() + '-')\n",
    "print('-' + name.strip() + '-')"
   ]
  },
  {
   "cell_type": "markdown",
   "metadata": {},
   "source": [
    "# 數字\n",
    "---\n",
    "\n",
    "數字分為 **整數(integer)** , **浮點數(float)**\n",
    "\n",
    "整數可以如下的操作"
   ]
  },
  {
   "cell_type": "code",
   "execution_count": 24,
   "metadata": {},
   "outputs": [
    {
     "name": "stdout",
     "output_type": "stream",
     "text": [
      "5\n",
      "1\n",
      "6\n",
      "1.5\n",
      "9\n"
     ]
    }
   ],
   "source": [
    "print(3 + 2)\n",
    "print(3 - 2)\n",
    "print(3 * 2)\n",
    "print(3 / 2)\n",
    "print(3 ** 2)"
   ]
  },
  {
   "cell_type": "markdown",
   "metadata": {},
   "source": [
    "**注意第五個例子是 3 的 2 次方的意思**"
   ]
  },
  {
   "cell_type": "markdown",
   "metadata": {},
   "source": [
    "**浮點數**同樣可以做加減乘除\n",
    "\n",
    "需要注意的是浮點數會有位數限制，因此會有四捨五入的問題"
   ]
  },
  {
   "cell_type": "code",
   "execution_count": 26,
   "metadata": {},
   "outputs": [
    {
     "name": "stdout",
     "output_type": "stream",
     "text": [
      "5.3\n",
      "0.5\n",
      "6.8\n",
      "1.65\n",
      "11.559999999999999\n"
     ]
    }
   ],
   "source": [
    "print(3.3 + 2)\n",
    "print(3 - 2.5)\n",
    "print(3.4 * 2)\n",
    "print(3.3 / 2)\n",
    "print(3.4 ** 2)"
   ]
  },
  {
   "cell_type": "markdown",
   "metadata": {},
   "source": [
    "也會出現如下的誤差"
   ]
  },
  {
   "cell_type": "code",
   "execution_count": 27,
   "metadata": {},
   "outputs": [
    {
     "name": "stdout",
     "output_type": "stream",
     "text": [
      "0.30000000000000004\n"
     ]
    }
   ],
   "source": [
    "print(3*0.1)"
   ]
  },
  {
   "cell_type": "markdown",
   "metadata": {},
   "source": [
    "# operator(運算子)\n",
    "---"
   ]
  },
  {
   "cell_type": "markdown",
   "metadata": {},
   "source": [
    "**以下是一些例子，示範 python 中 + - * / 符號的運用**"
   ]
  },
  {
   "cell_type": "code",
   "execution_count": 19,
   "metadata": {},
   "outputs": [
    {
     "name": "stdout",
     "output_type": "stream",
     "text": [
      "23.0\n",
      "17.0\n",
      "60.0\n",
      "6.666666666666667\n"
     ]
    }
   ],
   "source": [
    "number = 20.0\n",
    "number2 = 3\n",
    "\n",
    "print (number + number2)\n",
    "print (number - number2)\n",
    "print (number * number2)\n",
    "print (number / number2)\n"
   ]
  },
  {
   "cell_type": "markdown",
   "metadata": {},
   "source": [
    "**在 python 中， 對一個變數的值做運算時有一些簡寫的方式**\n",
    "\n",
    "**例如: **\n",
    "**我們會把 `a = a+1 ` 寫成 `a += 1 ` **\n",
    "\n",
    "**以下是一些例子**"
   ]
  },
  {
   "cell_type": "code",
   "execution_count": 18,
   "metadata": {},
   "outputs": [
    {
     "name": "stdout",
     "output_type": "stream",
     "text": [
      "a: 6\n",
      "a: 27\n",
      "a: 3.0\n",
      "3.3333333333333335\n",
      "1\n"
     ]
    }
   ],
   "source": [
    "a=9\n",
    "a-=3\n",
    "print ('a:',a)\n",
    "\n",
    "a=9\n",
    "a*=3\n",
    "print ('a:',a)\n",
    "\n",
    "a=9\n",
    "a/=3\n",
    "print ('a:',a)\n",
    "\n",
    "n=10\n",
    "print (10/3)\n",
    "print (10%3) #餘數, mod"
   ]
  },
  {
   "cell_type": "markdown",
   "metadata": {},
   "source": [
    "### TODO\n",
    "\n",
    "**請練習使用 += , -= , *= , /= **"
   ]
  },
  {
   "cell_type": "code",
   "execution_count": 21,
   "metadata": {},
   "outputs": [
    {
     "name": "stdout",
     "output_type": "stream",
     "text": [
      "31\n"
     ]
    }
   ],
   "source": [
    "#在這裡寫程式\n",
    "\n",
    "number = 28\n",
    "number += 3\n",
    "print(number)\n",
    "\n",
    "#請練習其他三個\n"
   ]
  },
  {
   "cell_type": "markdown",
   "metadata": {
    "collapsed": true
   },
   "source": [
    "**_注意_**，若要比對兩變數是否相等，要用 **_==_** 而不是 **_=_** \n",
    "\n",
    "例如以下例子\n",
    "\n",
    "a == b 是比對 a 跟 b 是否相等，因為 15 不等於 10，所以輸出是 False"
   ]
  },
  {
   "cell_type": "code",
   "execution_count": 3,
   "metadata": {},
   "outputs": [
    {
     "data": {
      "text/plain": [
       "False"
      ]
     },
     "execution_count": 3,
     "metadata": {},
     "output_type": "execute_result"
    }
   ],
   "source": [
    "a = 10\n",
    "b = 15\n",
    "\n",
    "a == b"
   ]
  },
  {
   "cell_type": "markdown",
   "metadata": {},
   "source": [
    "# bool(布林值)\n",
    "---\n",
    "我們在比對數字的時候，除了 == 之外還有另外幾個常用到的符號\n",
    "\n",
    "'>', '<', '>=', '<=' \n",
    "\n",
    "如果他們判斷成立則會回傳 'True'\n",
    "不成立則會回傳 'False'\n",
    "\n",
    "True 與 False 就是所謂的布林值，**注意他們的頭一個字母是大寫**\n",
    "\n",
    "以下是一些例子"
   ]
  },
  {
   "cell_type": "code",
   "execution_count": 13,
   "metadata": {},
   "outputs": [
    {
     "name": "stdout",
     "output_type": "stream",
     "text": [
      "False\n",
      "True\n",
      "False\n",
      "True\n",
      "False\n",
      "True\n"
     ]
    }
   ],
   "source": [
    "print(3 > 5) #False\n",
    "print(3 < 5) #True\n",
    "\n",
    "a=18\n",
    "b=30\n",
    "\n",
    "print(a > b) #False\n",
    "print(a < b) #True\n",
    "print(a >= b) #False\n",
    "print(a <= b) #True"
   ]
  },
  {
   "cell_type": "markdown",
   "metadata": {},
   "source": [
    "# condition (條件式)\n",
    "---\n",
    "配合上面的布林值，我們便可以給予程式條件，限定某些程式在特定條件下才能執行\n",
    "\n",
    "以下是一個簡單的例子:"
   ]
  },
  {
   "cell_type": "code",
   "execution_count": 28,
   "metadata": {},
   "outputs": [
    {
     "name": "stdout",
     "output_type": "stream",
     "text": [
      "number is smaller than number2\n"
     ]
    }
   ],
   "source": [
    "number = 10\n",
    "number2 = 15\n",
    "\n",
    "if number < number2:\n",
    "    print (\"number is smaller than number2\")"
   ]
  },
  {
   "cell_type": "markdown",
   "metadata": {},
   "source": [
    "我們利用 **' if '** 關鍵字來構成條件判斷，後面空白後接條件，記得要冒號\n",
    "\n",
    "底下空四個空白後輸入條件成立下要執行的程式\n",
    "\n",
    "因為 10 < 15， 所以 number < number2 的判斷是 True ，因此冒號下面的 print 就會被執行"
   ]
  },
  {
   "cell_type": "markdown",
   "metadata": {},
   "source": [
    "以下再給一些例子"
   ]
  },
  {
   "cell_type": "code",
   "execution_count": 10,
   "metadata": {},
   "outputs": [
    {
     "name": "stdout",
     "output_type": "stream",
     "text": [
      "grade > 60 True\n",
      "grade2 > 60 False\n",
      "True\n",
      "True\n",
      "perfect\n",
      "end\n"
     ]
    }
   ],
   "source": [
    "grade = 100\n",
    "print ('grade > 60', grade > 60) #True\n",
    "\n",
    "grade2 = 10\n",
    "print ('grade2 > 60', grade2 > 60) #False\n",
    "\n",
    "print (grade2 <80) #True\n",
    "\n",
    "temp = 37\n",
    "print (temp != 30) #True\n",
    "\n",
    "\n",
    "if grade == 100:\n",
    "    print ('perfect') \n",
    "else:\n",
    "    print ('almost')\n",
    "print ('end')"
   ]
  },
  {
   "cell_type": "markdown",
   "metadata": {},
   "source": [
    "上面例子中 有\n",
    "```python\n",
    "if grade == 100:\n",
    "    print ('perfect') \n",
    "else:\n",
    "    print ('almost')\n",
    "```\n",
    "可以發現 else 關鍵字底下的程式會在 if 的條件不成立時執行"
   ]
  },
  {
   "cell_type": "markdown",
   "metadata": {},
   "source": [
    "### TODO\n",
    "\n",
    "請試著利用剛剛學過的 **' if '**，寫一個程式判斷成績\n",
    "\n",
    "六十分以上印出 \" pass \", 不到六十分印出 \" fail \"  "
   ]
  },
  {
   "cell_type": "code",
   "execution_count": null,
   "metadata": {
    "collapsed": true
   },
   "outputs": [],
   "source": [
    "# 在這裡練習\n",
    "\n"
   ]
  },
  {
   "cell_type": "markdown",
   "metadata": {
    "collapsed": true
   },
   "source": [
    "# for loop (迴圈)\n",
    "---\n",
    "\n",
    "迴圈是一個讓程式重複執行的結構，可以讓我們用更少的程式來做重複的動作\n",
    "\n",
    "以下是一個小例子，示範標準for 迴圈的寫法\n"
   ]
  },
  {
   "cell_type": "code",
   "execution_count": 1,
   "metadata": {},
   "outputs": [
    {
     "name": "stdout",
     "output_type": "stream",
     "text": [
      "0\n",
      "1\n",
      "2\n",
      "3\n",
      "4\n",
      "5\n",
      "6\n",
      "7\n",
      "8\n",
      "9\n"
     ]
    }
   ],
   "source": [
    "for i in range(10):\n",
    "    print(i)"
   ]
  },
  {
   "cell_type": "markdown",
   "metadata": {},
   "source": [
    "可以發現這是一個從零開始數數，並且印出來的程式  \n",
    "需要注意的是 **range(10)**  \n",
    "我們可以直接在 python 中把它印出來看看\n"
   ]
  },
  {
   "cell_type": "markdown",
   "metadata": {},
   "source": [
    "如果在本機端的python中打\n",
    "```python\n",
    "print(range(0,4))\n",
    "```\n",
    "那麼會出現 \n",
    "```python\n",
    "[0,1,2,3]\n",
    "```\n",
    "**也就是從 0 到 3 的四個數字**，所以如果想要執行50次，就會是:  \n",
    "```python\n",
    "for i in range(50):\n",
    "    要執行的程式\n",
    "```\n",
    "但須注意range(50)是從 0 開始到 49  \n",
    "而不是1 到 50"
   ]
  },
  {
   "cell_type": "markdown",
   "metadata": {},
   "source": [
    "### TODO  \n",
    "\n",
    "這個練習要結合前面的if else 跟現在學到的for 迴圈  \n",
    "我們要重複執行100次  \n",
    "從0開始到99  \n",
    "每次數一個數時就判斷是奇數還是偶數  \n",
    "是奇數的話就 print 出 \"奇數\"  \n",
    "是偶數的話就print 出 \"偶數\"  \n"
   ]
  },
  {
   "cell_type": "code",
   "execution_count": 7,
   "metadata": {
    "collapsed": true
   },
   "outputs": [],
   "source": [
    "for i in range(100):\n",
    "    ...\n",
    "#請在此練習，取代...的部分"
   ]
  },
  {
   "cell_type": "markdown",
   "metadata": {},
   "source": [
    "# Function(函式)\n",
    "---\n",
    "函式是一連串指令的集合，我們將一串指令結合在一起並給予名稱 你或許已經用過許多 python 內建的函式例如: string.title() 或是 list.sort()之類, python3中的 print() 也是我們最常用到的函式\n",
    "\n",
    "有了函式我們能讓python做更多事\n"
   ]
  },
  {
   "cell_type": "markdown",
   "metadata": {
    "collapsed": true
   },
   "source": [
    "以下是一個常見的函式寫法"
   ]
  },
  {
   "cell_type": "code",
   "execution_count": null,
   "metadata": {
    "collapsed": true
   },
   "outputs": [],
   "source": [
    "# Let's define a function.\n",
    "def function_name(argument_1, argument_2):\n",
    "\t# 寫任何我們想要函式執行的程式在這,\n",
    "\t#  使用參數一 , 參數二\n",
    "\n",
    "# Use function_name to call the function.\n",
    "function_name(value_1, value_2)"
   ]
  },
  {
   "cell_type": "markdown",
   "metadata": {
    "collapsed": true
   },
   "source": [
    "這段程式無法執行，但可以展示函式通常怎麼被使用  \n",
    "+ **定義函式 **\n",
    "  + 使用關鍵字 def  告訴python 你將要 定義(define) 一個函式  \n",
    "  + 給你的函式一個名字，一個變數的名字可以讓你看出這個變數有甚麼用處，同樣的，函式的名字也應該讓你看出它的功用  \n",
    "  + 給予每個函式處理時必須的值名字\n",
    "     + 這些值的名字本身是變數，但只限於函式內使用  \n",
    "     + 他們的名字最好與你程式裡其他的變數名稱不一樣\n",
    "     + 這些函式所必需的值稱為函式的 \" 參數 \"(arguments)\n",
    "     \n",
    "     \n",
    "+ ** 呼叫(使用)函式**  \n",
    "  + 呼叫函式的方式就是寫出它的名字並在後面加上小括號()\n",
    "  + 在小括號裡面，給予函式參數的值\n",
    "    + 這些參數值可以是變數，也可以是實際的值，如整數 5 或字串 'eric'"
   ]
  },
  {
   "cell_type": "markdown",
   "metadata": {},
   "source": [
    "以下是一個例子 :"
   ]
  },
  {
   "cell_type": "code",
   "execution_count": 14,
   "metadata": {},
   "outputs": [
    {
     "name": "stdout",
     "output_type": "stream",
     "text": [
      "\n",
      "你做得很好, Adriana!\n",
      "感謝你為這次計畫付出的努力.\n",
      "\n",
      "你做得很好, Billy!\n",
      "感謝你為這次計畫付出的努力.\n",
      "\n",
      "你做得很好, Caroline!\n",
      "感謝你為這次計畫付出的努力.\n"
     ]
    }
   ],
   "source": [
    "  def thank_you(name):\n",
    "    # 這個函式印出兩行的個人化感謝訊息\n",
    "    print(\"\\n你做得很好, %s!\" % name)\n",
    "    print(\"感謝你為這次計畫付出的努力.\")\n",
    "    \n",
    "thank_you('Adriana')\n",
    "thank_you('Billy')\n",
    "thank_you('Caroline')"
   ]
  },
  {
   "cell_type": "markdown",
   "metadata": {},
   "source": [
    "---\n",
    "函式集合了一段代碼，當你需要使用時，就呼叫它\n",
    "在上面的例子，每一段print的代碼都被執行了三次，只有感謝的人名不一樣，因此當你有一段需要常常被使用到的程式碼，把它寫進函式就是你的好選擇。\n",
    "\n",
    "def 這個關鍵字告訴Python我們要定義一個函數，在這個例子中，我們給予它一個名字，也就是_thank_you()_  \n",
    "\n",
    "在括號中，我們給予函式運算所必需的值，也就是參數。在這個例子中我們需要一個名字，也就是我們感謝的對象。我們利用name 這個變數儲存我們的參數值 \n",
    "\n",
    "呼叫函式時，我們寫出它的名字，加上括號，並在括號中填入參數，在這個例子中，我們呼叫了三次函式，每次給予不同的名字。\n",
    "\n",
    "再給一個例子  \n",
    "這個例子定義一個加法函式，並用 **return** 這個關鍵字 來回傳函式的運算結果"
   ]
  },
  {
   "cell_type": "code",
   "execution_count": 9,
   "metadata": {},
   "outputs": [
    {
     "name": "stdout",
     "output_type": "stream",
     "text": [
      "11\n"
     ]
    }
   ],
   "source": [
    "def add(num1, num2):\n",
    "    return num1 + num2\n",
    "print(add(4,7))"
   ]
  },
  {
   "cell_type": "markdown",
   "metadata": {},
   "source": [
    "我們在 print() 中呼叫 add()  \n",
    "並給予兩個參數 4 跟 7  \n",
    "因此 add() 返回 4 + 7 的結果  \n",
    "於是印出 11\n"
   ]
  },
  {
   "cell_type": "markdown",
   "metadata": {},
   "source": [
    "### 常見錯誤\n",
    "\n",
    "函式必須在你使用前給予定義，因為程式是從上面依序往下執行，所以函式的定義必須放在呼叫的上面  \n",
    "以下是一個錯誤的例子:"
   ]
  },
  {
   "cell_type": "code",
   "execution_count": 1,
   "metadata": {},
   "outputs": [
    {
     "ename": "NameError",
     "evalue": "name 'thank_you' is not defined",
     "output_type": "error",
     "traceback": [
      "\u001b[1;31m---------------------------------------------------------------------------\u001b[0m",
      "\u001b[1;31mNameError\u001b[0m                                 Traceback (most recent call last)",
      "\u001b[1;32m<ipython-input-1-a1b6b8373f44>\u001b[0m in \u001b[0;36m<module>\u001b[1;34m()\u001b[0m\n\u001b[1;32m----> 1\u001b[1;33m \u001b[0mthank_you\u001b[0m\u001b[1;33m(\u001b[0m\u001b[1;34m'Adriana'\u001b[0m\u001b[1;33m)\u001b[0m\u001b[1;33m\u001b[0m\u001b[0m\n\u001b[0m\u001b[0;32m      2\u001b[0m \u001b[0mthank_you\u001b[0m\u001b[1;33m(\u001b[0m\u001b[1;34m'Billy'\u001b[0m\u001b[1;33m)\u001b[0m\u001b[1;33m\u001b[0m\u001b[0m\n\u001b[0;32m      3\u001b[0m \u001b[0mthank_you\u001b[0m\u001b[1;33m(\u001b[0m\u001b[1;34m'Caroline'\u001b[0m\u001b[1;33m)\u001b[0m\u001b[1;33m\u001b[0m\u001b[0m\n\u001b[0;32m      4\u001b[0m \u001b[1;33m\u001b[0m\u001b[0m\n\u001b[0;32m      5\u001b[0m \u001b[1;32mdef\u001b[0m \u001b[0mthank_you\u001b[0m\u001b[1;33m(\u001b[0m\u001b[0mname\u001b[0m\u001b[1;33m)\u001b[0m\u001b[1;33m:\u001b[0m\u001b[1;33m\u001b[0m\u001b[0m\n",
      "\u001b[1;31mNameError\u001b[0m: name 'thank_you' is not defined"
     ]
    }
   ],
   "source": [
    "thank_you('Adriana')\n",
    "thank_you('Billy')\n",
    "thank_you('Caroline')\n",
    "\n",
    "def thank_you(name):\n",
    "    # 這個函式印出兩行的個人化感謝訊息\n",
    "    print(\"\\nYou are doing good work, %s!\" % name)\n",
    "    print(\"Thank you very much for your efforts on this project.\")"
   ]
  },
  {
   "cell_type": "markdown",
   "metadata": {
    "collapsed": true
   },
   "source": [
    "### TODO\n",
    "\n",
    "**這個練習希望你定義四個函式，分別為add, sub, mul, div  \n",
    "分別為將兩個參數相加，相減，相乘，相除的功能  \n",
    "並且利用這四個函式算出 3 + 4 * 2 - 6 / 3 + 1 的答案，別忘了先乘除後加減**"
   ]
  },
  {
   "cell_type": "code",
   "execution_count": null,
   "metadata": {
    "collapsed": true
   },
   "outputs": [],
   "source": [
    "def add( arg1, arg2):\n",
    "    #在這裡寫程式\n",
    "    \n",
    "def sub( arg1, arg2):\n",
    "    #在這裡寫程式\n",
    "    \n",
    "    \n",
    "#剩下的請你完成"
   ]
  },
  {
   "cell_type": "markdown",
   "metadata": {
    "collapsed": true
   },
   "source": [
    "## 使用函式的好處\n",
    "\n",
    "+ 我們只寫了一次程式，然後以它為範本，在做重複工作時重複呼叫它，只改變參數，因而省去了我們重複寫一段程式的麻煩。\n",
    "+ 只要我們的函式能作用，我們就不需要再去擔心它。每次你重新寫一段程式碼，你都在增加犯錯的機會。利用函數可以減少你犯錯的機會，並且如果有錯誤，你只需針對一個地方修改就好，修好之後。我們能夠很有信心地說它之後都能夠正常運作。\n",
    "+ 我們能夠針對函式修改它的行為，然後這個修改將在每一次函式被呼叫時作用。這絕對比需要在程式的各個地方做修改要來的方便。"
   ]
  },
  {
   "cell_type": "markdown",
   "metadata": {},
   "source": [
    "這裡我們使用 Python 的繪圖套件 turtle 來展示函式的方便性  \n",
    "在 jupyter 中無法執行turtle，所以你需要將以下的程式複製到你的本機端執行。"
   ]
  },
  {
   "cell_type": "markdown",
   "metadata": {},
   "source": [
    "在 turtle 中我們如果要畫一個四方型，我們需要這樣做:"
   ]
  },
  {
   "cell_type": "markdown",
   "metadata": {},
   "source": [
    "```python\n",
    "import turtle             #在本機端執行\n",
    " \n",
    "screen = turtle.Screen()    \n",
    "eric = turtle.Turtle()    \n",
    "eric.pencolor('red')\n",
    "eric.pensize(2)\n",
    "eric.speed(0)\n",
    "\n",
    "eric.forward(100)\n",
    "eric.left(90)\n",
    "eric.forward(100)\n",
    "eric.left(90)\n",
    "eric.forward(100)\n",
    "eric.left(90)\n",
    "eric.forward(100)\n",
    "eric.left(90)\n",
    "\n",
    "turtle.mainloop()\n",
    "```"
   ]
  },
  {
   "cell_type": "markdown",
   "metadata": {},
   "source": [
    "---\n",
    "可以看到 eric.forward()和eric.left()是一直被重複的，我們用for 迴圈來簡化它:"
   ]
  },
  {
   "cell_type": "markdown",
   "metadata": {},
   "source": [
    "```python\n",
    "import turtle           #在本機端執行 \n",
    " \n",
    "screen = turtle.Screen()    \n",
    "eric = turtle.Turtle()    \n",
    "eric.pencolor('red')\n",
    "eric.pensize(2)\n",
    "eric.speed(0)\n",
    "\n",
    "\n",
    "for i in range(4):\n",
    "    eric.forward(size)\n",
    "    eric.left(90)\n",
    "    \n",
    "\n",
    "turtle.mainloop()      \n",
    "```"
   ]
  },
  {
   "cell_type": "markdown",
   "metadata": {},
   "source": [
    "---\n",
    "然而我們如果要畫很多個方形，我們必須把\n",
    "```python\n",
    "for i in range(4):\n",
    "    eric.forward(size)\n",
    "    eric.left(90)\n",
    "```\n",
    "這段程式不斷重複的寫，這樣會讓我們的程式非常冗長  \n",
    "因此我們定義一個 square()的函式，並且給它一個size的變數，讓它可以自由改變大小\n"
   ]
  },
  {
   "cell_type": "markdown",
   "metadata": {},
   "source": [
    "\n",
    "```python\n",
    "import turtle        #在本機端執行     \n",
    " \n",
    "screen = turtle.Screen()    \n",
    "eric = turtle.Turtle()    \n",
    "eric.pencolor('red')\n",
    "eric.pensize(2)\n",
    "eric.speed(0)\n",
    "\n",
    "def square(size):\n",
    "    for i in range(4):\n",
    "        eric.forward(size)\n",
    "        eric.left(90)\n",
    "    \n",
    "for i in range(30):\n",
    "    square(i*10 + 10)\n",
    "\n",
    "turtle.mainloop()           \n",
    "```"
   ]
  },
  {
   "cell_type": "markdown",
   "metadata": {},
   "source": [
    "---\n",
    "上面這個例子定義了square(size)，我們可以呼叫它來畫出方形，在這裡我們用了一個for 迴圈，每次呼叫時給予不同的size，因此可以畫出三十個不同大小的正方形\n",
    "```python\n",
    "for i in range(30):\n",
    "    square(i*10 + 10)\n",
    "```\n"
   ]
  },
  {
   "cell_type": "markdown",
   "metadata": {},
   "source": [
    "如果我們不只想要畫方形，想要進一步畫各種多邊形，我們可以定義一個polygon()函式，給予兩個參數:邊數與大小，分別命名為 edge和 size"
   ]
  },
  {
   "cell_type": "markdown",
   "metadata": {},
   "source": [
    "```python\n",
    "import turtle       #在本機端執行\n",
    " \n",
    "screen = turtle.Screen()    \n",
    "eric = turtle.Turtle()    \n",
    "eric.pencolor('blue')\n",
    "eric.pensize(2)\n",
    "eric.speed(0)\n",
    "eric.pendown()\n",
    "\n",
    "def polygon(size, edge):\n",
    "    for i in range(edge):\n",
    "        eric.forward(size)\n",
    "        eric.left(360.0/edge)\n",
    "        \n",
    "for i in range(30):\n",
    "    polygon(i*10+10, i+3)\n",
    "```"
   ]
  },
  {
   "cell_type": "markdown",
   "metadata": {},
   "source": [
    "---\n",
    "注意縮排，它們影響了程式的階層。\n",
    "\n",
    "\n",
    "在上面的例子，我們能夠畫出各種不同大小，不同邊數的多邊形 \n",
    "由這個例子，應該不難理解函式的強大之處  \n",
    "如果要畫十個多邊形，我們可能需要上百行程式，但因為使用函式，我們大幅減少了程式的行數"
   ]
  },
  {
   "cell_type": "markdown",
   "metadata": {},
   "source": [
    "### TODO\n",
    "\n",
    "**這個練習請你在本機端進行  \n",
    "利用上面的 polygon() 畫以下幾個圖形 :  **\n",
    "\n",
    "**三角形、五角形、七邊型 十八邊型、25邊形、圓形**"
   ]
  },
  {
   "cell_type": "markdown",
   "metadata": {},
   "source": [
    "---\n",
    "#  GUI\n",
    "---\n",
    "\n",
    "接下來的練習我們使用 [codeskulptor](http://www.codeskulptor.org/) 來練習\n",
    "\n",
    "在 codeskulptor 裡面有一個範例程式\n",
    "\n",
    "```python\n",
    "import simplegui\n",
    "\n",
    "message = \"Welcome!\"\n",
    "\n",
    "# 滑鼠點擊事件處理\n",
    "def click():\n",
    "    global message\n",
    "    message = \"Good job!\"\n",
    "\n",
    "# 畫布繪圖事件處理\n",
    "def draw(canvas):\n",
    "    canvas.draw_text(message, [50,112], 48, \"Red\")\n",
    "\n",
    "# 創建視窗並與事件處理綁定\n",
    "frame = simplegui.create_frame(\"Home\", 300, 200)\n",
    "frame.add_button(\"Click me\", click)\n",
    "frame.set_draw_handler(draw)\n",
    "\n",
    "# 開始視窗動畫\n",
    "frame.start()\n",
    "```\n",
    "---\n",
    "### TODO  \n",
    "\n",
    "試著看懂這個程式，然後完成以下動作:\n",
    "1. 把訊息的字串顏色改成黃色\n",
    "2. 將它的位子置中\n",
    "3. 把背景改成綠色\n",
    "4. 將視窗放大成 500 x 500\n",
    "5. 增加一個按鍵，按下去後會顯示訊息\" hello \"\n",
    "\n",
    "\n",
    "### 練習 \n",
    "\n",
    "接下來一樣在[codeskulptor](http://www.codeskulptor.org/) 中練習  \n",
    "\n",
    "請查閱 [coskuptor 的文件](http://www.codeskulptor.org/docs.html#tabs-Python)，我們來做一個球體動畫\n",
    "\n",
    "在文件中尋找simplegui.load_image()  \n",
    "可以發現以下的範例 :\n",
    "```python\n",
    "import simplegui\n",
    "\n",
    "def draw_handler(canvas):\n",
    "    canvas.draw_image(image, (1521 / 2, 1818 / 2), (1521, 1818), (50, 50), (100, 100))\n",
    "\n",
    "image = simplegui.load_image('http://commondatastorage.googleapis.com/codeskulptor-assets/gutenberg.jpg')\n",
    "\n",
    "frame = simplegui.create_frame('Testing', 100, 100)\n",
    "frame.set_draw_handler(draw_handler)\n",
    "frame.start()\n",
    "```\n",
    "將它貼到空的codeskulptor頁面，然後把圖片改成球  \n",
    "並且把畫面大小改成 500 x 500\n",
    "\n",
    "完成後你會看到 [這樣的結果](http://www.codeskulptor.org/#user43_yw7yTyaRqR_0.py)\n",
    "\n",
    "接下來我們要讓球動起來  \n",
    "找到球的位置，我們將位置的 X 方向變成變數，並設定一個x的速度vx，然後利用for 迴圈讓 X 每次改變 vx 的大小\n",
    "\n",
    "接下來我們做一個反彈的效果，如果 x > (500-球的半徑)，那麼就讓 vx 變成負的，試著改改看，如果做對了會像[這樣](http://www.codeskulptor.org/#user43_Jz3qIiYWAy_0.py)\n",
    "### TODO\n",
    "\n",
    "1. 這個程式只有右邊會反彈，請做出左邊邊界的反彈效果\n",
    "\n",
    "2. 如果橫向完成了，請做出垂直方向的移動與反彈效果，你可以參考橫向的做法。 \n",
    "3. 接下來，請你讓球的速度變成不固定，利用random()可以將變數指定為亂數，詳細請參考[這裡](http://www.codeskulptor.org/docs.html#)\n",
    "4. 如果都成功了，請想辦法做出第二顆球\n"
   ]
  },
  {
   "cell_type": "markdown",
   "metadata": {},
   "source": [
    "讓我們看一下一顆球的程式  \n",
    "\n",
    "```python\n",
    "import simplegui\n",
    "\n",
    "x = 50\n",
    "vx = 3\n",
    "y = 100\n",
    "vy = 2\n",
    "def draw_handler(canvas):\n",
    "    global x, vx, y, vy\n",
    "    \n",
    "    x += vx\n",
    "    y += vy\n",
    "    \n",
    "    if x > 450:\n",
    "        vx = vx * -1\n",
    "    if x < 50:\n",
    "        vx = vx * -1    \n",
    "    if y > 450:\n",
    "        vy = vy * -1\n",
    "    if y < 50:\n",
    "        vy = vy * -1\n",
    "        \n",
    "    canvas.draw_image(image, (500 / 2, 500 / 2), (500, 500), (x, y), (100, 100))\n",
    "\n",
    "url = 'https://img-new.cgtrader.com/items/51193/c89e9eab99/large/soccer-ball-flag-3d-model-low-poly-max-obj-3ds-fbx.png'\n",
    "image = simplegui.load_image(url)\n",
    "\n",
    "frame = simplegui.create_frame('Testing', 500, 500)\n",
    "frame.set_draw_handler(draw_handler)\n",
    "frame.start()\n",
    "```\n",
    "我們可以發現\n",
    "```python\n",
    "canvas.draw_image(image, (500 / 2, 500 / 2), (500, 500), (x, y), (100, 100))```\n",
    "以及\n",
    "```python\n",
    "image = simplegui.load_image(url)\n",
    "``` \n",
    "是影響球的樣子與位置的程式，試著利用他們作出第二顆球  \n",
    "之後我們希望兩顆球的位置與速度是不同的，所以你必須要建立專屬第二顆球的位置、速度變數。\n",
    "試著做做看\n"
   ]
  },
  {
   "cell_type": "code",
   "execution_count": null,
   "metadata": {
    "collapsed": true
   },
   "outputs": [],
   "source": []
  }
 ],
 "metadata": {
  "kernelspec": {
   "display_name": "Python 3",
   "language": "python",
   "name": "python3"
  },
  "language_info": {
   "codemirror_mode": {
    "name": "ipython",
    "version": 3
   },
   "file_extension": ".py",
   "mimetype": "text/x-python",
   "name": "python",
   "nbconvert_exporter": "python",
   "pygments_lexer": "ipython3",
   "version": "3.6.2"
  }
 },
 "nbformat": 4,
 "nbformat_minor": 2
}
